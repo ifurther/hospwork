{
 "cells": [
  {
   "cell_type": "code",
   "execution_count": 105,
   "metadata": {},
   "outputs": [],
   "source": [
    "from bs4 import BeautifulSoup\n",
    "import requests\n",
    "import pandas as pd\n",
    "import re\n",
    "from urllib.parse import urlparse"
   ]
  },
  {
   "cell_type": "code",
   "execution_count": 94,
   "metadata": {},
   "outputs": [],
   "source": [
    "url_base='http://www.csmpt.org.tw/news'\n",
    "url_work_table='/index.php?type=4'\n",
    "url=url_base+url_work_table\n",
    "g=requests.get(url)\n",
    "soup=BeautifulSoup(g.content, 'html.parser')"
   ]
  },
  {
   "cell_type": "markdown",
   "metadata": {},
   "source": [
    "# Get page link\n",
    "In this website the work table has some page, so the function should find page link for next step."
   ]
  },
  {
   "cell_type": "code",
   "execution_count": 95,
   "metadata": {},
   "outputs": [
    {
     "name": "stdout",
     "output_type": "stream",
     "text": [
      "2 http://www.csmpt.org.tw/news/index.php?sub=2&continue=Y&type=4\n",
      "3 http://www.csmpt.org.tw/news/index.php?sub=3&continue=Y&type=4\n"
     ]
    }
   ],
   "source": [
    "pages_link=[]\n",
    "for o in soup.find(class_=\"page\").find_all('span'):\n",
    "    if o.find('a'):\n",
    "        O=o.find(\"a\")\n",
    "        if O.text == \"到最後>|\" or O.text == \">\":\n",
    "            pass\n",
    "        else:\n",
    "            link = url.replace(\"?type=4\",\"\")+O.get('href')\n",
    "            pages_link.append(link)\n",
    "            print(O.text,link)"
   ]
  },
  {
   "cell_type": "code",
   "execution_count": 84,
   "metadata": {},
   "outputs": [
    {
     "ename": "SyntaxError",
     "evalue": "invalid syntax (1276046040.py, line 1)",
     "output_type": "error",
     "traceback": [
      "\u001b[0;36m  Input \u001b[0;32mIn [84]\u001b[0;36m\u001b[0m\n\u001b[0;31m    http://www.csmpt.org.tw/news/index.php?sub=3&continue=Y&type=4\u001b[0m\n\u001b[0m         ^\u001b[0m\n\u001b[0;31mSyntaxError\u001b[0m\u001b[0;31m:\u001b[0m invalid syntax\n"
     ]
    }
   ],
   "source": [
    "http://www.csmpt.org.tw/news/index.php?sub=3&continue=Y&type=4"
   ]
  },
  {
   "cell_type": "markdown",
   "metadata": {},
   "source": [
    "# Get work table"
   ]
  },
  {
   "cell_type": "markdown",
   "metadata": {},
   "source": [
    "The `get_work_page` function is used for getting each work page"
   ]
  },
  {
   "cell_type": "code",
   "execution_count": 96,
   "metadata": {},
   "outputs": [],
   "source": [
    "work_page = soup.find_all('article')[0]"
   ]
  },
  {
   "cell_type": "code",
   "execution_count": 8,
   "metadata": {},
   "outputs": [],
   "source": [
    "def get_work_page(page_url,page=None,page_link_part='?page='):\n",
    "    global url\n",
    "    if page != None:\n",
    "        page_url = page_url+page_link_part+str(page)\n",
    "    if url == None:\n",
    "        page_url = url\n",
    "        print(page_url)\n",
    "    g=requests.get(page_url)\n",
    "    soup=BeautifulSoup(g.content, 'html.parser')\n",
    "    return soup"
   ]
  },
  {
   "cell_type": "markdown",
   "metadata": {},
   "source": [
    "Using `get_work_page` to read each page and using `get_tables_part` read work table"
   ]
  },
  {
   "cell_type": "code",
   "execution_count": 36,
   "metadata": {},
   "outputs": [],
   "source": [
    "def get_work_detail(link):\n",
    "    g=requests.get(link)\n",
    "    soup=BeautifulSoup(g.content, 'html.parser')\n",
    "    return soup"
   ]
  },
  {
   "cell_type": "code",
   "execution_count": 249,
   "metadata": {},
   "outputs": [],
   "source": [
    "def get_work_deadtime(link):\n",
    "    y=get_work_detail(link).find('div', class_=\"content\").text.replace('\\xa0','').replace(\"\\n\",\"\").replace(\" 年\",\"年\").replace(\" 月\",\"月\").replace(\" 日\",\"日\")\n",
    "    date_pattern=\"(\\d{1,4}年)((([0?][1-9])月)|(([1?][0-2])月)|([1-9]月)?)(([0?][1-9]日)|([1?][0-9]日)|([2?][1-9]日)|([3][0-1]日)?)\"\n",
    "    return re.search(date_pattern,re.search(\"(?<=期限)(.*)年(.*)月(.*)日\",y)[0]).group(0)"
   ]
  },
  {
   "cell_type": "code",
   "execution_count": 252,
   "metadata": {},
   "outputs": [],
   "source": [
    "def get_work_table(table_,work_table):\n",
    "    for p_i, p_item in enumerate(table_.find_all('li')):\n",
    "        if p_item.find('a'):\n",
    "            p_item_a = p_item.find('a')\n",
    "            title = p_item_a.text\n",
    "            link_s = url_base+'/'+p_item_a.get('href')\n",
    "            try:\n",
    "                dead_line = get_work_deadtime(link_s)\n",
    "            except:\n",
    "                dead_line = \"null(check webpage)\"\n",
    "            print(p_i-1,title,link_s,dead_line)\n",
    "            work_table.append([p_i-1, title, dead_line, link_s ])\n",
    "    return work_table"
   ]
  },
  {
   "cell_type": "code",
   "execution_count": 253,
   "metadata": {},
   "outputs": [
    {
     "name": "stdout",
     "output_type": "stream",
     "text": [
      "1 合富醫療集團誠徵資深物理師 http://www.csmpt.org.tw/news/content.php?id=341&type=4 null(check webpage)\n",
      "2 高雄長庚醫院招募醫學物理師人員 http://www.csmpt.org.tw/news/content.php?id=340&type=4 2022年5月25日\n",
      "3 Precess Medical Derivative http://www.csmpt.org.tw/news/content.php?id=333&type=4 null(check webpage)\n",
      "4 聯新國際醫院放射腫瘤科 誠徵醫學物理師ㄧ名 http://www.csmpt.org.tw/news/content.php?id=330&type=4 null(check webpage)\n",
      "5 久和醫療儀器股份有限公司誠徵醫學物理師 http://www.csmpt.org.tw/news/content.php?id=328&type=4 null(check webpage)\n",
      "6 Global Standards and Content Physicist (物理師) http://www.csmpt.org.tw/news/content.php?id=320&type=4 null(check webpage)\n",
      "7 Product Support Specialist (Radiation) http://www.csmpt.org.tw/news/content.php?id=305&type=4 null(check webpage)\n",
      "8 衛生福利部臺北醫院  即將成立放射腫瘤科  誠徵約用醫學物理師一名 http://www.csmpt.org.tw/news/content.php?id=303&type=4 null(check webpage)\n",
      "9 國立成功大學醫學院附設醫院腫瘤醫學部對外甄選醫學物理師一名 http://www.csmpt.org.tw/news/content.php?id=302&type=4 110年11月12日\n",
      "10 清華大學原子科學院硼中子捕獲治療中心  誠徵  醫學物理師 http://www.csmpt.org.tw/news/content.php?id=297&type=4 null(check webpage)\n",
      "1 嘉義大林慈濟醫院放射腫瘤科 誠徵醫學物理師一名 http://www.csmpt.org.tw/news/content.php?id=296&type=4 null(check webpage)\n",
      "2 中國附醫台中總院 放射腫瘤科 誠徴 醫學物理師 一位 http://www.csmpt.org.tw/news/content.php?id=285&type=4 null(check webpage)\n",
      "3 臺北醫學大學附設醫院放射腫瘤科擴編，誠徵物理師3名 http://www.csmpt.org.tw/news/content.php?id=283&type=4 null(check webpage)\n",
      "4 國軍臺中總醫院附設民眾診療服務處 放射腫瘤科聘請民聘二等醫學物理師1員 http://www.csmpt.org.tw/news/content.php?id=282&type=4 null(check webpage)\n",
      "5 亞洲大學附屬醫院 放射腫瘤科 誠徴 醫學物理師 一位 http://www.csmpt.org.tw/news/content.php?id=275&type=4 null(check webpage)\n",
      "6 Accuray 原廠徵 Clinical Marketing Specialist (home-based) http://www.csmpt.org.tw/news/content.php?id=268&type=4 null(check webpage)\n",
      "7 天主教聖馬爾定醫院放射腫瘤科誠徵醫學物理師一名 http://www.csmpt.org.tw/news/content.php?id=233&type=4 null(check webpage)\n",
      "8 林新醫院 放射腫瘤科誠徴 醫學物理師 http://www.csmpt.org.tw/news/content.php?id=232&type=4 null(check webpage)\n",
      "9 香港養和醫院(Hong Kong Sanatorium & Hospital)擴大徵才 http://www.csmpt.org.tw/news/content.php?id=201&type=4 null(check webpage)\n",
      "10 香港養和醫院徵台灣醫學物理師 http://www.csmpt.org.tw/news/content.php?id=184&type=4 null(check webpage)\n",
      "1 阮綜合醫療社團法人阮綜合醫院 放射腫瘤科 誠徵醫學物理師一名 http://www.csmpt.org.tw/news/content.php?id=176&type=4 null(check webpage)\n",
      "2 天主教聖馬爾定醫院放射腫瘤科誠徵醫學物理師 http://www.csmpt.org.tw/news/content.php?id=174&type=4 null(check webpage)\n",
      "3 淡水馬偕放射腫瘤科誠徵 醫學物理師 http://www.csmpt.org.tw/news/content.php?id=173&type=4 null(check webpage)\n"
     ]
    }
   ],
   "source": [
    "work_table=[]\n",
    "work_table = get_work_table(work_page,work_table)\n",
    "for p_i, p_item in enumerate(pages_link):\n",
    "    table_ = get_work_page(p_item)\n",
    "\n",
    "    work_table = get_work_table(table_,work_table)\n"
   ]
  },
  {
   "cell_type": "code",
   "execution_count": 254,
   "metadata": {},
   "outputs": [
    {
     "name": "stdout",
     "output_type": "stream",
     "text": [
      "    no                                               召聘職稱  \\\n",
      "0    1                                      合富醫療集團誠徵資深物理師   \n",
      "1    2                                    高雄長庚醫院招募醫學物理師人員   \n",
      "2    3                         Precess Medical Derivative   \n",
      "3    4                              聯新國際醫院放射腫瘤科 誠徵醫學物理師ㄧ名   \n",
      "4    5                                久和醫療儀器股份有限公司誠徵醫學物理師   \n",
      "5    6       Global Standards and Content Physicist (物理師)   \n",
      "6    7             Product Support Specialist (Radiation)   \n",
      "7    8                  衛生福利部臺北醫院  即將成立放射腫瘤科  誠徵約用醫學物理師一名   \n",
      "8    9                      國立成功大學醫學院附設醫院腫瘤醫學部對外甄選醫學物理師一名   \n",
      "9   10                      清華大學原子科學院硼中子捕獲治療中心  誠徵  醫學物理師   \n",
      "10   1                            嘉義大林慈濟醫院放射腫瘤科 誠徵醫學物理師一名   \n",
      "11   2                         中國附醫台中總院 放射腫瘤科 誠徴 醫學物理師 一位   \n",
      "12   3                          臺北醫學大學附設醫院放射腫瘤科擴編，誠徵物理師3名   \n",
      "13   4                國軍臺中總醫院附設民眾診療服務處 放射腫瘤科聘請民聘二等醫學物理師1員   \n",
      "14   5                         亞洲大學附屬醫院 放射腫瘤科 誠徴 醫學物理師 一位   \n",
      "15   6  Accuray 原廠徵 Clinical Marketing Specialist (hom...   \n",
      "16   7                            天主教聖馬爾定醫院放射腫瘤科誠徵醫學物理師一名   \n",
      "17   8                                 林新醫院 放射腫瘤科誠徴 醫學物理師   \n",
      "18   9        香港養和醫院(Hong Kong Sanatorium & Hospital)擴大徵才   \n",
      "19  10                                     香港養和醫院徵台灣醫學物理師   \n",
      "20   1                     阮綜合醫療社團法人阮綜合醫院 放射腫瘤科 誠徵醫學物理師一名   \n",
      "21   2                              天主教聖馬爾定醫院放射腫瘤科誠徵醫學物理師   \n",
      "22   3                                  淡水馬偕放射腫瘤科誠徵 醫學物理師   \n",
      "\n",
      "                     期限                                                 連結  \n",
      "0   null(check webpage)  http://www.csmpt.org.tw/news/content.php?id=34...  \n",
      "1            2022年5月25日  http://www.csmpt.org.tw/news/content.php?id=34...  \n",
      "2   null(check webpage)  http://www.csmpt.org.tw/news/content.php?id=33...  \n",
      "3   null(check webpage)  http://www.csmpt.org.tw/news/content.php?id=33...  \n",
      "4   null(check webpage)  http://www.csmpt.org.tw/news/content.php?id=32...  \n",
      "5   null(check webpage)  http://www.csmpt.org.tw/news/content.php?id=32...  \n",
      "6   null(check webpage)  http://www.csmpt.org.tw/news/content.php?id=30...  \n",
      "7   null(check webpage)  http://www.csmpt.org.tw/news/content.php?id=30...  \n",
      "8            110年11月12日  http://www.csmpt.org.tw/news/content.php?id=30...  \n",
      "9   null(check webpage)  http://www.csmpt.org.tw/news/content.php?id=29...  \n",
      "10  null(check webpage)  http://www.csmpt.org.tw/news/content.php?id=29...  \n",
      "11  null(check webpage)  http://www.csmpt.org.tw/news/content.php?id=28...  \n",
      "12  null(check webpage)  http://www.csmpt.org.tw/news/content.php?id=28...  \n",
      "13  null(check webpage)  http://www.csmpt.org.tw/news/content.php?id=28...  \n",
      "14  null(check webpage)  http://www.csmpt.org.tw/news/content.php?id=27...  \n",
      "15  null(check webpage)  http://www.csmpt.org.tw/news/content.php?id=26...  \n",
      "16  null(check webpage)  http://www.csmpt.org.tw/news/content.php?id=23...  \n",
      "17  null(check webpage)  http://www.csmpt.org.tw/news/content.php?id=23...  \n",
      "18  null(check webpage)  http://www.csmpt.org.tw/news/content.php?id=20...  \n",
      "19  null(check webpage)  http://www.csmpt.org.tw/news/content.php?id=18...  \n",
      "20  null(check webpage)  http://www.csmpt.org.tw/news/content.php?id=17...  \n",
      "21  null(check webpage)  http://www.csmpt.org.tw/news/content.php?id=17...  \n",
      "22  null(check webpage)  http://www.csmpt.org.tw/news/content.php?id=17...  \n"
     ]
    }
   ],
   "source": [
    "work_table=pd.DataFrame(work_table, columns=['no','召聘職稱','期限' ,'連結'])\n",
    "\n",
    "print(work_table)"
   ]
  },
  {
   "cell_type": "code",
   "execution_count": null,
   "metadata": {},
   "outputs": [],
   "source": []
  }
 ],
 "metadata": {
  "kernelspec": {
   "display_name": "hospwork",
   "language": "python",
   "name": "hospwork"
  },
  "language_info": {
   "codemirror_mode": {
    "name": "ipython",
    "version": 3
   },
   "file_extension": ".py",
   "mimetype": "text/x-python",
   "name": "python",
   "nbconvert_exporter": "python",
   "pygments_lexer": "ipython3",
   "version": "3.8.10"
  }
 },
 "nbformat": 4,
 "nbformat_minor": 4
}
