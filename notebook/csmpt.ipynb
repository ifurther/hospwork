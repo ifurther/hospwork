{
 "cells": [
  {
   "cell_type": "code",
   "execution_count": 1,
   "metadata": {},
   "outputs": [],
   "source": [
    "from bs4 import BeautifulSoup\n",
    "import requests\n",
    "import pandas as pd\n",
    "from urllib.parse import urlparse"
   ]
  },
  {
   "cell_type": "code",
   "execution_count": 2,
   "metadata": {},
   "outputs": [],
   "source": [
    "url_base='http://www.csmpt.org.tw'\n",
    "url_work_table='/news/index.php?type=4'\n",
    "url=url_base+url_work_table\n",
    "g=requests.get(url)\n",
    "soup=BeautifulSoup(g.content, 'html.parser')"
   ]
  },
  {
   "cell_type": "code",
   "execution_count": 5,
   "metadata": {},
   "outputs": [
    {
     "data": {
      "text/plain": [
       "<article id=\"mainContent\">\n",
       "<div id=\"searchBlock\">\n",
       "<ul class=\"clearfix\">\n",
       "<form action=\"??type=4\" method=\"post\" name=\"News\">\n",
       "<li><label>標題</label><input name=\"keyWord\" placeholder=\"最新消息標題關鍵字\" type=\"text\" value=\"\"/></li>\n",
       "<li><input type=\"submit\" value=\"查詢\"/></li>\n",
       "</form>\n",
       "</ul>\n",
       "</div><!--/#searchBlock-->\n",
       "<ul class=\"newsList\">\n",
       "<li class=\"\">\n",
       "<time class=\"date\">26 Apr 2022</time>\n",
       "<span class=\"type\"> 徵才公告</span>\n",
       "<a href=\"content.php?id=333&amp;type=4\">Precess Medical Derivative</a>\n",
       "</li>\n",
       "<li class=\"\">\n",
       "<time class=\"date\">24 Mar 2022</time>\n",
       "<span class=\"type\"> 徵才公告</span>\n",
       "<a href=\"content.php?id=330&amp;type=4\">聯新國際醫院放射腫瘤科 誠徵醫學物理師ㄧ名</a>\n",
       "</li>\n",
       "<li class=\"\">\n",
       "<time class=\"date\">18 Mar 2022</time>\n",
       "<span class=\"type\"> 徵才公告</span>\n",
       "<a href=\"content.php?id=328&amp;type=4\">久和醫療儀器股份有限公司誠徵醫學物理師</a>\n",
       "</li>\n",
       "<li class=\"\">\n",
       "<time class=\"date\">03 Dec 2021</time>\n",
       "<span class=\"type\"> 徵才公告</span>\n",
       "<a href=\"content.php?id=320&amp;type=4\">Global Standards and Content Physicist (物理師)</a>\n",
       "</li>\n",
       "<li class=\"\">\n",
       "<time class=\"date\">05 Nov 2021</time>\n",
       "<span class=\"type\"> 徵才公告</span>\n",
       "<a href=\"content.php?id=305&amp;type=4\">Product Support Specialist (Radiation)</a>\n",
       "</li>\n",
       "<li class=\"\">\n",
       "<time class=\"date\">28 Oct 2021</time>\n",
       "<span class=\"type\"> 徵才公告</span>\n",
       "<a href=\"content.php?id=303&amp;type=4\">衛生福利部臺北醫院  即將成立放射腫瘤科  誠徵約用醫學物理師一名</a>\n",
       "</li>\n",
       "<li class=\"\">\n",
       "<time class=\"date\">25 Oct 2021</time>\n",
       "<span class=\"type\"> 徵才公告</span>\n",
       "<a href=\"content.php?id=302&amp;type=4\">國立成功大學醫學院附設醫院腫瘤醫學部對外甄選醫學物理師一名</a>\n",
       "</li>\n",
       "<li class=\"\">\n",
       "<time class=\"date\">10 Aug 2021</time>\n",
       "<span class=\"type\"> 徵才公告</span>\n",
       "<a href=\"content.php?id=297&amp;type=4\">清華大學原子科學院硼中子捕獲治療中心  誠徵  醫學物理師</a>\n",
       "</li>\n",
       "<li class=\"\">\n",
       "<time class=\"date\">27 Jul 2021</time>\n",
       "<span class=\"type\"> 徵才公告</span>\n",
       "<a href=\"content.php?id=296&amp;type=4\">嘉義大林慈濟醫院放射腫瘤科 誠徵醫學物理師一名</a>\n",
       "</li>\n",
       "<li class=\"\">\n",
       "<time class=\"date\">11 May 2021</time>\n",
       "<span class=\"type\"> 徵才公告</span>\n",
       "<a href=\"content.php?id=285&amp;type=4\">中國附醫台中總院 放射腫瘤科 誠徴 醫學物理師 一位</a>\n",
       "</li>\n",
       "</ul>\n",
       "<div class=\"page\">\n",
       "<form action=\"?continue=Y&amp;type=4\" method=\"post\" name=\"Page\">\n",
       "<span class=\"current\">1</span>\n",
       "<span><a href=\"?sub=2&amp;continue=Y&amp;type=4\">2</a></span>\n",
       "<span><a href=\"?sub=3&amp;continue=Y&amp;type=4\">3</a></span>\n",
       "<span><a href=\"?sub=2&amp;continue=Y&amp;type=4\">&gt;</a></span>\n",
       "<span><a href=\"?sub=3&amp;continue=Y&amp;type=4\"><font class=\"lastPage\">到最後</font><font class=\"lastPageIcon\">&gt;|</font></a></span>\n",
       "<span class=\"goPage\">，前往第\n",
       "\t\t\t\t\t\t\t<select class=\"pageTo\" name=\"sub\" onchange=\"this.form.submit()\">\n",
       "<option selected=\"\" value=\"1\">1</option>\n",
       "<option value=\"2\">2</option>\n",
       "<option value=\"3\">3</option>\n",
       "</select>頁\n",
       "\t\t\t\t\t\t</span>\n",
       "</form>\n",
       "</div>\n",
       "</article>"
      ]
     },
     "execution_count": 5,
     "metadata": {},
     "output_type": "execute_result"
    }
   ],
   "source": [
    "soup.find_all('article')[0]"
   ]
  },
  {
   "cell_type": "markdown",
   "metadata": {},
   "source": [
    "# Get page link\n",
    "In this website the work table has some page, so the function should find page link for next step."
   ]
  },
  {
   "cell_type": "code",
   "execution_count": 5,
   "metadata": {},
   "outputs": [
    {
     "name": "stdout",
     "output_type": "stream",
     "text": [
      "only one page\n"
     ]
    }
   ],
   "source": [
    "if pages_table == None:\n",
    "    print(\"only one page\")\n",
    "    pages_link=None\n",
    "else:\n",
    "    #print(pages_table.find_all('a'))\n",
    "    pages_link=[]\n",
    "    pages_link.append(url)\n",
    "    for i, item in enumerate(pages_table.find_all('a')):\n",
    "        s=item.get('href')\n",
    "        link_s = urlparse(url)._replace(path=s,query=[]).geturl()\n",
    "        if link_s not in pages_link:\n",
    "            pages_link.append(link_s)\n",
    "        print('#{} {}'.format(i , s))\n",
    "\n",
    "    pages_link"
   ]
  },
  {
   "cell_type": "markdown",
   "metadata": {},
   "source": [
    "# Get work table"
   ]
  },
  {
   "cell_type": "markdown",
   "metadata": {},
   "source": [
    "The `get_work_page` function is used for getting each work page"
   ]
  },
  {
   "cell_type": "code",
   "execution_count": 15,
   "metadata": {},
   "outputs": [],
   "source": [
    "def get_work_page(page_url,page=None):\n",
    "    global url\n",
    "    if page != None:\n",
    "        page_url = page_url+'?page='+str(page)\n",
    "    if url == None:\n",
    "        page_url = url\n",
    "        print(page_url)\n",
    "    g=requests.get(page_url)\n",
    "    soup=BeautifulSoup(g.content, 'html.parser')\n",
    "    return soup"
   ]
  },
  {
   "cell_type": "markdown",
   "metadata": {},
   "source": [
    "Using `get_work_page` to read each page and using `get_tables_part` read work table"
   ]
  },
  {
   "cell_type": "code",
   "execution_count": 32,
   "metadata": {},
   "outputs": [],
   "source": [
    "def get_work_table(table_,work_table):\n",
    "    for i, item in enumerate(table_):\n",
    "        if item.find('a'):\n",
    "            s=item.find('a')\n",
    "            if s == -1:\n",
    "                s = item\n",
    "                print(i, s)\n",
    "            else:\n",
    "                title = s.get('title')\n",
    "                link = s.get('href')\n",
    "                link_s = urlparse(url)._replace(path=link,query=[]).geturl()\n",
    "                all_td = item.find_all('td')\n",
    "                origination = all_td[1].find('p').text\n",
    "                dead_line = all_td[-1].find('p').text\n",
    "                print(i,title,link_s,origination,dead_line)\n",
    "                work_table.append([i-2, title, dead_line, link_s ])\n",
    "    return work_table"
   ]
  },
  {
   "cell_type": "code",
   "execution_count": 33,
   "metadata": {},
   "outputs": [
    {
     "name": "stdout",
     "output_type": "stream",
     "text": [
      "0 \n",
      "\n",
      "1 胸腔內科-短期研究助理 https://www.vghks.gov.tw/News_Content.aspx?n=C03011BF96C680C4&sms=5EF61FB0D0F5B657&s=2D505D272C86C66D 胸腔內科 111-05-22\n",
      "2 \n",
      "\n",
      "3 急診醫學科-111年度第一年住院醫師 https://www.vghks.gov.tw/News_Content.aspx?n=C03011BF96C680C4&sms=5EF61FB0D0F5B657&s=C55C05D5C058022F 急診部 111-05-31\n",
      "4 \n",
      "\n",
      "5 心臟內科研究助理(非院內計畫) https://www.vghks.gov.tw/News_Content.aspx?n=C03011BF96C680C4&sms=5EF61FB0D0F5B657&s=BCB892019AD38420 心臟內科 111-06-30\n",
      "6 \n",
      "\n",
      "7 放射線部-契約醫事放射師 https://www.vghks.gov.tw/News_Content.aspx?n=C03011BF96C680C4&sms=5EF61FB0D0F5B657&s=3969344A94963529 放射線部 111-05-05\n",
      "8 \n",
      "\n",
      "9 麻醉部招訓第七期麻醉護理人員訓練班公告 https://www.vghks.gov.tw/News_Content.aspx?n=C03011BF96C680C4&sms=5EF61FB0D0F5B657&s=6F4C0C1D6937F6EF 麻醉部 111-05-13\n",
      "10 \n",
      "\n",
      "11 大武分院徵契約物理治療師(PGY) https://www.vghks.gov.tw/News_Content.aspx?n=C03011BF96C680C4&sms=5EF61FB0D0F5B657&s=5021396430CB30ED 大武分院 111-05-02\n",
      "12 \n",
      "\n",
      "13 口腔醫學部招訓111年度第一年住院醫師 https://www.vghks.gov.tw/News_Content.aspx?n=C03011BF96C680C4&sms=5EF61FB0D0F5B657&s=15A868B75D6F9436 口腔醫學部 111-05-04\n",
      "14 \n",
      "\n",
      "15 品質管理中心徵契約行政助理 https://www.vghks.gov.tw/News_Content.aspx?n=C03011BF96C680C4&sms=5EF61FB0D0F5B657&s=B2A4862C1DB9A7DA 品質管理中心 111-05-04\n",
      "16 \n",
      "\n",
      "17 病理檢驗部(屏東大武院區)契約醫事檢驗師(儲備) 甄選公告 https://www.vghks.gov.tw/News_Content.aspx?n=C03011BF96C680C4&sms=5EF61FB0D0F5B657&s=580885D0D9D8D477 病理檢驗部 111-05-06\n",
      "18 \n",
      "\n",
      "19 耳鼻喉頭頸部契約語言治療師甄選公告 https://www.vghks.gov.tw/News_Content.aspx?n=C03011BF96C680C4&sms=5EF61FB0D0F5B657&s=BACF5C6311EBBEF7 耳鼻喉頭頸部 111-05-08\n",
      "20 \n",
      "\n",
      "21 護理部 大武院區儲備契約護理(手術專責護理師) https://www.vghks.gov.tw/News_Content.aspx?n=C03011BF96C680C4&sms=5EF61FB0D0F5B657&s=B6350476B4880770 護理部 111-05-26\n",
      "22 \n",
      "\n",
      "23 心臟血管外科(屏東大武院區)-契約醫事技術師(體外循環師）甄選公告 https://www.vghks.gov.tw/News_Content.aspx?n=C03011BF96C680C4&sms=5EF61FB0D0F5B657&s=03F185E3BF2B580A 心臟血管外科 111-06-30\n",
      "24 \n",
      "\n",
      "25 大武院區儲備契約護理(專科護理師) https://www.vghks.gov.tw/News_Content.aspx?n=C03011BF96C680C4&sms=5EF61FB0D0F5B657&s=716D16364B82C010 護理部 111-05-26\n",
      "26 \n",
      "\n",
      "27 重症醫學部聘用住院醫師 https://www.vghks.gov.tw/News_Content.aspx?n=C03011BF96C680C4&sms=5EF61FB0D0F5B657&s=EA43E9E6CD570F34 重症醫學部 111-05-15\n",
      "28 \n",
      "\n",
      "29 重建整形外科(屏東大武院區)契約主治醫師 https://www.vghks.gov.tw/News_Content.aspx?n=C03011BF96C680C4&sms=5EF61FB0D0F5B657&s=647AB0D328C00840 重建整形外科 111-05-31\n",
      "30 \n",
      "\n",
      "31 護理部大武院區及本院血液透析室儲備契約護理 https://www.vghks.gov.tw/News_Content.aspx?n=C03011BF96C680C4&sms=5EF61FB0D0F5B657&s=C9A3F8D519B2E0D4 護理部 111-05-06\n",
      "32 \n",
      "\n",
      "33 大武院區及本院儲備契約護理。 https://www.vghks.gov.tw/News_Content.aspx?n=C03011BF96C680C4&sms=5EF61FB0D0F5B657&s=4DDFEC516ACCCB56 護理部 111-06-21\n",
      "34 \n",
      "\n",
      "35 護理部-儲備契約護理 https://www.vghks.gov.tw/News_Content.aspx?n=C03011BF96C680C4&sms=5EF61FB0D0F5B657&s=0A69B89207CFBD35 護理部 111-11-21\n",
      "36 \n",
      "\n"
     ]
    }
   ],
   "source": [
    "work_table=[]\n",
    "if type(pages_link) != list:\n",
    "    table_ = work_tables[0]\n",
    "    work_table = get_work_table(table_,work_table)\n",
    "else:\n",
    "    for p_i, p_item in enumerate(pages_link):\n",
    "        soup_ = get_work_page(p_item)\n",
    "        table_ = get_tables_part(soup_)[0]\n",
    "        \n",
    "        work_table = get_work_table(table_,work_table)\n"
   ]
  },
  {
   "cell_type": "code",
   "execution_count": 34,
   "metadata": {},
   "outputs": [
    {
     "name": "stdout",
     "output_type": "stream",
     "text": [
      "    no                               召聘職稱         期限  \\\n",
      "0   -1                        胸腔內科-短期研究助理  111-05-22   \n",
      "1    1                 急診醫學科-111年度第一年住院醫師  111-05-31   \n",
      "2    3                    心臟內科研究助理(非院內計畫)  111-06-30   \n",
      "3    5                       放射線部-契約醫事放射師  111-05-05   \n",
      "4    7                麻醉部招訓第七期麻醉護理人員訓練班公告  111-05-13   \n",
      "5    9                  大武分院徵契約物理治療師(PGY)  111-05-02   \n",
      "6   11                口腔醫學部招訓111年度第一年住院醫師  111-05-04   \n",
      "7   13                      品質管理中心徵契約行政助理  111-05-04   \n",
      "8   15      病理檢驗部(屏東大武院區)契約醫事檢驗師(儲備) 甄選公告  111-05-06   \n",
      "9   17                  耳鼻喉頭頸部契約語言治療師甄選公告  111-05-08   \n",
      "10  19            護理部 大武院區儲備契約護理(手術專責護理師)  111-05-26   \n",
      "11  21  心臟血管外科(屏東大武院區)-契約醫事技術師(體外循環師）甄選公告  111-06-30   \n",
      "12  23                  大武院區儲備契約護理(專科護理師)  111-05-26   \n",
      "13  25                        重症醫學部聘用住院醫師  111-05-15   \n",
      "14  27               重建整形外科(屏東大武院區)契約主治醫師  111-05-31   \n",
      "15  29              護理部大武院區及本院血液透析室儲備契約護理  111-05-06   \n",
      "16  31                     大武院區及本院儲備契約護理。  111-06-21   \n",
      "17  33                         護理部-儲備契約護理  111-11-21   \n",
      "\n",
      "                                                   連結  \n",
      "0   https://www.vghks.gov.tw/News_Content.aspx?n=C...  \n",
      "1   https://www.vghks.gov.tw/News_Content.aspx?n=C...  \n",
      "2   https://www.vghks.gov.tw/News_Content.aspx?n=C...  \n",
      "3   https://www.vghks.gov.tw/News_Content.aspx?n=C...  \n",
      "4   https://www.vghks.gov.tw/News_Content.aspx?n=C...  \n",
      "5   https://www.vghks.gov.tw/News_Content.aspx?n=C...  \n",
      "6   https://www.vghks.gov.tw/News_Content.aspx?n=C...  \n",
      "7   https://www.vghks.gov.tw/News_Content.aspx?n=C...  \n",
      "8   https://www.vghks.gov.tw/News_Content.aspx?n=C...  \n",
      "9   https://www.vghks.gov.tw/News_Content.aspx?n=C...  \n",
      "10  https://www.vghks.gov.tw/News_Content.aspx?n=C...  \n",
      "11  https://www.vghks.gov.tw/News_Content.aspx?n=C...  \n",
      "12  https://www.vghks.gov.tw/News_Content.aspx?n=C...  \n",
      "13  https://www.vghks.gov.tw/News_Content.aspx?n=C...  \n",
      "14  https://www.vghks.gov.tw/News_Content.aspx?n=C...  \n",
      "15  https://www.vghks.gov.tw/News_Content.aspx?n=C...  \n",
      "16  https://www.vghks.gov.tw/News_Content.aspx?n=C...  \n",
      "17  https://www.vghks.gov.tw/News_Content.aspx?n=C...  \n"
     ]
    }
   ],
   "source": [
    "work_table=pd.DataFrame(work_table, columns=['no','召聘職稱','期限' ,'連結'])\n",
    "\n",
    "print(work_table)"
   ]
  }
 ],
 "metadata": {
  "kernelspec": {
   "display_name": "hospwork",
   "language": "python",
   "name": "hospwork"
  },
  "language_info": {
   "codemirror_mode": {
    "name": "ipython",
    "version": 3
   },
   "file_extension": ".py",
   "mimetype": "text/x-python",
   "name": "python",
   "nbconvert_exporter": "python",
   "pygments_lexer": "ipython3",
   "version": "3.8.10"
  },
  "orig_nbformat": 4
 },
 "nbformat": 4,
 "nbformat_minor": 2
}
