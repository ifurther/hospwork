{
 "cells": [
  {
   "cell_type": "code",
   "execution_count": 1,
   "metadata": {},
   "outputs": [],
   "source": [
    "from bs4 import BeautifulSoup\n",
    "import requests\n",
    "import pandas as pd\n",
    "import re\n",
    "from urllib.parse import urlparse"
   ]
  },
  {
   "cell_type": "code",
   "execution_count": 2,
   "metadata": {
    "tags": []
   },
   "outputs": [],
   "source": [
    "url_base='http://www.csmpt.org.tw/news'\n",
    "url_work_table='/index.php?type=4'\n",
    "url=url_base+url_work_table\n",
    "g=requests.get(url)\n",
    "soup=BeautifulSoup(g.content, 'html.parser')"
   ]
  },
  {
   "cell_type": "markdown",
   "metadata": {},
   "source": [
    "# Get page link\n",
    "In this website the work table has some page, so the function should find page link for next step."
   ]
  },
  {
   "cell_type": "code",
   "execution_count": 3,
   "metadata": {},
   "outputs": [],
   "source": [
    "pages_link=[]\n",
    "for o in soup.find(class_=\"page\").find_all('span'):\n",
    "    if o.find('a'):\n",
    "        O=o.find(\"a\")\n",
    "        if O.text == \"到最後>|\" or O.text == \">\":\n",
    "            pass\n",
    "        else:\n",
    "            link = url.replace(\"?type=4\",\"\")+O.get('href')\n",
    "            pages_link.append(link)\n",
    "            print(O.text,link)"
   ]
  },
  {
   "cell_type": "markdown",
   "metadata": {},
   "source": [
    "# Get work table"
   ]
  },
  {
   "cell_type": "markdown",
   "metadata": {},
   "source": [
    "The `get_work_page` function is used for getting each work page"
   ]
  },
  {
   "cell_type": "code",
   "execution_count": 4,
   "metadata": {},
   "outputs": [],
   "source": [
    "work_page = soup.find_all('article')[0]"
   ]
  },
  {
   "cell_type": "code",
   "execution_count": 5,
   "metadata": {},
   "outputs": [],
   "source": [
    "def get_work_page(page_url,page=None,page_link_part='?page='):\n",
    "    global url\n",
    "    if page != None:\n",
    "        page_url = page_url+page_link_part+str(page)\n",
    "    if url == None:\n",
    "        page_url = url\n",
    "        print(page_url)\n",
    "    g=requests.get(page_url)\n",
    "    soup=BeautifulSoup(g.content, 'html.parser')\n",
    "    return soup"
   ]
  },
  {
   "cell_type": "markdown",
   "metadata": {},
   "source": [
    "Using `get_work_page` to read each page and using `get_tables_part` read work table"
   ]
  },
  {
   "cell_type": "code",
   "execution_count": 6,
   "metadata": {},
   "outputs": [],
   "source": [
    "def get_work_detail(link):\n",
    "    g=requests.get(link)\n",
    "    soup=BeautifulSoup(g.content, 'html.parser')\n",
    "    return soup"
   ]
  },
  {
   "cell_type": "code",
   "execution_count": 11,
   "metadata": {},
   "outputs": [],
   "source": [
    "def get_work_deadtime(link):\n",
    "    y=get_work_detail(link).find('div', class_=\"content\").text.replace('\\xa0','').replace(\"\\n\",\"\").replace(\" 年\",\"年\").replace(\" 月\",\"月\").replace(\" 日\",\"日\")\n",
    "    date_pattern=\"(\\d{1,4}年)((([0?][1-9])月)|(([1?][0-2])月)|([1-9]月)?)(([0?][1-9]日)|([1?][0-9]日)|([2?][1-9]日)|([3][0-1]日)?)\"\n",
    "    return re.search(date_pattern,re.search(\"(?<=[期限,截止])(.*)年(.*)月(.*)日\",y)[0]).group(0)"
   ]
  },
  {
   "cell_type": "code",
   "execution_count": 8,
   "metadata": {},
   "outputs": [],
   "source": [
    "def get_work_table(table_,work_table):\n",
    "    for p_i, p_item in enumerate(table_.find_all('li')):\n",
    "        if p_item.find('a'):\n",
    "            p_item_a = p_item.find('a')\n",
    "            title = p_item_a.text\n",
    "            link_s = url_base+'/'+p_item_a.get('href')\n",
    "            try:\n",
    "                dead_line = get_work_deadtime(link_s)\n",
    "            except:\n",
    "                dead_line = \"null(check webpage)\"\n",
    "            print(p_i-1,title,link_s,dead_line)\n",
    "            work_table.append([p_i-1, title, dead_line, link_s ])\n",
    "    return work_table"
   ]
  },
  {
   "cell_type": "code",
   "execution_count": 12,
   "metadata": {},
   "outputs": [
    {
     "name": "stdout",
     "output_type": "stream",
     "text": [
      "1 永康奇美醫院 放射腫瘤科誠徵醫學物理師一名 http://www.csmpt.org.tw/news/content.php?id=363&type=4 2023年2月10日\n",
      "2 瓦里安台灣招聘需求 - Clinical Marketing Specialist 臨床市場專員 http://www.csmpt.org.tw/news/content.php?id=357&type=4 null(check webpage)\n",
      "3 2 Med Phys Positions open in Auckland, NZ http://www.csmpt.org.tw/news/content.php?id=355&type=4 null(check webpage)\n",
      "4 臺北醫學大學附設醫院放射腫瘤科徵醫學物理師 http://www.csmpt.org.tw/news/content.php?id=354&type=4 null(check webpage)\n",
      "5 臺北榮民總醫院 (腫瘤醫學部放射腫瘤科)徵定期契約醫事放射師(醫學物理師) http://www.csmpt.org.tw/news/content.php?id=345&type=4 111年\n",
      "6 後山花蓮門諾醫院徵醫學物理師 http://www.csmpt.org.tw/news/content.php?id=343&type=4 null(check webpage)\n",
      "7 合富醫療集團誠徵資深物理師 http://www.csmpt.org.tw/news/content.php?id=341&type=4 null(check webpage)\n",
      "8 Precess Medical Derivative http://www.csmpt.org.tw/news/content.php?id=333&type=4 null(check webpage)\n"
     ]
    }
   ],
   "source": [
    "work_table=[]\n",
    "work_table = get_work_table(work_page,work_table)\n",
    "for p_i, p_item in enumerate(pages_link):\n",
    "    table_ = get_work_page(p_item)\n",
    "\n",
    "    work_table = get_work_table(table_,work_table)\n"
   ]
  },
  {
   "cell_type": "code",
   "execution_count": 13,
   "metadata": {},
   "outputs": [
    {
     "name": "stdout",
     "output_type": "stream",
     "text": [
      "   no                                              召聘職稱                   期限  \\\n",
      "0   1                             永康奇美醫院 放射腫瘤科誠徵醫學物理師一名           2023年2月10日   \n",
      "1   2  瓦里安台灣招聘需求 - Clinical Marketing Specialist 臨床市場專員  null(check webpage)   \n",
      "2   3         2 Med Phys Positions open in Auckland, NZ  null(check webpage)   \n",
      "3   4                             臺北醫學大學附設醫院放射腫瘤科徵醫學物理師  null(check webpage)   \n",
      "4   5             臺北榮民總醫院 (腫瘤醫學部放射腫瘤科)徵定期契約醫事放射師(醫學物理師)                 111年   \n",
      "5   6                                    後山花蓮門諾醫院徵醫學物理師  null(check webpage)   \n",
      "6   7                                     合富醫療集團誠徵資深物理師  null(check webpage)   \n",
      "7   8                        Precess Medical Derivative  null(check webpage)   \n",
      "\n",
      "                                                  連結  \n",
      "0  http://www.csmpt.org.tw/news/content.php?id=36...  \n",
      "1  http://www.csmpt.org.tw/news/content.php?id=35...  \n",
      "2  http://www.csmpt.org.tw/news/content.php?id=35...  \n",
      "3  http://www.csmpt.org.tw/news/content.php?id=35...  \n",
      "4  http://www.csmpt.org.tw/news/content.php?id=34...  \n",
      "5  http://www.csmpt.org.tw/news/content.php?id=34...  \n",
      "6  http://www.csmpt.org.tw/news/content.php?id=34...  \n",
      "7  http://www.csmpt.org.tw/news/content.php?id=33...  \n"
     ]
    }
   ],
   "source": [
    "work_table=pd.DataFrame(work_table, columns=['no','召聘職稱','期限' ,'連結'])\n",
    "\n",
    "print(work_table)"
   ]
  },
  {
   "cell_type": "code",
   "execution_count": null,
   "metadata": {},
   "outputs": [],
   "source": []
  }
 ],
 "metadata": {
  "kernelspec": {
   "display_name": "hospwork",
   "language": "python",
   "name": "hospwork"
  },
  "language_info": {
   "codemirror_mode": {
    "name": "ipython",
    "version": 3
   },
   "file_extension": ".py",
   "mimetype": "text/x-python",
   "name": "python",
   "nbconvert_exporter": "python",
   "pygments_lexer": "ipython3",
   "version": "3.8.16"
  }
 },
 "nbformat": 4,
 "nbformat_minor": 4
}
