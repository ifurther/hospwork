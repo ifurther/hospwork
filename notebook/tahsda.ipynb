{
 "cells": [
  {
   "cell_type": "code",
   "execution_count": 1,
   "id": "b63e48a3-5461-48a9-943b-88da6680c563",
   "metadata": {},
   "outputs": [],
   "source": [
    "from bs4 import BeautifulSoup\n",
    "import requests\n",
    "import pandas as pd\n",
    "from urllib.parse import urlparse"
   ]
  },
  {
   "cell_type": "code",
   "execution_count": 2,
   "id": "d3387c70-e8e3-4092-8324-e01c7249dbac",
   "metadata": {},
   "outputs": [],
   "source": [
    "url_base='https://www.tahsda.org.tw'\n",
    "url_work_table='/m/Hire.php'\n",
    "url=url_base+url_work_table\n",
    "g=requests.get(url)\n",
    "soup=BeautifulSoup(g.content, 'html.parser')"
   ]
  },
  {
   "cell_type": "code",
   "execution_count": 20,
   "id": "8ed87338-10f8-4e30-a793-70a746730ec5",
   "metadata": {},
   "outputs": [
    {
     "name": "stdout",
     "output_type": "stream",
     "text": [
      "[<strong>神經內科主治醫師</strong>, <strong>重症專科專任主治醫師</strong>, <strong>神經外科主治醫師</strong>]\n",
      "fff\n",
      "[<strong>藥劑科-藥師</strong>]\n",
      "fff\n",
      "[<strong>癌症品質計畫-個案管理護理師</strong>, <strong>護理師</strong>, <strong>加護病房專科護理師</strong>]\n",
      "fff\n",
      "[<strong>門住診課-職員</strong>, <strong>資材課-職員 </strong>]\n",
      "fff\n",
      "[<strong>營養課-佐理員/廚房助手</strong>]\n",
      "fff\n"
     ]
    }
   ],
   "source": [
    "for divd in soup.find('div',class_='resp-tabs-container hor_1').find_all(\"div\"):\n",
    "    print(divd.find_all(\"strong\"))\n",
    "    print('fff')"
   ]
  },
  {
   "cell_type": "code",
   "execution_count": 13,
   "id": "86048e87-ae10-493d-b5ec-c216b95027fb",
   "metadata": {},
   "outputs": [
    {
     "data": {
      "text/plain": [
       "['※ 注意事項：',\n",
       " '\\t\\t\\t\\t最近更新日期2022/05/10\\t\\t\\t\\t意者請函寄履歷表及學經歷証件影本(住院醫師須加附成績單影本)至105台北市松山區八德路2段424號臺安醫院人力資源發展處 或E-mail : HR@tahsda.org.tw',\n",
       " '']"
      ]
     },
     "execution_count": 13,
     "metadata": {},
     "output_type": "execute_result"
    }
   ],
   "source": [
    "soup.find(\"div\",class_=\"alert alert-danger\").text.replace(\"\\r\",\"\").split(\"\\n\")"
   ]
  },
  {
   "cell_type": "code",
   "execution_count": null,
   "id": "19be5d8f-dc38-48f5-bd56-77d53c0ec6f2",
   "metadata": {},
   "outputs": [],
   "source": []
  }
 ],
 "metadata": {
  "kernelspec": {
   "display_name": "hospwork",
   "language": "python",
   "name": "hospwork"
  },
  "language_info": {
   "codemirror_mode": {
    "name": "ipython",
    "version": 3
   },
   "file_extension": ".py",
   "mimetype": "text/x-python",
   "name": "python",
   "nbconvert_exporter": "python",
   "pygments_lexer": "ipython3",
   "version": "3.10.4"
  }
 },
 "nbformat": 4,
 "nbformat_minor": 5
}
