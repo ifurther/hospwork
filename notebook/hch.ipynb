{
 "cells": [
  {
   "cell_type": "code",
   "execution_count": 102,
   "id": "65df3184-c750-4179-a92a-4d97c3eb6614",
   "metadata": {},
   "outputs": [],
   "source": [
    "from bs4 import BeautifulSoup\n",
    "import requests\n",
    "import pandas as pd\n",
    "from urllib.parse import urlparse"
   ]
  },
  {
   "cell_type": "code",
   "execution_count": 39,
   "id": "bcbde9f6-e782-48c0-9782-bb57e8bb51f8",
   "metadata": {},
   "outputs": [],
   "source": [
    "url_base='https://www.hch.gov.tw'\n",
    "url_work='/?aid=506&pid=0&page_name=list&pageNo=1'\n",
    "url_full=url_base+url_work_table\n",
    "g=requests.get(url_full)\n",
    "soup=BeautifulSoup(g.content, 'html.parser')"
   ]
  },
  {
   "cell_type": "markdown",
   "id": "1a87b2e5-bdab-409c-9876-b03db0a6b2de",
   "metadata": {},
   "source": [
    "# Get pages link"
   ]
  },
  {
   "cell_type": "code",
   "execution_count": 42,
   "id": "c720fa50-3d46-4f7b-ad92-1ea19a0fda78",
   "metadata": {},
   "outputs": [
    {
     "data": {
      "text/plain": [
       "['https://www.hch.gov.tw/?aid=506&pid=0&page_name=list&pageNo=1',\n",
       " 'https://www.hch.gov.tw/?aid=506&pid=0&page_name=list&pageNo=2',\n",
       " 'https://www.hch.gov.tw/?aid=506&pid=0&page_name=list&pageNo=3']"
      ]
     },
     "execution_count": 42,
     "metadata": {},
     "output_type": "execute_result"
    }
   ],
   "source": [
    "pages_link=[]\n",
    "for link in soup.find('ul',class_=\"pagination pagination-sm justify-content-center\"):\n",
    "    if link.find(\"a\"):\n",
    "        if link.find(\"a\") == -1 or link.text == \"第一頁\" or link.text == \"«\" or link.text == \"»\" or link.text == \"最末頁\" or link.text == \" \":\n",
    "            pass\n",
    "        elif link.find('a').has_attr(\"disabled\"):\n",
    "            #print('skip:',link.text)\n",
    "            pages_link.append(url_full)\n",
    "        else:\n",
    "            no_page_link=url_full.replace(\"pageNo=1\",\"pageNo=\")\n",
    "            pages_link.append(no_page_link+link.find('a').text)\n",
    "pages_link"
   ]
  },
  {
   "cell_type": "markdown",
   "id": "2b4691d8-05e7-44f2-91c0-9b7fe72efcfb",
   "metadata": {},
   "source": [
    "# Get wrok table"
   ]
  },
  {
   "cell_type": "markdown",
   "id": "7a314a10-6368-491e-9c90-8b763072e1e9",
   "metadata": {},
   "source": [
    "first page"
   ]
  },
  {
   "cell_type": "code",
   "execution_count": 96,
   "id": "536fcb06-a8af-4798-9f0c-d11854639f16",
   "metadata": {},
   "outputs": [],
   "source": [
    "def get_each_page_wrok_table(soup,work_table):\n",
    "    for work in soup.find_all('table',class_=\"table table-striped table-hover news_table\")[0].find(\"tbody\").find_all(\"tr\"):\n",
    "        all_td = work.find_all(\"td\")\n",
    "        title = all_td[3].text\n",
    "        place = all_td[0].text\n",
    "        deadline = all_td[4].text\n",
    "        originization = all_td[2].text\n",
    "        link={}\n",
    "        for i in all_td[5].find_all(\"a\"):\n",
    "            link[i.text]=url_base+i.get('href')\n",
    "        print(\"召聘職稱\",title,'院區',place,\"截止日期\",deadline,\"職缺單位\",originization,\"links\",link)\n",
    "        work_table.append([title, deadline, originization, place, link ])\n",
    "    return work_table"
   ]
  },
  {
   "cell_type": "code",
   "execution_count": 90,
   "id": "d91d57d3-8620-477b-b2a1-d402e84e6f11",
   "metadata": {},
   "outputs": [],
   "source": [
    "def get_base_web_data(url_base,url_work_table=None):\n",
    "    if url_work_table != None:\n",
    "        url = url_base + url_work_table\n",
    "    else:\n",
    "        url = url_base\n",
    "    g=requests.get(url)\n",
    "    soup=BeautifulSoup(g.content, 'html.parser')\n",
    "    return soup"
   ]
  },
  {
   "cell_type": "code",
   "execution_count": 97,
   "id": "119e4925-e497-4507-ae82-1c636d2e539a",
   "metadata": {},
   "outputs": [
    {
     "name": "stdout",
     "output_type": "stream",
     "text": [
      "召聘職稱 院聘醫事檢驗師 院區 竹北院區 截止日期 2022-05-16 職缺單位 醫療單位檢驗醫學部 links {' 新竹臺大分院簡則-院聘醫事檢驗師': 'https://www.hch.gov.tw/public/jobnews/16517443876072.pdf', ' 1.信封封面': 'https://www.hch.gov.tw/public/jobnews/1651744387617.pdf', ' 2.台大醫院新竹臺大分院各類人員甄選登記表及查核授權書': 'https://www.hch.gov.tw/public/jobnews/16517443876257.pdf', ' 3.作業基金現職人員申請院內外補同意書(新竹臺大分院)': 'https://www.hch.gov.tw/public/jobnews/16517443876352.pdf'}\n",
      "召聘職稱 院聘部分工時人員 院區 新竹醫院 截止日期 2022-05-31 職缺單位 醫療單位家庭醫學部 links {' 簡則-部份工時人員': 'https://www.hch.gov.tw/public/jobnews/16517303872988.pdf', ' 信封封面': 'https://www.hch.gov.tw/public/jobnews/16517303873153.pdf', ' 台大醫院新竹臺大分院各類人員甄選登記表及查核授權書': 'https://www.hch.gov.tw/public/jobnews/16517303873263.pdf', ' 作業基金現職人員申請院內外補同意書': 'https://www.hch.gov.tw/public/jobnews/16517303873428.pdf'}\n",
      "召聘職稱 院聘助理管理師 院區 新竹醫院 截止日期 2022-05-15 職缺單位 醫療單位檢驗醫學部 links {' 簡則-院聘助理管理師': 'https://www.hch.gov.tw/public/jobnews/16517299573322.pdf', ' 信封封面': 'https://www.hch.gov.tw/public/jobnews/16517299573498.pdf', ' 台大醫院新竹臺大分院各類人員甄選登記表及查核授權書': 'https://www.hch.gov.tw/public/jobnews/16517299573607.pdf', ' 作業基金現職人員申請院內外補同意書': 'https://www.hch.gov.tw/public/jobnews/16517299573734.pdf'}\n",
      "召聘職稱 院聘管理師 院區 竹北院區 截止日期 2022-05-27 職缺單位 醫療支援單位安全衛生室 links {' 簡則-院聘管理師': 'https://www.hch.gov.tw/public/jobnews/1651729742871.pdf', ' 信封封面': 'https://www.hch.gov.tw/public/jobnews/16517297428899.pdf', ' 台大醫院新竹臺大分院各類人員甄選登記表及查核授權書': 'https://www.hch.gov.tw/public/jobnews/16517297429062.pdf', ' 作業基金現職人員申請院內外補同意書': 'https://www.hch.gov.tw/public/jobnews/16517297429186.pdf'}\n",
      "召聘職稱 院聘醫事檢驗師 院區 新竹醫院 截止日期 2022-05-15 職缺單位 醫療單位病理部 links {' 新竹臺大分院簡則_新竹醫院病理部院聘醫事檢驗師': 'https://www.hch.gov.tw/public/jobnews/16517113557834.pdf', ' 1.信封封面': 'https://www.hch.gov.tw/public/jobnews/16517113557924.pdf', ' 2.台大醫院新竹臺大分院各類人員甄選登記表及查核授權書(新竹臺大分院)': 'https://www.hch.gov.tw/public/jobnews/1651711355801.pdf', ' 3.作業基金現職人員申請院內外補同意書(新竹臺大分院)': 'https://www.hch.gov.tw/public/jobnews/16517113558103.pdf'}\n",
      "召聘職稱 院聘主治醫師 院區 新竹醫院竹北院區竹東院區 截止日期 2022-05-15 職缺單位 醫療單位外科部胸腔外科 links {' 簡則': 'https://www.hch.gov.tw/public/jobnews/16517094432196.pdf', ' 申請表': 'https://www.hch.gov.tw/public/jobnews/16517094432285.pdf', ' 查核授權書': 'https://www.hch.gov.tw/public/jobnews/16517094432635.pdf'}\n",
      "召聘職稱 院聘門診護理師 院區 竹東院區 截止日期 2022-06-30 職缺單位 醫療支援單位護理部 links {' 竹東院聘門診護理師簡則': 'https://www.hch.gov.tw/public/jobnews/16516357694145.pdf', ' 信封封面': 'https://www.hch.gov.tw/public/jobnews/b4578a32c52f8a979961daa925cb0fb5.pdf', ' 甄選登記表及職前經歷授權書': 'https://www.hch.gov.tw/public/jobnews/73a55a06cd4fef232f976dc6a9ef0685.pdf', ' 作業基金現職人員申請院內外補同意書': 'https://www.hch.gov.tw/public/jobnews/2daaa400091a17673065f11a332c997c.pdf'}\n",
      "召聘職稱 院聘護理師(婦幼中心院聘護理師) 院區 竹北院區 截止日期 2022-08-01 職缺單位 醫療支援單位護理部 links {' 婦幼中心院聘護理師甄選簡則': 'https://www.hch.gov.tw/public/jobnews/16516353916689.pdf', ' 人員甄選登記表及職前經歷查驗授權書': 'https://www.hch.gov.tw/public/jobnews/16416957945941.pdf', ' 作業基金現職人員申請院內外補同意書': 'https://www.hch.gov.tw/public/jobnews/16416957946044.pdf'}\n",
      "召聘職稱 院聘護理師(安寧共同照護護理師) 院區 竹北院區 截止日期 2022-08-01 職缺單位 醫療支援單位護理部 links {' 安寧共同照護護理師簡則': 'https://www.hch.gov.tw/public/jobnews/16516353138604.pdf', ' 信封封面': 'https://www.hch.gov.tw/public/jobnews/22cff910bf74910bc8e5443ba664d373.pdf', ' 甄選登記表及職前經歷查驗授權書': 'https://www.hch.gov.tw/public/jobnews/703f2193994d2c33c61cd3014f661815.pdf', ' 作業基金現職人員申請院內外補同意書': 'https://www.hch.gov.tw/public/jobnews/9a57cc83477d80053ab09f18e45bb163.pdf'}\n",
      "召聘職稱 工時護理師(病房/開刀房) 院區 竹北院區 截止日期 2022-08-01 職缺單位 醫療支援單位護理部 links {' 工時護理師(病房/開刀房)': 'https://www.hch.gov.tw/public/jobnews/16516351949043.pdf', ' 信封封面': 'https://www.hch.gov.tw/public/jobnews/16497402199279.pdf', ' 甄選登記表及學經歷查驗': 'https://www.hch.gov.tw/public/jobnews/16497402199383.pdf', ' 人員甄選同意書': 'https://www.hch.gov.tw/public/jobnews/16497402199488.pdf'}\n",
      "召聘職稱 院聘護理師 院區 竹北院區 截止日期 2022-08-01 職缺單位 醫療支援單位護理部 links {' 院聘護理師甄選簡則': 'https://www.hch.gov.tw/public/jobnews/16516349263672.pdf', ' 信封封面': 'https://www.hch.gov.tw/public/jobnews/f1dc2254211e0f6c287202523c549ce9.pdf', ' 甄選登記表及職前經歷查驗授權書)': 'https://www.hch.gov.tw/public/jobnews/17e3877ed10bd85bae0b58da39c9eef6.pdf', ' 作業基金現職人員申請院內外補同意書': 'https://www.hch.gov.tw/public/jobnews/9022046b1afb326fa7a629dc36d0de19.pdf'}\n",
      "召聘職稱 院聘門診護理師 院區 竹北院區 截止日期 2022-08-01 職缺單位 醫療支援單位護理部 links {' 護理部院聘門診護理師甄選簡則': 'https://www.hch.gov.tw/public/jobnews/16516348291649.pdf', ' 信封封面': 'https://www.hch.gov.tw/public/jobnews/3146e266d746ab87ec5db162eb7166e5.pdf', ' 甄選登記表及職前經歷查驗授權書': 'https://www.hch.gov.tw/public/jobnews/bb4be7e5ceb3e0f3a4bf2b8b7eb6e477.pdf', ' 作業基金現職人員申請院內外補同意書': 'https://www.hch.gov.tw/public/jobnews/95d55e2924511f89c6cebf5598de3c00.pdf'}\n",
      "召聘職稱 院聘事務員(二) 院區 新竹醫院 截止日期 2022-05-13 職缺單位 醫療支援單位醫療事務室櫃檯業務組 links {' 簡則-院聘事務員(二)': 'https://www.hch.gov.tw/public/jobnews/16516229884857.pdf', ' 信封封面': 'https://www.hch.gov.tw/public/jobnews/16516229884963.pdf', ' 台大醫院新竹臺大分院各類人員甄選登記表及查核授權書': 'https://www.hch.gov.tw/public/jobnews/16516229885054.pdf', ' 作業基金現職人員申請院內外補同意書': 'https://www.hch.gov.tw/public/jobnews/16516229885161.pdf'}\n",
      "召聘職稱 院聘事務員(三) 院區 新竹醫院 截止日期 2022-05-09 職缺單位 醫療單位影像醫學部 links {' 簡則-院聘事務員(三)': 'https://www.hch.gov.tw/public/jobnews/16514825730283.pdf', ' 信封封面': 'https://www.hch.gov.tw/public/jobnews/16514825730429.pdf', ' 台大醫院新竹臺大分院各類人員甄選登記表及查核授權書': 'https://www.hch.gov.tw/public/jobnews/16514825730567.pdf', ' 作業基金現職人員申請院內外補同意書': 'https://www.hch.gov.tw/public/jobnews/16514825730719.pdf'}\n",
      "召聘職稱 院聘副管理師 院區 竹東院區 截止日期 2022-05-20 職缺單位 醫療單位精神醫學部 links {' 簡則-精神醫學部院聘副管理師': 'https://www.hch.gov.tw/public/jobnews/16514771164445.pdf', ' 信封封面': 'https://www.hch.gov.tw/public/jobnews/16514771164546.pdf', ' 台大醫院新竹臺大分院各類人員甄選登記表及查核授權書': 'https://www.hch.gov.tw/public/jobnews/16514771164629.pdf', ' 作業基金現職人員申請院內外補同意書': 'https://www.hch.gov.tw/public/jobnews/16514771164723.pdf'}\n",
      "召聘職稱 院聘醫事檢驗師 院區 新竹醫院 截止日期 2022-05-28 職缺單位 醫療單位檢驗醫學部 links {' 簡則_院聘醫事檢驗師': 'https://www.hch.gov.tw/public/jobnews/16516563347958.pdf', ' 1.信封封面': 'https://www.hch.gov.tw/public/jobnews/16513815824596.pdf', ' 2.台大醫院新竹臺大分院各類人員甄選登記表及查核授權書': 'https://www.hch.gov.tw/public/jobnews/16513815824703.pdf', ' 3.作業基金現職人員申請院內外補同意書(新竹臺大分院)': 'https://www.hch.gov.tw/public/jobnews/16513815824807.pdf'}\n",
      "召聘職稱 院聘服務員(三) 院區 竹東院區 截止日期 2022-05-31 職缺單位 醫療支援單位護理部 links {' 簡則-院聘服務員(三)': 'https://www.hch.gov.tw/public/jobnews/16517318134819.pdf', ' 信封封面': 'https://www.hch.gov.tw/public/jobnews/16512243164737.pdf', ' 台大醫院新竹臺大分院各類人員甄選登記表及查核授權書': 'https://www.hch.gov.tw/public/jobnews/1651224316484.pdf', ' 作業基金現職人員申請院內外補同意書': 'https://www.hch.gov.tw/public/jobnews/16512243164943.pdf'}\n",
      "召聘職稱 院聘服務員(二) 院區 新竹醫院 截止日期 2022-05-16 職缺單位 醫療支援單位病歷資訊管理室 links {' 簡則-院聘服務員(二)': 'https://www.hch.gov.tw/public/jobnews/16512241216975.pdf', ' 信封封面': 'https://www.hch.gov.tw/public/jobnews/16512241217075.pdf', ' 台大醫院新竹臺大分院各類人員甄選登記表及查核授權書': 'https://www.hch.gov.tw/public/jobnews/16512241217157.pdf', ' 作業基金現職人員申請院內外補同意書': 'https://www.hch.gov.tw/public/jobnews/16512241217255.pdf'}\n",
      "召聘職稱 院聘助理管理師 院區 新竹醫院 截止日期 2022-05-16 職缺單位 醫療支援單位病歷資訊管理室 links {' 簡則-院聘助理管理師': 'https://www.hch.gov.tw/public/jobnews/16512239289207.pdf', ' 信封封面': 'https://www.hch.gov.tw/public/jobnews/16512239289305.pdf', ' 台大醫院新竹臺大分院各類人員甄選登記表及查核授權書': 'https://www.hch.gov.tw/public/jobnews/16512239289389.pdf', ' 作業基金現職人員申請院內外補同意書': 'https://www.hch.gov.tw/public/jobnews/16512239289477.pdf'}\n",
      "召聘職稱 簡則-院聘助理技術師&副技術師(中控) 院區 新竹醫院 截止日期 2022-05-27 職缺單位 醫療支援單位安全衛生室 links {' 簡則-院聘助理技術師&副技術師(中控)': 'https://www.hch.gov.tw/public/jobnews/16512231802863.pdf', ' 信封封面': 'https://www.hch.gov.tw/public/jobnews/16512231802997.pdf', ' 台大醫院新竹臺大分院各類人員甄選登記表及查核授權書': 'https://www.hch.gov.tw/public/jobnews/16512231803081.pdf', ' 作業基金現職人員申請院內外補同意書': 'https://www.hch.gov.tw/public/jobnews/16512231803185.pdf'}\n",
      "召聘職稱 院聘事務員(四) 院區 新竹醫院 截止日期 2022-05-20 職缺單位 醫療支援單位營養室 links {' 簡則-院聘事務員(四)': 'https://www.hch.gov.tw/public/jobnews/1651222776031.pdf', ' 信封封面': 'https://www.hch.gov.tw/public/jobnews/16512227760405.pdf', ' 台大醫院新竹臺大分院各類人員甄選登記表及查核授權書': 'https://www.hch.gov.tw/public/jobnews/16512227760489.pdf', ' 作業基金現職人員申請院內外補同意書': 'https://www.hch.gov.tw/public/jobnews/16512227760588.pdf'}\n",
      "召聘職稱 簡則-院聘副管理師(職務代理人) 院區 新竹醫院 截止日期 2022-05-13 職缺單位 醫療支援單位醫療事務室 links {' 簡則-院聘副管理師(職代)': 'https://www.hch.gov.tw/public/jobnews/1651222410036.pdf', ' 信封封面': 'https://www.hch.gov.tw/public/jobnews/16512224100471.pdf', ' 台大醫院新竹臺大分院各類人員甄選登記表及查核授權書': 'https://www.hch.gov.tw/public/jobnews/16512224100569.pdf', ' 作業基金現職人員申請院內外補同意書': 'https://www.hch.gov.tw/public/jobnews/16512224100682.pdf'}\n",
      "召聘職稱 簡則-護理部院聘服務員(二) 院區 竹東院區 截止日期 2022-05-16 職缺單位 醫療支援單位護理部 links {' 簡則-護理部院聘服務員(二)': 'https://www.hch.gov.tw/public/jobnews/16512221642475.pdf', ' 信封封面': 'https://www.hch.gov.tw/public/jobnews/16512221642572.pdf', ' 台大醫院新竹臺大分院各類人員甄選登記表及查核授權書': 'https://www.hch.gov.tw/public/jobnews/16512221642661.pdf', ' 作業基金現職人員申請院內外補同意書': 'https://www.hch.gov.tw/public/jobnews/16512221642761.pdf'}\n",
      "召聘職稱 院聘副管理師 院區 新竹醫院 截止日期 2022-05-27 職缺單位 教學研究單位醫學研究部 links {' 簡則-醫學研究部院聘副管理師': 'https://www.hch.gov.tw/public/jobnews/16512219560509.pdf', ' 信封封面': 'https://www.hch.gov.tw/public/jobnews/1651221956062.pdf', ' 台大醫院新竹臺大分院各類人員甄選登記表及查核授權書': 'https://www.hch.gov.tw/public/jobnews/16512219560707.pdf', ' 作業基金現職人員申請院內外補同意書': 'https://www.hch.gov.tw/public/jobnews/16512219560832.pdf'}\n",
      "召聘職稱 院聘技術師 院區 竹北院區 截止日期 2022-05-27 職缺單位 教學研究單位醫學研究部 links {' 簡則-醫學研究部院聘技術師': 'https://www.hch.gov.tw/public/jobnews/16512218511489.pdf', ' 信封封面': 'https://www.hch.gov.tw/public/jobnews/16512218511601.pdf', ' 台大醫院新竹臺大分院各類人員甄選登記表及查核授權書': 'https://www.hch.gov.tw/public/jobnews/16512218511707.pdf', ' 作業基金現職人員申請院內外補同意書': 'https://www.hch.gov.tw/public/jobnews/16512218511814.pdf'}\n",
      "召聘職稱 院聘事務員(三) 院區 新竹醫院 截止日期 2022-05-10 職缺單位 醫療支援單位藥劑部 links {' 簡則-藥劑部院聘事務員（三）': 'https://www.hch.gov.tw/public/jobnews/16512215692239.pdf', ' 信封封面': 'https://www.hch.gov.tw/public/jobnews/16512215692344.pdf', ' 台大醫院新竹臺大分院各類人員甄選登記表及查核授權書': 'https://www.hch.gov.tw/public/jobnews/16512215692431.pdf', ' 作業基金現職人員申請院內外補同意書': 'https://www.hch.gov.tw/public/jobnews/16512215692535.pdf'}\n",
      "召聘職稱 院聘助理管理師 院區 新竹醫院 截止日期 2022-05-10 職缺單位 醫療支援單位藥劑部 links {' 簡則-藥劑部院聘助理管理師': 'https://www.hch.gov.tw/public/jobnews/16512214750702.pdf', ' 信封封面': 'https://www.hch.gov.tw/public/jobnews/16512214750799.pdf', ' 台大醫院新竹臺大分院各類人員甄選登記表及查核授權書': 'https://www.hch.gov.tw/public/jobnews/16512214750871.pdf', ' 作業基金現職人員申請院內外補同意書': 'https://www.hch.gov.tw/public/jobnews/16512214750969.pdf'}\n",
      "召聘職稱 組長 院區 竹北院區 截止日期 2022-05-20 職缺單位 醫療支援單位醫學工程室 links {' 台大醫院新竹臺大分院各類人員甄選登記表及查核授權書': 'https://www.hch.gov.tw/public/jobnews/16512175330281.pdf'}\n",
      "召聘職稱 院聘個管師 院區 新竹醫院 截止日期 2022-05-08 職缺單位 醫療單位家庭醫學部 links {' 家醫部院聘個管師甄選簡則': 'https://www.hch.gov.tw/public/jobnews/1651113783675.pdf', ' 信封封面': 'https://www.hch.gov.tw/public/jobnews/16511137836863.pdf', ' 甄選登記表及學經歷查驗': 'https://www.hch.gov.tw/public/jobnews/16511137836982.pdf', ' 人員甄選同意書': 'https://www.hch.gov.tw/public/jobnews/16511137837116.pdf'}\n",
      "召聘職稱 院聘技術師 院區 竹北院區 截止日期 2022-05-10 職缺單位 行政單位工務室 links {' 簡則-工務室院聘技術師(機電)': 'https://www.hch.gov.tw/public/jobnews/16510230794263.pdf', ' 信封封面': 'https://www.hch.gov.tw/public/jobnews/16510230794419.pdf', ' 台大醫院新竹臺大分院各類人員甄選登記表及查核授權書': 'https://www.hch.gov.tw/public/jobnews/16510230794504.pdf', ' 作業基金現職人員申請院內外補同意書': 'https://www.hch.gov.tw/public/jobnews/16510230794607.pdf'}\n",
      "召聘職稱 院聘事務員(二) 院區 新竹醫院 截止日期 2022-05-20 職缺單位 行政單位總務室配給組 links {' 簡則-院聘事務員(二)': 'https://www.hch.gov.tw/public/jobnews/16511133614589.pdf', ' 信封封面': 'https://www.hch.gov.tw/public/jobnews/16511133614786.pdf', ' 台大醫院新竹臺大分院各類人員甄選登記表及查核授權書': 'https://www.hch.gov.tw/public/jobnews/16511133614921.pdf', ' 作業基金現職人員申請院內外補同意書': 'https://www.hch.gov.tw/public/jobnews/1651113361506.pdf'}\n",
      "召聘職稱 院聘副技術師 院區 竹東院區 截止日期 2022-05-27 職缺單位 醫療支援單位安全衛生室 links {' 簡則-院聘副技術師': 'https://www.hch.gov.tw/public/jobnews/16511129797813.pdf', ' 信封封面': 'https://www.hch.gov.tw/public/jobnews/16511129798015.pdf', ' 台大醫院新竹臺大分院各類人員甄選登記表及查核授權書': 'https://www.hch.gov.tw/public/jobnews/16511129798143.pdf', ' 作業基金現職人員申請院內外補同意書': 'https://www.hch.gov.tw/public/jobnews/16511129798297.pdf'}\n",
      "召聘職稱 院聘門診護理師 院區 竹東院區 截止日期 2022-05-13 職缺單位 醫療單位家庭醫學部 links {' 家醫部院聘門診護理師甄選簡則': 'https://www.hch.gov.tw/public/jobnews/16510529072267.pdf', ' 信封封面': 'https://www.hch.gov.tw/public/jobnews/283548a11eab66d567ec435352d36065.pdf', ' 人員甄選登記表及職前經歷查驗授權書': 'https://www.hch.gov.tw/public/jobnews/117d27d497c28b28556a475f300352b4.pdf', ' 作業基金現職人員申請院內外補同意書': 'https://www.hch.gov.tw/public/jobnews/3218ae2357d7dccc10232b47cb689c4a.pdf'}\n",
      "召聘職稱 院聘個管師 院區 竹東院區 截止日期 2022-05-13 職缺單位 醫療單位家庭醫學部 links {' 家庭醫學部院聘個管師甄選簡則': 'https://www.hch.gov.tw/public/jobnews/16510527899968.pdf', ' 信封封面': 'https://www.hch.gov.tw/public/jobnews/cbfc1d290c783e74c4212aaf900bbdd7.pdf', ' 人員甄選登記表及職前經歷查驗授權書': 'https://www.hch.gov.tw/public/jobnews/7e1f9bdff008ae18725fbea358cde661.pdf', ' 作業基金現職人員申請院內外補同意書': 'https://www.hch.gov.tw/public/jobnews/2477fbbbf8f35f55f0031940bbd79439.pdf'}\n",
      "召聘職稱 院聘檢查技術員(子宮鏡技術員) 院區 新竹醫院 截止日期 2022-05-16 職缺單位 醫療單位婦產部 links {' 子宮鏡技術員甄選簡則': 'https://www.hch.gov.tw/public/jobnews/16510500631528.pdf', ' 信封封面': 'https://www.hch.gov.tw/public/jobnews/16510500631637.pdf', ' 甄選登記表及學經歷查核授書': 'https://www.hch.gov.tw/public/jobnews/16510500631742.pdf', ' 人員甄選同意書': 'https://www.hch.gov.tw/public/jobnews/1651050063186.pdf'}\n",
      "召聘職稱 院聘門診護理師 院區 竹北院區 截止日期 2022-05-08 職缺單位 醫療單位眼科部 links {' 眼科門診護理師簡則': 'https://www.hch.gov.tw/public/jobnews/16510227230566.pdf', ' 信封封面': 'https://www.hch.gov.tw/public/jobnews/16510227230681.pdf', ' 甄選登記表及學經歷查核授權書': 'https://www.hch.gov.tw/public/jobnews/16510227230808.pdf', ' 人員甄選同意書': 'https://www.hch.gov.tw/public/jobnews/16510227230932.pdf'}\n",
      "召聘職稱 院聘助理管理師 院區 竹北院區 截止日期 2022-05-17 職缺單位 醫療單位影像醫學部 links {' 簡則-影像醫學部院聘助理管理師': 'https://www.hch.gov.tw/public/jobnews/16510183644002.pdf', ' 信封封面': 'https://www.hch.gov.tw/public/jobnews/16509637626681.pdf', ' 台大醫院新竹臺大分院各類人員甄選登記表及查核授權書': 'https://www.hch.gov.tw/public/jobnews/16509637626822.pdf', ' 作業基金現職人員申請院內外補同意書': 'https://www.hch.gov.tw/public/jobnews/16509637626961.pdf'}\n",
      "召聘職稱 院聘副管理師 院區 新竹醫院 截止日期 2022-05-13 職缺單位 醫療支援單位醫療事務室門診健保業務組 links {' 簡則-醫療事務室院聘副管理師': 'https://www.hch.gov.tw/public/jobnews/16509640808838.pdf', ' 信封封面': 'https://www.hch.gov.tw/public/jobnews/16509640808932.pdf', ' 台大醫院新竹臺大分院各類人員甄選登記表及查核授權書': 'https://www.hch.gov.tw/public/jobnews/16509640809016.pdf', ' 作業基金現職人員申請院內外補同意書': 'https://www.hch.gov.tw/public/jobnews/16509640809108.pdf'}\n",
      "召聘職稱 院聘副管理師 院區 竹東院區 截止日期 2022-05-13 職缺單位 醫療支援單位社會工作室 links {' 簡則-社會工作室院聘副管理師': 'https://www.hch.gov.tw/public/jobnews/16509639198737.pdf', ' 信封封面': 'https://www.hch.gov.tw/public/jobnews/16509639198957.pdf', ' 甄選登記表及查核授權書': 'https://www.hch.gov.tw/public/jobnews/16509639199088.pdf', ' 作業基金現職人員申請院內外補同意書': 'https://www.hch.gov.tw/public/jobnews/16509639199213.pdf'}\n",
      "召聘職稱 院聘醫事放射師 院區 竹北院區 截止日期 2022-05-17 職缺單位 醫療單位影像醫學部 links {' 簡則_院聘醫事放射師': 'https://www.hch.gov.tw/public/jobnews/16509578336456.pdf', ' 1.信封封面': 'https://www.hch.gov.tw/public/jobnews/16509578336562.pdf', ' 2.台大醫院新竹臺大分院各類人員甄選登記表及查核授權書': 'https://www.hch.gov.tw/public/jobnews/16509578336682.pdf', ' 3.作業基金現職人員申請院內外補同意書(新竹臺大分院)': 'https://www.hch.gov.tw/public/jobnews/165095783368.pdf'}\n",
      "召聘職稱 院聘副技術師(消防) 院區 新竹醫院 截止日期 2022-05-22 職缺單位 醫療支援單位安全衛生室 links {' 簡則-安全衛生室院聘副技術師(消防)': 'https://www.hch.gov.tw/public/jobnews/16509441793683.pdf', ' 信封封面': 'https://www.hch.gov.tw/public/jobnews/16509441793794.pdf', ' 台大醫院新竹臺大分院各類人員甄選登記表及查核授權書': 'https://www.hch.gov.tw/public/jobnews/16509441793891.pdf', ' 作業基金現職人員申請院內外補同意書': 'https://www.hch.gov.tw/public/jobnews/16509441794007.pdf'}\n",
      "召聘職稱 院聘副管理師(職務代理人) 院區 新竹醫院 截止日期 2022-05-16 職缺單位 醫療單位家庭醫學部 links {' 簡則-家庭醫學部院聘副管理師(職代)': 'https://www.hch.gov.tw/public/jobnews/1650943830129.pdf', ' 信封封面': 'https://www.hch.gov.tw/public/jobnews/16509438301399.pdf', ' 台大醫院新竹臺大分院各類人員甄選登記表及查核授權書': 'https://www.hch.gov.tw/public/jobnews/16509438301525.pdf', ' 作業基金現職人員申請院內外補同意書': 'https://www.hch.gov.tw/public/jobnews/1650943830168.pdf'}\n",
      "召聘職稱 院聘助理管理師 院區 新竹醫院 截止日期 2022-05-16 職缺單位 醫療單位家庭醫學部 links {' 簡則-院聘助理管理師簡則-家庭醫學部院聘助理管理師': 'https://www.hch.gov.tw/public/jobnews/16509436789848.pdf', ' 信封封面': 'https://www.hch.gov.tw/public/jobnews/16509436790035.pdf', ' 甄選登記表及查核授權書': 'https://www.hch.gov.tw/public/jobnews/16509436790155.pdf', ' 作業基金現職人員申請院內外補同意書': 'https://www.hch.gov.tw/public/jobnews/16509436790319.pdf'}\n",
      "召聘職稱 院聘營養師 院區 新竹醫院 截止日期 2022-05-27 職缺單位 醫療支援單位營養室 links {' 簡則-院聘營養師(新竹)': 'https://www.hch.gov.tw/public/jobnews/16506184371626.pdf', ' 院聘營養師報名表': 'https://www.hch.gov.tw/public/jobnews/16506184372132.pdf', ' 信封封面': 'https://www.hch.gov.tw/public/jobnews/16506184372373.pdf', ' 台大醫院新竹臺大分院各類人員甄選登記表及查核授權書': 'https://www.hch.gov.tw/public/jobnews/16506184372763.pdf', ' 作業基金現職人員申請院內外補同意書(新竹臺大分院)': 'https://www.hch.gov.tw/public/jobnews/16506184373115.pdf'}\n",
      "召聘職稱 院聘藥師 院區 新竹醫院 截止日期 2022-05-10 職缺單位 醫療支援單位藥劑部 links {' 簡則-院聘藥(新竹醫院)': 'https://www.hch.gov.tw/public/jobnews/16512306868709.pdf', ' 1.信封封面': 'https://www.hch.gov.tw/public/jobnews/16474154267561.pdf', ' 2.台大醫院新竹臺大分院各類人員甄選登記表及查核授權書': 'https://www.hch.gov.tw/public/jobnews/16474154267667.pdf', ' 3.作業基金現職人員申請院內外補同意書(新竹臺大分院)': 'https://www.hch.gov.tw/public/jobnews/16474154267771.pdf'}\n",
      "召聘職稱 院聘藥師 院區 竹北院區 截止日期 2022-05-10 職缺單位 醫療支援單位藥劑部 links {' 簡則-院聘藥師(生醫醫院竹北院區)': 'https://www.hch.gov.tw/public/jobnews/16512304541619.pdf', ' 1.信封封面': 'https://www.hch.gov.tw/public/jobnews/1647415341714.pdf', ' 2.台大醫院新竹臺大分院各類人員甄選登記表及查核授權書': 'https://www.hch.gov.tw/public/jobnews/16474153417238.pdf', ' 3.作業基金現職人員申請院內外補同意(新竹臺大分院)': 'https://www.hch.gov.tw/public/jobnews/16474153417332.pdf'}\n",
      "召聘職稱 院聘服務員(三) 院區 竹北院區 截止日期 2022-05-20 職缺單位 醫療支援單位營養室 links {' 簡則-營養室院聘服務員(三)': 'https://www.hch.gov.tw/public/jobnews/16504283510982.pdf', ' 營養室自傳表': 'https://www.hch.gov.tw/public/jobnews/16504283511126.pdf', ' 信封封面': 'https://www.hch.gov.tw/public/jobnews/16504283511199.pdf', ' 台大醫院新竹臺大分院各類人員甄選登記表及查核授權書': 'https://www.hch.gov.tw/public/jobnews/16504283511269.pdf', ' 作業基金現職人員申請院內外補同意書': 'https://www.hch.gov.tw/public/jobnews/16504283511354.pdf'}\n",
      "召聘職稱 院聘助理技術師 院區 竹北院區 截止日期 2022-05-20 職缺單位 醫療支援單位營養室 links {' 簡則-營養室院聘助理技術師': 'https://www.hch.gov.tw/public/jobnews/16504249842169.pdf', ' 營養室自傳表': 'https://www.hch.gov.tw/public/jobnews/16504249842274.pdf', ' 信封封面': 'https://www.hch.gov.tw/public/jobnews/16504249842344.pdf', ' 台大醫院新竹臺大分院各類人員甄選登記表及查核授權書': 'https://www.hch.gov.tw/public/jobnews/16504249842424.pdf', ' 作業基金現職人員申請院內外補同意書': 'https://www.hch.gov.tw/public/jobnews/16504249842514.pdf'}\n",
      "召聘職稱 院聘副管理師 院區 竹北院區 截止日期 2022-05-13 職缺單位 教學研究單位醫學研究部 links {' 簡則-醫學研究部院聘副管理師': 'https://www.hch.gov.tw/public/jobnews/16504156485408.pdf', ' 信封封面': 'https://www.hch.gov.tw/public/jobnews/16504156485541.pdf', ' 台大醫院新竹臺大分院各類人員甄選登記表及查核授權書': 'https://www.hch.gov.tw/public/jobnews/16504156485618.pdf', ' 作業基金現職人員申請院內外補同意書': 'https://www.hch.gov.tw/public/jobnews/16504156485704.pdf'}\n",
      "召聘職稱 技正 院區 新竹醫院 截止日期 2022-05-30 職缺單位 醫療支援單位醫學工程室 links {' 台大醫院新竹臺大分院各類人員甄選登記表及查核授權書': 'https://www.hch.gov.tw/public/jobnews/16502594470916.pdf'}\n",
      "召聘職稱 技士 院區 新竹醫院竹北院區 截止日期 2022-05-09 職缺單位 醫療支援單位醫學工程室 links {' 台大醫院新竹臺大分院各類人員甄選登記表及查核授權書': 'https://www.hch.gov.tw/public/jobnews/16502583697062.pdf'}\n",
      "召聘職稱 院聘營養師 (職務代理人) 院區 竹東院區 截止日期 2022-05-13 職缺單位 醫療支援單位營養室 links {' 簡則-院聘營養師 (職務代理人)': 'https://www.hch.gov.tw/public/jobnews/16509366760286.pdf', ' 1.信封封面': 'https://www.hch.gov.tw/public/jobnews/16499822903812.pdf', ' 2.台大醫院新竹臺大分院各類人員甄選登記表及查核授權書': 'https://www.hch.gov.tw/public/jobnews/16499822903936.pdf', ' 3.作業基金現職人員申請院內外補同意書(新竹臺大分院)': 'https://www.hch.gov.tw/public/jobnews/16499822904066.pdf'}\n",
      "召聘職稱 院聘副資訊工程師(資安人員) 院區 新竹醫院竹東院區 截止日期 2022-05-20 職缺單位 醫療支援單位資訊室 links {' 簡則-副資訊工程師(資安人員)新竹': 'https://www.hch.gov.tw/public/jobnews/16482024215664.pdf', ' 簡則-副資訊工程師(資安人員)竹東': 'https://www.hch.gov.tw/public/jobnews/16482024215754.pdf', ' 信封封面': 'https://www.hch.gov.tw/public/jobnews/16482024215827.pdf', ' 台大醫院新竹臺大分院各類人員甄選登記表及查核授權書': 'https://www.hch.gov.tw/public/jobnews/16482024215901.pdf', ' 作業基金現職人員申請院內外補同意書': 'https://www.hch.gov.tw/public/jobnews/16482024216007.pdf'}\n",
      "召聘職稱 院聘副資訊工程師(程式設計) 院區 竹北院區竹東院區 截止日期 2022-05-20 職缺單位 醫療支援單位資訊室 links {' 簡則-副資訊工程師(程式設計)竹北': 'https://www.hch.gov.tw/public/jobnews/16482023213152.pdf', ' 簡則-副資訊工程師(程式設計)竹東': 'https://www.hch.gov.tw/public/jobnews/16482023213247.pdf', ' 信封封面': 'https://www.hch.gov.tw/public/jobnews/16482023213326.pdf', ' 台大醫院新竹臺大分院各類人員甄選登記表及查核授權書': 'https://www.hch.gov.tw/public/jobnews/16482023213409.pdf', ' 作業基金現職人員申請院內外補同意書': 'https://www.hch.gov.tw/public/jobnews/16482023213493.pdf'}\n",
      "召聘職稱 院聘副資訊工程師(MIS工程師) 院區 新竹醫院竹東院區 截止日期 2022-05-20 職缺單位 醫療支援單位資訊室 links {' 簡則-副資訊工程師(MIS工程師)竹東': 'https://www.hch.gov.tw/public/jobnews/16482020644257.pdf', ' 簡則-副資訊工程師(MIS工程師)新竹': 'https://www.hch.gov.tw/public/jobnews/16482020644354.pdf', ' 信封封面': 'https://www.hch.gov.tw/public/jobnews/16482020644434.pdf', ' 台大醫院新竹臺大分院各類人員甄選登記表及查核授權書': 'https://www.hch.gov.tw/public/jobnews/16482020644514.pdf', ' 作業基金現職人員申請院內外補同意書': 'https://www.hch.gov.tw/public/jobnews/16482020644608.pdf'}\n",
      "召聘職稱 院聘副資訊工程師(系統網路工程師) 院區 竹北院區竹東院區 截止日期 2022-05-20 職缺單位 醫療支援單位資訊室 links {' 簡則-副資訊工程師(系統網路工程師)竹北': 'https://www.hch.gov.tw/public/jobnews/16482021981875.pdf', ' 簡則-副資訊工程師(系統網路工程師)竹東': 'https://www.hch.gov.tw/public/jobnews/16482021981968.pdf', ' 信封封面': 'https://www.hch.gov.tw/public/jobnews/16482021982045.pdf', ' 台大醫院新竹臺大分院各類人員甄選登記表及查核授權書': 'https://www.hch.gov.tw/public/jobnews/16482021982122.pdf', ' 作業基金現職人員申請院內外補同意書': 'https://www.hch.gov.tw/public/jobnews/1648202198221.pdf'}\n",
      "召聘職稱 臨時工 院區 新竹醫院竹北院區 截止日期 2022-05-20 職缺單位 醫療支援單位資訊室 links {' 簡則-臨時工1名(生醫竹北院區)': 'https://www.hch.gov.tw/public/jobnews/16482019562649.pdf', ' 簡則-臨時工1名(新竹醫院)': 'https://www.hch.gov.tw/public/jobnews/16482019562739.pdf', ' 信封封面': 'https://www.hch.gov.tw/public/jobnews/16482019562815.pdf', ' 台大醫院新竹臺大分院各類人員甄選登記表及查核授權書': 'https://www.hch.gov.tw/public/jobnews/1648201956289.pdf', ' 作業基金現職人員申請院內外補同意書': 'https://www.hch.gov.tw/public/jobnews/16482019562981.pdf'}\n",
      "召聘職稱 院聘護理師 院區 竹東院區 截止日期 2028-06-30 職缺單位 醫療支援單位護理部 links {' 竹東院聘護理師簡則': 'https://www.hch.gov.tw/public/jobnews/16451667291892.pdf', ' 信封封面': 'https://www.hch.gov.tw/public/jobnews/841b5fb26475721b9d1fb038987973fa.pdf', ' 各類人員甄選登記表及職前經歷查驗授權書': 'https://www.hch.gov.tw/public/jobnews/e72839baf475bb1a60a55a9a3d4cb47c.pdf', ' 作業基金現職人員申請院內外補同意書': 'https://www.hch.gov.tw/public/jobnews/7ddf183a7fd5c3f2e4e2b275bba23717.pdf'}\n"
     ]
    }
   ],
   "source": [
    "work_table = []\n",
    "for page in pages_link:\n",
    "    soup = get_base_web_data(page)\n",
    "    work_table = get_each_page_wrok_table(soup,work_table)"
   ]
  },
  {
   "cell_type": "code",
   "execution_count": 101,
   "id": "c642189c-e25b-41ea-b4d8-3c727ab3a67b",
   "metadata": {},
   "outputs": [
    {
     "name": "stdout",
     "output_type": "stream",
     "text": [
      "                   召聘職稱          期限                職缺單位            院區  \\\n",
      "0               院聘醫事檢驗師  2022-05-16           醫療單位檢驗醫學部          竹北院區   \n",
      "1              院聘部分工時人員  2022-05-31           醫療單位家庭醫學部          新竹醫院   \n",
      "2               院聘助理管理師  2022-05-15           醫療單位檢驗醫學部          新竹醫院   \n",
      "3                 院聘管理師  2022-05-27         醫療支援單位安全衛生室          竹北院區   \n",
      "4               院聘醫事檢驗師  2022-05-15             醫療單位病理部          新竹醫院   \n",
      "5                院聘主治醫師  2022-05-15         醫療單位外科部胸腔外科  新竹醫院竹北院區竹東院區   \n",
      "6               院聘門診護理師  2022-06-30           醫療支援單位護理部          竹東院區   \n",
      "7      院聘護理師(婦幼中心院聘護理師)  2022-08-01           醫療支援單位護理部          竹北院區   \n",
      "8      院聘護理師(安寧共同照護護理師)  2022-08-01           醫療支援單位護理部          竹北院區   \n",
      "9         工時護理師(病房/開刀房)  2022-08-01           醫療支援單位護理部          竹北院區   \n",
      "10                院聘護理師  2022-08-01           醫療支援單位護理部          竹北院區   \n",
      "11              院聘門診護理師  2022-08-01           醫療支援單位護理部          竹北院區   \n",
      "12             院聘事務員(二)  2022-05-13    醫療支援單位醫療事務室櫃檯業務組          新竹醫院   \n",
      "13             院聘事務員(三)  2022-05-09           醫療單位影像醫學部          新竹醫院   \n",
      "14               院聘副管理師  2022-05-20           醫療單位精神醫學部          竹東院區   \n",
      "15              院聘醫事檢驗師  2022-05-28           醫療單位檢驗醫學部          新竹醫院   \n",
      "16             院聘服務員(三)  2022-05-31           醫療支援單位護理部          竹東院區   \n",
      "17             院聘服務員(二)  2022-05-16       醫療支援單位病歷資訊管理室          新竹醫院   \n",
      "18              院聘助理管理師  2022-05-16       醫療支援單位病歷資訊管理室          新竹醫院   \n",
      "19  簡則-院聘助理技術師&副技術師(中控)  2022-05-27         醫療支援單位安全衛生室          新竹醫院   \n",
      "20             院聘事務員(四)  2022-05-20           醫療支援單位營養室          新竹醫院   \n",
      "21     簡則-院聘副管理師(職務代理人)  2022-05-13         醫療支援單位醫療事務室          新竹醫院   \n",
      "22       簡則-護理部院聘服務員(二)  2022-05-16           醫療支援單位護理部          竹東院區   \n",
      "23               院聘副管理師  2022-05-27         教學研究單位醫學研究部          新竹醫院   \n",
      "24                院聘技術師  2022-05-27         教學研究單位醫學研究部          竹北院區   \n",
      "25             院聘事務員(三)  2022-05-10           醫療支援單位藥劑部          新竹醫院   \n",
      "26              院聘助理管理師  2022-05-10           醫療支援單位藥劑部          新竹醫院   \n",
      "27                   組長  2022-05-20         醫療支援單位醫學工程室          竹北院區   \n",
      "28                院聘個管師  2022-05-08           醫療單位家庭醫學部          新竹醫院   \n",
      "29                院聘技術師  2022-05-10             行政單位工務室          竹北院區   \n",
      "30             院聘事務員(二)  2022-05-20          行政單位總務室配給組          新竹醫院   \n",
      "31               院聘副技術師  2022-05-27         醫療支援單位安全衛生室          竹東院區   \n",
      "32              院聘門診護理師  2022-05-13           醫療單位家庭醫學部          竹東院區   \n",
      "33                院聘個管師  2022-05-13           醫療單位家庭醫學部          竹東院區   \n",
      "34      院聘檢查技術員(子宮鏡技術員)  2022-05-16             醫療單位婦產部          新竹醫院   \n",
      "35              院聘門診護理師  2022-05-08             醫療單位眼科部          竹北院區   \n",
      "36              院聘助理管理師  2022-05-17           醫療單位影像醫學部          竹北院區   \n",
      "37               院聘副管理師  2022-05-13  醫療支援單位醫療事務室門診健保業務組          新竹醫院   \n",
      "38               院聘副管理師  2022-05-13         醫療支援單位社會工作室          竹東院區   \n",
      "39              院聘醫事放射師  2022-05-17           醫療單位影像醫學部          竹北院區   \n",
      "40           院聘副技術師(消防)  2022-05-22         醫療支援單位安全衛生室          新竹醫院   \n",
      "41        院聘副管理師(職務代理人)  2022-05-16           醫療單位家庭醫學部          新竹醫院   \n",
      "42              院聘助理管理師  2022-05-16           醫療單位家庭醫學部          新竹醫院   \n",
      "43                院聘營養師  2022-05-27           醫療支援單位營養室          新竹醫院   \n",
      "44                 院聘藥師  2022-05-10           醫療支援單位藥劑部          新竹醫院   \n",
      "45                 院聘藥師  2022-05-10           醫療支援單位藥劑部          竹北院區   \n",
      "46             院聘服務員(三)  2022-05-20           醫療支援單位營養室          竹北院區   \n",
      "47              院聘助理技術師  2022-05-20           醫療支援單位營養室          竹北院區   \n",
      "48               院聘副管理師  2022-05-13         教學研究單位醫學研究部          竹北院區   \n",
      "49                   技正  2022-05-30         醫療支援單位醫學工程室          新竹醫院   \n",
      "50                   技士  2022-05-09         醫療支援單位醫學工程室      新竹醫院竹北院區   \n",
      "51        院聘營養師 (職務代理人)  2022-05-13           醫療支援單位營養室          竹東院區   \n",
      "52       院聘副資訊工程師(資安人員)  2022-05-20           醫療支援單位資訊室      新竹醫院竹東院區   \n",
      "53       院聘副資訊工程師(程式設計)  2022-05-20           醫療支援單位資訊室      竹北院區竹東院區   \n",
      "54     院聘副資訊工程師(MIS工程師)  2022-05-20           醫療支援單位資訊室      新竹醫院竹東院區   \n",
      "55    院聘副資訊工程師(系統網路工程師)  2022-05-20           醫療支援單位資訊室      竹北院區竹東院區   \n",
      "56                  臨時工  2022-05-20           醫療支援單位資訊室      新竹醫院竹北院區   \n",
      "57                院聘護理師  2028-06-30           醫療支援單位護理部          竹東院區   \n",
      "58  簡則-院聘助理技術師&副技術師(中控)  2022-05-27         醫療支援單位安全衛生室          新竹醫院   \n",
      "\n",
      "                                                   連結  \n",
      "0   {' 新竹臺大分院簡則-院聘醫事檢驗師': 'https://www.hch.gov.tw/...  \n",
      "1   {' 簡則-部份工時人員': 'https://www.hch.gov.tw/public/...  \n",
      "2   {' 簡則-院聘助理管理師': 'https://www.hch.gov.tw/public...  \n",
      "3   {' 簡則-院聘管理師': 'https://www.hch.gov.tw/public/j...  \n",
      "4   {' 新竹臺大分院簡則_新竹醫院病理部院聘醫事檢驗師': 'https://www.hch....  \n",
      "5   {' 簡則': 'https://www.hch.gov.tw/public/jobnews...  \n",
      "6   {' 竹東院聘門診護理師簡則': 'https://www.hch.gov.tw/publi...  \n",
      "7   {' 婦幼中心院聘護理師甄選簡則': 'https://www.hch.gov.tw/pub...  \n",
      "8   {' 安寧共同照護護理師簡則': 'https://www.hch.gov.tw/publi...  \n",
      "9   {' 工時護理師(病房/開刀房)': 'https://www.hch.gov.tw/pub...  \n",
      "10  {' 院聘護理師甄選簡則': 'https://www.hch.gov.tw/public/...  \n",
      "11  {' 護理部院聘門診護理師甄選簡則': 'https://www.hch.gov.tw/pu...  \n",
      "12  {' 簡則-院聘事務員(二)': 'https://www.hch.gov.tw/publi...  \n",
      "13  {' 簡則-院聘事務員(三)': 'https://www.hch.gov.tw/publi...  \n",
      "14  {' 簡則-精神醫學部院聘副管理師': 'https://www.hch.gov.tw/pu...  \n",
      "15  {' 簡則_院聘醫事檢驗師': 'https://www.hch.gov.tw/public...  \n",
      "16  {' 簡則-院聘服務員(三)': 'https://www.hch.gov.tw/publi...  \n",
      "17  {' 簡則-院聘服務員(二)': 'https://www.hch.gov.tw/publi...  \n",
      "18  {' 簡則-院聘助理管理師': 'https://www.hch.gov.tw/public...  \n",
      "19  {' 簡則-院聘助理技術師&副技術師(中控)': 'https://www.hch.gov....  \n",
      "20  {' 簡則-院聘事務員(四)': 'https://www.hch.gov.tw/publi...  \n",
      "21  {' 簡則-院聘副管理師(職代)': 'https://www.hch.gov.tw/pub...  \n",
      "22  {' 簡則-護理部院聘服務員(二)': 'https://www.hch.gov.tw/pu...  \n",
      "23  {' 簡則-醫學研究部院聘副管理師': 'https://www.hch.gov.tw/pu...  \n",
      "24  {' 簡則-醫學研究部院聘技術師': 'https://www.hch.gov.tw/pub...  \n",
      "25  {' 簡則-藥劑部院聘事務員（三）': 'https://www.hch.gov.tw/pu...  \n",
      "26  {' 簡則-藥劑部院聘助理管理師': 'https://www.hch.gov.tw/pub...  \n",
      "27  {' 台大醫院新竹臺大分院各類人員甄選登記表及查核授權書': 'https://www.hc...  \n",
      "28  {' 家醫部院聘個管師甄選簡則': 'https://www.hch.gov.tw/publ...  \n",
      "29  {' 簡則-工務室院聘技術師(機電)': 'https://www.hch.gov.tw/p...  \n",
      "30  {' 簡則-院聘事務員(二)': 'https://www.hch.gov.tw/publi...  \n",
      "31  {' 簡則-院聘副技術師': 'https://www.hch.gov.tw/public/...  \n",
      "32  {' 家醫部院聘門診護理師甄選簡則': 'https://www.hch.gov.tw/pu...  \n",
      "33  {' 家庭醫學部院聘個管師甄選簡則': 'https://www.hch.gov.tw/pu...  \n",
      "34  {' 子宮鏡技術員甄選簡則': 'https://www.hch.gov.tw/public...  \n",
      "35  {' 眼科門診護理師簡則': 'https://www.hch.gov.tw/public/...  \n",
      "36  {' 簡則-影像醫學部院聘助理管理師': 'https://www.hch.gov.tw/p...  \n",
      "37  {' 簡則-醫療事務室院聘副管理師': 'https://www.hch.gov.tw/pu...  \n",
      "38  {' 簡則-社會工作室院聘副管理師': 'https://www.hch.gov.tw/pu...  \n",
      "39  {' 簡則_院聘醫事放射師': 'https://www.hch.gov.tw/public...  \n",
      "40  {' 簡則-安全衛生室院聘副技術師(消防)': 'https://www.hch.gov.t...  \n",
      "41  {' 簡則-家庭醫學部院聘副管理師(職代)': 'https://www.hch.gov.t...  \n",
      "42  {' 簡則-院聘助理管理師簡則-家庭醫學部院聘助理管理師': 'https://www.hc...  \n",
      "43  {' 簡則-院聘營養師(新竹)': 'https://www.hch.gov.tw/publ...  \n",
      "44  {' 簡則-院聘藥(新竹醫院)': 'https://www.hch.gov.tw/publ...  \n",
      "45  {' 簡則-院聘藥師(生醫醫院竹北院區)': 'https://www.hch.gov.tw...  \n",
      "46  {' 簡則-營養室院聘服務員(三)': 'https://www.hch.gov.tw/pu...  \n",
      "47  {' 簡則-營養室院聘助理技術師': 'https://www.hch.gov.tw/pub...  \n",
      "48  {' 簡則-醫學研究部院聘副管理師': 'https://www.hch.gov.tw/pu...  \n",
      "49  {' 台大醫院新竹臺大分院各類人員甄選登記表及查核授權書': 'https://www.hc...  \n",
      "50  {' 台大醫院新竹臺大分院各類人員甄選登記表及查核授權書': 'https://www.hc...  \n",
      "51  {' 簡則-院聘營養師 (職務代理人)': 'https://www.hch.gov.tw/...  \n",
      "52  {' 簡則-副資訊工程師(資安人員)新竹': 'https://www.hch.gov.tw...  \n",
      "53  {' 簡則-副資訊工程師(程式設計)竹北': 'https://www.hch.gov.tw...  \n",
      "54  {' 簡則-副資訊工程師(MIS工程師)竹東': 'https://www.hch.gov....  \n",
      "55  {' 簡則-副資訊工程師(系統網路工程師)竹北': 'https://www.hch.gov...  \n",
      "56  {' 簡則-臨時工1名(生醫竹北院區)': 'https://www.hch.gov.tw/...  \n",
      "57  {' 竹東院聘護理師簡則': 'https://www.hch.gov.tw/public/...  \n",
      "58  {' 簡則-院聘助理技術師&副技術師(中控)': 'https://www.hch.gov....  \n"
     ]
    }
   ],
   "source": [
    "work_table=pd.DataFrame(work_table, columns=['召聘職稱','期限' ,\"職缺單位\" , '院區','連結'])\n",
    "\n",
    "print(work_table)"
   ]
  },
  {
   "cell_type": "code",
   "execution_count": null,
   "id": "25bda57b-9a6a-4b75-a80c-97011b61583c",
   "metadata": {},
   "outputs": [],
   "source": []
  }
 ],
 "metadata": {
  "kernelspec": {
   "display_name": "hospwork",
   "language": "python",
   "name": "hospwork"
  },
  "language_info": {
   "codemirror_mode": {
    "name": "ipython",
    "version": 3
   },
   "file_extension": ".py",
   "mimetype": "text/x-python",
   "name": "python",
   "nbconvert_exporter": "python",
   "pygments_lexer": "ipython3",
   "version": "3.8.10"
  }
 },
 "nbformat": 4,
 "nbformat_minor": 5
}
