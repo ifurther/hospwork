{
 "cells": [
  {
   "cell_type": "code",
   "execution_count": 38,
   "id": "65df3184-c750-4179-a92a-4d97c3eb6614",
   "metadata": {},
   "outputs": [],
   "source": [
    "from bs4 import BeautifulSoup\n",
    "import requests\n",
    "import pandas as pd\n",
    "from urllib.parse import urlparse"
   ]
  },
  {
   "cell_type": "code",
   "execution_count": 39,
   "id": "bcbde9f6-e782-48c0-9782-bb57e8bb51f8",
   "metadata": {},
   "outputs": [],
   "source": [
    "url_base='https://www.hch.gov.tw'\n",
    "url_work='/?aid=506&pid=0&page_name=list&pageNo=1'\n",
    "url_full=url_base+url_work_table\n",
    "g=requests.get(url_full)\n",
    "soup=BeautifulSoup(g.content, 'html.parser')"
   ]
  },
  {
   "cell_type": "markdown",
   "id": "1a87b2e5-bdab-409c-9876-b03db0a6b2de",
   "metadata": {},
   "source": [
    "# Get pages link"
   ]
  },
  {
   "cell_type": "code",
   "execution_count": 42,
   "id": "c720fa50-3d46-4f7b-ad92-1ea19a0fda78",
   "metadata": {},
   "outputs": [
    {
     "data": {
      "text/plain": [
       "['https://www.hch.gov.tw/?aid=506&pid=0&page_name=list&pageNo=1',\n",
       " 'https://www.hch.gov.tw/?aid=506&pid=0&page_name=list&pageNo=2',\n",
       " 'https://www.hch.gov.tw/?aid=506&pid=0&page_name=list&pageNo=3']"
      ]
     },
     "execution_count": 42,
     "metadata": {},
     "output_type": "execute_result"
    }
   ],
   "source": [
    "pages_link=[]\n",
    "for link in soup.find('ul',class_=\"pagination pagination-sm justify-content-center\"):\n",
    "    if link.find(\"a\"):\n",
    "        if link.find(\"a\") == -1 or link.text == \"第一頁\" or link.text == \"«\" or link.text == \"»\" or link.text == \"最末頁\" or link.text == \" \":\n",
    "            pass\n",
    "        elif link.find('a').has_attr(\"disabled\"):\n",
    "            #print('skip:',link.text)\n",
    "            pages_link.append(url_full)\n",
    "        else:\n",
    "            no_page_link=url_full.replace(\"pageNo=1\",\"pageNo=\")\n",
    "            pages_link.append(no_page_link+link.find('a').text)\n",
    "pages_link"
   ]
  },
  {
   "cell_type": "markdown",
   "id": "2b4691d8-05e7-44f2-91c0-9b7fe72efcfb",
   "metadata": {},
   "source": [
    "# Get wrok table"
   ]
  },
  {
   "cell_type": "code",
   "execution_count": 80,
   "id": "536fcb06-a8af-4798-9f0c-d11854639f16",
   "metadata": {},
   "outputs": [
    {
     "name": "stdout",
     "output_type": "stream",
     "text": [
      "<td class=\"align-middle\" data-title=\"下載\" width=\"30%\">\n",
      "<a href=\"/public/jobnews/16517443876072.pdf\" rel=\"noopener noreferrer\" style=\"color: blue;\" target=\"_blank\" title=\"新竹臺大分院簡則-院聘醫事檢驗師.pdf (另開新視窗)\"><i alt=\"\" aria-hidden=\"true\" class=\"fas fa-paperclip\"></i> 新竹臺大分院簡則-院聘醫事檢驗師</a>\n",
      "<a href=\"/public/jobnews/1651744387617.pdf\" rel=\"noopener noreferrer\" style=\"color: blue;\" target=\"_blank\" title=\"1.信封封面.pdf (另開新視窗)\"><i alt=\"\" aria-hidden=\"true\" class=\"fas fa-paperclip\"></i> 1.信封封面</a>\n",
      "<a href=\"/public/jobnews/16517443876257.pdf\" rel=\"noopener noreferrer\" style=\"color: blue;\" target=\"_blank\" title=\"2.台大醫院新竹臺大分院各類人員甄選登記表及查核授權書.pdf (另開新視窗)\"><i alt=\"\" aria-hidden=\"true\" class=\"fas fa-paperclip\"></i> 2.台大醫院新竹臺大分院各類人員甄選登記表及查核授權書</a>\n",
      "<a href=\"/public/jobnews/16517443876352.pdf\" rel=\"noopener noreferrer\" style=\"color: blue;\" target=\"_blank\" title=\"3.作業基金現職人員申請院內外補同意書(新竹臺大分院).pdf (另開新視窗)\"><i alt=\"\" aria-hidden=\"true\" class=\"fas fa-paperclip\"></i> 3.作業基金現職人員申請院內外補同意書(新竹臺大分院)</a>\n",
      "</td>\n",
      "<td class=\"align-middle\" data-title=\"下載\" width=\"30%\">\n",
      "<a href=\"/public/jobnews/16517303872988.pdf\" rel=\"noopener noreferrer\" style=\"color: blue;\" target=\"_blank\" title=\"簡則-部份工時人員.pdf (另開新視窗)\"><i alt=\"\" aria-hidden=\"true\" class=\"fas fa-paperclip\"></i> 簡則-部份工時人員</a>\n",
      "<a href=\"/public/jobnews/16517303873153.pdf\" rel=\"noopener noreferrer\" style=\"color: blue;\" target=\"_blank\" title=\"信封封面.pdf (另開新視窗)\"><i alt=\"\" aria-hidden=\"true\" class=\"fas fa-paperclip\"></i> 信封封面</a>\n",
      "<a href=\"/public/jobnews/16517303873263.pdf\" rel=\"noopener noreferrer\" style=\"color: blue;\" target=\"_blank\" title=\"台大醫院新竹臺大分院各類人員甄選登記表及查核授權書.pdf (另開新視窗)\"><i alt=\"\" aria-hidden=\"true\" class=\"fas fa-paperclip\"></i> 台大醫院新竹臺大分院各類人員甄選登記表及查核授權書</a>\n",
      "<a href=\"/public/jobnews/16517303873428.pdf\" rel=\"noopener noreferrer\" style=\"color: blue;\" target=\"_blank\" title=\"作業基金現職人員申請院內外補同意書.pdf (另開新視窗)\"><i alt=\"\" aria-hidden=\"true\" class=\"fas fa-paperclip\"></i> 作業基金現職人員申請院內外補同意書</a>\n",
      "</td>\n",
      "<td class=\"align-middle\" data-title=\"下載\" width=\"30%\">\n",
      "<a href=\"/public/jobnews/16517299573322.pdf\" rel=\"noopener noreferrer\" style=\"color: blue;\" target=\"_blank\" title=\"簡則-院聘助理管理師.pdf (另開新視窗)\"><i alt=\"\" aria-hidden=\"true\" class=\"fas fa-paperclip\"></i> 簡則-院聘助理管理師</a>\n",
      "<a href=\"/public/jobnews/16517299573498.pdf\" rel=\"noopener noreferrer\" style=\"color: blue;\" target=\"_blank\" title=\"信封封面.pdf (另開新視窗)\"><i alt=\"\" aria-hidden=\"true\" class=\"fas fa-paperclip\"></i> 信封封面</a>\n",
      "<a href=\"/public/jobnews/16517299573607.pdf\" rel=\"noopener noreferrer\" style=\"color: blue;\" target=\"_blank\" title=\"台大醫院新竹臺大分院各類人員甄選登記表及查核授權書.pdf (另開新視窗)\"><i alt=\"\" aria-hidden=\"true\" class=\"fas fa-paperclip\"></i> 台大醫院新竹臺大分院各類人員甄選登記表及查核授權書</a>\n",
      "<a href=\"/public/jobnews/16517299573734.pdf\" rel=\"noopener noreferrer\" style=\"color: blue;\" target=\"_blank\" title=\"作業基金現職人員申請院內外補同意書.pdf (另開新視窗)\"><i alt=\"\" aria-hidden=\"true\" class=\"fas fa-paperclip\"></i> 作業基金現職人員申請院內外補同意書</a>\n",
      "</td>\n",
      "<td class=\"align-middle\" data-title=\"下載\" width=\"30%\">\n",
      "<a href=\"/public/jobnews/1651729742871.pdf\" rel=\"noopener noreferrer\" style=\"color: blue;\" target=\"_blank\" title=\"簡則-院聘管理師.pdf (另開新視窗)\"><i alt=\"\" aria-hidden=\"true\" class=\"fas fa-paperclip\"></i> 簡則-院聘管理師</a>\n",
      "<a href=\"/public/jobnews/16517297428899.pdf\" rel=\"noopener noreferrer\" style=\"color: blue;\" target=\"_blank\" title=\"信封封面.pdf (另開新視窗)\"><i alt=\"\" aria-hidden=\"true\" class=\"fas fa-paperclip\"></i> 信封封面</a>\n",
      "<a href=\"/public/jobnews/16517297429062.pdf\" rel=\"noopener noreferrer\" style=\"color: blue;\" target=\"_blank\" title=\"台大醫院新竹臺大分院各類人員甄選登記表及查核授權書.pdf (另開新視窗)\"><i alt=\"\" aria-hidden=\"true\" class=\"fas fa-paperclip\"></i> 台大醫院新竹臺大分院各類人員甄選登記表及查核授權書</a>\n",
      "<a href=\"/public/jobnews/16517297429186.pdf\" rel=\"noopener noreferrer\" style=\"color: blue;\" target=\"_blank\" title=\"作業基金現職人員申請院內外補同意書.pdf (另開新視窗)\"><i alt=\"\" aria-hidden=\"true\" class=\"fas fa-paperclip\"></i> 作業基金現職人員申請院內外補同意書</a>\n",
      "</td>\n",
      "<td class=\"align-middle\" data-title=\"下載\" width=\"30%\">\n",
      "<a href=\"/public/jobnews/16517113557834.pdf\" rel=\"noopener noreferrer\" style=\"color: blue;\" target=\"_blank\" title=\"新竹臺大分院簡則_新竹醫院病理部院聘醫事檢驗師.pdf (另開新視窗)\"><i alt=\"\" aria-hidden=\"true\" class=\"fas fa-paperclip\"></i> 新竹臺大分院簡則_新竹醫院病理部院聘醫事檢驗師</a>\n",
      "<a href=\"/public/jobnews/16517113557924.pdf\" rel=\"noopener noreferrer\" style=\"color: blue;\" target=\"_blank\" title=\"1.信封封面.pdf (另開新視窗)\"><i alt=\"\" aria-hidden=\"true\" class=\"fas fa-paperclip\"></i> 1.信封封面</a>\n",
      "<a href=\"/public/jobnews/1651711355801.pdf\" rel=\"noopener noreferrer\" style=\"color: blue;\" target=\"_blank\" title=\"2.台大醫院新竹臺大分院各類人員甄選登記表及查核授權書(新竹臺大分院).pdf (另開新視窗)\"><i alt=\"\" aria-hidden=\"true\" class=\"fas fa-paperclip\"></i> 2.台大醫院新竹臺大分院各類人員甄選登記表及查核授權書(新竹臺大分院)</a>\n",
      "<a href=\"/public/jobnews/16517113558103.pdf\" rel=\"noopener noreferrer\" style=\"color: blue;\" target=\"_blank\" title=\"3.作業基金現職人員申請院內外補同意書(新竹臺大分院).pdf (另開新視窗)\"><i alt=\"\" aria-hidden=\"true\" class=\"fas fa-paperclip\"></i> 3.作業基金現職人員申請院內外補同意書(新竹臺大分院)</a>\n",
      "</td>\n",
      "<td class=\"align-middle\" data-title=\"下載\" width=\"30%\">\n",
      "<a href=\"/public/jobnews/16517094432196.pdf\" rel=\"noopener noreferrer\" style=\"color: blue;\" target=\"_blank\" title=\"簡則.pdf (另開新視窗)\"><i alt=\"\" aria-hidden=\"true\" class=\"fas fa-paperclip\"></i> 簡則</a>\n",
      "<a href=\"/public/jobnews/16517094432285.pdf\" rel=\"noopener noreferrer\" style=\"color: blue;\" target=\"_blank\" title=\"申請表.pdf (另開新視窗)\"><i alt=\"\" aria-hidden=\"true\" class=\"fas fa-paperclip\"></i> 申請表</a>\n",
      "<a href=\"/public/jobnews/16517094432635.pdf\" rel=\"noopener noreferrer\" style=\"color: blue;\" target=\"_blank\" title=\"查核授權書.pdf (另開新視窗)\"><i alt=\"\" aria-hidden=\"true\" class=\"fas fa-paperclip\"></i> 查核授權書</a>\n",
      "</td>\n",
      "<td class=\"align-middle\" data-title=\"下載\" width=\"30%\">\n",
      "<a href=\"/public/jobnews/16516357694145.pdf\" rel=\"noopener noreferrer\" style=\"color: blue;\" target=\"_blank\" title=\"竹東院聘門診護理師簡則.pdf (另開新視窗)\"><i alt=\"\" aria-hidden=\"true\" class=\"fas fa-paperclip\"></i> 竹東院聘門診護理師簡則</a>\n",
      "<a href=\"/public/jobnews/b4578a32c52f8a979961daa925cb0fb5.pdf\" rel=\"noopener noreferrer\" style=\"color: blue;\" target=\"_blank\" title=\"信封封面.pdf (另開新視窗)\"><i alt=\"\" aria-hidden=\"true\" class=\"fas fa-paperclip\"></i> 信封封面</a>\n",
      "<a href=\"/public/jobnews/73a55a06cd4fef232f976dc6a9ef0685.pdf\" rel=\"noopener noreferrer\" style=\"color: blue;\" target=\"_blank\" title=\"甄選登記表及職前經歷授權書.pdf (另開新視窗)\"><i alt=\"\" aria-hidden=\"true\" class=\"fas fa-paperclip\"></i> 甄選登記表及職前經歷授權書</a>\n",
      "<a href=\"/public/jobnews/2daaa400091a17673065f11a332c997c.pdf\" rel=\"noopener noreferrer\" style=\"color: blue;\" target=\"_blank\" title=\"作業基金現職人員申請院內外補同意書.pdf (另開新視窗)\"><i alt=\"\" aria-hidden=\"true\" class=\"fas fa-paperclip\"></i> 作業基金現職人員申請院內外補同意書</a>\n",
      "</td>\n",
      "<td class=\"align-middle\" data-title=\"下載\" width=\"30%\">\n",
      "<a href=\"/public/jobnews/16516353916689.pdf\" rel=\"noopener noreferrer\" style=\"color: blue;\" target=\"_blank\" title=\"婦幼中心院聘護理師甄選簡則.pdf (另開新視窗)\"><i alt=\"\" aria-hidden=\"true\" class=\"fas fa-paperclip\"></i> 婦幼中心院聘護理師甄選簡則</a>\n",
      "<a href=\"/public/jobnews/16416957945941.pdf\" rel=\"noopener noreferrer\" style=\"color: blue;\" target=\"_blank\" title=\"人員甄選登記表及職前經歷查驗授權書.pdf (另開新視窗)\"><i alt=\"\" aria-hidden=\"true\" class=\"fas fa-paperclip\"></i> 人員甄選登記表及職前經歷查驗授權書</a>\n",
      "<a href=\"/public/jobnews/16416957946044.pdf\" rel=\"noopener noreferrer\" style=\"color: blue;\" target=\"_blank\" title=\"作業基金現職人員申請院內外補同意書.pdf (另開新視窗)\"><i alt=\"\" aria-hidden=\"true\" class=\"fas fa-paperclip\"></i> 作業基金現職人員申請院內外補同意書</a>\n",
      "</td>\n",
      "<td class=\"align-middle\" data-title=\"下載\" width=\"30%\">\n",
      "<a href=\"/public/jobnews/16516353138604.pdf\" rel=\"noopener noreferrer\" style=\"color: blue;\" target=\"_blank\" title=\"安寧共同照護護理師簡則.pdf (另開新視窗)\"><i alt=\"\" aria-hidden=\"true\" class=\"fas fa-paperclip\"></i> 安寧共同照護護理師簡則</a>\n",
      "<a href=\"/public/jobnews/22cff910bf74910bc8e5443ba664d373.pdf\" rel=\"noopener noreferrer\" style=\"color: blue;\" target=\"_blank\" title=\"信封封面.pdf (另開新視窗)\"><i alt=\"\" aria-hidden=\"true\" class=\"fas fa-paperclip\"></i> 信封封面</a>\n",
      "<a href=\"/public/jobnews/703f2193994d2c33c61cd3014f661815.pdf\" rel=\"noopener noreferrer\" style=\"color: blue;\" target=\"_blank\" title=\"甄選登記表及職前經歷查驗授權書.pdf (另開新視窗)\"><i alt=\"\" aria-hidden=\"true\" class=\"fas fa-paperclip\"></i> 甄選登記表及職前經歷查驗授權書</a>\n",
      "<a href=\"/public/jobnews/9a57cc83477d80053ab09f18e45bb163.pdf\" rel=\"noopener noreferrer\" style=\"color: blue;\" target=\"_blank\" title=\"作業基金現職人員申請院內外補同意書.pdf (另開新視窗)\"><i alt=\"\" aria-hidden=\"true\" class=\"fas fa-paperclip\"></i> 作業基金現職人員申請院內外補同意書</a>\n",
      "</td>\n",
      "<td class=\"align-middle\" data-title=\"下載\" width=\"30%\">\n",
      "<a href=\"/public/jobnews/16516351949043.pdf\" rel=\"noopener noreferrer\" style=\"color: blue;\" target=\"_blank\" title=\"工時護理師(病房/開刀房).pdf (另開新視窗)\"><i alt=\"\" aria-hidden=\"true\" class=\"fas fa-paperclip\"></i> 工時護理師(病房/開刀房)</a>\n",
      "<a href=\"/public/jobnews/16497402199279.pdf\" rel=\"noopener noreferrer\" style=\"color: blue;\" target=\"_blank\" title=\"信封封面.pdf (另開新視窗)\"><i alt=\"\" aria-hidden=\"true\" class=\"fas fa-paperclip\"></i> 信封封面</a>\n",
      "<a href=\"/public/jobnews/16497402199383.pdf\" rel=\"noopener noreferrer\" style=\"color: blue;\" target=\"_blank\" title=\"甄選登記表及學經歷查驗.pdf (另開新視窗)\"><i alt=\"\" aria-hidden=\"true\" class=\"fas fa-paperclip\"></i> 甄選登記表及學經歷查驗</a>\n",
      "<a href=\"/public/jobnews/16497402199488.pdf\" rel=\"noopener noreferrer\" style=\"color: blue;\" target=\"_blank\" title=\"人員甄選同意書.pdf (另開新視窗)\"><i alt=\"\" aria-hidden=\"true\" class=\"fas fa-paperclip\"></i> 人員甄選同意書</a>\n",
      "</td>\n",
      "<td class=\"align-middle\" data-title=\"下載\" width=\"30%\">\n",
      "<a href=\"/public/jobnews/16516349263672.pdf\" rel=\"noopener noreferrer\" style=\"color: blue;\" target=\"_blank\" title=\"院聘護理師甄選簡則.pdf (另開新視窗)\"><i alt=\"\" aria-hidden=\"true\" class=\"fas fa-paperclip\"></i> 院聘護理師甄選簡則</a>\n",
      "<a href=\"/public/jobnews/f1dc2254211e0f6c287202523c549ce9.pdf\" rel=\"noopener noreferrer\" style=\"color: blue;\" target=\"_blank\" title=\"信封封面.pdf (另開新視窗)\"><i alt=\"\" aria-hidden=\"true\" class=\"fas fa-paperclip\"></i> 信封封面</a>\n",
      "<a href=\"/public/jobnews/17e3877ed10bd85bae0b58da39c9eef6.pdf\" rel=\"noopener noreferrer\" style=\"color: blue;\" target=\"_blank\" title=\"甄選登記表及職前經歷查驗授權書).pdf (另開新視窗)\"><i alt=\"\" aria-hidden=\"true\" class=\"fas fa-paperclip\"></i> 甄選登記表及職前經歷查驗授權書)</a>\n",
      "<a href=\"/public/jobnews/9022046b1afb326fa7a629dc36d0de19.pdf\" rel=\"noopener noreferrer\" style=\"color: blue;\" target=\"_blank\" title=\"作業基金現職人員申請院內外補同意書.pdf (另開新視窗)\"><i alt=\"\" aria-hidden=\"true\" class=\"fas fa-paperclip\"></i> 作業基金現職人員申請院內外補同意書</a>\n",
      "</td>\n",
      "<td class=\"align-middle\" data-title=\"下載\" width=\"30%\">\n",
      "<a href=\"/public/jobnews/16516348291649.pdf\" rel=\"noopener noreferrer\" style=\"color: blue;\" target=\"_blank\" title=\"護理部院聘門診護理師甄選簡則.pdf (另開新視窗)\"><i alt=\"\" aria-hidden=\"true\" class=\"fas fa-paperclip\"></i> 護理部院聘門診護理師甄選簡則</a>\n",
      "<a href=\"/public/jobnews/3146e266d746ab87ec5db162eb7166e5.pdf\" rel=\"noopener noreferrer\" style=\"color: blue;\" target=\"_blank\" title=\"信封封面.pdf (另開新視窗)\"><i alt=\"\" aria-hidden=\"true\" class=\"fas fa-paperclip\"></i> 信封封面</a>\n",
      "<a href=\"/public/jobnews/bb4be7e5ceb3e0f3a4bf2b8b7eb6e477.pdf\" rel=\"noopener noreferrer\" style=\"color: blue;\" target=\"_blank\" title=\"甄選登記表及職前經歷查驗授權書.pdf (另開新視窗)\"><i alt=\"\" aria-hidden=\"true\" class=\"fas fa-paperclip\"></i> 甄選登記表及職前經歷查驗授權書</a>\n",
      "<a href=\"/public/jobnews/95d55e2924511f89c6cebf5598de3c00.pdf\" rel=\"noopener noreferrer\" style=\"color: blue;\" target=\"_blank\" title=\"作業基金現職人員申請院內外補同意書.pdf (另開新視窗)\"><i alt=\"\" aria-hidden=\"true\" class=\"fas fa-paperclip\"></i> 作業基金現職人員申請院內外補同意書</a>\n",
      "</td>\n",
      "<td class=\"align-middle\" data-title=\"下載\" width=\"30%\">\n",
      "<a href=\"/public/jobnews/16516229884857.pdf\" rel=\"noopener noreferrer\" style=\"color: blue;\" target=\"_blank\" title=\"簡則-院聘事務員(二).pdf (另開新視窗)\"><i alt=\"\" aria-hidden=\"true\" class=\"fas fa-paperclip\"></i> 簡則-院聘事務員(二)</a>\n",
      "<a href=\"/public/jobnews/16516229884963.pdf\" rel=\"noopener noreferrer\" style=\"color: blue;\" target=\"_blank\" title=\"信封封面.pdf (另開新視窗)\"><i alt=\"\" aria-hidden=\"true\" class=\"fas fa-paperclip\"></i> 信封封面</a>\n",
      "<a href=\"/public/jobnews/16516229885054.pdf\" rel=\"noopener noreferrer\" style=\"color: blue;\" target=\"_blank\" title=\"台大醫院新竹臺大分院各類人員甄選登記表及查核授權書.pdf (另開新視窗)\"><i alt=\"\" aria-hidden=\"true\" class=\"fas fa-paperclip\"></i> 台大醫院新竹臺大分院各類人員甄選登記表及查核授權書</a>\n",
      "<a href=\"/public/jobnews/16516229885161.pdf\" rel=\"noopener noreferrer\" style=\"color: blue;\" target=\"_blank\" title=\"作業基金現職人員申請院內外補同意書.pdf (另開新視窗)\"><i alt=\"\" aria-hidden=\"true\" class=\"fas fa-paperclip\"></i> 作業基金現職人員申請院內外補同意書</a>\n",
      "</td>\n",
      "<td class=\"align-middle\" data-title=\"下載\" width=\"30%\">\n",
      "<a href=\"/public/jobnews/16514825730283.pdf\" rel=\"noopener noreferrer\" style=\"color: blue;\" target=\"_blank\" title=\"簡則-院聘事務員(三).pdf (另開新視窗)\"><i alt=\"\" aria-hidden=\"true\" class=\"fas fa-paperclip\"></i> 簡則-院聘事務員(三)</a>\n",
      "<a href=\"/public/jobnews/16514825730429.pdf\" rel=\"noopener noreferrer\" style=\"color: blue;\" target=\"_blank\" title=\"信封封面.pdf (另開新視窗)\"><i alt=\"\" aria-hidden=\"true\" class=\"fas fa-paperclip\"></i> 信封封面</a>\n",
      "<a href=\"/public/jobnews/16514825730567.pdf\" rel=\"noopener noreferrer\" style=\"color: blue;\" target=\"_blank\" title=\"台大醫院新竹臺大分院各類人員甄選登記表及查核授權書.pdf (另開新視窗)\"><i alt=\"\" aria-hidden=\"true\" class=\"fas fa-paperclip\"></i> 台大醫院新竹臺大分院各類人員甄選登記表及查核授權書</a>\n",
      "<a href=\"/public/jobnews/16514825730719.pdf\" rel=\"noopener noreferrer\" style=\"color: blue;\" target=\"_blank\" title=\"作業基金現職人員申請院內外補同意書.pdf (另開新視窗)\"><i alt=\"\" aria-hidden=\"true\" class=\"fas fa-paperclip\"></i> 作業基金現職人員申請院內外補同意書</a>\n",
      "</td>\n",
      "<td class=\"align-middle\" data-title=\"下載\" width=\"30%\">\n",
      "<a href=\"/public/jobnews/16514771164445.pdf\" rel=\"noopener noreferrer\" style=\"color: blue;\" target=\"_blank\" title=\"簡則-精神醫學部院聘副管理師.pdf (另開新視窗)\"><i alt=\"\" aria-hidden=\"true\" class=\"fas fa-paperclip\"></i> 簡則-精神醫學部院聘副管理師</a>\n",
      "<a href=\"/public/jobnews/16514771164546.pdf\" rel=\"noopener noreferrer\" style=\"color: blue;\" target=\"_blank\" title=\"信封封面.pdf (另開新視窗)\"><i alt=\"\" aria-hidden=\"true\" class=\"fas fa-paperclip\"></i> 信封封面</a>\n",
      "<a href=\"/public/jobnews/16514771164629.pdf\" rel=\"noopener noreferrer\" style=\"color: blue;\" target=\"_blank\" title=\"台大醫院新竹臺大分院各類人員甄選登記表及查核授權書.pdf (另開新視窗)\"><i alt=\"\" aria-hidden=\"true\" class=\"fas fa-paperclip\"></i> 台大醫院新竹臺大分院各類人員甄選登記表及查核授權書</a>\n",
      "<a href=\"/public/jobnews/16514771164723.pdf\" rel=\"noopener noreferrer\" style=\"color: blue;\" target=\"_blank\" title=\"作業基金現職人員申請院內外補同意書.pdf (另開新視窗)\"><i alt=\"\" aria-hidden=\"true\" class=\"fas fa-paperclip\"></i> 作業基金現職人員申請院內外補同意書</a>\n",
      "</td>\n",
      "<td class=\"align-middle\" data-title=\"下載\" width=\"30%\">\n",
      "<a href=\"/public/jobnews/16516563347958.pdf\" rel=\"noopener noreferrer\" style=\"color: blue;\" target=\"_blank\" title=\"簡則_院聘醫事檢驗師.pdf (另開新視窗)\"><i alt=\"\" aria-hidden=\"true\" class=\"fas fa-paperclip\"></i> 簡則_院聘醫事檢驗師</a>\n",
      "<a href=\"/public/jobnews/16513815824596.pdf\" rel=\"noopener noreferrer\" style=\"color: blue;\" target=\"_blank\" title=\"1.信封封面.pdf (另開新視窗)\"><i alt=\"\" aria-hidden=\"true\" class=\"fas fa-paperclip\"></i> 1.信封封面</a>\n",
      "<a href=\"/public/jobnews/16513815824703.pdf\" rel=\"noopener noreferrer\" style=\"color: blue;\" target=\"_blank\" title=\"2.台大醫院新竹臺大分院各類人員甄選登記表及查核授權書.pdf (另開新視窗)\"><i alt=\"\" aria-hidden=\"true\" class=\"fas fa-paperclip\"></i> 2.台大醫院新竹臺大分院各類人員甄選登記表及查核授權書</a>\n",
      "<a href=\"/public/jobnews/16513815824807.pdf\" rel=\"noopener noreferrer\" style=\"color: blue;\" target=\"_blank\" title=\"3.作業基金現職人員申請院內外補同意書(新竹臺大分院).pdf (另開新視窗)\"><i alt=\"\" aria-hidden=\"true\" class=\"fas fa-paperclip\"></i> 3.作業基金現職人員申請院內外補同意書(新竹臺大分院)</a>\n",
      "</td>\n",
      "<td class=\"align-middle\" data-title=\"下載\" width=\"30%\">\n",
      "<a href=\"/public/jobnews/16517318134819.pdf\" rel=\"noopener noreferrer\" style=\"color: blue;\" target=\"_blank\" title=\"簡則-院聘服務員(三).pdf (另開新視窗)\"><i alt=\"\" aria-hidden=\"true\" class=\"fas fa-paperclip\"></i> 簡則-院聘服務員(三)</a>\n",
      "<a href=\"/public/jobnews/16512243164737.pdf\" rel=\"noopener noreferrer\" style=\"color: blue;\" target=\"_blank\" title=\"信封封面.pdf (另開新視窗)\"><i alt=\"\" aria-hidden=\"true\" class=\"fas fa-paperclip\"></i> 信封封面</a>\n",
      "<a href=\"/public/jobnews/1651224316484.pdf\" rel=\"noopener noreferrer\" style=\"color: blue;\" target=\"_blank\" title=\"台大醫院新竹臺大分院各類人員甄選登記表及查核授權書.pdf (另開新視窗)\"><i alt=\"\" aria-hidden=\"true\" class=\"fas fa-paperclip\"></i> 台大醫院新竹臺大分院各類人員甄選登記表及查核授權書</a>\n",
      "<a href=\"/public/jobnews/16512243164943.pdf\" rel=\"noopener noreferrer\" style=\"color: blue;\" target=\"_blank\" title=\"作業基金現職人員申請院內外補同意書.pdf (另開新視窗)\"><i alt=\"\" aria-hidden=\"true\" class=\"fas fa-paperclip\"></i> 作業基金現職人員申請院內外補同意書</a>\n",
      "</td>\n",
      "<td class=\"align-middle\" data-title=\"下載\" width=\"30%\">\n",
      "<a href=\"/public/jobnews/16512241216975.pdf\" rel=\"noopener noreferrer\" style=\"color: blue;\" target=\"_blank\" title=\"簡則-院聘服務員(二).pdf (另開新視窗)\"><i alt=\"\" aria-hidden=\"true\" class=\"fas fa-paperclip\"></i> 簡則-院聘服務員(二)</a>\n",
      "<a href=\"/public/jobnews/16512241217075.pdf\" rel=\"noopener noreferrer\" style=\"color: blue;\" target=\"_blank\" title=\"信封封面.pdf (另開新視窗)\"><i alt=\"\" aria-hidden=\"true\" class=\"fas fa-paperclip\"></i> 信封封面</a>\n",
      "<a href=\"/public/jobnews/16512241217157.pdf\" rel=\"noopener noreferrer\" style=\"color: blue;\" target=\"_blank\" title=\"台大醫院新竹臺大分院各類人員甄選登記表及查核授權書.pdf (另開新視窗)\"><i alt=\"\" aria-hidden=\"true\" class=\"fas fa-paperclip\"></i> 台大醫院新竹臺大分院各類人員甄選登記表及查核授權書</a>\n",
      "<a href=\"/public/jobnews/16512241217255.pdf\" rel=\"noopener noreferrer\" style=\"color: blue;\" target=\"_blank\" title=\"作業基金現職人員申請院內外補同意書.pdf (另開新視窗)\"><i alt=\"\" aria-hidden=\"true\" class=\"fas fa-paperclip\"></i> 作業基金現職人員申請院內外補同意書</a>\n",
      "</td>\n",
      "<td class=\"align-middle\" data-title=\"下載\" width=\"30%\">\n",
      "<a href=\"/public/jobnews/16512239289207.pdf\" rel=\"noopener noreferrer\" style=\"color: blue;\" target=\"_blank\" title=\"簡則-院聘助理管理師.pdf (另開新視窗)\"><i alt=\"\" aria-hidden=\"true\" class=\"fas fa-paperclip\"></i> 簡則-院聘助理管理師</a>\n",
      "<a href=\"/public/jobnews/16512239289305.pdf\" rel=\"noopener noreferrer\" style=\"color: blue;\" target=\"_blank\" title=\"信封封面.pdf (另開新視窗)\"><i alt=\"\" aria-hidden=\"true\" class=\"fas fa-paperclip\"></i> 信封封面</a>\n",
      "<a href=\"/public/jobnews/16512239289389.pdf\" rel=\"noopener noreferrer\" style=\"color: blue;\" target=\"_blank\" title=\"台大醫院新竹臺大分院各類人員甄選登記表及查核授權書.pdf (另開新視窗)\"><i alt=\"\" aria-hidden=\"true\" class=\"fas fa-paperclip\"></i> 台大醫院新竹臺大分院各類人員甄選登記表及查核授權書</a>\n",
      "<a href=\"/public/jobnews/16512239289477.pdf\" rel=\"noopener noreferrer\" style=\"color: blue;\" target=\"_blank\" title=\"作業基金現職人員申請院內外補同意書.pdf (另開新視窗)\"><i alt=\"\" aria-hidden=\"true\" class=\"fas fa-paperclip\"></i> 作業基金現職人員申請院內外補同意書</a>\n",
      "</td>\n",
      "<td class=\"align-middle\" data-title=\"下載\" width=\"30%\">\n",
      "<a href=\"/public/jobnews/16512231802863.pdf\" rel=\"noopener noreferrer\" style=\"color: blue;\" target=\"_blank\" title=\"簡則-院聘助理技術師&amp;副技術師(中控).pdf (另開新視窗)\"><i alt=\"\" aria-hidden=\"true\" class=\"fas fa-paperclip\"></i> 簡則-院聘助理技術師&amp;副技術師(中控)</a>\n",
      "<a href=\"/public/jobnews/16512231802997.pdf\" rel=\"noopener noreferrer\" style=\"color: blue;\" target=\"_blank\" title=\"信封封面.pdf (另開新視窗)\"><i alt=\"\" aria-hidden=\"true\" class=\"fas fa-paperclip\"></i> 信封封面</a>\n",
      "<a href=\"/public/jobnews/16512231803081.pdf\" rel=\"noopener noreferrer\" style=\"color: blue;\" target=\"_blank\" title=\"台大醫院新竹臺大分院各類人員甄選登記表及查核授權書.pdf (另開新視窗)\"><i alt=\"\" aria-hidden=\"true\" class=\"fas fa-paperclip\"></i> 台大醫院新竹臺大分院各類人員甄選登記表及查核授權書</a>\n",
      "<a href=\"/public/jobnews/16512231803185.pdf\" rel=\"noopener noreferrer\" style=\"color: blue;\" target=\"_blank\" title=\"作業基金現職人員申請院內外補同意書.pdf (另開新視窗)\"><i alt=\"\" aria-hidden=\"true\" class=\"fas fa-paperclip\"></i> 作業基金現職人員申請院內外補同意書</a>\n",
      "</td>\n"
     ]
    }
   ],
   "source": [
    "for work in soup.find_all('table',class_=\"table table-striped table-hover news_table\")[0].find(\"tbody\").find_all(\"tr\"):\n",
    "    all_td = work.find_all(\"td\")\n",
    "    #print(all_td)\n",
    "    title = all_td[3].text\n",
    "    place = all_td[0].text\n",
    "    deadline = all_td[4].text\n",
    "    originization = all_td[2].text\n",
    "    #print(\"召聘職稱\",title,'院區',place,\"截止日期\",deadline,\"職缺單位\",originization)\n",
    "    print(all_td[5])"
   ]
  },
  {
   "cell_type": "code",
   "execution_count": null,
   "id": "119e4925-e497-4507-ae82-1c636d2e539a",
   "metadata": {},
   "outputs": [],
   "source": []
  }
 ],
 "metadata": {
  "kernelspec": {
   "display_name": "hospwork",
   "language": "python",
   "name": "hospwork"
  },
  "language_info": {
   "codemirror_mode": {
    "name": "ipython",
    "version": 3
   },
   "file_extension": ".py",
   "mimetype": "text/x-python",
   "name": "python",
   "nbconvert_exporter": "python",
   "pygments_lexer": "ipython3",
   "version": "3.8.10"
  }
 },
 "nbformat": 4,
 "nbformat_minor": 5
}
