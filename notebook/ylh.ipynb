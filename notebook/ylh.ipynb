{
 "cells": [
  {
   "cell_type": "code",
   "execution_count": 1,
   "metadata": {},
   "outputs": [],
   "source": [
    "from bs4 import BeautifulSoup\n",
    "import re\n",
    "import requests\n",
    "import pandas as pd\n",
    "from urllib.parse import urlparse"
   ]
  },
  {
   "cell_type": "code",
   "execution_count": 2,
   "metadata": {},
   "outputs": [],
   "source": [
    "url_base='https://www.ylh.gov.tw'\n",
    "url_work='/?aid=104'\n",
    "url_full=url_base+url_work\n",
    "g=requests.get(url_full)\n",
    "soup=BeautifulSoup(g.content, 'html.parser')"
   ]
  },
  {
   "cell_type": "markdown",
   "metadata": {},
   "source": [
    "# Get Pages link"
   ]
  },
  {
   "cell_type": "code",
   "execution_count": 3,
   "metadata": {},
   "outputs": [
    {
     "name": "stdout",
     "output_type": "stream",
     "text": [
      "skip: 1\n",
      "skip: ...\n"
     ]
    },
    {
     "data": {
      "text/plain": [
       "['https://www.ylh.gov.tw/?aid=104&pid=0&page_name=list&pageNo=2',\n",
       " 'https://www.ylh.gov.tw/?aid=104&pid=0&page_name=list&pageNo=3',\n",
       " 'https://www.ylh.gov.tw/?aid=104&pid=0&page_name=list&pageNo=4']"
      ]
     },
     "execution_count": 3,
     "metadata": {},
     "output_type": "execute_result"
    }
   ],
   "source": [
    "pages_link=[]\n",
    "for link in soup.find_all('li',class_=\"page-item\"):\n",
    "    if link.find(\"a\"):\n",
    "        if link.find(\"a\") == -1 or link.text == \"第一頁\" or link.text == \"«\" or link.text == \"»\":\n",
    "            pass\n",
    "        elif link.text == \"最末頁\":\n",
    "            pages_link.append(url_base+link.find('a').get('href'))\n",
    "        elif link.find('a').has_attr(\"disabled\"):\n",
    "            print('skip:',link.text)\n",
    "        else:\n",
    "            pages_link.append(url_base+link.find('a').get('href'))\n",
    "pages_link"
   ]
  },
  {
   "cell_type": "markdown",
   "metadata": {},
   "source": [
    "# Get work table"
   ]
  },
  {
   "cell_type": "code",
   "execution_count": 4,
   "metadata": {},
   "outputs": [
    {
     "data": {
      "text/plain": [
       "<tbody>\n",
       "<tr>\n",
       "<td class=\"align-middle\" data-title=\"標題\" width=\"50%\">公告本院護理部公開甄選院聘護理師(手術室)儲備20名(隨到隨招，請於上班時間先行電話預約)</td>\n",
       "<td class=\"text-center align-middle\" data-title=\"公告日期\">2022-01-18</td>\n",
       "<td class=\"text-center align-middle\" data-title=\"截止日期\">2022-07-31</td>\n",
       "<td class=\"text-center align-middle\" data-title=\"下載\">\n",
       "<a href=\"/public/jobnews/4eb1cf3e5ea8a5858cb8f631988ab5a8.pdf\" rel=\"noopener noreferrer\" style=\"color: blue;\" target=\"_blank\" title=\"[PDF]下載  (另開新視窗) \">查看</a>\n",
       "</td>\n",
       "</tr>\n",
       "<tr>\n",
       "<td class=\"align-middle\" data-title=\"標題\" width=\"50%\">公告本院護理部公開甄選院聘護理師/實習護士儲備30名(隨到隨招，請於上班時間先行電話預約)</td>\n",
       "<td class=\"text-center align-middle\" data-title=\"公告日期\">2021-12-23</td>\n",
       "<td class=\"text-center align-middle\" data-title=\"截止日期\">2022-07-31</td>\n",
       "<td class=\"text-center align-middle\" data-title=\"下載\">\n",
       "<a href=\"/public/jobnews/ba6bb249a04a65caa2026732b239f9bb.pdf\" rel=\"noopener noreferrer\" style=\"color: blue;\" target=\"_blank\" title=\"[PDF]下載  (另開新視窗) \">查看</a>\n",
       "</td>\n",
       "</tr>\n",
       "<tr>\n",
       "<td class=\"align-middle\" data-title=\"標題\" width=\"50%\">公告本院護理部公開甄選師(三)級護理師6 名【複試名單】</td>\n",
       "<td class=\"text-center align-middle\" data-title=\"公告日期\">2022-06-02</td>\n",
       "<td class=\"text-center align-middle\" data-title=\"截止日期\">2022-06-08</td>\n",
       "<td class=\"text-center align-middle\" data-title=\"下載\">\n",
       "<a href=\"/public/jobnews/d2b0f6c6aed4ede8a182ac3c750c0cc1.pdf\" rel=\"noopener noreferrer\" style=\"color: blue;\" target=\"_blank\" title=\"公告本院護理部公開甄選師(三)級護理師6 名【複試名單】[PDF]下載  (另開新視窗) \">查看</a>\n",
       "</td>\n",
       "</tr>\n",
       "<tr>\n",
       "<td class=\"align-middle\" data-title=\"標題\" width=\"50%\">公告本院護理部(病房)院聘助理管理師儲備「錄取名單」</td>\n",
       "<td class=\"text-center align-middle\" data-title=\"公告日期\">2022-06-02</td>\n",
       "<td class=\"text-center align-middle\" data-title=\"截止日期\">2022-06-08</td>\n",
       "<td class=\"text-center align-middle\" data-title=\"下載\">\n",
       "<a href=\"/public/jobnews/64d1ea562393cedea5241ede53ab98a1.pdf\" rel=\"noopener noreferrer\" style=\"color: blue;\" target=\"_blank\" title=\"公告本院護理部(病房)院聘助理管理師儲備「錄取名單」[PDF]下載  (另開新視窗) \">查看</a>\n",
       "</td>\n",
       "</tr>\n",
       "<tr>\n",
       "<td class=\"align-middle\" data-title=\"標題\" width=\"50%\">公告本院主計室公開甄選院聘助理管理師B(具身心障礙身分)</td>\n",
       "<td class=\"text-center align-middle\" data-title=\"公告日期\">2022-06-01</td>\n",
       "<td class=\"text-center align-middle\" data-title=\"截止日期\">2022-06-06</td>\n",
       "<td class=\"text-center align-middle\" data-title=\"下載\">\n",
       "<a href=\"/public/jobnews/025661231f34c032e7f2737c195f3ec9.pdf\" rel=\"noopener noreferrer\" style=\"color: blue;\" target=\"_blank\" title=\"公告本院主計室公開甄選院聘助理管理師B(具身心障礙身分)[PDF]下載  (另開新視窗) \">查看</a>\n",
       "</td>\n",
       "</tr>\n",
       "<tr>\n",
       "<td class=\"align-middle\" data-title=\"標題\" width=\"50%\">公告本院精神醫學部公開甄選院聘監護員1名</td>\n",
       "<td class=\"text-center align-middle\" data-title=\"公告日期\">2022-06-01</td>\n",
       "<td class=\"text-center align-middle\" data-title=\"截止日期\">2022-06-17</td>\n",
       "<td class=\"text-center align-middle\" data-title=\"下載\">\n",
       "<a href=\"/public/jobnews/459f6c23839c444ae68082d8f656c92c.pdf\" rel=\"noopener noreferrer\" style=\"color: blue;\" target=\"_blank\" title=\"公告本院精神醫學部公開甄選院聘監護員1名[PDF]下載  (另開新視窗) \">查看</a>\n",
       "</td>\n",
       "</tr>\n",
       "<tr>\n",
       "<td class=\"align-middle\" data-title=\"標題\" width=\"50%\">公告本院主計室公開甄選院聘助理管理師A(具身心障礙或原住民身分)</td>\n",
       "<td class=\"text-center align-middle\" data-title=\"公告日期\">2022-06-01</td>\n",
       "<td class=\"text-center align-middle\" data-title=\"截止日期\">2022-06-06</td>\n",
       "<td class=\"text-center align-middle\" data-title=\"下載\">\n",
       "<a href=\"/public/jobnews/d9e12821624951af06f41221b2c84106.pdf\" rel=\"noopener noreferrer\" style=\"color: blue;\" target=\"_blank\" title=\"公告本院主計室公開甄選院聘助理管理師A(具身心障礙或原住民身分)[PDF]下載  (另開新視窗) \">查看</a>\n",
       "</td>\n",
       "</tr>\n",
       "<tr>\n",
       "<td class=\"align-middle\" data-title=\"標題\" width=\"50%\">公告本院護理部(供應室)111年5月12日公開甄選院聘佐理員1名「錄取名單」</td>\n",
       "<td class=\"text-center align-middle\" data-title=\"公告日期\">2022-05-31</td>\n",
       "<td class=\"text-center align-middle\" data-title=\"截止日期\">2022-06-20</td>\n",
       "<td class=\"text-center align-middle\" data-title=\"下載\">\n",
       "<a href=\"/public/jobnews/dd93eae1a523d21b5c8ffba9c4742307.pdf\" rel=\"noopener noreferrer\" style=\"color: blue;\" target=\"_blank\" title=\"公告本院護理部(供應室)111年5月12日公開甄選院聘佐理員1名「錄取名單」[PDF]下載  (另開新視窗) \">查看</a>\n",
       "</td>\n",
       "</tr>\n",
       "<tr>\n",
       "<td class=\"align-middle\" data-title=\"標題\" width=\"50%\">公告本院護理部(急診)111年5月13日公開甄選院聘副管理師1名「錄取名單」</td>\n",
       "<td class=\"text-center align-middle\" data-title=\"公告日期\">2022-05-31</td>\n",
       "<td class=\"text-center align-middle\" data-title=\"截止日期\">2022-06-20</td>\n",
       "<td class=\"text-center align-middle\" data-title=\"下載\">\n",
       "<a href=\"/public/jobnews/28ff0197c7a4997b9f676fb5b2bb41cc.pdf\" rel=\"noopener noreferrer\" style=\"color: blue;\" target=\"_blank\" title=\"公告本院護理部(急診)111年5月13日公開甄選院聘副管理師1名「錄取名單」[PDF]下載  (另開新視窗) \">查看</a>\n",
       "</td>\n",
       "</tr>\n",
       "<tr>\n",
       "<td class=\"align-middle\" data-title=\"標題\" width=\"50%\">公告本院主計室111年5月12日公開甄選院聘助理管理師(身心障礙或原住民身分)1名「甄試結果」</td>\n",
       "<td class=\"text-center align-middle\" data-title=\"公告日期\">2022-05-31</td>\n",
       "<td class=\"text-center align-middle\" data-title=\"截止日期\">2022-06-06</td>\n",
       "<td class=\"text-center align-middle\" data-title=\"下載\">\n",
       "<a href=\"/public/jobnews/\" rel=\"noopener noreferrer\" style=\"color: blue;\" target=\"_blank\" title=\"公告本院主計室111年5月12日公開甄選院聘助理管理師(身心障礙或原住民身分)1名「甄試結果」[]下載  (另開新視窗) \">查看</a>\n",
       "</td>\n",
       "</tr>\n",
       "<tr>\n",
       "<td class=\"align-middle\" data-title=\"標題\" width=\"50%\">公告本院111/5/18 甄審會公開甄選複試結果(公職醫事人員類)</td>\n",
       "<td class=\"text-center align-middle\" data-title=\"公告日期\">2022-05-30</td>\n",
       "<td class=\"text-center align-middle\" data-title=\"截止日期\">2022-08-30</td>\n",
       "<td class=\"text-center align-middle\" data-title=\"下載\">\n",
       "<a href=\"/public/jobnews/f3bb53071b9d71fdf441b9ce4b46586d.pdf\" rel=\"noopener noreferrer\" style=\"color: blue;\" target=\"_blank\" title=\"公告本院111/5/18 甄審會公開甄選複試結果(公職醫事人員類)[PDF]下載  (另開新視窗) \">查看</a>\n",
       "</td>\n",
       "</tr>\n",
       "<tr>\n",
       "<td class=\"align-middle\" data-title=\"標題\" width=\"50%\">111年暑假學生公共服務開放報名</td>\n",
       "<td class=\"text-center align-middle\" data-title=\"公告日期\">2022-05-30</td>\n",
       "<td class=\"text-center align-middle\" data-title=\"截止日期\">2022-06-07</td>\n",
       "<td class=\"text-center align-middle\" data-title=\"下載\">\n",
       "<a href=\"/public/jobnews/ec6617d6c4670a9a1b0f333f4fd08a30.odt\" rel=\"noopener noreferrer\" style=\"color: blue;\" target=\"_blank\" title=\"111年暑假學生公共服務開放報名[ODT]下載  (另開新視窗) \">查看</a>\n",
       "</td>\n",
       "</tr>\n",
       "<tr>\n",
       "<td class=\"align-middle\" data-title=\"標題\" width=\"50%\">公告本院護理部111年5月19日公開甄選院聘護理師/實習護士儲備30名錄取名單</td>\n",
       "<td class=\"text-center align-middle\" data-title=\"公告日期\">2022-05-26</td>\n",
       "<td class=\"text-center align-middle\" data-title=\"截止日期\">2022-11-25</td>\n",
       "<td class=\"text-center align-middle\" data-title=\"下載\">\n",
       "<a href=\"/public/jobnews/d40eb4d34b05150de6cc6172e5d2b097.pdf\" rel=\"noopener noreferrer\" style=\"color: blue;\" target=\"_blank\" title=\"[PDF]下載  (另開新視窗) \">查看</a>\n",
       "</td>\n",
       "</tr>\n",
       "<tr>\n",
       "<td class=\"align-middle\" data-title=\"標題\" width=\"50%\">公告本院護理部111年5月13日公開甄選院聘護理師/實習護士儲備30名錄取名單</td>\n",
       "<td class=\"text-center align-middle\" data-title=\"公告日期\">2022-05-26</td>\n",
       "<td class=\"text-center align-middle\" data-title=\"截止日期\">2022-11-25</td>\n",
       "<td class=\"text-center align-middle\" data-title=\"下載\">\n",
       "<a href=\"/public/jobnews/e23bd62473f4199b2db408635fb4cbe1.pdf\" rel=\"noopener noreferrer\" style=\"color: blue;\" target=\"_blank\" title=\"[PDF]下載  (另開新視窗) \">查看</a>\n",
       "</td>\n",
       "</tr>\n",
       "<tr>\n",
       "<td class=\"align-middle\" data-title=\"標題\" width=\"50%\">公告本院病理部公開甄選院聘醫事檢驗師1名</td>\n",
       "<td class=\"text-center align-middle\" data-title=\"公告日期\">2022-05-25</td>\n",
       "<td class=\"text-center align-middle\" data-title=\"截止日期\">2022-06-17</td>\n",
       "<td class=\"text-center align-middle\" data-title=\"下載\">\n",
       "<a href=\"/public/jobnews/89bb7c840af51f411aa423999c69b49e.pdf\" rel=\"noopener noreferrer\" style=\"color: blue;\" target=\"_blank\" title=\"病理醫檢師[PDF]下載  (另開新視窗) \">查看</a>\n",
       "</td>\n",
       "</tr>\n",
       "<tr>\n",
       "<td class=\"align-middle\" data-title=\"標題\" width=\"50%\">公告本院婦產部公開甄選院聘助理管理師1名</td>\n",
       "<td class=\"text-center align-middle\" data-title=\"公告日期\">2022-05-24</td>\n",
       "<td class=\"text-center align-middle\" data-title=\"截止日期\">2022-06-07</td>\n",
       "<td class=\"text-center align-middle\" data-title=\"下載\">\n",
       "<a href=\"/public/jobnews/97fb4d259778372a7589a6334b502686.pdf\" rel=\"noopener noreferrer\" style=\"color: blue;\" target=\"_blank\" title=\"公告本院婦產部公開甄選院聘助理管理師1名[PDF]下載  (另開新視窗) \">查看</a>\n",
       "</td>\n",
       "</tr>\n",
       "<tr>\n",
       "<td class=\"align-middle\" data-title=\"標題\" width=\"50%\">公告本院醫療資訊室(資訊組)公開甄選院聘資訊工程師(資安)1名</td>\n",
       "<td class=\"text-center align-middle\" data-title=\"公告日期\">2022-05-20</td>\n",
       "<td class=\"text-center align-middle\" data-title=\"截止日期\">2022-06-10</td>\n",
       "<td class=\"text-center align-middle\" data-title=\"下載\">\n",
       "<a href=\"/public/jobnews/9b6f5ff2b560f7e9f45116bf4ff922d9.pdf\" rel=\"noopener noreferrer\" style=\"color: blue;\" target=\"_blank\" title=\"公告本院醫療資訊室(資訊組)公開甄選院聘資訊工程師(資安)1名[PDF]下載  (另開新視窗) \">查看</a>\n",
       "</td>\n",
       "</tr>\n",
       "<tr>\n",
       "<td class=\"align-middle\" data-title=\"標題\" width=\"50%\">公告本院護理部111年5月16日公開甄選院聘護理師/實習護士儲備30名錄取名單</td>\n",
       "<td class=\"text-center align-middle\" data-title=\"公告日期\">2022-05-19</td>\n",
       "<td class=\"text-center align-middle\" data-title=\"截止日期\">2022-11-18</td>\n",
       "<td class=\"text-center align-middle\" data-title=\"下載\">\n",
       "<a href=\"/public/jobnews/c737a6203cb41aafbff6119435038400.pdf\" rel=\"noopener noreferrer\" style=\"color: blue;\" target=\"_blank\" title=\"[PDF]下載  (另開新視窗) \">查看</a>\n",
       "</td>\n",
       "</tr>\n",
       "<tr>\n",
       "<td class=\"align-middle\" data-title=\"標題\" width=\"50%\">公告本院護理部111年5月11日公開甄選院聘護理師/實習護士儲備30名錄取名單</td>\n",
       "<td class=\"text-center align-middle\" data-title=\"公告日期\">2022-05-19</td>\n",
       "<td class=\"text-center align-middle\" data-title=\"截止日期\">2022-11-18</td>\n",
       "<td class=\"text-center align-middle\" data-title=\"下載\">\n",
       "<a href=\"/public/jobnews/579f401b9c3aba20a307cd039a3c8358.pdf\" rel=\"noopener noreferrer\" style=\"color: blue;\" target=\"_blank\" title=\"[PDF]下載  (另開新視窗) \">查看</a>\n",
       "</td>\n",
       "</tr>\n",
       "<tr>\n",
       "<td class=\"align-middle\" data-title=\"標題\" width=\"50%\">公告本院護理部111年5月10日公開甄選院聘護理師/實習護士儲備30名錄取名單</td>\n",
       "<td class=\"text-center align-middle\" data-title=\"公告日期\">2022-05-19</td>\n",
       "<td class=\"text-center align-middle\" data-title=\"截止日期\">2022-11-18</td>\n",
       "<td class=\"text-center align-middle\" data-title=\"下載\">\n",
       "<a href=\"/public/jobnews/2ddc0b16474a9ff93d4f2881750f2c46.pdf\" rel=\"noopener noreferrer\" style=\"color: blue;\" target=\"_blank\" title=\"[PDF]下載  (另開新視窗) \">查看</a>\n",
       "</td>\n",
       "</tr>\n",
       "</tbody>"
      ]
     },
     "execution_count": 4,
     "metadata": {},
     "output_type": "execute_result"
    }
   ],
   "source": [
    "soup.find_all('table')[0].find('tbody')"
   ]
  },
  {
   "cell_type": "code",
   "execution_count": 5,
   "metadata": {},
   "outputs": [],
   "source": [
    "def get_each_page_wrok_table(soup,work_table):\n",
    "    for work in soup.find_all('table',class_=\"table table-striped table-hover news_table\")[0].find(\"tbody\").find_all(\"tr\"):\n",
    "        all_td = work.find_all(\"td\")\n",
    "        title = all_td[0].text\n",
    "        place = '察看連結的簡章'\n",
    "        deadline = all_td[2].text\n",
    "        \n",
    "        link=url_base+all_td[3].find('a').get('href')\n",
    "        if \"錄取名單\" in title:\n",
    "            print('skip: ',title)\n",
    "        elif \"甄試名單\" in title:\n",
    "            print('skip: ',title)\n",
    "        elif \"複試名單\" in title:\n",
    "            print('skip: ',title)\n",
    "        elif \"志願服務工作\" in title:\n",
    "            print('skip: ',title)\n",
    "        elif \"甄審會\" in title:\n",
    "            print('skip: ',title)\n",
    "        elif \"時薪人員\" in title:\n",
    "            print('skip: ',title)\n",
    "        else:\n",
    "            originization = re.search(\"\\B院((.*)[室,部,中心])\",title).group(1)\n",
    "            new_title = re.search(\"\\B聘((.*)[員,師,廚])\",title).group(1)\n",
    "            print(\"召聘職稱\",new_title,'院區',place,\"截止日期\",deadline,\"職缺單位\",originization,\"links\",link)\n",
    "            work_table.append([new_title, deadline, originization, place, link ])\n",
    "    return work_table"
   ]
  },
  {
   "cell_type": "code",
   "execution_count": 6,
   "metadata": {},
   "outputs": [],
   "source": [
    "def get_base_web_data(url_base,url_work_table=None):\n",
    "    if url_work_table != None:\n",
    "        url = url_base + url_work_table\n",
    "    else:\n",
    "        url = url_base\n",
    "    g=requests.get(url)\n",
    "    soup=BeautifulSoup(g.content, 'html.parser')\n",
    "    return soup"
   ]
  },
  {
   "cell_type": "code",
   "execution_count": 8,
   "metadata": {},
   "outputs": [
    {
     "name": "stdout",
     "output_type": "stream",
     "text": [
      "skip:  公告本院護理部111年5月6日公開甄選院聘護理師/實習護士儲備30名錄取名單\n",
      "skip:  公告本院護理部111年5月4日公開甄選院聘護理師/實習護士儲備30名錄取名單\n",
      "召聘職稱 助廚 院區 察看連結的簡章 截止日期 2022-12-31 職缺單位 營養室 links https://www.ylh.gov.tw/public/jobnews/300f01ae03a2571529b5b1f21e968326.pdf\n",
      "召聘職稱 照顧服務員 院區 察看連結的簡章 截止日期 2022-12-31 職缺單位 護理部 links https://www.ylh.gov.tw/public/jobnews/2a78c957732fe3c5a6dc5791a081da3c.pdf\n",
      "召聘職稱 助理管理師 院區 察看連結的簡章 截止日期 2022-06-23 職缺單位 安全衛生室111年5月4日公開甄選院聘助理管理師(身心 links https://www.ylh.gov.tw/public/jobnews/075d3c7f9f84898c8f932d7340d6ca11.pdf\n",
      "召聘職稱 管理師 院區 察看連結的簡章 截止日期 2022-06-10 職缺單位 企劃管理室 links https://www.ylh.gov.tw/public/jobnews/753fdd4238b4b67158f1d5c504a2db4e.pdf\n",
      "skip:  公告本院111/5/4甄審會公開甄選複試結果(公職醫事人員類)\n",
      "skip:  公告本院護理部(病房)111年4月26日公開甄選院聘助理管理師1名「錄取名單」\n",
      "skip:  公告本院檢驗醫學部111年5月5日公開甄選院聘助理管理師職務代理人1名「錄取名單」\n",
      "skip:  公告本院護理部(護理之家)111年4月28日公開甄選院聘照顧服務員1名「錄取名單」\n",
      "skip:  公告本院護理部(門診)111年4月22日甄選院聘護理師2名錄取名單\n",
      "skip:  公告本院護理部111年5月3日公開甄選院聘護理師/實習護士儲備30名錄取名單\n",
      "skip:  公告本院護理部111年4月26日公開甄選院聘護理師/實習護士儲備30名錄取名單\n",
      "skip:  公告本院護理部111年4月22日公開甄選院聘護理師/實習護士儲備30名錄取名單\n",
      "skip:  公告本院護理部111年4月20日公開甄選院聘護理師/實習護士儲備30名錄取名單\n",
      "skip:  公告本院護理部111年4月13日公開甄選院聘護理師/實習護士(校園徵才)儲備30名錄取名單\n",
      "skip:  公告本院護理部111年3月30日公開甄選院聘護理師/實習護士(校園徵才)(二)儲備30名錄取名單\n",
      "skip:  公告本院外科部(傷造口中心)111年4月19日公開甄選院聘(傷造口)資深/專科護理師1名《錄取名單》\n",
      "skip:  公告本院護理部111年4月13日公開甄選院聘護理師/實習護士儲備30名錄取名單\n",
      "skip:  公告本院護理部111年4月12日公開甄選院聘護理師/實習護士儲備30名錄取名單\n",
      "skip:  公告本院護理部111年3月30日公開甄選院聘護理師/實習護士(校園徵才)儲備30名錄取名單\n",
      "skip:  公告本院護理部111年4月8日公開甄選院聘護理師/實習護士儲備30名錄取名單\n",
      "skip:  公告本院護理部111年4月7日公開甄選院聘護理師/實習護士儲備30名錄取名單\n",
      "skip:  公告本院護理部111年4月6日公開甄選院聘護理師/實習護士儲備30名錄取名單\n",
      "skip:  公告本院護理部111年4月1日公開甄選院聘護理師(安寧居家護理師)1名錄取名單\n",
      "skip:  公告本院護理部111年3月28日公開甄選院聘護理師/實習護士儲備30名錄取名單\n",
      "skip:  公告本院護理部111年3月31日公開甄選院聘護理師/實習護士儲備30名錄取名單\n",
      "skip:  公告本院護理部111年3月30日公開甄選院聘護理師/實習護士儲備30名錄取名單\n",
      "skip:  公告本院護理部111年3月29日公開甄選院聘護理師/實習護士儲備30名錄取名單\n",
      "skip:  公告本院111年度志願服務工作人員招募簡章與報名表\n",
      "skip:  公告本院護理部111年3月14日公開甄選內科系院聘資深/專科護理師1名《錄取名單》\n",
      "skip:  公告本院護理部111年3月23日公開甄選院聘護理師/實習護士儲備30名錄取名單\n",
      "skip:  公告本院護理部111年3月21日公開甄選院聘護理師/實習護士儲備30名錄取名單\n",
      "skip:  公告本院護理部(門診)111年3月10日甄選院聘護理師職務代理人1名錄取名單\n",
      "skip:  公告本院護理部111年3月15日公開甄選院聘護理師儲備30名錄取名單\n",
      "skip:  公告本院護理部111年3月11日公開甄選院聘護理師儲備30名錄取名單\n",
      "skip:  公告本院護理部111年3月9日公開甄選院聘護理師儲備30名錄取名單\n",
      "skip:  公告本院護理部111年3月8日公開甄選院聘護理師儲備30名錄取名單\n",
      "skip:  公告本院護理部111年2月18日公開甄選院聘護理師儲備30名錄取名單\n",
      "skip:  公告本院護理部111年2月16日公開甄選院聘護理師儲備30名錄取名單\n",
      "skip:  公告本院外科部(傷造口中心)111年2月15日公開甄選院聘(傷造口)資深/專科護理師2名《錄取名單》\n",
      "skip:  公告本院護理部111年2月9日公開甄選院聘護理師儲備30名錄取名單\n",
      "skip:  公告本院護理部111年1月28日公開甄選院聘護理師儲備30名錄取名單\n",
      "skip:  公告本院護理部111年2月11日公開甄選院聘護理師儲備30名錄取名單\n",
      "skip:  公告本院護理部111年1月24日公開甄選內科系院聘資深/專科護理師2名《錄取名單》\n",
      "skip:  公告本院營養室公開甄選時薪人員2名(隨到隨招，請於上班時間先行電話預約)\n",
      "skip:  公告本院護理部111年1月14日公開甄選院聘護理師儲備30名錄取名單\n",
      "skip:  公告本院神經部110年12月29日公開甄選院聘醫事檢驗師1名「錄取名單」\n",
      "skip:  公告本院護理部110年12月30日公開甄選院聘護理師儲備30名錄取名單\n",
      "skip:  公告本院內科部110年12月23日公開甄選院聘護理師(糖尿病衛教師)1名「錄取名單」\n",
      "skip:  公告本院1101221甄審會公開甄選複試結果(醫師類)\n",
      "skip:  公告本院麻醉部110年12月21日及22日公開甄選院聘護理師1名「錄取名單」\n",
      "skip:  公告本院護理部110年12月20日公開甄選院聘護理師儲備30名錄取名單\n",
      "skip:  公告本院護理部110年12月17日公開甄選院聘護理師儲備30名錄取名單\n",
      "召聘職稱 資深/專科護理師 院區 察看連結的簡章 截止日期 2022-06-15 職缺單位 醫療部/護理部 links https://www.ylh.gov.tw/public/jobnews/dd0a839f5a67ede8f0c7f91c2f861788.pdf\n"
     ]
    }
   ],
   "source": [
    "work_table = []\n",
    "for page in pages_link:\n",
    "    soup = get_base_web_data(page)\n",
    "    work_table = get_each_page_wrok_table(soup,work_table)"
   ]
  },
  {
   "cell_type": "code",
   "execution_count": 111,
   "metadata": {},
   "outputs": [
    {
     "data": {
      "text/plain": [
       "'護理部'"
      ]
     },
     "execution_count": 111,
     "metadata": {},
     "output_type": "execute_result"
    }
   ],
   "source": [
    "re.search(\"\\B院((.*)部)\",\"公告本院護理部公開甄選院聘護理師(手術室)儲備\").group(1)"
   ]
  },
  {
   "cell_type": "code",
   "execution_count": 110,
   "metadata": {},
   "outputs": [
    {
     "data": {
      "text/plain": [
       "'護理師'"
      ]
     },
     "execution_count": 110,
     "metadata": {},
     "output_type": "execute_result"
    }
   ],
   "source": [
    "re.search(\"\\B聘((.*)師)\",\"公告本院護理部公開甄選院聘護理師(手術室)儲備\").group(1)"
   ]
  },
  {
   "cell_type": "code",
   "execution_count": 112,
   "metadata": {},
   "outputs": [
    {
     "name": "stdout",
     "output_type": "stream",
     "text": [
      "        召聘職稱          期限               職缺單位       院區  \\\n",
      "0        護理師  2022-07-31   護理部公開甄選院聘護理師(手術室  察看連結的簡章   \n",
      "1        護理師  2022-07-31                護理部  察看連結的簡章   \n",
      "2     契約主治醫師  2022-05-20           環境及職業醫學部  察看連結的簡章   \n",
      "3      助理管理師  2022-05-09  主計室公開甄選院聘助理管理師(身心  察看連結的簡章   \n",
      "4       副管理師  2022-05-10                護理部  察看連結的簡章   \n",
      "5      醫事檢驗師  2022-05-20                病理部  察看連結的簡章   \n",
      "6        佐理員  2022-05-09            護理部(供應室  察看連結的簡章   \n",
      "7         助廚  2022-12-31                營養室  察看連結的簡章   \n",
      "8        護理師  2022-07-31   護理部公開甄選院聘護理師(手術室  察看連結的簡章   \n",
      "9        護理師  2022-07-31                護理部  察看連結的簡章   \n",
      "10    契約主治醫師  2022-05-20           環境及職業醫學部  察看連結的簡章   \n",
      "11     助理管理師  2022-05-09  主計室公開甄選院聘助理管理師(身心  察看連結的簡章   \n",
      "12      副管理師  2022-05-10                護理部  察看連結的簡章   \n",
      "13     醫事檢驗師  2022-05-20                病理部  察看連結的簡章   \n",
      "14       佐理員  2022-05-09            護理部(供應室  察看連結的簡章   \n",
      "15  資深/專科護理師  2022-06-15            醫療部/護理部  察看連結的簡章   \n",
      "\n",
      "                                                   連結  \n",
      "0   https://www.ylh.gov.tw/public/jobnews/4eb1cf3e...  \n",
      "1   https://www.ylh.gov.tw/public/jobnews/ba6bb249...  \n",
      "2   https://www.ylh.gov.tw/public/jobnews/21d8787d...  \n",
      "3   https://www.ylh.gov.tw/public/jobnews/e994b188...  \n",
      "4   https://www.ylh.gov.tw/public/jobnews/335f84d1...  \n",
      "5   https://www.ylh.gov.tw/public/jobnews/94446d39...  \n",
      "6   https://www.ylh.gov.tw/public/jobnews/45ef9004...  \n",
      "7   https://www.ylh.gov.tw/public/jobnews/5a713b43...  \n",
      "8   https://www.ylh.gov.tw/public/jobnews/4eb1cf3e...  \n",
      "9   https://www.ylh.gov.tw/public/jobnews/ba6bb249...  \n",
      "10  https://www.ylh.gov.tw/public/jobnews/21d8787d...  \n",
      "11  https://www.ylh.gov.tw/public/jobnews/e994b188...  \n",
      "12  https://www.ylh.gov.tw/public/jobnews/335f84d1...  \n",
      "13  https://www.ylh.gov.tw/public/jobnews/94446d39...  \n",
      "14  https://www.ylh.gov.tw/public/jobnews/45ef9004...  \n",
      "15  https://www.ylh.gov.tw/public/jobnews/dd0a839f...  \n"
     ]
    }
   ],
   "source": [
    "work_table=pd.DataFrame(work_table, columns=['召聘職稱','期限' ,\"職缺單位\" , '院區','連結'])\n",
    "\n",
    "print(work_table)"
   ]
  },
  {
   "cell_type": "code",
   "execution_count": null,
   "metadata": {},
   "outputs": [],
   "source": []
  }
 ],
 "metadata": {
  "kernelspec": {
   "display_name": "hospwork",
   "language": "python",
   "name": "hospwork"
  },
  "language_info": {
   "codemirror_mode": {
    "name": "ipython",
    "version": 3
   },
   "file_extension": ".py",
   "mimetype": "text/x-python",
   "name": "python",
   "nbconvert_exporter": "python",
   "pygments_lexer": "ipython3",
   "version": "3.8.10"
  }
 },
 "nbformat": 4,
 "nbformat_minor": 4
}
