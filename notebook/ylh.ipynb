{
 "cells": [
  {
   "cell_type": "code",
   "execution_count": 99,
   "id": "65df3184-c750-4179-a92a-4d97c3eb6614",
   "metadata": {},
   "outputs": [],
   "source": [
    "from bs4 import BeautifulSoup\n",
    "import re\n",
    "import requests\n",
    "import pandas as pd\n",
    "from urllib.parse import urlparse"
   ]
  },
  {
   "cell_type": "code",
   "execution_count": 100,
   "id": "bcbde9f6-e782-48c0-9782-bb57e8bb51f8",
   "metadata": {},
   "outputs": [],
   "source": [
    "url_base='https://www.ylh.gov.tw'\n",
    "url_work='/?aid=104'\n",
    "url_full=url_base+url_work\n",
    "g=requests.get(url_full)\n",
    "soup=BeautifulSoup(g.content, 'html.parser')"
   ]
  },
  {
   "cell_type": "markdown",
   "metadata": {},
   "source": [
    "# Get Pages link"
   ]
  },
  {
   "cell_type": "code",
   "execution_count": 106,
   "id": "c720fa50-3d46-4f7b-ad92-1ea19a0fda78",
   "metadata": {},
   "outputs": [
    {
     "name": "stdout",
     "output_type": "stream",
     "text": [
      "skip: 3\n"
     ]
    },
    {
     "data": {
      "text/plain": [
       "['https://www.ylh.gov.tw/?aid=104&pid=0&page_name=list&pageNo=1',\n",
       " 'https://www.ylh.gov.tw/?aid=104&pid=0&page_name=list&pageNo=2',\n",
       " 'https://www.ylh.gov.tw/?aid=104',\n",
       " 'https://www.ylh.gov.tw/?aid=104&pid=0&page_name=list&pageNo=4']"
      ]
     },
     "execution_count": 106,
     "metadata": {},
     "output_type": "execute_result"
    }
   ],
   "source": [
    "pages_link=[]\n",
    "for link in soup.find_all('li',class_=\"page-item\"):\n",
    "    if link.find(\"a\"):\n",
    "        if link.find(\"a\") == -1 or link.text == \"第一頁\" or link.text == \"«\" or link.text == \"»\" or link.text == \"最末頁\":\n",
    "            pass\n",
    "        elif link.find('a').has_attr(\"disabled\"):\n",
    "            print('skip:',link.text)\n",
    "            pages_link.append(url_full)\n",
    "        else:\n",
    "            pages_link.append(url_base+link.find('a').get('href'))\n",
    "pages_link"
   ]
  },
  {
   "cell_type": "markdown",
   "metadata": {},
   "source": [
    "# Get work table"
   ]
  },
  {
   "cell_type": "code",
   "execution_count": 8,
   "metadata": {},
   "outputs": [
    {
     "data": {
      "text/plain": [
       "<tbody>\n",
       "<tr>\n",
       "<td class=\"align-middle\" data-title=\"標題\" width=\"50%\">公告本院護理部公開甄選院聘護理師(手術室)儲備20名(隨到隨招，請於上班時間先行電話預約)</td>\n",
       "<td class=\"text-center align-middle\" data-title=\"公告日期\">2022-01-18</td>\n",
       "<td class=\"text-center align-middle\" data-title=\"截止日期\">2022-07-31</td>\n",
       "<td class=\"text-center align-middle\" data-title=\"下載\">\n",
       "<a href=\"/public/jobnews/4eb1cf3e5ea8a5858cb8f631988ab5a8.pdf\" rel=\"noopener noreferrer\" style=\"color: blue;\" target=\"_blank\" title=\"[PDF]下載  (另開新視窗) \">查看</a>\n",
       "</td>\n",
       "</tr>\n",
       "<tr>\n",
       "<td class=\"align-middle\" data-title=\"標題\" width=\"50%\">公告本院護理部公開甄選院聘護理師/實習護士儲備30名(隨到隨招，請於上班時間先行電話預約)</td>\n",
       "<td class=\"text-center align-middle\" data-title=\"公告日期\">2021-12-23</td>\n",
       "<td class=\"text-center align-middle\" data-title=\"截止日期\">2022-07-31</td>\n",
       "<td class=\"text-center align-middle\" data-title=\"下載\">\n",
       "<a href=\"/public/jobnews/ba6bb249a04a65caa2026732b239f9bb.pdf\" rel=\"noopener noreferrer\" style=\"color: blue;\" target=\"_blank\" title=\"[PDF]下載  (另開新視窗) \">查看</a>\n",
       "</td>\n",
       "</tr>\n",
       "<tr>\n",
       "<td class=\"align-middle\" data-title=\"標題\" width=\"50%\">公告本院婦產部公開甄選院聘助理管理師1名【甄試名單】</td>\n",
       "<td class=\"text-center align-middle\" data-title=\"公告日期\">2022-05-06</td>\n",
       "<td class=\"text-center align-middle\" data-title=\"截止日期\">2022-05-10</td>\n",
       "<td class=\"text-center align-middle\" data-title=\"下載\">\n",
       "<a href=\"/public/jobnews/6335904f957d49db31267137ad7fd237.pdf\" rel=\"noopener noreferrer\" style=\"color: blue;\" target=\"_blank\" title=\"公告本院婦產部公開甄選院聘助理管理師1名【甄試名單】[PDF]下載  (另開新視窗) \">查看</a>\n",
       "</td>\n",
       "</tr>\n",
       "<tr>\n",
       "<td class=\"align-middle\" data-title=\"標題\" width=\"50%\">公告本院腫瘤醫學部111年4月27日公開甄選院聘醫事放射師1名【錄取名單】</td>\n",
       "<td class=\"text-center align-middle\" data-title=\"公告日期\">2022-05-06</td>\n",
       "<td class=\"text-center align-middle\" data-title=\"截止日期\">2022-05-25</td>\n",
       "<td class=\"text-center align-middle\" data-title=\"下載\">\n",
       "<a href=\"/public/jobnews/3b1d5c1ff1fea9b73dd666da89a7c955.pdf\" rel=\"noopener noreferrer\" style=\"color: blue;\" target=\"_blank\" title=\"腫醫放射師[PDF]下載  (另開新視窗) \">查看</a>\n",
       "</td>\n",
       "</tr>\n",
       "<tr>\n",
       "<td class=\"align-middle\" data-title=\"標題\" width=\"50%\">公告本院神經部111年4月21日公開甄選院聘醫事檢驗師1名【錄取名單】</td>\n",
       "<td class=\"text-center align-middle\" data-title=\"公告日期\">2022-05-06</td>\n",
       "<td class=\"text-center align-middle\" data-title=\"截止日期\">2022-05-25</td>\n",
       "<td class=\"text-center align-middle\" data-title=\"下載\">\n",
       "<a href=\"/public/jobnews/4f4812d70db4f9d87d9b90bc0abd9f9d.pdf\" rel=\"noopener noreferrer\" style=\"color: blue;\" target=\"_blank\" title=\"神經醫檢師[PDF]下載  (另開新視窗) \">查看</a>\n",
       "</td>\n",
       "</tr>\n",
       "<tr>\n",
       "<td class=\"align-middle\" data-title=\"標題\" width=\"50%\">公告本院企劃管理室111年4月28日公開甄選院聘管理師職務代理人1名「錄取名單」</td>\n",
       "<td class=\"text-center align-middle\" data-title=\"公告日期\">2022-05-06</td>\n",
       "<td class=\"text-center align-middle\" data-title=\"截止日期\">2022-05-23</td>\n",
       "<td class=\"text-center align-middle\" data-title=\"下載\">\n",
       "<a href=\"/public/jobnews/46b401fcf06b4cbea03b53f9bfeeb8f4.pdf\" rel=\"noopener noreferrer\" style=\"color: blue;\" target=\"_blank\" title=\"公告本院企劃管理室111年4月28日公開甄選院聘管理師職務代理人1名「錄取名單」[PDF]下載  (另開新視窗) \">查看</a>\n",
       "</td>\n",
       "</tr>\n",
       "<tr>\n",
       "<td class=\"align-middle\" data-title=\"標題\" width=\"50%\">公告本院環境及職業醫學部公開甄選院聘契約主治醫師1名</td>\n",
       "<td class=\"text-center align-middle\" data-title=\"公告日期\">2022-05-06</td>\n",
       "<td class=\"text-center align-middle\" data-title=\"截止日期\">2022-05-20</td>\n",
       "<td class=\"text-center align-middle\" data-title=\"下載\">\n",
       "<a href=\"/public/jobnews/21d8787d13c98501fcae8cce12b762cd.pdf\" rel=\"noopener noreferrer\" style=\"color: blue;\" target=\"_blank\" title=\"公告本院環境及職業醫學部公開甄選院聘契約主治醫師1名[PDF]下載  (另開新視窗) \">查看</a>\n",
       "</td>\n",
       "</tr>\n",
       "<tr>\n",
       "<td class=\"align-middle\" data-title=\"標題\" width=\"50%\">公告本院外科部(傷造口中心)111年4月19日公開甄選院聘(傷造口)資深/專科護理師1名《錄取名單》</td>\n",
       "<td class=\"text-center align-middle\" data-title=\"公告日期\">2022-05-04</td>\n",
       "<td class=\"text-center align-middle\" data-title=\"截止日期\">2022-11-03</td>\n",
       "<td class=\"text-center align-middle\" data-title=\"下載\">\n",
       "<a href=\"/public/jobnews/c43503e5feb49bd6235f874fbf3363db.pdf\" rel=\"noopener noreferrer\" style=\"color: blue;\" target=\"_blank\" title=\"[PDF]下載  (另開新視窗) \">查看</a>\n",
       "</td>\n",
       "</tr>\n",
       "<tr>\n",
       "<td class=\"align-middle\" data-title=\"標題\" width=\"50%\">公告本院主計室公開甄選院聘助理管理師(身心障礙身分或原住民身分)1名</td>\n",
       "<td class=\"text-center align-middle\" data-title=\"公告日期\">2022-05-04</td>\n",
       "<td class=\"text-center align-middle\" data-title=\"截止日期\">2022-05-09</td>\n",
       "<td class=\"text-center align-middle\" data-title=\"下載\">\n",
       "<a href=\"/public/jobnews/e994b1886e7bfdaf6f4ae019a3a24aee.pdf\" rel=\"noopener noreferrer\" style=\"color: blue;\" target=\"_blank\" title=\"公告本院主計室公開甄選院聘助理管理師(身心障礙身分或原住民身分)1名[PDF]下載  (另開新視窗) \">查看</a>\n",
       "</td>\n",
       "</tr>\n",
       "<tr>\n",
       "<td class=\"align-middle\" data-title=\"標題\" width=\"50%\">公告本院護理部(急診)公開甄選院聘副管理師1名</td>\n",
       "<td class=\"text-center align-middle\" data-title=\"公告日期\">2022-05-04</td>\n",
       "<td class=\"text-center align-middle\" data-title=\"截止日期\">2022-05-10</td>\n",
       "<td class=\"text-center align-middle\" data-title=\"下載\">\n",
       "<a href=\"/public/jobnews/335f84d1c6cca748ca2b5d6d190feb22.pdf\" rel=\"noopener noreferrer\" style=\"color: blue;\" target=\"_blank\" title=\"公告本院護理部(急診)公開甄選院聘副管理師1名[PDF]下載  (另開新視窗) \">查看</a>\n",
       "</td>\n",
       "</tr>\n",
       "<tr>\n",
       "<td class=\"align-middle\" data-title=\"標題\" width=\"50%\">公告本院病理部公開甄選院聘醫事檢驗師1名</td>\n",
       "<td class=\"text-center align-middle\" data-title=\"公告日期\">2022-05-03</td>\n",
       "<td class=\"text-center align-middle\" data-title=\"截止日期\">2022-05-20</td>\n",
       "<td class=\"text-center align-middle\" data-title=\"下載\">\n",
       "<a href=\"/public/jobnews/94446d391604bd99f97a95fe3344c187.pdf\" rel=\"noopener noreferrer\" style=\"color: blue;\" target=\"_blank\" title=\"病理醫檢師[PDF]下載  (另開新視窗) \">查看</a>\n",
       "</td>\n",
       "</tr>\n",
       "<tr>\n",
       "<td class=\"align-middle\" data-title=\"標題\" width=\"50%\">公告本院護理部(供應室)公開甄選院聘佐理員1名</td>\n",
       "<td class=\"text-center align-middle\" data-title=\"公告日期\">2022-05-02</td>\n",
       "<td class=\"text-center align-middle\" data-title=\"截止日期\">2022-05-09</td>\n",
       "<td class=\"text-center align-middle\" data-title=\"下載\">\n",
       "<a href=\"/public/jobnews/45ef90046e200f641a8e9cb97c23b2da.pdf\" rel=\"noopener noreferrer\" style=\"color: blue;\" target=\"_blank\" title=\"公告本院護理部(供應室)公開甄選院聘佐理員1名[PDF]下載  (另開新視窗) \">查看</a>\n",
       "</td>\n",
       "</tr>\n",
       "<tr>\n",
       "<td class=\"align-middle\" data-title=\"標題\" width=\"50%\">公告本院護理部公開甄選師(三)級護理師16名【複試名單】</td>\n",
       "<td class=\"text-center align-middle\" data-title=\"公告日期\">2022-04-22</td>\n",
       "<td class=\"text-center align-middle\" data-title=\"截止日期\">2022-05-10</td>\n",
       "<td class=\"text-center align-middle\" data-title=\"下載\">\n",
       "<a href=\"/public/jobnews/0ca012495d1a9480f2c3490c1535e5bf.pdf\" rel=\"noopener noreferrer\" style=\"color: blue;\" target=\"_blank\" title=\"公告本院護理部公開甄選師(三)級護理師16名【複試名單】[PDF]下載  (另開新視窗) \">查看</a>\n",
       "</td>\n",
       "</tr>\n",
       "<tr>\n",
       "<td class=\"align-middle\" data-title=\"標題\" width=\"50%\">公告本院健康管理中心公開甄選師(三)級護理師1名【複試名單】</td>\n",
       "<td class=\"text-center align-middle\" data-title=\"公告日期\">2022-04-22</td>\n",
       "<td class=\"text-center align-middle\" data-title=\"截止日期\">2022-05-10</td>\n",
       "<td class=\"text-center align-middle\" data-title=\"下載\">\n",
       "<a href=\"/public/jobnews/0c5ff74765aea2da19c1ee0192156c49.pdf\" rel=\"noopener noreferrer\" style=\"color: blue;\" target=\"_blank\" title=\"公告本院健康管理中心公開甄選師(三)級護理師1名【複試名單】[PDF]下載  (另開新視窗) \">查看</a>\n",
       "</td>\n",
       "</tr>\n",
       "<tr>\n",
       "<td class=\"align-middle\" data-title=\"標題\" width=\"50%\">公告本院護理部111年4月13日公開甄選院聘護理師/實習護士儲備30名錄取名單</td>\n",
       "<td class=\"text-center align-middle\" data-title=\"公告日期\">2022-04-21</td>\n",
       "<td class=\"text-center align-middle\" data-title=\"截止日期\">2022-10-20</td>\n",
       "<td class=\"text-center align-middle\" data-title=\"下載\">\n",
       "<a href=\"/public/jobnews/e06e9f487add2cf4ba021ce3af17700a.pdf\" rel=\"noopener noreferrer\" style=\"color: blue;\" target=\"_blank\" title=\"[PDF]下載  (另開新視窗) \">查看</a>\n",
       "</td>\n",
       "</tr>\n",
       "<tr>\n",
       "<td class=\"align-middle\" data-title=\"標題\" width=\"50%\">公告本院護理部111年4月12日公開甄選院聘護理師/實習護士儲備30名錄取名單</td>\n",
       "<td class=\"text-center align-middle\" data-title=\"公告日期\">2022-04-21</td>\n",
       "<td class=\"text-center align-middle\" data-title=\"截止日期\">2022-10-20</td>\n",
       "<td class=\"text-center align-middle\" data-title=\"下載\">\n",
       "<a href=\"/public/jobnews/c6db95b7469fc89248308a1b2f607560.pdf\" rel=\"noopener noreferrer\" style=\"color: blue;\" target=\"_blank\" title=\"[PDF]下載  (另開新視窗) \">查看</a>\n",
       "</td>\n",
       "</tr>\n",
       "<tr>\n",
       "<td class=\"align-middle\" data-title=\"標題\" width=\"50%\">公告本院護理部111年3月30日公開甄選院聘護理師/實習護士(校園徵才)儲備30名錄取名單</td>\n",
       "<td class=\"text-center align-middle\" data-title=\"公告日期\">2022-04-21</td>\n",
       "<td class=\"text-center align-middle\" data-title=\"截止日期\">2022-10-20</td>\n",
       "<td class=\"text-center align-middle\" data-title=\"下載\">\n",
       "<a href=\"/public/jobnews/ec65e2666afc4b6a3550177849f6d343.pdf\" rel=\"noopener noreferrer\" style=\"color: blue;\" target=\"_blank\" title=\"[PDF]下載  (另開新視窗) \">查看</a>\n",
       "</td>\n",
       "</tr>\n",
       "<tr>\n",
       "<td class=\"align-middle\" data-title=\"標題\" width=\"50%\">公告本院營養室/腫瘤醫學中心111年4月14日公開甄選院聘營養師職務代理人1名【錄取名單】</td>\n",
       "<td class=\"text-center align-middle\" data-title=\"公告日期\">2022-04-20</td>\n",
       "<td class=\"text-center align-middle\" data-title=\"截止日期\">2022-05-09</td>\n",
       "<td class=\"text-center align-middle\" data-title=\"下載\">\n",
       "<a href=\"/public/jobnews/92bcfaf2bceae2699a229f2463962005.pdf\" rel=\"noopener noreferrer\" style=\"color: blue;\" target=\"_blank\" title=\"營養師職代[PDF]下載  (另開新視窗) \">查看</a>\n",
       "</td>\n",
       "</tr>\n",
       "<tr>\n",
       "<td class=\"align-middle\" data-title=\"標題\" width=\"50%\">公告本院影像醫學部111年4月1日公開甄選院聘護理師1名錄取名單</td>\n",
       "<td class=\"text-center align-middle\" data-title=\"公告日期\">2022-04-20</td>\n",
       "<td class=\"text-center align-middle\" data-title=\"截止日期\">2022-05-09</td>\n",
       "<td class=\"text-center align-middle\" data-title=\"下載\">\n",
       "<a href=\"/public/jobnews/dae35ab2fdbd806af96620a182521724.pdf\" rel=\"noopener noreferrer\" style=\"color: blue;\" target=\"_blank\" title=\"[PDF]下載  (另開新視窗) \">查看</a>\n",
       "</td>\n",
       "</tr>\n",
       "<tr>\n",
       "<td class=\"align-middle\" data-title=\"標題\" width=\"50%\">公告本院護理部111年4月8日公開甄選院聘護理師/實習護士儲備30名錄取名單</td>\n",
       "<td class=\"text-center align-middle\" data-title=\"公告日期\">2022-04-14</td>\n",
       "<td class=\"text-center align-middle\" data-title=\"截止日期\">2022-10-13</td>\n",
       "<td class=\"text-center align-middle\" data-title=\"下載\">\n",
       "<a href=\"/public/jobnews/889bc8e86875858a847f3f9d2e4b6b49.pdf\" rel=\"noopener noreferrer\" style=\"color: blue;\" target=\"_blank\" title=\"[PDF]下載  (另開新視窗) \">查看</a>\n",
       "</td>\n",
       "</tr>\n",
       "</tbody>"
      ]
     },
     "execution_count": 8,
     "metadata": {},
     "output_type": "execute_result"
    }
   ],
   "source": [
    "soup.find_all('table')[0].find('tbody')"
   ]
  },
  {
   "cell_type": "code",
   "execution_count": 102,
   "id": "536fcb06-a8af-4798-9f0c-d11854639f16",
   "metadata": {},
   "outputs": [],
   "source": [
    "def get_each_page_wrok_table(soup,work_table):\n",
    "    for work in soup.find_all('table',class_=\"table table-striped table-hover news_table\")[0].find(\"tbody\").find_all(\"tr\"):\n",
    "        all_td = work.find_all(\"td\")\n",
    "        title = all_td[0].text\n",
    "        place = '察看連結的簡章'\n",
    "        deadline = all_td[2].text\n",
    "        \n",
    "        link=url_base+all_td[3].find('a').get('href')\n",
    "        if \"錄取名單\" in title:\n",
    "            print('skip: ',title)\n",
    "        elif \"甄試名單\" in title:\n",
    "            print('skip: ',title)\n",
    "        elif \"複試名單\" in title:\n",
    "            print('skip: ',title)\n",
    "        elif \"志願服務工作\" in title:\n",
    "            print('skip: ',title)\n",
    "        elif \"甄審會\" in title:\n",
    "            print('skip: ',title)\n",
    "        elif \"時薪人員\" in title:\n",
    "            print('skip: ',title)\n",
    "        else:\n",
    "            originization = re.search(\"\\B院((.*)[室,部,中心])\",title).group(1)\n",
    "            new_title = re.search(\"\\B聘((.*)[員,師,廚])\",title).group(1)\n",
    "            print(\"召聘職稱\",new_title,'院區',place,\"截止日期\",deadline,\"職缺單位\",originization,\"links\",link)\n",
    "            work_table.append([new_title, deadline, originization, place, link ])\n",
    "    return work_table"
   ]
  },
  {
   "cell_type": "code",
   "execution_count": 103,
   "id": "d91d57d3-8620-477b-b2a1-d402e84e6f11",
   "metadata": {},
   "outputs": [],
   "source": [
    "def get_base_web_data(url_base,url_work_table=None):\n",
    "    if url_work_table != None:\n",
    "        url = url_base + url_work_table\n",
    "    else:\n",
    "        url = url_base\n",
    "    g=requests.get(url)\n",
    "    soup=BeautifulSoup(g.content, 'html.parser')\n",
    "    return soup"
   ]
  },
  {
   "cell_type": "code",
   "execution_count": 104,
   "id": "119e4925-e497-4507-ae82-1c636d2e539a",
   "metadata": {},
   "outputs": [
    {
     "name": "stdout",
     "output_type": "stream",
     "text": [
      "召聘職稱 護理師 院區 察看連結的簡章 截止日期 2022-07-31 職缺單位 護理部公開甄選院聘護理師(手術室 links https://www.ylh.gov.tw/public/jobnews/4eb1cf3e5ea8a5858cb8f631988ab5a8.pdf\n",
      "召聘職稱 護理師 院區 察看連結的簡章 截止日期 2022-07-31 職缺單位 護理部 links https://www.ylh.gov.tw/public/jobnews/ba6bb249a04a65caa2026732b239f9bb.pdf\n",
      "skip:  公告本院婦產部公開甄選院聘助理管理師1名【甄試名單】\n",
      "skip:  公告本院腫瘤醫學部111年4月27日公開甄選院聘醫事放射師1名【錄取名單】\n",
      "skip:  公告本院神經部111年4月21日公開甄選院聘醫事檢驗師1名【錄取名單】\n",
      "skip:  公告本院企劃管理室111年4月28日公開甄選院聘管理師職務代理人1名「錄取名單」\n",
      "召聘職稱 契約主治醫師 院區 察看連結的簡章 截止日期 2022-05-20 職缺單位 環境及職業醫學部 links https://www.ylh.gov.tw/public/jobnews/21d8787d13c98501fcae8cce12b762cd.pdf\n",
      "skip:  公告本院外科部(傷造口中心)111年4月19日公開甄選院聘(傷造口)資深/專科護理師1名《錄取名單》\n",
      "召聘職稱 助理管理師 院區 察看連結的簡章 截止日期 2022-05-09 職缺單位 主計室公開甄選院聘助理管理師(身心 links https://www.ylh.gov.tw/public/jobnews/e994b1886e7bfdaf6f4ae019a3a24aee.pdf\n",
      "召聘職稱 副管理師 院區 察看連結的簡章 截止日期 2022-05-10 職缺單位 護理部 links https://www.ylh.gov.tw/public/jobnews/335f84d1c6cca748ca2b5d6d190feb22.pdf\n",
      "召聘職稱 醫事檢驗師 院區 察看連結的簡章 截止日期 2022-05-20 職缺單位 病理部 links https://www.ylh.gov.tw/public/jobnews/94446d391604bd99f97a95fe3344c187.pdf\n",
      "召聘職稱 佐理員 院區 察看連結的簡章 截止日期 2022-05-09 職缺單位 護理部(供應室 links https://www.ylh.gov.tw/public/jobnews/45ef90046e200f641a8e9cb97c23b2da.pdf\n",
      "skip:  公告本院護理部公開甄選師(三)級護理師16名【複試名單】\n",
      "skip:  公告本院健康管理中心公開甄選師(三)級護理師1名【複試名單】\n",
      "skip:  公告本院護理部111年4月13日公開甄選院聘護理師/實習護士儲備30名錄取名單\n",
      "skip:  公告本院護理部111年4月12日公開甄選院聘護理師/實習護士儲備30名錄取名單\n",
      "skip:  公告本院護理部111年3月30日公開甄選院聘護理師/實習護士(校園徵才)儲備30名錄取名單\n",
      "skip:  公告本院營養室/腫瘤醫學中心111年4月14日公開甄選院聘營養師職務代理人1名【錄取名單】\n",
      "skip:  公告本院影像醫學部111年4月1日公開甄選院聘護理師1名錄取名單\n",
      "skip:  公告本院護理部111年4月8日公開甄選院聘護理師/實習護士儲備30名錄取名單\n",
      "skip:  公告本院護理部111年4月7日公開甄選院聘護理師/實習護士儲備30名錄取名單\n",
      "skip:  公告本院護理部111年4月6日公開甄選院聘護理師/實習護士儲備30名錄取名單\n",
      "skip:  公告本院護理部111年4月1日公開甄選院聘護理師(安寧居家護理師)1名錄取名單\n",
      "skip:  公告本院護理部111年3月28日公開甄選院聘護理師/實習護士儲備30名錄取名單\n",
      "skip:  公告本院護理部111年3月31日公開甄選院聘護理師/實習護士儲備30名錄取名單\n",
      "skip:  公告本院護理部111年3月30日公開甄選院聘護理師/實習護士儲備30名錄取名單\n",
      "skip:  公告本院護理部111年3月29日公開甄選院聘護理師/實習護士儲備30名錄取名單\n",
      "skip:  公告本院111年度志願服務工作人員招募簡章與報名表\n",
      "skip:  公告本院護理部111年3月14日公開甄選內科系院聘資深/專科護理師1名《錄取名單》\n",
      "skip:  公告本院護理部111年3月23日公開甄選院聘護理師/實習護士儲備30名錄取名單\n",
      "skip:  公告本院護理部111年3月21日公開甄選院聘護理師/實習護士儲備30名錄取名單\n",
      "skip:  公告本院護理部(門診)111年3月10日甄選院聘護理師職務代理人1名錄取名單\n",
      "skip:  公告本院111/3/15 甄審會公開甄選複試結果(公職醫事人員類)\n",
      "skip:  公告本院111/3/15 甄審會公開甄選複試結果(醫師類)\n",
      "skip:  公告本院護理部111年3月15日公開甄選院聘護理師儲備30名錄取名單\n",
      "skip:  公告本院護理部111年3月11日公開甄選院聘護理師儲備30名錄取名單\n",
      "skip:  公告本院護理部111年3月9日公開甄選院聘護理師儲備30名錄取名單\n",
      "skip:  公告本院護理部111年3月8日公開甄選院聘護理師儲備30名錄取名單\n",
      "召聘職稱 助廚 院區 察看連結的簡章 截止日期 2022-12-31 職缺單位 營養室 links https://www.ylh.gov.tw/public/jobnews/5a713b430d7b605561620f64109f495c.pdf\n",
      "skip:  公告本院護理部111年2月18日公開甄選院聘護理師儲備30名錄取名單\n",
      "skip:  公告本院護理部111年2月16日公開甄選院聘護理師儲備30名錄取名單\n",
      "skip:  公告本院外科部(傷造口中心)111年2月15日公開甄選院聘(傷造口)資深/專科護理師2名《錄取名單》\n",
      "skip:  公告本院護理部111年2月9日公開甄選院聘護理師儲備30名錄取名單\n",
      "skip:  公告本院護理部111年1月28日公開甄選院聘護理師儲備30名錄取名單\n",
      "skip:  公告本院護理部111年2月11日公開甄選院聘護理師儲備30名錄取名單\n",
      "skip:  公告本院護理部111年1月24日公開甄選內科系院聘資深/專科護理師2名《錄取名單》\n",
      "召聘職稱 照顧服務員 院區 察看連結的簡章 截止日期 2022-12-31 職缺單位 護理部 links https://www.ylh.gov.tw/public/jobnews/1f4159674dc997e54b256b48f36c83fb.pdf\n",
      "skip:  公告本院營養室公開甄選時薪人員2名(隨到隨招，請於上班時間先行電話預約)\n",
      "skip:  公告本院護理部111年1月14日公開甄選院聘護理師儲備30名錄取名單\n",
      "skip:  公告本院神經部110年12月29日公開甄選院聘醫事檢驗師1名「錄取名單」\n",
      "skip:  公告本院護理部110年12月30日公開甄選院聘護理師儲備30名錄取名單\n",
      "skip:  公告本院內科部110年12月23日公開甄選院聘護理師(糖尿病衛教師)1名「錄取名單」\n",
      "skip:  公告本院1101221甄審會公開甄選複試結果(醫師類)\n",
      "skip:  公告本院麻醉部110年12月21日及22日公開甄選院聘護理師1名「錄取名單」\n",
      "skip:  公告本院護理部110年12月20日公開甄選院聘護理師儲備30名錄取名單\n",
      "skip:  公告本院護理部110年12月17日公開甄選院聘護理師儲備30名錄取名單\n",
      "skip:  公告本院110/11/22甄審會公開甄選複試結果【院聘醫事檢驗師】\n",
      "召聘職稱 資深護理師/專科護理師 院區 察看連結的簡章 截止日期 2022-05-16 職缺單位 護理部 links https://www.ylh.gov.tw/public/jobnews/c701d34fb95f1d8fc5091338b5021bc7.pdf\n",
      "召聘職稱 醫事放射師 院區 察看連結的簡章 截止日期 2022-05-15 職缺單位 影像醫學部 links https://www.ylh.gov.tw/public/jobnews/c6e1a52129aabfb33f51dda9ea1d1f58.pdf\n",
      "skip:  公告本院110/11/9甄審會公開甄選複試結果(院聘營養師)\n"
     ]
    }
   ],
   "source": [
    "work_table = []\n",
    "for page in pages_link:\n",
    "    soup = get_base_web_data(page)\n",
    "    work_table = get_each_page_wrok_table(soup,work_table)"
   ]
  },
  {
   "cell_type": "code",
   "execution_count": 75,
   "metadata": {},
   "outputs": [
    {
     "data": {
      "text/plain": [
       "'影像醫學部'"
      ]
     },
     "execution_count": 75,
     "metadata": {},
     "output_type": "execute_result"
    }
   ],
   "source": [
    "re.search(\"\\B院((.*)部)\",\"公告本院影像醫學部111年4月1日公開甄選院聘護理師1名錄取名單\").group(1)"
   ]
  },
  {
   "cell_type": "code",
   "execution_count": 87,
   "metadata": {},
   "outputs": [
    {
     "data": {
      "text/plain": [
       "'護理師'"
      ]
     },
     "execution_count": 87,
     "metadata": {},
     "output_type": "execute_result"
    }
   ],
   "source": [
    "re.search(\"\\B聘((.*)師)\",\"公告本院護理部公開甄選院聘護理師\").group(1)"
   ]
  },
  {
   "cell_type": "code",
   "execution_count": 105,
   "metadata": {},
   "outputs": [
    {
     "data": {
      "text/plain": [
       "[['護理師',\n",
       "  '2022-07-31',\n",
       "  '護理部公開甄選院聘護理師(手術室',\n",
       "  '察看連結的簡章',\n",
       "  'https://www.ylh.gov.tw/public/jobnews/4eb1cf3e5ea8a5858cb8f631988ab5a8.pdf'],\n",
       " ['護理師',\n",
       "  '2022-07-31',\n",
       "  '護理部',\n",
       "  '察看連結的簡章',\n",
       "  'https://www.ylh.gov.tw/public/jobnews/ba6bb249a04a65caa2026732b239f9bb.pdf'],\n",
       " ['契約主治醫師',\n",
       "  '2022-05-20',\n",
       "  '環境及職業醫學部',\n",
       "  '察看連結的簡章',\n",
       "  'https://www.ylh.gov.tw/public/jobnews/21d8787d13c98501fcae8cce12b762cd.pdf'],\n",
       " ['助理管理師',\n",
       "  '2022-05-09',\n",
       "  '主計室公開甄選院聘助理管理師(身心',\n",
       "  '察看連結的簡章',\n",
       "  'https://www.ylh.gov.tw/public/jobnews/e994b1886e7bfdaf6f4ae019a3a24aee.pdf'],\n",
       " ['副管理師',\n",
       "  '2022-05-10',\n",
       "  '護理部',\n",
       "  '察看連結的簡章',\n",
       "  'https://www.ylh.gov.tw/public/jobnews/335f84d1c6cca748ca2b5d6d190feb22.pdf'],\n",
       " ['醫事檢驗師',\n",
       "  '2022-05-20',\n",
       "  '病理部',\n",
       "  '察看連結的簡章',\n",
       "  'https://www.ylh.gov.tw/public/jobnews/94446d391604bd99f97a95fe3344c187.pdf'],\n",
       " ['佐理員',\n",
       "  '2022-05-09',\n",
       "  '護理部(供應室',\n",
       "  '察看連結的簡章',\n",
       "  'https://www.ylh.gov.tw/public/jobnews/45ef90046e200f641a8e9cb97c23b2da.pdf'],\n",
       " ['助廚',\n",
       "  '2022-12-31',\n",
       "  '營養室',\n",
       "  '察看連結的簡章',\n",
       "  'https://www.ylh.gov.tw/public/jobnews/5a713b430d7b605561620f64109f495c.pdf'],\n",
       " ['照顧服務員',\n",
       "  '2022-12-31',\n",
       "  '護理部',\n",
       "  '察看連結的簡章',\n",
       "  'https://www.ylh.gov.tw/public/jobnews/1f4159674dc997e54b256b48f36c83fb.pdf'],\n",
       " ['資深護理師/專科護理師',\n",
       "  '2022-05-16',\n",
       "  '護理部',\n",
       "  '察看連結的簡章',\n",
       "  'https://www.ylh.gov.tw/public/jobnews/c701d34fb95f1d8fc5091338b5021bc7.pdf'],\n",
       " ['醫事放射師',\n",
       "  '2022-05-15',\n",
       "  '影像醫學部',\n",
       "  '察看連結的簡章',\n",
       "  'https://www.ylh.gov.tw/public/jobnews/c6e1a52129aabfb33f51dda9ea1d1f58.pdf']]"
      ]
     },
     "execution_count": 105,
     "metadata": {},
     "output_type": "execute_result"
    }
   ],
   "source": [
    "work_table"
   ]
  },
  {
   "cell_type": "code",
   "execution_count": null,
   "metadata": {},
   "outputs": [],
   "source": []
  }
 ],
 "metadata": {
  "kernelspec": {
   "display_name": "hospwork",
   "language": "python",
   "name": "hospwork"
  },
  "language_info": {
   "codemirror_mode": {
    "name": "ipython",
    "version": 3
   },
   "file_extension": ".py",
   "mimetype": "text/x-python",
   "name": "python",
   "nbconvert_exporter": "python",
   "pygments_lexer": "ipython3",
   "version": "3.8.10"
  },
  "orig_nbformat": 4
 },
 "nbformat": 4,
 "nbformat_minor": 2
}
