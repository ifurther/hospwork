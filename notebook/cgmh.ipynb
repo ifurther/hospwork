{
 "cells": [
  {
   "cell_type": "code",
   "execution_count": 1,
   "metadata": {},
   "outputs": [],
   "source": [
    "from bs4 import BeautifulSoup\n",
    "import requests\n",
    "import pandas as pd\n",
    "from urllib.parse import urlparse"
   ]
  },
  {
   "cell_type": "code",
   "execution_count": 2,
   "metadata": {},
   "outputs": [],
   "source": [
    "url_base='https://www.cgmh.org.tw/tw/Systems/'\n",
    "url_work_table='RecruitInfo/3'\n",
    "url=url_base+url_work_table\n",
    "g=requests.get(url)\n",
    "soup=BeautifulSoup(g.content, 'html.parser')"
   ]
  },
  {
   "cell_type": "code",
   "execution_count": 3,
   "metadata": {},
   "outputs": [
    {
     "data": {
      "text/plain": [
       "3"
      ]
     },
     "execution_count": 3,
     "metadata": {},
     "output_type": "execute_result"
    }
   ],
   "source": [
    "pages=soup.find_all('ul' ,class_=\"layout__pagination ul-reset\")[0]\n",
    "def get_pages(pages):\n",
    "  counter=0\n",
    "  for i, item in enumerate(pages):\n",
    "      if item.find('a') :\n",
    "        s = item.find('a')\n",
    "        counter += 1\n",
    "        try:\n",
    "          #print(s.get(\"href\") ,s.string)\n",
    "          if s.get(\"href\") == \"javascript:void(0)\":\n",
    "            counter -= 1\n",
    "        except:\n",
    "          counter -= 1\n",
    "          #print(item,'error')\n",
    "      \n",
    "  return counter\n",
    "get_pages(pages)\n"
   ]
  },
  {
   "cell_type": "code",
   "execution_count": 4,
   "metadata": {},
   "outputs": [],
   "source": [
    "def get_work_dead_line( soup):  \n",
    "  work_detail_web = soup.find('article').get_text().replace(\"\\xa0\",\"\").replace('\\n',\"\").replace(\"\\u3000\",\"\")\n",
    "  if '額滿為止' in work_detail_web:\n",
    "    return '額滿為止'\n",
    "  elif '即日起收件至' in work_detail_web:\n",
    "    dead_line = work_detail_web.rsplit(\"即日起收件至\")[1].split(\"止\")[0].replace(\"：\",\"\")\n",
    "    return dead_line      \n",
    "  else:\n",
    "    dead_line = work_detail_web.rsplit(\"報名期限\")[1].split(\"截止\")[0].replace(\"：\",\"\")\n",
    "    return dead_line"
   ]
  },
  {
   "cell_type": "code",
   "execution_count": 6,
   "metadata": {},
   "outputs": [],
   "source": [
    "def get_work_page(page):\n",
    "    g=requests.get(url+'?page='+str(page))\n",
    "    soup=BeautifulSoup(g.content, 'html.parser')\n",
    "    return soup"
   ]
  },
  {
   "cell_type": "code",
   "execution_count": 7,
   "metadata": {},
   "outputs": [],
   "source": [
    "def get_work_detail(link):\n",
    "    g=requests.get(link)\n",
    "    soup=BeautifulSoup(g.content, 'html.parser')\n",
    "    return soup    "
   ]
  },
  {
   "cell_type": "code",
   "execution_count": 8,
   "metadata": {},
   "outputs": [],
   "source": [
    "def get_work_table(soup,tables,work_table):\n",
    "    for i, item in enumerate(tables):\n",
    "        if item.find('a'): #過濾掉被刪除的文章\n",
    "            s = item.find('a')\n",
    "            url_base_website = urlparse(url)\n",
    "            work_detail_link = url_base_website._replace(path=urlparse(s.get('href')).path).geturl()\n",
    "            title = item.find_all('div')[1].string\n",
    "            work_page_soup = get_work_detail(work_detail_link)\n",
    "            dead_line = get_work_dead_line( work_page_soup )\n",
    "            print('#{}召聘職稱: {} 期限: {}\\n 連結：{}'.format(i+1, title, dead_line, work_detail_link ))\n",
    "            work_table.append([i-2, title, dead_line, work_detail_link ])"
   ]
  },
  {
   "cell_type": "code",
   "execution_count": 11,
   "metadata": {},
   "outputs": [
    {
     "name": "stdout",
     "output_type": "stream",
     "text": [
      "#1召聘職稱: 新北市立土城醫院呼吸治療科招募呼吸治療師二名，請 查照。 期限: 2022年04月20日\n",
      " 連結：https://www.cgmh.org.tw/tw/Systems/RecruitContent/3/202204070023\n",
      "#2召聘職稱: 林口長庚醫院檢驗醫學部招募抽血技術員，請 查照。 期限: 2022年04月17日\n",
      " 連結：https://www.cgmh.org.tw/tw/Systems/RecruitContent/3/202204070012\n",
      "#3召聘職稱: 新北市立土城醫院麻醉科招募麻醉技術員，請 查照。 期限: 2022年04月25日\n",
      " 連結：https://www.cgmh.org.tw/tw/Systems/RecruitContent/3/202204060024\n",
      "#4召聘職稱: 嘉義長庚紀念醫院招募定期契約戒菸衛教師人員，請 查照。 期限: 2022年4月20日\n",
      " 連結：https://www.cgmh.org.tw/tw/Systems/RecruitContent/3/202204080010\n",
      "#5召聘職稱: 新北市立土城醫院檢驗醫學科招募定期契約醫事檢驗師，請查照。 期限: 2022年05月07日\n",
      " 連結：https://www.cgmh.org.tw/tw/Systems/RecruitContent/3/202204060059\n",
      "#6召聘職稱: 嘉義長庚醫院招募血液透析治療員人員，請 查照。 期限: 111年04月30日\n",
      " 連結：https://www.cgmh.org.tw/tw/Systems/RecruitContent/3/202204060055\n",
      "#7召聘職稱: 基隆長庚醫院牙科招募牙科護理技術員3名，請查照。 期限: 2022年04月25日\n",
      " 連結：https://www.cgmh.org.tw/tw/Systems/RecruitContent/3/202204010037\n",
      "#8召聘職稱: 基隆長庚紀念醫院招募臨床心理師，請 查照。 期限: 2022年4月14日\n",
      " 連結：https://www.cgmh.org.tw/tw/Systems/RecruitContent/3/202203300006\n",
      "#9召聘職稱: 林口長庚醫院招募自費麻醉學員 期限: 2022年04月17日\n",
      " 連結：https://www.cgmh.org.tw/tw/Systems/RecruitContent/3/202203290025\n",
      "#10召聘職稱: 新北市立土城醫院影像診療科招募放射診斷照護員，請查照。 期限: 2022年04月18日\n",
      " 連結：https://www.cgmh.org.tw/tw/Systems/RecruitContent/3/202203310006\n",
      "#1召聘職稱: 新北市立土城醫院血液透析中心招募透析治療員，請 查照。 期限: 2022年04月24日\n",
      " 連結：https://www.cgmh.org.tw/tw/Systems/RecruitContent/3/202203290031\n",
      "#2召聘職稱: 桃園長庚醫院招募睡眠檢查技術員乙名 期限: 111年04月17日\n",
      " 連結：https://www.cgmh.org.tw/tw/Systems/RecruitContent/3/202203250004\n",
      "#3召聘職稱: 嘉義暨雲林長庚醫院藥劑科招募藥師人員，請查照。 期限: 2022年04月24日\n",
      " 連結：https://www.cgmh.org.tw/tw/Systems/RecruitContent/3/202204010034\n",
      "#4召聘職稱: 台北長庚醫院招募眼科醫技類跟診護理師 期限: 2022年04月20日\n",
      " 連結：https://www.cgmh.org.tw/tw/Systems/RecruitContent/3/202203290054\n",
      "#5召聘職稱: 新北市立土城醫院超音波暨內視鏡中心招募檢查室編制內技術員3名，請 查照。 期限: 2022年04月17日\n",
      " 連結：https://www.cgmh.org.tw/tw/Systems/RecruitContent/3/202203230036\n",
      "#6召聘職稱: 基隆長庚醫院招募物理治療人員，請查照。 期限: 2022 年 04 月 13 日\n",
      " 連結：https://www.cgmh.org.tw/tw/Systems/RecruitContent/3/202203240010\n",
      "#7召聘職稱: 林口長庚醫院腎臟科招募計畫研究助理一名 期限: 額滿為止\n",
      " 連結：https://www.cgmh.org.tw/tw/Systems/RecruitContent/3/202203100002\n",
      "#8召聘職稱: 桃園長庚醫院顱顏外科招募顱顏技術師乙名，請 查照。 期限: 2022年04月05日\n",
      " 連結：https://www.cgmh.org.tw/tw/Systems/RecruitContent/3/202203150014\n",
      "#9召聘職稱: 基隆長庚醫院麻醉科招募麻醉技術員，請　查照。 期限: 2022年4月24日\n",
      " 連結：https://www.cgmh.org.tw/tw/Systems/RecruitContent/3/202203160044\n",
      "#10召聘職稱: 桃園長庚醫院細胞治療中心招募研究計畫碩士級研究助理一名 期限: 111年04月30日\n",
      " 連結：https://www.cgmh.org.tw/tw/Systems/RecruitContent/3/202203110030\n",
      "#1召聘職稱: 高雄長庚醫院感染醫學科誠徵臨時工乙名 期限: 2022年5月31日\n",
      " 連結：https://www.cgmh.org.tw/tw/Systems/RecruitContent/3/202203110037\n",
      "#2召聘職稱: 高雄長庚醫院耳鼻喉部 招募編制內語言治療師1名 期限: 2022年 4 月 23 日\n",
      " 連結：https://www.cgmh.org.tw/tw/Systems/RecruitContent/3/202203080023\n",
      "#3召聘職稱: 台北及桃園長庚醫院顱顏齒顎矯正科招募碩士級專任研究助理1名 期限: 額滿為止\n",
      " 連結：https://www.cgmh.org.tw/tw/Systems/RecruitContent/3/202203020083\n"
     ]
    }
   ],
   "source": [
    "work_table=[]\n",
    "for _page in range(1,get_pages(pages)+1):\n",
    "    soup_=get_work_page(_page)\n",
    "    tables = soup_.find('div',class_=\"bg-grey pd100\").find_all('ul')[-2].find_all('li')\n",
    "    get_work_table(soup_,tables,work_table)"
   ]
  },
  {
   "cell_type": "code",
   "execution_count": null,
   "metadata": {},
   "outputs": [
    {
     "name": "stdout",
     "output_type": "stream",
     "text": [
      "    no                           召聘職稱           期限  \\\n",
      "0   -2   新北市立土城醫院呼吸治療科招募呼吸治療師二名，請 查照。  2022年04月20日   \n",
      "1   -1       林口長庚醫院檢驗醫學部招募抽血技術員，請 查照。  2022年04月17日   \n",
      "2    0       新北市立土城醫院麻醉科招募麻醉技術員，請 查照。  2022年04月25日   \n",
      "3    1    嘉義長庚紀念醫院招募定期契約戒菸衛教師人員，請 查照。   2022年4月20日   \n",
      "4    2  新北市立土城醫院檢驗醫學科招募定期契約醫事檢驗師，請查照。  2022年05月07日   \n",
      "..  ..                            ...          ...   \n",
      "95   3        嘉義長庚醫院招募血液透析治療員人員，請 查照。   111年04月30日   \n",
      "96   4       基隆長庚醫院牙科招募牙科護理技術員3名，請查照。  2022年04月25日   \n",
      "97   5          基隆長庚紀念醫院招募臨床心理師，請 查照。   2022年4月14日   \n",
      "98   6                 林口長庚醫院招募自費麻醉學員  2022年04月17日   \n",
      "99   7    新北市立土城醫院影像診療科招募放射診斷照護員，請查照。  2022年04月18日   \n",
      "\n",
      "                                                   連結  \n",
      "0   https://www.cgmh.org.tw/tw/Systems/RecruitCont...  \n",
      "1   https://www.cgmh.org.tw/tw/Systems/RecruitCont...  \n",
      "2   https://www.cgmh.org.tw/tw/Systems/RecruitCont...  \n",
      "3   https://www.cgmh.org.tw/tw/Systems/RecruitCont...  \n",
      "4   https://www.cgmh.org.tw/tw/Systems/RecruitCont...  \n",
      "..                                                ...  \n",
      "95  https://www.cgmh.org.tw/tw/Systems/RecruitCont...  \n",
      "96  https://www.cgmh.org.tw/tw/Systems/RecruitCont...  \n",
      "97  https://www.cgmh.org.tw/tw/Systems/RecruitCont...  \n",
      "98  https://www.cgmh.org.tw/tw/Systems/RecruitCont...  \n",
      "99  https://www.cgmh.org.tw/tw/Systems/RecruitCont...  \n",
      "\n",
      "[100 rows x 4 columns]\n"
     ]
    }
   ],
   "source": [
    "\n",
    "work_table=pd.DataFrame(work_table, columns=['no','召聘職稱','期限' ,'連結'])\n",
    "\n",
    "print(work_table)"
   ]
  },
  {
   "cell_type": "code",
   "execution_count": null,
   "metadata": {},
   "outputs": [
    {
     "name": "stdout",
     "output_type": "stream",
     "text": [
      "1\n",
      "2\n",
      "3\n"
     ]
    }
   ],
   "source": [
    "for f in range(1,get_pages(pages)+1):\n",
    "    print(f)"
   ]
  },
  {
   "cell_type": "code",
   "execution_count": null,
   "metadata": {},
   "outputs": [],
   "source": []
  }
 ],
 "metadata": {
  "kernelspec": {
   "display_name": "hospwork",
   "language": "python",
   "name": "hospwork"
  },
  "language_info": {
   "codemirror_mode": {
    "name": "ipython",
    "version": 3
   },
   "file_extension": ".py",
   "mimetype": "text/x-python",
   "name": "python",
   "nbconvert_exporter": "python",
   "pygments_lexer": "ipython3",
   "version": "3.8.10"
  },
  "orig_nbformat": 4
 },
 "nbformat": 4,
 "nbformat_minor": 2
}
