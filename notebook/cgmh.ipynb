{
 "cells": [
  {
   "cell_type": "code",
   "execution_count": 59,
   "metadata": {},
   "outputs": [],
   "source": [
    "from bs4 import BeautifulSoup\n",
    "import requests\n",
    "import pandas as pd\n",
    "from urllib.parse import urlparse"
   ]
  },
  {
   "cell_type": "code",
   "execution_count": 30,
   "metadata": {},
   "outputs": [],
   "source": [
    "url_base='https://www.cgmh.org.tw/tw/Systems/'\n",
    "url_work_table='RecruitInfo/3'\n",
    "url=url_base+url_work_table\n",
    "g=requests.get(url)\n",
    "soup=BeautifulSoup(g.content, 'html.parser')"
   ]
  },
  {
   "cell_type": "code",
   "execution_count": 3,
   "metadata": {},
   "outputs": [
    {
     "data": {
      "text/plain": [
       "3"
      ]
     },
     "execution_count": 3,
     "metadata": {},
     "output_type": "execute_result"
    }
   ],
   "source": [
    "pages=soup.find_all('ul' ,class_=\"layout__pagination ul-reset\")[0]\n",
    "def get_pages(pages):\n",
    "  counter=0\n",
    "  for i, item in enumerate(pages):\n",
    "      if item.find('a') :\n",
    "        s = item.find('a')\n",
    "        counter += 1\n",
    "        try:\n",
    "          #print(s.get(\"href\") ,s.string)\n",
    "          if s.get(\"href\") == \"javascript:void(0)\":\n",
    "            counter -= 1\n",
    "        except:\n",
    "          counter -= 1\n",
    "          #print(item,'error')\n",
    "      \n",
    "  return counter\n",
    "get_pages(pages)\n"
   ]
  },
  {
   "cell_type": "code",
   "execution_count": 10,
   "metadata": {},
   "outputs": [
    {
     "data": {
      "text/plain": [
       "<ul class=\"layout__pagination ul-reset\">\n",
       "<li><a class=\"active\" href=\"javascript:void(0)\">1</a></li><li><a href=\"/tw/Systems/RecruitInfo/3?page=2#list\">2</a></li><li><a href=\"/tw/Systems/RecruitInfo/3?page=3#list\">3</a></li><li><a href=\"/tw/Systems/RecruitInfo/3?page=2#list\"><i class=\"icon-angle-right\"></i></a></li>\n",
       "</ul>"
      ]
     },
     "execution_count": 10,
     "metadata": {},
     "output_type": "execute_result"
    }
   ],
   "source": [
    "pages"
   ]
  },
  {
   "cell_type": "code",
   "execution_count": 4,
   "metadata": {},
   "outputs": [],
   "source": [
    "tables = soup.find('div',class_=\"bg-grey pd100\").find_all('ul')[-2].find_all('li')"
   ]
  },
  {
   "cell_type": "code",
   "execution_count": 28,
   "metadata": {},
   "outputs": [],
   "source": [
    "def get_work_dead_line(soup):\n",
    "    work_detail_web = soup.find('article').get_text().replace(\"\\xa0\",\"\").replace('\\n',\"\").replace(\"\\u3000\",\"\")\n",
    "    dead_line = work_detail_web.rsplit(\"報名期限\")[1].split(\"截止\")[0].replace(\"：\",\"\")\n",
    "    return dead_line"
   ]
  },
  {
   "cell_type": "code",
   "execution_count": 6,
   "metadata": {},
   "outputs": [],
   "source": [
    "work_table=[]"
   ]
  },
  {
   "cell_type": "code",
   "execution_count": 62,
   "metadata": {},
   "outputs": [],
   "source": [
    "def get_work_page(soup,page):\n",
    "    if page == 1:\n",
    "        return soup\n",
    "    else:\n",
    "        g=requests.get(url+'?page='+str(page))\n",
    "        soup=BeautifulSoup(g.content, 'html.parser')\n",
    "        return soup"
   ]
  },
  {
   "cell_type": "code",
   "execution_count": 20,
   "metadata": {},
   "outputs": [],
   "source": [
    "def get_work_detail(link):\n",
    "    g=requests.get(link)\n",
    "    soup=BeautifulSoup(g.content, 'html.parser')\n",
    "    return soup    "
   ]
  },
  {
   "cell_type": "code",
   "execution_count": null,
   "metadata": {},
   "outputs": [],
   "source": [
    "def get_work_table(soup,tables,work_table):\n",
    "    for i, item in enumerate(tables):\n",
    "        if item.find('a'): #過濾掉被刪除的文章\n",
    "            s = item.find('a')\n",
    "            url_base_website = urlparse(url)\n",
    "            work_detail_link = url_base_website._replace(path=urlparse(s.get('href')).path).geturl()\n",
    "            title = item.find_all('div')[1].string\n",
    "            work_page_soup = get_work_detail(work_detail_link)\n",
    "            dead_line = get_work_dead_line( work_page_soup )\n",
    "            print('#{}召聘職稱: {} 期限: {}\\n 連結：{}'.format(i+1, title, dead_line, work_detail_link ))\n",
    "            work_table.append([i-2, title, dead_line, work_detail_link ])"
   ]
  },
  {
   "cell_type": "code",
   "execution_count": 61,
   "metadata": {},
   "outputs": [
    {
     "name": "stdout",
     "output_type": "stream",
     "text": [
      "新北市立土城醫院呼吸治療科招募呼吸治療師二名，請 查照。 https://www.cgmh.org.tw/tw/Systems/RecruitContent/3/202204070023\n",
      "#1召聘職稱: 新北市立土城醫院呼吸治療科招募呼吸治療師二名，請 查照。 期限: 2022年04月20日\n",
      " 連結：https://www.cgmh.org.tw/tw/Systems/RecruitContent/3/202204070023\n",
      "林口長庚醫院檢驗醫學部招募抽血技術員，請 查照。 https://www.cgmh.org.tw/tw/Systems/RecruitContent/3/202204070012\n",
      "#2召聘職稱: 林口長庚醫院檢驗醫學部招募抽血技術員，請 查照。 期限: 2022年04月17日\n",
      " 連結：https://www.cgmh.org.tw/tw/Systems/RecruitContent/3/202204070012\n",
      "新北市立土城醫院麻醉科招募麻醉技術員，請 查照。 https://www.cgmh.org.tw/tw/Systems/RecruitContent/3/202204060024\n",
      "#3召聘職稱: 新北市立土城醫院麻醉科招募麻醉技術員，請 查照。 期限: 2022年04月25日\n",
      " 連結：https://www.cgmh.org.tw/tw/Systems/RecruitContent/3/202204060024\n",
      "嘉義長庚紀念醫院招募定期契約戒菸衛教師人員，請 查照。 https://www.cgmh.org.tw/tw/Systems/RecruitContent/3/202204080010\n",
      "#4召聘職稱: 嘉義長庚紀念醫院招募定期契約戒菸衛教師人員，請 查照。 期限: 2022年4月20日\n",
      " 連結：https://www.cgmh.org.tw/tw/Systems/RecruitContent/3/202204080010\n",
      "新北市立土城醫院檢驗醫學科招募定期契約醫事檢驗師，請查照。 https://www.cgmh.org.tw/tw/Systems/RecruitContent/3/202204060059\n",
      "#5召聘職稱: 新北市立土城醫院檢驗醫學科招募定期契約醫事檢驗師，請查照。 期限: 2022年05月07日\n",
      " 連結：https://www.cgmh.org.tw/tw/Systems/RecruitContent/3/202204060059\n",
      "嘉義長庚醫院招募血液透析治療員人員，請 查照。 https://www.cgmh.org.tw/tw/Systems/RecruitContent/3/202204060055\n",
      "#6召聘職稱: 嘉義長庚醫院招募血液透析治療員人員，請 查照。 期限: 111年04月30日\n",
      " 連結：https://www.cgmh.org.tw/tw/Systems/RecruitContent/3/202204060055\n",
      "基隆長庚醫院牙科招募牙科護理技術員3名，請查照。 https://www.cgmh.org.tw/tw/Systems/RecruitContent/3/202204010037\n",
      "#7召聘職稱: 基隆長庚醫院牙科招募牙科護理技術員3名，請查照。 期限: 2022年04月25日\n",
      " 連結：https://www.cgmh.org.tw/tw/Systems/RecruitContent/3/202204010037\n",
      "基隆長庚紀念醫院招募臨床心理師，請 查照。 https://www.cgmh.org.tw/tw/Systems/RecruitContent/3/202203300006\n",
      "#8召聘職稱: 基隆長庚紀念醫院招募臨床心理師，請 查照。 期限: 2022年4月14日\n",
      " 連結：https://www.cgmh.org.tw/tw/Systems/RecruitContent/3/202203300006\n",
      "林口長庚醫院招募自費麻醉學員 https://www.cgmh.org.tw/tw/Systems/RecruitContent/3/202203290025\n",
      "#9召聘職稱: 林口長庚醫院招募自費麻醉學員 期限: 2022年04月17日\n",
      " 連結：https://www.cgmh.org.tw/tw/Systems/RecruitContent/3/202203290025\n",
      "新北市立土城醫院影像診療科招募放射診斷照護員，請查照。 https://www.cgmh.org.tw/tw/Systems/RecruitContent/3/202203310006\n",
      "#10召聘職稱: 新北市立土城醫院影像診療科招募放射診斷照護員，請查照。 期限: 2022年04月18日\n",
      " 連結：https://www.cgmh.org.tw/tw/Systems/RecruitContent/3/202203310006\n"
     ]
    },
    {
     "ename": "TypeError",
     "evalue": "can only concatenate str (not \"int\") to str",
     "output_type": "error",
     "traceback": [
      "\u001b[0;31m---------------------------------------------------------------------------\u001b[0m",
      "\u001b[0;31mTypeError\u001b[0m                                 Traceback (most recent call last)",
      "\u001b[1;32m/home/ddvd/hospwork/notebook/cgmh.ipynb Cell 11'\u001b[0m in \u001b[0;36m<cell line: 1>\u001b[0;34m()\u001b[0m\n\u001b[1;32m      <a href='vscode-notebook-cell:/home/ddvd/hospwork/notebook/cgmh.ipynb#ch0000008?line=0'>1</a>\u001b[0m \u001b[39mfor\u001b[39;00m _page \u001b[39min\u001b[39;00m \u001b[39mrange\u001b[39m(\u001b[39m1\u001b[39m,get_pages(pages)):\n\u001b[0;32m----> <a href='vscode-notebook-cell:/home/ddvd/hospwork/notebook/cgmh.ipynb#ch0000008?line=1'>2</a>\u001b[0m     soup_\u001b[39m=\u001b[39mget_work_page(soup,_page)\n\u001b[1;32m      <a href='vscode-notebook-cell:/home/ddvd/hospwork/notebook/cgmh.ipynb#ch0000008?line=2'>3</a>\u001b[0m     get_work_table(soup_,tables,work_table)\n",
      "\u001b[1;32m/home/ddvd/hospwork/notebook/cgmh.ipynb Cell 8'\u001b[0m in \u001b[0;36mget_work_page\u001b[0;34m(soup, page)\u001b[0m\n\u001b[1;32m      <a href='vscode-notebook-cell:/home/ddvd/hospwork/notebook/cgmh.ipynb#ch0000009?line=2'>3</a>\u001b[0m     \u001b[39mreturn\u001b[39;00m soup\n\u001b[1;32m      <a href='vscode-notebook-cell:/home/ddvd/hospwork/notebook/cgmh.ipynb#ch0000009?line=3'>4</a>\u001b[0m \u001b[39melse\u001b[39;00m:\n\u001b[0;32m----> <a href='vscode-notebook-cell:/home/ddvd/hospwork/notebook/cgmh.ipynb#ch0000009?line=4'>5</a>\u001b[0m     g\u001b[39m=\u001b[39mrequests\u001b[39m.\u001b[39mget(url\u001b[39m+\u001b[39;49m\u001b[39m'\u001b[39;49m\u001b[39m?page=\u001b[39;49m\u001b[39m'\u001b[39;49m\u001b[39m+\u001b[39;49mpage)\n\u001b[1;32m      <a href='vscode-notebook-cell:/home/ddvd/hospwork/notebook/cgmh.ipynb#ch0000009?line=5'>6</a>\u001b[0m     soup\u001b[39m=\u001b[39mBeautifulSoup(g\u001b[39m.\u001b[39mcontent, \u001b[39m'\u001b[39m\u001b[39mhtml.parser\u001b[39m\u001b[39m'\u001b[39m)\n\u001b[1;32m      <a href='vscode-notebook-cell:/home/ddvd/hospwork/notebook/cgmh.ipynb#ch0000009?line=6'>7</a>\u001b[0m     \u001b[39mreturn\u001b[39;00m soup\n",
      "\u001b[0;31mTypeError\u001b[0m: can only concatenate str (not \"int\") to str"
     ]
    }
   ],
   "source": [
    "for _page in range(1,get_pages(pages)):\n",
    "    soup_=get_work_page(soup,_page)\n",
    "    get_work_table(soup_,tables,work_table)"
   ]
  },
  {
   "cell_type": "code",
   "execution_count": null,
   "metadata": {},
   "outputs": [],
   "source": [
    "\n",
    "work_table=pd.DataFrame(work_table, columns=['no','召聘職稱','召聘單位','期限' ,'連結'])\n",
    "\n",
    "print(work_table)"
   ]
  },
  {
   "cell_type": "code",
   "execution_count": 54,
   "metadata": {},
   "outputs": [
    {
     "data": {
      "text/plain": [
       "ParseResult(scheme='https', netloc='www.cgmh.org.tw', path='/tw/Systems/RecruitInfo/3', params='', query='', fragment='')"
      ]
     },
     "execution_count": 54,
     "metadata": {},
     "output_type": "execute_result"
    }
   ],
   "source": [
    "urlparse(url)"
   ]
  }
 ],
 "metadata": {
  "kernelspec": {
   "display_name": "hospwork",
   "language": "python",
   "name": "hospwork"
  },
  "language_info": {
   "codemirror_mode": {
    "name": "ipython",
    "version": 3
   },
   "file_extension": ".py",
   "mimetype": "text/x-python",
   "name": "python",
   "nbconvert_exporter": "python",
   "pygments_lexer": "ipython3",
   "version": "3.8.10"
  },
  "orig_nbformat": 4
 },
 "nbformat": 4,
 "nbformat_minor": 2
}
