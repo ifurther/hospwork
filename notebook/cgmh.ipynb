{
 "cells": [
  {
   "cell_type": "code",
   "execution_count": 15,
   "metadata": {},
   "outputs": [],
   "source": [
    "from bs4 import BeautifulSoup\n",
    "import requests\n",
    "import pandas as pd\n",
    "import re\n",
    "from urllib.parse import urlparse"
   ]
  },
  {
   "cell_type": "code",
   "execution_count": 2,
   "metadata": {},
   "outputs": [],
   "source": [
    "url_base='https://www.cgmh.org.tw/tw/Systems/'\n",
    "url_work_table='RecruitInfo/3'\n",
    "url=url_base+url_work_table\n",
    "g=requests.get(url)\n",
    "soup=BeautifulSoup(g.content, 'html.parser')"
   ]
  },
  {
   "cell_type": "code",
   "execution_count": 3,
   "metadata": {},
   "outputs": [
    {
     "data": {
      "text/plain": [
       "3"
      ]
     },
     "execution_count": 3,
     "metadata": {},
     "output_type": "execute_result"
    }
   ],
   "source": [
    "pages=soup.find_all('ul' ,class_=\"layout__pagination ul-reset\")[0]\n",
    "def get_pages(pages):\n",
    "  counter=0\n",
    "  for i, item in enumerate(pages):\n",
    "      if item.find('a') :\n",
    "        s = item.find('a')\n",
    "        counter += 1\n",
    "        try:\n",
    "          #print(s.get(\"href\") ,s.string)\n",
    "          if s.get(\"href\") == \"javascript:void(0)\":\n",
    "            counter -= 1\n",
    "        except:\n",
    "          counter -= 1\n",
    "          #print(item,'error')\n",
    "      \n",
    "  return counter\n",
    "get_pages(pages)\n"
   ]
  },
  {
   "cell_type": "code",
   "execution_count": 41,
   "metadata": {},
   "outputs": [],
   "source": [
    "def get_work_dead_line( soup):  \n",
    "  work_detail_web = soup.find('article').get_text().replace(\"\\xa0\",\"\").replace('\\n',\"\").replace(\"\\u3000\",\"\")\n",
    "  if '額滿為止' in work_detail_web:\n",
    "    return '額滿為止'\n",
    "  elif '自即日起' in work_detail_web:\n",
    "    return '自即日起'\n",
    "  elif '即日起至' in work_detail_web:\n",
    "    dead_line = re.findall(\"\\d+年\\d+月\\d+日\",work_detail_web.rsplit('即日起至')[1].split(\"止\")[0].replace(' ',''))[0]\n",
    "    return dead_line\n",
    "  elif '即日起收件至' in work_detail_web:\n",
    "    dead_line = work_detail_web.rsplit(\"即日起收件至\")[1].split(\"止\")[0].replace(\"：\",\"\")\n",
    "    return dead_line      \n",
    "  else:\n",
    "    try:\n",
    "      dead_line = work_detail_web.rsplit(\"報名期限\")[1].split(\"截止\")[0].replace(\"：\",\"\")\n",
    "    except:\n",
    "      return re.findall(\"\\d+年\\d+月\\d+日\",work_detail_web)[0]\n",
    "    return dead_line"
   ]
  },
  {
   "cell_type": "code",
   "execution_count": 5,
   "metadata": {},
   "outputs": [],
   "source": [
    "def get_work_page(page):\n",
    "    g=requests.get(url+'?page='+str(page))\n",
    "    soup=BeautifulSoup(g.content, 'html.parser')\n",
    "    return soup"
   ]
  },
  {
   "cell_type": "code",
   "execution_count": 6,
   "metadata": {},
   "outputs": [],
   "source": [
    "def get_work_detail(link):\n",
    "    g=requests.get(link)\n",
    "    soup=BeautifulSoup(g.content, 'html.parser')\n",
    "    return soup    "
   ]
  },
  {
   "cell_type": "code",
   "execution_count": 7,
   "metadata": {},
   "outputs": [],
   "source": [
    "def get_work_table(soup,tables,work_table):\n",
    "    for i, item in enumerate(tables):\n",
    "        if item.find('a'): #過濾掉被刪除的文章\n",
    "            s = item.find('a')\n",
    "            url_base_website = urlparse(url)\n",
    "            work_detail_link = url_base_website._replace(path=urlparse(s.get('href')).path).geturl()\n",
    "            title = item.find_all('div')[1].string\n",
    "            work_page_soup = get_work_detail(work_detail_link)\n",
    "            dead_line = get_work_dead_line( work_page_soup )\n",
    "            print('#{}召聘職稱: {} 期限: {}\\n 連結：{}'.format(i+1, title, dead_line, work_detail_link ))\n",
    "            work_table.append([i-2, title, dead_line, work_detail_link ])"
   ]
  },
  {
   "cell_type": "code",
   "execution_count": 42,
   "metadata": {},
   "outputs": [
    {
     "name": "stdout",
     "output_type": "stream",
     "text": [
      "#1召聘職稱: 桃園長庚醫院復健科招募語言治療師乙名，請查照。 期限: 2022年06月26日\n",
      " 連結：https://www.cgmh.org.tw/tw/Systems/RecruitContent/3/202205230024\n",
      "#2召聘職稱: 台北長庚醫院招募眼科門診跟診護理師，請查照。 期限: 2022年6月8日\n",
      " 連結：https://www.cgmh.org.tw/tw/Systems/RecruitContent/3/202205230039\n",
      "#3召聘職稱: 林口長庚醫院腎臟科招募醫檢師，請查照。 期限: 2022年06月05日\n",
      " 連結：https://www.cgmh.org.tw/tw/Systems/RecruitContent/3/202205200002\n",
      "#4召聘職稱: 林口長庚實驗動物中心招募專任學士級研究助理 期限: 2022年6月30日\n",
      " 連結：https://www.cgmh.org.tw/tw/Systems/RecruitContent/3/202205130038\n",
      "#5召聘職稱: 基隆長庚醫院招募定期契約臨床心理師，請 查照。 期限: 2022年6月1日\n",
      " 連結：https://www.cgmh.org.tw/tw/Systems/RecruitContent/3/202205170029\n",
      "#6召聘職稱: 高雄市立鳳山醫院招募定期契約個案協調師，請 查照。 期限: 2022年5月26日\n",
      " 連結：https://www.cgmh.org.tw/tw/Systems/RecruitContent/3/202205190016\n",
      "#7召聘職稱: 基隆長庚醫院檢驗醫學科招募定期契約醫事檢驗師 期限: 2022年6月5日\n",
      " 連結：https://www.cgmh.org.tw/tw/Systems/RecruitContent/3/202205180020\n",
      "#8召聘職稱: 高雄長庚醫院放射診斷科招募定契照護師，請 查照。 期限: 2022年05月27日\n",
      " 連結：https://www.cgmh.org.tw/tw/Systems/RecruitContent/3/202205170021\n",
      "#9召聘職稱: 新北市立土城醫院藥劑科招募藥師3名，請查照。 期限: 2022年06月05日\n",
      " 連結：https://www.cgmh.org.tw/tw/Systems/RecruitContent/3/202205120007\n",
      "#10召聘職稱: 台北長庚中藥局招募一般藥師 期限: 2022年05月29日\n",
      " 連結：https://www.cgmh.org.tw/tw/Systems/RecruitContent/3/202205170031\n",
      "#1召聘職稱: 林口/桃園長庚醫院檢驗醫學部招募部分工時抽血技術員，請查照。 期限: 2022年05月29日\n",
      " 連結：https://www.cgmh.org.tw/tw/Systems/RecruitContent/3/202205160025\n",
      "#2召聘職稱: 嘉義長庚醫院招募血液透析治療員人員，請 查照。 期限: 111年06月05日\n",
      " 連結：https://www.cgmh.org.tw/tw/Systems/RecruitContent/3/202205130037\n",
      "#3召聘職稱: 高雄長庚紀念醫院 粒線體醫學研究中心 誠徵博士後研究員 期限: 自即日起\n",
      " 連結：https://www.cgmh.org.tw/tw/Systems/RecruitContent/3/202205110016\n",
      "#4召聘職稱: 新北市立土城醫院血液透析中心招募透析治療員，請 查照。 期限: 2022年06月05日\n",
      " 連結：https://www.cgmh.org.tw/tw/Systems/RecruitContent/3/202205070001\n",
      "#5召聘職稱: 林口長庚醫院招募胃腸肝膽科系檢查室技術員壹名，請 查照 期限: 111年06月05日\n",
      " 連結：https://www.cgmh.org.tw/tw/Systems/RecruitContent/3/202205050047\n",
      "#6召聘職稱: 高雄長庚紀念醫院 生物醫學轉譯研究所陳定濰博士實驗室，誠徵專任助理。 期限: 2022年6月30日\n",
      " 連結：https://www.cgmh.org.tw/tw/Systems/RecruitContent/3/202204280061\n",
      "#7召聘職稱: 基隆長庚醫院招募物理治療人員，請查照。 期限: 2022 年 05 月 31 日\n",
      " 連結：https://www.cgmh.org.tw/tw/Systems/RecruitContent/3/202204270035\n",
      "#8召聘職稱: 基隆長庚醫院麻醉科招募麻醉技術員，請　查照。 期限: 2022年5月31日\n",
      " 連結：https://www.cgmh.org.tw/tw/Systems/RecruitContent/3/202204270020\n",
      "#9召聘職稱: 林口長庚醫院整形外科系誠徵學士/碩士級研究助理 期限: 額滿為止\n",
      " 連結：https://www.cgmh.org.tw/tw/Systems/RecruitContent/3/202204250010\n",
      "#10召聘職稱: 高雄長庚生物醫學轉譯研究所蔡靜宜博士實驗室誠徵學/碩士級研究助理一名 期限: 2022年5月31日\n",
      " 連結：https://www.cgmh.org.tw/tw/Systems/RecruitContent/3/202204250020\n",
      "#1召聘職稱: 新北市立土城醫院感染醫學科招募定期契約個案協調師一名，請查照。 期限: 2022年05月29日\n",
      " 連結：https://www.cgmh.org.tw/tw/Systems/RecruitContent/3/202204140044\n",
      "#2召聘職稱: 林口長庚醫院腎臟科招募計畫研究助理一名 期限: 額滿為止\n",
      " 連結：https://www.cgmh.org.tw/tw/Systems/RecruitContent/3/202203100002\n",
      "#3召聘職稱: 高雄長庚醫院感染醫學科誠徵臨時工乙名 期限: 2022年5月31日\n",
      " 連結：https://www.cgmh.org.tw/tw/Systems/RecruitContent/3/202203110037\n"
     ]
    }
   ],
   "source": [
    "work_table=[]\n",
    "for _page in range(1,get_pages(pages)+1):\n",
    "    soup_=get_work_page(_page)\n",
    "    tables = soup_.find('div',class_=\"bg-grey pd100\").find_all('ul')[-2].find_all('li')\n",
    "    get_work_table(soup_,tables,work_table)"
   ]
  },
  {
   "cell_type": "code",
   "execution_count": 43,
   "metadata": {},
   "outputs": [
    {
     "name": "stdout",
     "output_type": "stream",
     "text": [
      "    no                                召聘職稱                期限  \\\n",
      "0   -2             桃園長庚醫院復健科招募語言治療師乙名，請查照。       2022年06月26日   \n",
      "1   -1              台北長庚醫院招募眼科門診跟診護理師，請查照。         2022年6月8日   \n",
      "2    0                 林口長庚醫院腎臟科招募醫檢師，請查照。       2022年06月05日   \n",
      "3    1               林口長庚實驗動物中心招募專任學士級研究助理        2022年6月30日   \n",
      "4    2             基隆長庚醫院招募定期契約臨床心理師，請 查照。         2022年6月1日   \n",
      "5    3           高雄市立鳳山醫院招募定期契約個案協調師，請 查照。        2022年5月26日   \n",
      "6    4              基隆長庚醫院檢驗醫學科招募定期契約醫事檢驗師         2022年6月5日   \n",
      "7    5            高雄長庚醫院放射診斷科招募定契照護師，請 查照。       2022年05月27日   \n",
      "8    6              新北市立土城醫院藥劑科招募藥師3名，請查照。       2022年06月05日   \n",
      "9    7                       台北長庚中藥局招募一般藥師       2022年05月29日   \n",
      "10  -2      林口/桃園長庚醫院檢驗醫學部招募部分工時抽血技術員，請查照。       2022年05月29日   \n",
      "11  -1             嘉義長庚醫院招募血液透析治療員人員，請 查照。        111年06月05日   \n",
      "12   0         高雄長庚紀念醫院 粒線體醫學研究中心 誠徵博士後研究員              自即日起   \n",
      "13   1         新北市立土城醫院血液透析中心招募透析治療員，請 查照。       2022年06月05日   \n",
      "14   2         林口長庚醫院招募胃腸肝膽科系檢查室技術員壹名，請 查照        111年06月05日   \n",
      "15   3  高雄長庚紀念醫院 生物醫學轉譯研究所陳定濰博士實驗室，誠徵專任助理。        2022年6月30日   \n",
      "16   4                 基隆長庚醫院招募物理治療人員，請查照。  2022 年 05 月 31 日   \n",
      "17   5              基隆長庚醫院麻醉科招募麻醉技術員，請　查照。        2022年5月31日   \n",
      "18   6             林口長庚醫院整形外科系誠徵學士/碩士級研究助理              額滿為止   \n",
      "19   7  高雄長庚生物醫學轉譯研究所蔡靜宜博士實驗室誠徵學/碩士級研究助理一名        2022年5月31日   \n",
      "20  -2     新北市立土城醫院感染醫學科招募定期契約個案協調師一名，請查照。       2022年05月29日   \n",
      "21  -1                 林口長庚醫院腎臟科招募計畫研究助理一名              額滿為止   \n",
      "22   0                  高雄長庚醫院感染醫學科誠徵臨時工乙名        2022年5月31日   \n",
      "\n",
      "                                                   連結  \n",
      "0   https://www.cgmh.org.tw/tw/Systems/RecruitCont...  \n",
      "1   https://www.cgmh.org.tw/tw/Systems/RecruitCont...  \n",
      "2   https://www.cgmh.org.tw/tw/Systems/RecruitCont...  \n",
      "3   https://www.cgmh.org.tw/tw/Systems/RecruitCont...  \n",
      "4   https://www.cgmh.org.tw/tw/Systems/RecruitCont...  \n",
      "5   https://www.cgmh.org.tw/tw/Systems/RecruitCont...  \n",
      "6   https://www.cgmh.org.tw/tw/Systems/RecruitCont...  \n",
      "7   https://www.cgmh.org.tw/tw/Systems/RecruitCont...  \n",
      "8   https://www.cgmh.org.tw/tw/Systems/RecruitCont...  \n",
      "9   https://www.cgmh.org.tw/tw/Systems/RecruitCont...  \n",
      "10  https://www.cgmh.org.tw/tw/Systems/RecruitCont...  \n",
      "11  https://www.cgmh.org.tw/tw/Systems/RecruitCont...  \n",
      "12  https://www.cgmh.org.tw/tw/Systems/RecruitCont...  \n",
      "13  https://www.cgmh.org.tw/tw/Systems/RecruitCont...  \n",
      "14  https://www.cgmh.org.tw/tw/Systems/RecruitCont...  \n",
      "15  https://www.cgmh.org.tw/tw/Systems/RecruitCont...  \n",
      "16  https://www.cgmh.org.tw/tw/Systems/RecruitCont...  \n",
      "17  https://www.cgmh.org.tw/tw/Systems/RecruitCont...  \n",
      "18  https://www.cgmh.org.tw/tw/Systems/RecruitCont...  \n",
      "19  https://www.cgmh.org.tw/tw/Systems/RecruitCont...  \n",
      "20  https://www.cgmh.org.tw/tw/Systems/RecruitCont...  \n",
      "21  https://www.cgmh.org.tw/tw/Systems/RecruitCont...  \n",
      "22  https://www.cgmh.org.tw/tw/Systems/RecruitCont...  \n"
     ]
    }
   ],
   "source": [
    "\n",
    "work_table=pd.DataFrame(work_table, columns=['no','召聘職稱','期限' ,'連結'])\n",
    "\n",
    "print(work_table)"
   ]
  },
  {
   "cell_type": "code",
   "execution_count": null,
   "metadata": {},
   "outputs": [
    {
     "name": "stdout",
     "output_type": "stream",
     "text": [
      "1\n",
      "2\n",
      "3\n"
     ]
    }
   ],
   "source": [
    "for f in range(1,get_pages(pages)+1):\n",
    "    print(f)"
   ]
  },
  {
   "cell_type": "code",
   "execution_count": 38,
   "metadata": {},
   "outputs": [
    {
     "data": {
      "text/plain": [
       "'2022年6月30日'"
      ]
     },
     "execution_count": 38,
     "metadata": {},
     "output_type": "execute_result"
    }
   ],
   "source": [
    "re.findall(\"\\d+年\\d+月\\d+日\",\" 報名期限：即日起至 2022年 6 月 30 日 截止\".rsplit('即日起至')[1].split(\"止\")[0].replace(' ',''))[0]"
   ]
  }
 ],
 "metadata": {
  "kernelspec": {
   "display_name": "hospwork",
   "language": "python",
   "name": "hospwork"
  },
  "language_info": {
   "codemirror_mode": {
    "name": "ipython",
    "version": 3
   },
   "file_extension": ".py",
   "mimetype": "text/x-python",
   "name": "python",
   "nbconvert_exporter": "python",
   "pygments_lexer": "ipython3",
   "version": "3.8.10"
  },
  "orig_nbformat": 4
 },
 "nbformat": 4,
 "nbformat_minor": 2
}
