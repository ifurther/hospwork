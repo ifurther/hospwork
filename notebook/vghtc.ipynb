{
 "cells": [
  {
   "cell_type": "code",
   "execution_count": 2,
   "id": "26cacb24",
   "metadata": {},
   "outputs": [],
   "source": [
    "from bs4 import BeautifulSoup\n",
    "\n",
    "import requests\n",
    "\n",
    "import pandas as pd\n",
    "\n",
    "from urllib.parse import urlparse"
   ]
  },
  {
   "cell_type": "code",
   "execution_count": 4,
   "id": "97d0c14a",
   "metadata": {},
   "outputs": [],
   "source": [
    "url_base='https://www.vghtc.gov.tw'\n",
    "\n",
    "url_work_table='/Module/Recruitment?WebMenuID=9d005e46-411b-46fc-b438-e0bd561eba78'\n",
    "\n",
    "url=url_base+url_work_table\n",
    "\n",
    "g=requests.get(url)\n",
    "\n",
    "soup=BeautifulSoup(g.content, 'html.parser')"
   ]
  },
  {
   "cell_type": "code",
   "execution_count": 8,
   "id": "6695c7e0",
   "metadata": {},
   "outputs": [
    {
     "data": {
      "text/plain": [
       "[<tr>\n",
       " <th><div style=\"text-align:left;\">更新日期</div></th>\n",
       " <th>徵才類別</th>\n",
       " <th><div style=\"text-align:left;\">徵才項目</div></th>\n",
       " <th><div style=\"text-align:left;\">報名截止日</div></th>\n",
       " </tr>,\n",
       " <tr>\n",
       " <td data-th=\"更新日期\">2022/10/12</td>\n",
       " <td data-th=\"徵才類別\">住院醫師</td>\n",
       " <td class=\"aboutNews\" data-th=\"徵才項目\"><a href=\"/Module/RecruitmentContent?RecruitmentID=cf1f0bc9-754d-4716-ab7c-15275594e857&amp;WebMenuID=9d005e46-411b-46fc-b438-e0bd561eba78\">【徵才公告】急診部急診醫學科招訓112年度第一年住院醫師</a></td>\n",
       " <td data-th=\"報名截止日\">2022/10/19</td>\n",
       " </tr>,\n",
       " <tr>\n",
       " <td data-th=\"更新日期\">2022/10/12</td>\n",
       " <td data-th=\"徵才類別\">住院醫師</td>\n",
       " <td class=\"aboutNews\" data-th=\"徵才項目\"><a href=\"/Module/RecruitmentContent?RecruitmentID=37e42dc6-679c-41c4-981b-0ba938156e74&amp;WebMenuID=9d005e46-411b-46fc-b438-e0bd561eba78\">【病理檢驗部】解剖病理科招訓112年第一年住院醫師甄選公告</a></td>\n",
       " <td data-th=\"報名截止日\">2022/10/24</td>\n",
       " </tr>,\n",
       " <tr>\n",
       " <td data-th=\"更新日期\">2022/10/11</td>\n",
       " <td data-th=\"徵才類別\">行政人員</td>\n",
       " <td class=\"aboutNews\" data-th=\"徵才項目\"><a href=\"/Module/RecruitmentContent?RecruitmentID=464187c2-8142-4913-a1a1-536cebf531a6&amp;WebMenuID=9d005e46-411b-46fc-b438-e0bd561eba78\">醫務企管部病歷管理組徵-契約醫務管理師或契約醫務副管理師</a></td>\n",
       " <td data-th=\"報名截止日\">2022/10/27</td>\n",
       " </tr>,\n",
       " <tr>\n",
       " <td data-th=\"更新日期\">2022/10/11</td>\n",
       " <td data-th=\"徵才類別\">行政人員</td>\n",
       " <td class=\"aboutNews\" data-th=\"徵才項目\"><a href=\"/Module/RecruitmentContent?RecruitmentID=6b9a38a3-b921-45c6-8132-19647985798a&amp;WebMenuID=9d005e46-411b-46fc-b438-e0bd561eba78\">資訊室徵：【契約資訊副工程師】(後端工程師 Backend Engineer)三名</a></td>\n",
       " <td data-th=\"報名截止日\">2022/10/25</td>\n",
       " </tr>,\n",
       " <tr>\n",
       " <td data-th=\"更新日期\">2022/10/11</td>\n",
       " <td data-th=\"徵才類別\">行政人員</td>\n",
       " <td class=\"aboutNews\" data-th=\"徵才項目\"><a href=\"/Module/RecruitmentContent?RecruitmentID=32d2aded-e3e7-48ac-bd8e-1f5f6cd66b42&amp;WebMenuID=9d005e46-411b-46fc-b438-e0bd561eba78\">資訊室徵【契約資訊副工程師(.NET)】一名</a></td>\n",
       " <td data-th=\"報名截止日\">2022/10/22</td>\n",
       " </tr>,\n",
       " <tr>\n",
       " <td data-th=\"更新日期\">2022/10/11</td>\n",
       " <td data-th=\"徵才類別\">住院醫師</td>\n",
       " <td class=\"aboutNews\" data-th=\"徵才項目\"><a href=\"/Module/RecruitmentContent?RecruitmentID=b9d5f47a-6174-45c5-a07f-56e3a576a684&amp;WebMenuID=9d005e46-411b-46fc-b438-e0bd561eba78\">臺中榮民總醫院家庭醫學部招訓112年度第一年住院醫師甄選公告</a></td>\n",
       " <td data-th=\"報名截止日\">2022/11/11</td>\n",
       " </tr>,\n",
       " <tr>\n",
       " <td data-th=\"更新日期\">2022/10/3</td>\n",
       " <td data-th=\"徵才類別\">技術人員</td>\n",
       " <td class=\"aboutNews\" data-th=\"徵才項目\"><a href=\"/Module/RecruitmentContent?RecruitmentID=fc2ad099-b8fe-436b-a638-48f4bded9603&amp;WebMenuID=9d005e46-411b-46fc-b438-e0bd561eba78\">【徵才公告】胸腔內科徵：契約醫事技術師1名</a></td>\n",
       " <td data-th=\"報名截止日\">2022/12/31</td>\n",
       " </tr>,\n",
       " <tr>\n",
       " <td data-th=\"更新日期\">2022/10/3</td>\n",
       " <td data-th=\"徵才類別\">技術人員</td>\n",
       " <td class=\"aboutNews\" data-th=\"徵才項目\"><a href=\"/Module/RecruitmentContent?RecruitmentID=15183b63-9999-4bcd-b89c-0d9648427b45&amp;WebMenuID=9d005e46-411b-46fc-b438-e0bd561eba78\">藥學部誠徵契約藥師(中藥局)1名 </a></td>\n",
       " <td data-th=\"報名截止日\">2022/10/31</td>\n",
       " </tr>,\n",
       " <tr>\n",
       " <td data-th=\"更新日期\">2022/9/30</td>\n",
       " <td data-th=\"徵才類別\">依時計時人員</td>\n",
       " <td class=\"aboutNews\" data-th=\"徵才項目\"><a href=\"/Module/RecruitmentContent?RecruitmentID=3270c02b-6e56-49d6-88bb-daea5455f076&amp;WebMenuID=9d005e46-411b-46fc-b438-e0bd561eba78\">【徵才公告】家庭醫學部誠徵計畫工時人員</a></td>\n",
       " <td data-th=\"報名截止日\">2022/10/12</td>\n",
       " </tr>,\n",
       " <tr>\n",
       " <td data-th=\"更新日期\">2022/9/29</td>\n",
       " <td data-th=\"徵才類別\">醫師</td>\n",
       " <td class=\"aboutNews\" data-th=\"徵才項目\"><a href=\"/Module/RecruitmentContent?RecruitmentID=ea2fec17-d919-4ce8-a706-1ea46102d838&amp;WebMenuID=9d005e46-411b-46fc-b438-e0bd561eba78\">【病理檢驗部】誠徵解剖病理科契約主治醫師</a></td>\n",
       " <td data-th=\"報名截止日\">2022/10/14</td>\n",
       " </tr>]"
      ]
     },
     "execution_count": 8,
     "metadata": {},
     "output_type": "execute_result"
    }
   ],
   "source": [
    "soup.find('table').find_all('tr')"
   ]
  },
  {
   "cell_type": "markdown",
   "id": "e738a867",
   "metadata": {},
   "source": [
    "# Get page link\n",
    "In this website the work table has some page, so the function should find page link for next step."
   ]
  },
  {
   "cell_type": "code",
   "execution_count": 17,
   "id": "bcefe96e",
   "metadata": {},
   "outputs": [
    {
     "data": {
      "text/plain": [
       "['https://www.vghtc.gov.tw/Module/Recruitment?WebMenuID=9d005e46-411b-46fc-b438-e0bd561eba78',\n",
       " 'https://www.vghtc.gov.tw/Module/Recruitment?WebMenuID=9d005e46-411b-46fc-b438-e0bd561eba78&page=2']"
      ]
     },
     "execution_count": 17,
     "metadata": {},
     "output_type": "execute_result"
    }
   ],
   "source": [
    "pages_link = []\n",
    "\n",
    "pages_link.append(url)\n",
    "\n",
    "for pp in soup.find('div', class_=\"pager\").find_all('a'):\n",
    "    if pp.get('title') == 'Next page':\n",
    "        pass\n",
    "    else:\n",
    "        pages_link.append(url_base+pp.get('href'))\n",
    "pages_link"
   ]
  },
  {
   "cell_type": "markdown",
   "id": "a02cbf5f",
   "metadata": {},
   "source": [
    "# Get work table\n",
    "\n",
    "The get_work_page function is used for getting each work page\n"
   ]
  },
  {
   "cell_type": "code",
   "execution_count": null,
   "id": "b74e15bb",
   "metadata": {},
   "outputs": [],
   "source": []
  }
 ],
 "metadata": {
  "kernelspec": {
   "display_name": "Python 3 (ipykernel)",
   "language": "python",
   "name": "python3"
  },
  "language_info": {
   "codemirror_mode": {
    "name": "ipython",
    "version": 3
   },
   "file_extension": ".py",
   "mimetype": "text/x-python",
   "name": "python",
   "nbconvert_exporter": "python",
   "pygments_lexer": "ipython3",
   "version": "3.8.10"
  }
 },
 "nbformat": 4,
 "nbformat_minor": 5
}
