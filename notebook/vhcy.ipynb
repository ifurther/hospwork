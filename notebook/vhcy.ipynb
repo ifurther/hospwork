{
 "cells": [
  {
   "cell_type": "code",
   "execution_count": 2,
   "metadata": {},
   "outputs": [],
   "source": [
    "from bs4 import BeautifulSoup\n",
    "import requests\n",
    "import pandas as pd\n",
    "import re\n",
    "from urllib.parse import urlparse"
   ]
  },
  {
   "cell_type": "code",
   "execution_count": 3,
   "metadata": {},
   "outputs": [],
   "source": [
    "url_base='https://www.vhcy.gov.tw'\n",
    "url_work_table='/PageView/RowView?WebMenuID=1c791b28-2968-49c9-8d5a-32dceca8ad1b'\n",
    "url=url_base+url_work_table\n",
    "g=requests.get(url)\n",
    "soup=BeautifulSoup(g.content, 'html.parser')"
   ]
  },
  {
   "cell_type": "markdown",
   "metadata": {},
   "source": [
    "# Get page link\n",
    "In this website the work table has some page, so the function should find page link for next step."
   ]
  },
  {
   "cell_type": "code",
   "execution_count": 14,
   "metadata": {},
   "outputs": [
    {
     "name": "stdout",
     "output_type": "stream",
     "text": [
      "2 https://www.vhcy.gov.tw/PageView/RowView?WebMenuID=1c791b28-2968-49c9-8d5a-32dceca8ad1b&page=2\n",
      "3 https://www.vhcy.gov.tw/PageView/RowView?WebMenuID=1c791b28-2968-49c9-8d5a-32dceca8ad1b&page=3\n",
      "4 https://www.vhcy.gov.tw/PageView/RowView?WebMenuID=1c791b28-2968-49c9-8d5a-32dceca8ad1b&page=4\n",
      "5 https://www.vhcy.gov.tw/PageView/RowView?WebMenuID=1c791b28-2968-49c9-8d5a-32dceca8ad1b&page=5\n",
      "6 https://www.vhcy.gov.tw/PageView/RowView?WebMenuID=1c791b28-2968-49c9-8d5a-32dceca8ad1b&page=6\n"
     ]
    }
   ],
   "source": [
    "pages_link=[]\n",
    "pages_link.append(url)\n",
    "for o in soup.find(\"div\",class_=\"pager\").find_all(\"a\"):\n",
    "    if o.text == \"下一頁\" or o.text == \"»\":\n",
    "        pass\n",
    "    else:\n",
    "        link = url_base+o.get('href')\n",
    "        pages_link.append(link)\n",
    "        print(o.text,link)"
   ]
  },
  {
   "cell_type": "markdown",
   "metadata": {},
   "source": [
    "# Get work table"
   ]
  },
  {
   "cell_type": "markdown",
   "metadata": {},
   "source": [
    "The `get_work_page` function is used for getting each work page"
   ]
  },
  {
   "cell_type": "code",
   "execution_count": 20,
   "metadata": {},
   "outputs": [],
   "source": [
    "work_page = soup.find(\"tbody\")"
   ]
  },
  {
   "cell_type": "code",
   "execution_count": 23,
   "metadata": {},
   "outputs": [],
   "source": [
    "def get_work_page(page_url,page=None,page_link_part='?page='):\n",
    "    global url\n",
    "    if page != None:\n",
    "        page_url = page_url+page_link_part+str(page)\n",
    "    if url == None:\n",
    "        page_url = url\n",
    "        print(page_url)\n",
    "    g=requests.get(page_url)\n",
    "    soup=BeautifulSoup(g.content, 'html.parser')\n",
    "    return soup"
   ]
  },
  {
   "cell_type": "code",
   "execution_count": 178,
   "metadata": {},
   "outputs": [],
   "source": [
    "def get_work_table(table_,work_table):\n",
    "    for p_i, p_item in enumerate(table_.find_all(\"tr\")):\n",
    "        if p_item.find('a'):\n",
    "            p_item_a = p_item.find('a')\n",
    "            title = p_item_a.text\n",
    "            if \"錄取公告\" in title:\n",
    "                break\n",
    "            try:\n",
    "                new_title = re.search(\"\\B[科,短,社,契,牙,秘,醫,部,室](.*)[員,理,工,師,生]\",title).group(0)\n",
    "                origination = re.search(\"((.*)[組,部,科,室,心])\",title).group(1)\n",
    "            except AttributeError:\n",
    "                print(\"ERROR:\",title)\n",
    "            \n",
    "            link_s = url_base+'/'+p_item_a.get('href')\n",
    "            \n",
    "            try:\n",
    "                dead_line = get_work_deadtime(link_s)\n",
    "            except:\n",
    "                dead_line = \"null(check webpage)\"\n",
    "            print(p_i-1,new_title,link_s,dead_line, origination)\n",
    "            work_table.append([p_i-1, title, dead_line, link_s ])\n",
    "    return work_table"
   ]
  },
  {
   "cell_type": "code",
   "execution_count": 179,
   "metadata": {},
   "outputs": [],
   "source": [
    "def get_work_detail(link):\n",
    "    return get_work_page(link).find(\"div\",class_=\"newContent\").text.replace(\"\\r\",\"\").replace(\"\\t\",\"\").split(\"\\n\")"
   ]
  },
  {
   "cell_type": "code",
   "execution_count": 180,
   "metadata": {},
   "outputs": [
    {
     "name": "stdout",
     "output_type": "stream",
     "text": [
      "-1 室專案短期助理 https://www.vhcy.gov.tw//PageView/RowViewDetail?WebRowsID=45afd34a-e70e-4988-be1c-898b62d4a15a&UnitID=fbb1c734-f7d0-41c4-93d8-261f32f1db04&CompanyID=E8E0488E-54A0-44BF-B10C-D029C423F6E7 null(check webpage) 秘書室\n",
      "0 科助理 https://www.vhcy.gov.tw//PageView/RowViewDetail?WebRowsID=1f64c98e-7dc1-474e-818e-f886fdaff6cb&UnitID=fbb1c734-f7d0-41c4-93d8-261f32f1db04&CompanyID=E8E0488E-54A0-44BF-B10C-D029C423F6E7 null(check webpage) 牙科\n",
      "1 室契約健保申報員 https://www.vhcy.gov.tw//PageView/RowViewDetail?WebRowsID=83476288-ad39-4918-90e6-5dfb43d77b42&UnitID=fbb1c734-f7d0-41c4-93d8-261f32f1db04&CompanyID=E8E0488E-54A0-44BF-B10C-D029C423F6E7 null(check webpage)  醫務企管室\n",
      "2 室契約行政助理 https://www.vhcy.gov.tw//PageView/RowViewDetail?WebRowsID=a9ca6f7e-d6d6-4ecb-850f-0c14eb49dfc7&UnitID=fbb1c734-f7d0-41c4-93d8-261f32f1db04&CompanyID=E8E0488E-54A0-44BF-B10C-D029C423F6E7 null(check webpage) 醫務企管室\n",
      "3 室專案社工 https://www.vhcy.gov.tw//PageView/RowViewDetail?WebRowsID=6891bd3b-a04a-4a9f-b2df-3e6065e4b6d1&UnitID=fbb1c734-f7d0-41c4-93d8-261f32f1db04&CompanyID=E8E0488E-54A0-44BF-B10C-D029C423F6E7 null(check webpage) 社工室\n",
      "4 醫院師(二)級醫師 https://www.vhcy.gov.tw//PageView/RowViewDetail?WebRowsID=95c25e9b-8614-4ba2-bdd1-81878d13a869&UnitID=fbb1c734-f7d0-41c4-93d8-261f32f1db04&CompanyID=E8E0488E-54A0-44BF-B10C-D029C423F6E7 null(check webpage) 臺中榮民總醫院師(二)級醫師兼科主任(重症醫學部重症加護內科\n",
      "5 契約行政助理 https://www.vhcy.gov.tw//PageView/RowViewDetail?WebRowsID=e7d016ec-e6f0-4d00-9c6a-003bab15b0c6&UnitID=fbb1c734-f7d0-41c4-93d8-261f32f1db04&CompanyID=E8E0488E-54A0-44BF-B10C-D029C423F6E7 null(check webpage) 社區健康營造中心\n",
      "6 社區日照中心照顧服務員 https://www.vhcy.gov.tw//PageView/RowViewDetail?WebRowsID=4e22c020-75dd-4152-8f05-1243efbcdcbd&UnitID=fbb1c734-f7d0-41c4-93d8-261f32f1db04&CompanyID=E8E0488E-54A0-44BF-B10C-D029C423F6E7 null(check webpage) 灣橋分院附設義仁社區日照中心\n",
      "7 室契約辦事員 https://www.vhcy.gov.tw//PageView/RowViewDetail?WebRowsID=60c712e6-250b-4f6b-b18a-aedf27243f86&UnitID=fbb1c734-f7d0-41c4-93d8-261f32f1db04&CompanyID=E8E0488E-54A0-44BF-B10C-D029C423F6E7 null(check webpage) 社會工作室\n",
      "8 科契約護理師 https://www.vhcy.gov.tw//PageView/RowViewDetail?WebRowsID=d3478712-4c3f-4238-bdd2-7953a4320b41&UnitID=fbb1c734-f7d0-41c4-93d8-261f32f1db04&CompanyID=E8E0488E-54A0-44BF-B10C-D029C423F6E7 null(check webpage) 胃腸科\n",
      "0 室專案短期助理 https://www.vhcy.gov.tw//PageView/RowViewDetail?WebRowsID=45afd34a-e70e-4988-be1c-898b62d4a15a&UnitID=fbb1c734-f7d0-41c4-93d8-261f32f1db04&CompanyID=E8E0488E-54A0-44BF-B10C-D029C423F6E7 null(check webpage) 秘書室\n",
      "1 科助理 https://www.vhcy.gov.tw//PageView/RowViewDetail?WebRowsID=1f64c98e-7dc1-474e-818e-f886fdaff6cb&UnitID=fbb1c734-f7d0-41c4-93d8-261f32f1db04&CompanyID=E8E0488E-54A0-44BF-B10C-D029C423F6E7 null(check webpage) 牙科\n",
      "2 室契約健保申報員 https://www.vhcy.gov.tw//PageView/RowViewDetail?WebRowsID=83476288-ad39-4918-90e6-5dfb43d77b42&UnitID=fbb1c734-f7d0-41c4-93d8-261f32f1db04&CompanyID=E8E0488E-54A0-44BF-B10C-D029C423F6E7 null(check webpage)  醫務企管室\n",
      "3 室契約行政助理 https://www.vhcy.gov.tw//PageView/RowViewDetail?WebRowsID=a9ca6f7e-d6d6-4ecb-850f-0c14eb49dfc7&UnitID=fbb1c734-f7d0-41c4-93d8-261f32f1db04&CompanyID=E8E0488E-54A0-44BF-B10C-D029C423F6E7 null(check webpage) 醫務企管室\n",
      "4 室專案社工 https://www.vhcy.gov.tw//PageView/RowViewDetail?WebRowsID=6891bd3b-a04a-4a9f-b2df-3e6065e4b6d1&UnitID=fbb1c734-f7d0-41c4-93d8-261f32f1db04&CompanyID=E8E0488E-54A0-44BF-B10C-D029C423F6E7 null(check webpage) 社工室\n",
      "5 醫院師(二)級醫師 https://www.vhcy.gov.tw//PageView/RowViewDetail?WebRowsID=95c25e9b-8614-4ba2-bdd1-81878d13a869&UnitID=fbb1c734-f7d0-41c4-93d8-261f32f1db04&CompanyID=E8E0488E-54A0-44BF-B10C-D029C423F6E7 null(check webpage) 臺中榮民總醫院師(二)級醫師兼科主任(重症醫學部重症加護內科\n",
      "6 契約行政助理 https://www.vhcy.gov.tw//PageView/RowViewDetail?WebRowsID=e7d016ec-e6f0-4d00-9c6a-003bab15b0c6&UnitID=fbb1c734-f7d0-41c4-93d8-261f32f1db04&CompanyID=E8E0488E-54A0-44BF-B10C-D029C423F6E7 null(check webpage) 社區健康營造中心\n",
      "7 社區日照中心照顧服務員 https://www.vhcy.gov.tw//PageView/RowViewDetail?WebRowsID=4e22c020-75dd-4152-8f05-1243efbcdcbd&UnitID=fbb1c734-f7d0-41c4-93d8-261f32f1db04&CompanyID=E8E0488E-54A0-44BF-B10C-D029C423F6E7 null(check webpage) 灣橋分院附設義仁社區日照中心\n",
      "8 室契約辦事員 https://www.vhcy.gov.tw//PageView/RowViewDetail?WebRowsID=60c712e6-250b-4f6b-b18a-aedf27243f86&UnitID=fbb1c734-f7d0-41c4-93d8-261f32f1db04&CompanyID=E8E0488E-54A0-44BF-B10C-D029C423F6E7 null(check webpage) 社會工作室\n",
      "9 科契約護理師 https://www.vhcy.gov.tw//PageView/RowViewDetail?WebRowsID=d3478712-4c3f-4238-bdd2-7953a4320b41&UnitID=fbb1c734-f7d0-41c4-93d8-261f32f1db04&CompanyID=E8E0488E-54A0-44BF-B10C-D029C423F6E7 null(check webpage) 胃腸科\n",
      "0 醫院師(二)級醫師 https://www.vhcy.gov.tw//PageView/RowViewDetail?WebRowsID=4d84bfbb-a747-4ae1-8f4d-8a5b3ae6df72&UnitID=fbb1c734-f7d0-41c4-93d8-261f32f1db04&CompanyID=E8E0488E-54A0-44BF-B10C-D029C423F6E7 null(check webpage) 臺中榮民總醫院師(二)級醫師兼科主任(教學部臨床訓練科\n",
      "1 室契約醫務副管理師 https://www.vhcy.gov.tw//PageView/RowViewDetail?WebRowsID=1c9a736b-fa5b-4c23-bdf9-f9732ede0655&UnitID=fbb1c734-f7d0-41c4-93d8-261f32f1db04&CompanyID=E8E0488E-54A0-44BF-B10C-D029C423F6E7 null(check webpage) 醫務企管室\n",
      "2 科甄選職務代理契約醫事檢驗師 https://www.vhcy.gov.tw//PageView/RowViewDetail?WebRowsID=7ea69317-bb1d-4009-a9a9-50d0804ffeb7&UnitID=fbb1c734-f7d0-41c4-93d8-261f32f1db04&CompanyID=E8E0488E-54A0-44BF-B10C-D029C423F6E7 null(check webpage) 病理檢驗科\n",
      "3 科契約護理師 https://www.vhcy.gov.tw//PageView/RowViewDetail?WebRowsID=55940c2a-2cd7-4f25-b8a9-46c4aa0deadb&UnitID=fbb1c734-f7d0-41c4-93d8-261f32f1db04&CompanyID=E8E0488E-54A0-44BF-B10C-D029C423F6E7 null(check webpage) 胃腸科\n",
      "0 室灣橋組機電副技師 https://www.vhcy.gov.tw//PageView/RowViewDetail?WebRowsID=469b9396-7b92-401f-bef2-072b5e0b3326&UnitID=fbb1c734-f7d0-41c4-93d8-261f32f1db04&CompanyID=E8E0488E-54A0-44BF-B10C-D029C423F6E7 null(check webpage) 秘書室灣橋組\n",
      "1 部「嘉義縣女性藥癮者中途之家「蛻變驛園」委託管理採購案」生活輔導員 https://www.vhcy.gov.tw//PageView/RowViewDetail?WebRowsID=01d1b307-86fd-4ebe-8a07-d6528f2a81e3&UnitID=fbb1c734-f7d0-41c4-93d8-261f32f1db04&CompanyID=E8E0488E-54A0-44BF-B10C-D029C423F6E7 null(check webpage) 精神部\n",
      "2 部契約護理師(社區失智照護服務計畫據點個管師 https://www.vhcy.gov.tw//PageView/RowViewDetail?WebRowsID=3b08ba19-905e-4d12-a616-320b4172b8fa&UnitID=fbb1c734-f7d0-41c4-93d8-261f32f1db04&CompanyID=E8E0488E-54A0-44BF-B10C-D029C423F6E7 null(check webpage) 精神部\n",
      "3 室契約資訊副工程師 https://www.vhcy.gov.tw//PageView/RowViewDetail?WebRowsID=73012029-0649-4d93-aa0a-908db05beec3&UnitID=fbb1c734-f7d0-41c4-93d8-261f32f1db04&CompanyID=E8E0488E-54A0-44BF-B10C-D029C423F6E7 null(check webpage) 資訊室\n",
      "4 室契約辦事員 https://www.vhcy.gov.tw//PageView/RowViewDetail?WebRowsID=df9c2eed-2379-4f56-b913-b37441e661de&UnitID=fbb1c734-f7d0-41c4-93d8-261f32f1db04&CompanyID=E8E0488E-54A0-44BF-B10C-D029C423F6E7 null(check webpage) 人事室\n",
      "5 科部胃腸科契約護理師 https://www.vhcy.gov.tw//PageView/RowViewDetail?WebRowsID=3d469f31-5d5d-4638-8e7c-6199bdaad297&UnitID=fbb1c734-f7d0-41c4-93d8-261f32f1db04&CompanyID=E8E0488E-54A0-44BF-B10C-D029C423F6E7 null(check webpage) 內科部胃腸科\n",
      "ERROR: 臺中榮民總醫院埔里分院師(二)級醫師內陞職缺公告\n",
      "6 醫院埔里分院師(二)級醫師 https://www.vhcy.gov.tw//PageView/RowViewDetail?WebRowsID=6a2c98d9-2206-41bd-9a77-68b24157ba41&UnitID=fbb1c734-f7d0-41c4-93d8-261f32f1db04&CompanyID=E8E0488E-54A0-44BF-B10C-D029C423F6E7 null(check webpage) 內科部胃腸科\n",
      "7 部專案個案管理師 https://www.vhcy.gov.tw//PageView/RowViewDetail?WebRowsID=a7dbb07b-1551-4760-8d19-f70c334526e9&UnitID=fbb1c734-f7d0-41c4-93d8-261f32f1db04&CompanyID=E8E0488E-54A0-44BF-B10C-D029C423F6E7 null(check webpage) 灣橋精神部\n",
      "8 醫務企管室衛生行政職系薦任第8職等專員 https://www.vhcy.gov.tw//PageView/RowViewDetail?WebRowsID=9a64f785-685a-4de2-a877-f4ca3d2ac17a&UnitID=fbb1c734-f7d0-41c4-93d8-261f32f1db04&CompanyID=E8E0488E-54A0-44BF-B10C-D029C423F6E7 null(check webpage) 本院醫務企管室\n",
      "9 醫學部(放射腫瘤科)契約醫事放射師 https://www.vhcy.gov.tw//PageView/RowViewDetail?WebRowsID=6bc3867e-1c0d-4a15-b890-4af0a84c00a6&UnitID=fbb1c734-f7d0-41c4-93d8-261f32f1db04&CompanyID=E8E0488E-54A0-44BF-B10C-D029C423F6E7 null(check webpage) 影像醫學部(放射腫瘤科\n",
      "0 室契約醫務副管理師 https://www.vhcy.gov.tw//PageView/RowViewDetail?WebRowsID=0df104e2-6a10-4c7c-aa1d-d89d369e56da&UnitID=fbb1c734-f7d0-41c4-93d8-261f32f1db04&CompanyID=E8E0488E-54A0-44BF-B10C-D029C423F6E7 null(check webpage) 醫務企管室\n",
      "1 部契約居家服務照顧服務員(工 https://www.vhcy.gov.tw//PageView/RowViewDetail?WebRowsID=365b5144-0c97-4aea-b27c-625eb04c544a&UnitID=fbb1c734-f7d0-41c4-93d8-261f32f1db04&CompanyID=E8E0488E-54A0-44BF-B10C-D029C423F6E7 null(check webpage) 護理部\n",
      "2 部專案助理 https://www.vhcy.gov.tw//PageView/RowViewDetail?WebRowsID=7213b602-1cf4-44b8-a065-6519c14d0dcd&UnitID=fbb1c734-f7d0-41c4-93d8-261f32f1db04&CompanyID=E8E0488E-54A0-44BF-B10C-D029C423F6E7 null(check webpage) 精神部\n",
      "3 科部(心導管室)契約護理師 https://www.vhcy.gov.tw//PageView/RowViewDetail?WebRowsID=a26159aa-a963-48d3-b588-57754f7d3639&UnitID=fbb1c734-f7d0-41c4-93d8-261f32f1db04&CompanyID=E8E0488E-54A0-44BF-B10C-D029C423F6E7 null(check webpage) 內科部(心導管室\n",
      "4 醫院埔里分院師(二)級醫師 https://www.vhcy.gov.tw//PageView/RowViewDetail?WebRowsID=617586d7-ce4d-4089-ad29-f48515e897ae&UnitID=fbb1c734-f7d0-41c4-93d8-261f32f1db04&CompanyID=E8E0488E-54A0-44BF-B10C-D029C423F6E7 null(check webpage) 臺中榮民總醫院埔里分院師(二)級醫師麻醉科2名、骨科\n",
      "5 室契約社工 https://www.vhcy.gov.tw//PageView/RowViewDetail?WebRowsID=7a196cff-850a-4996-987d-3f7bd39b7fb7&UnitID=fbb1c734-f7d0-41c4-93d8-261f32f1db04&CompanyID=E8E0488E-54A0-44BF-B10C-D029C423F6E7 null(check webpage) 社會工作室\n",
      "0 醫院嘉義分院師(二)級醫師 https://www.vhcy.gov.tw//PageView/RowViewDetail?WebRowsID=9a04edf7-5d43-49a4-b4e4-6748cbaac4f4&UnitID=fbb1c734-f7d0-41c4-93d8-261f32f1db04&CompanyID=E8E0488E-54A0-44BF-B10C-D029C423F6E7 null(check webpage) 臺中榮民總醫院嘉義分院師(二)級醫師兼外科重症加護中心\n",
      "1 醫院嘉義分院護理部師(一)級護理師 https://www.vhcy.gov.tw//PageView/RowViewDetail?WebRowsID=2cbee853-dc42-48f2-9245-a05afc21f9c8&UnitID=fbb1c734-f7d0-41c4-93d8-261f32f1db04&CompanyID=E8E0488E-54A0-44BF-B10C-D029C423F6E7 null(check webpage) 臺中榮民總醫院嘉義分院護理部師(一)級護理師兼部\n",
      "2 部(嘉義)契約職能治療師 https://www.vhcy.gov.tw//PageView/RowViewDetail?WebRowsID=e9e803ee-1248-4dd5-8538-246fb0d6fd9f&UnitID=fbb1c734-f7d0-41c4-93d8-261f32f1db04&CompanyID=E8E0488E-54A0-44BF-B10C-D029C423F6E7 null(check webpage) 精神部\n",
      "3 醫院嘉義分院精神部師(二)級醫師 https://www.vhcy.gov.tw//PageView/RowViewDetail?WebRowsID=a43d3645-830e-4810-8557-c6fd2521c7d6&UnitID=fbb1c734-f7d0-41c4-93d8-261f32f1db04&CompanyID=E8E0488E-54A0-44BF-B10C-D029C423F6E7 null(check webpage) 臺中榮民總醫院嘉義分院精神部師(二)級醫師兼藥癮治療科\n",
      "4 醫院嘉義分院精神部師(三)級醫師 https://www.vhcy.gov.tw//PageView/RowViewDetail?WebRowsID=2b2e8603-2a35-4bb0-89a3-60b2d2749589&UnitID=fbb1c734-f7d0-41c4-93d8-261f32f1db04&CompanyID=E8E0488E-54A0-44BF-B10C-D029C423F6E7 null(check webpage) 臺中榮民總醫院嘉義分院精神部\n",
      "5 科半年短期契約照服佐理員 https://www.vhcy.gov.tw//PageView/RowViewDetail?WebRowsID=e71b5aca-0367-4911-93d1-0143b593d9ce&UnitID=fbb1c734-f7d0-41c4-93d8-261f32f1db04&CompanyID=E8E0488E-54A0-44BF-B10C-D029C423F6E7 null(check webpage) 灣橋復健科\n",
      "6 醫院醫務企管部衛生行政職系薦任第8職等專員 https://www.vhcy.gov.tw//PageView/RowViewDetail?WebRowsID=0c406712-df2c-4880-a482-c5b16298ca5a&UnitID=fbb1c734-f7d0-41c4-93d8-261f32f1db04&CompanyID=E8E0488E-54A0-44BF-B10C-D029C423F6E7 null(check webpage) 臺中榮民總醫院醫務企管部\n",
      "ERROR: 臺中榮民總醫院嘉義分院輔導員甄試結果公告\n",
      "7 醫院嘉義分院輔導員 https://www.vhcy.gov.tw//PageView/RowViewDetail?WebRowsID=e8fe0314-dc51-489e-b5a0-028a44182ba4&UnitID=fbb1c734-f7d0-41c4-93d8-261f32f1db04&CompanyID=E8E0488E-54A0-44BF-B10C-D029C423F6E7 null(check webpage) 臺中榮民總醫院醫務企管部\n",
      "8 醫院嘉義分院精神部公職護理師 https://www.vhcy.gov.tw//PageView/RowViewDetail?WebRowsID=a05ba4c3-36d2-46f2-9371-352e39f24a40&UnitID=fbb1c734-f7d0-41c4-93d8-261f32f1db04&CompanyID=E8E0488E-54A0-44BF-B10C-D029C423F6E7 null(check webpage) 臺中榮民總醫院嘉義分院精神部\n",
      "9 部公職護理師許辰偵等4員 https://www.vhcy.gov.tw//PageView/RowViewDetail?WebRowsID=2640131f-0916-440c-a310-876f0e29ad25&UnitID=fbb1c734-f7d0-41c4-93d8-261f32f1db04&CompanyID=E8E0488E-54A0-44BF-B10C-D029C423F6E7 null(check webpage) 總院核定本院護理部\n",
      "ERROR: 臺中榮民總醫院嘉義分院暨灣橋分院師(三)級醫師32名外補職缺公告\n"
     ]
    },
    {
     "ename": "UnboundLocalError",
     "evalue": "local variable 'origination' referenced before assignment",
     "output_type": "error",
     "traceback": [
      "\u001b[0;31m---------------------------------------------------------------------------\u001b[0m",
      "\u001b[0;31mUnboundLocalError\u001b[0m                         Traceback (most recent call last)",
      "\u001b[1;32m/home/ddvd/hospwork/notebook/vhcy.ipynb Cell 11'\u001b[0m in \u001b[0;36m<cell line: 3>\u001b[0;34m()\u001b[0m\n\u001b[1;32m      <a href='vscode-notebook-cell:/home/ddvd/hospwork/notebook/vhcy.ipynb#ch0000009?line=2'>3</a>\u001b[0m \u001b[39mfor\u001b[39;00m p_i, p_item \u001b[39min\u001b[39;00m \u001b[39menumerate\u001b[39m(pages_link):\n\u001b[1;32m      <a href='vscode-notebook-cell:/home/ddvd/hospwork/notebook/vhcy.ipynb#ch0000009?line=3'>4</a>\u001b[0m     table_ \u001b[39m=\u001b[39m get_work_page(p_item)\n\u001b[0;32m----> <a href='vscode-notebook-cell:/home/ddvd/hospwork/notebook/vhcy.ipynb#ch0000009?line=5'>6</a>\u001b[0m     work_table \u001b[39m=\u001b[39m get_work_table(table_,work_table)\n",
      "\u001b[1;32m/home/ddvd/hospwork/notebook/vhcy.ipynb Cell 9'\u001b[0m in \u001b[0;36mget_work_table\u001b[0;34m(table_, work_table)\u001b[0m\n\u001b[1;32m     <a href='vscode-notebook-cell:/home/ddvd/hospwork/notebook/vhcy.ipynb#ch0000008?line=17'>18</a>\u001b[0m         \u001b[39mexcept\u001b[39;00m:\n\u001b[1;32m     <a href='vscode-notebook-cell:/home/ddvd/hospwork/notebook/vhcy.ipynb#ch0000008?line=18'>19</a>\u001b[0m             dead_line \u001b[39m=\u001b[39m \u001b[39m\"\u001b[39m\u001b[39mnull(check webpage)\u001b[39m\u001b[39m\"\u001b[39m\n\u001b[0;32m---> <a href='vscode-notebook-cell:/home/ddvd/hospwork/notebook/vhcy.ipynb#ch0000008?line=19'>20</a>\u001b[0m         \u001b[39mprint\u001b[39m(p_i\u001b[39m-\u001b[39m\u001b[39m1\u001b[39m,new_title,link_s,dead_line, origination)\n\u001b[1;32m     <a href='vscode-notebook-cell:/home/ddvd/hospwork/notebook/vhcy.ipynb#ch0000008?line=20'>21</a>\u001b[0m         work_table\u001b[39m.\u001b[39mappend([p_i\u001b[39m-\u001b[39m\u001b[39m1\u001b[39m, title, dead_line, link_s ])\n\u001b[1;32m     <a href='vscode-notebook-cell:/home/ddvd/hospwork/notebook/vhcy.ipynb#ch0000008?line=21'>22</a>\u001b[0m \u001b[39mreturn\u001b[39;00m work_table\n",
      "\u001b[0;31mUnboundLocalError\u001b[0m: local variable 'origination' referenced before assignment"
     ]
    }
   ],
   "source": [
    "work_table=[]\n",
    "work_table = get_work_table(work_page,work_table)\n",
    "for p_i, p_item in enumerate(pages_link):\n",
    "    table_ = get_work_page(p_item)\n",
    "\n",
    "    work_table = get_work_table(table_,work_table)"
   ]
  },
  {
   "cell_type": "code",
   "execution_count": 90,
   "metadata": {},
   "outputs": [
    {
     "data": {
      "text/plain": [
       "<tr>\n",
       "<td data-th=\"標題\" style=\"text-align:left;\">\n",
       "<span style=\"width:100%;white-space:normal;word-wrap:break-word;word-break:break-all;\">\n",
       "<a href=\"/PageView/RowViewDetail?WebRowsID=45afd34a-e70e-4988-be1c-898b62d4a15a&amp;UnitID=fbb1c734-f7d0-41c4-93d8-261f32f1db04&amp;CompanyID=E8E0488E-54A0-44BF-B10C-D029C423F6E7\" title=\"秘書室專案短期助理1名徵才公告\">秘書室專案短期助理1名徵才公告</a>\n",
       "</span>\n",
       "</td>\n",
       "<td data-th=\"更新日期\">2022/5/18</td>\n",
       "</tr>"
      ]
     },
     "execution_count": 90,
     "metadata": {},
     "output_type": "execute_result"
    }
   ],
   "source": [
    "work_page.find_all(\"tr\")[0]"
   ]
  },
  {
   "cell_type": "code",
   "execution_count": 94,
   "metadata": {},
   "outputs": [],
   "source": [
    "g =get_work_detail('https://www.vhcy.gov.tw/PageView/RowViewDetail?WebRowsID=83476288-ad39-4918-90e6-5dfb43d77b42&UnitID=fbb1c734-f7d0-41c4-93d8-261f32f1db04&CompanyID=E8E0488E-54A0-44BF-B10C-D029C423F6E7')"
   ]
  },
  {
   "cell_type": "code",
   "execution_count": 105,
   "metadata": {},
   "outputs": [
    {
     "data": {
      "text/plain": [
       "' 契約健保申報員'"
      ]
     },
     "execution_count": 105,
     "metadata": {},
     "output_type": "execute_result"
    }
   ],
   "source": [
    " [gg for gg in g if \"職稱\" in gg][0].split(\"：\")[1]"
   ]
  },
  {
   "cell_type": "code",
   "execution_count": 107,
   "metadata": {},
   "outputs": [
    {
     "data": {
      "text/plain": [
       "' 醫務企管室-醫療費用組'"
      ]
     },
     "execution_count": 107,
     "metadata": {},
     "output_type": "execute_result"
    }
   ],
   "source": [
    "[gg for gg in g if \"職系\" in gg or \"用人單位\" in gg][0].split(\"：\")[1]"
   ]
  },
  {
   "cell_type": "code",
   "execution_count": 184,
   "metadata": {},
   "outputs": [
    {
     "data": {
      "text/plain": [
       "'院嘉義分院暨灣橋分院師(三)級醫'"
      ]
     },
     "execution_count": 184,
     "metadata": {},
     "output_type": "execute_result"
    }
   ],
   "source": [
    "re.search(\"\\B[灣,科,短,社,契,牙,秘,醫,部,室,師](.*)[員,理,工,師,生]\",\"臺中榮民總醫院嘉義分院暨灣橋分院師(三)級醫師32名外補職缺公告\").group(1)"
   ]
  },
  {
   "cell_type": "code",
   "execution_count": 108,
   "metadata": {},
   "outputs": [
    {
     "data": {
      "text/plain": [
       "'約行政助理'"
      ]
     },
     "execution_count": 108,
     "metadata": {},
     "output_type": "execute_result"
    }
   ],
   "source": [
    "re.search(\"\\B[專案,契]((.*)[員,師,助理])\",\"醫務企管室契約行政助理1名徵才公告\").group(1)"
   ]
  },
  {
   "cell_type": "code",
   "execution_count": 88,
   "metadata": {},
   "outputs": [
    {
     "data": {
      "text/plain": [
       "'職系： 醫務企管室-醫療費用組職稱： 契約健保申報員名額：2名（得依需要列候補2名，有效期間自甄選結果確定之翌日起4個月內）上網期間：111年04月27日至111年05月27日資格條件 需具備下列條件：1.學歷：國內、外高中以上學校-護理、醫管、資訊或商學與管理相關科系畢業或具醫院行政工作相關經驗者。2.證照：具健康保險技術員證照者尤佳。3.技能：熟Office電腦操作及統計分析能力，並有良好溝通協調能力者。4.人格特質：樂觀進取、認真負責、言行端正，具高度工作熱忱、態度積極配合度佳，並有良好溝通及學習力。工作項目(一)健保申報、抽審、申覆、爭議相關業務。(二)協助推動執行本院健保政策相關業務。(三)統計分析報表。(四)其他臨時交辦事項。薪資範圍 26,510 ~32,150元(不含獎勵金)聯絡方式： 1.報名人員請於111年05月15日前報名。2.請檢附履歷表（橫式一般、內貼二吋半身正面照片並註明連絡電話）、最高學歷畢業證書、相關證照、證書(影本)（A4規格）。3.不符合前開資格條件或經審查不合業務需要者，恕不通知及退件。4.以郵寄報名（以郵戳為?，逾期不受理）：嘉義市世賢路2段600號或電子郵件報名：E-mail：tsing@vghtc.gov.tw，醫企室醫療費用組戴小姐收，分機：6026。5.考試方式:筆試及口試。備註：「依國軍退除役官兵輔導條例第六條規定，條件相等而為退除役官兵者，優先錄用」'"
      ]
     },
     "execution_count": 88,
     "metadata": {},
     "output_type": "execute_result"
    }
   ],
   "source": [
    "g"
   ]
  },
  {
   "cell_type": "code",
   "execution_count": null,
   "metadata": {},
   "outputs": [],
   "source": []
  }
 ],
 "metadata": {
  "interpreter": {
   "hash": "52d4b57e0aa6b69fea3b66bac82c78882c702c21609c11e114ff38253261116e"
  },
  "kernelspec": {
   "display_name": "Python 3.8.10 ('hospwork-V9MxmjfS')",
   "language": "python",
   "name": "python3"
  },
  "language_info": {
   "codemirror_mode": {
    "name": "ipython",
    "version": 3
   },
   "file_extension": ".py",
   "mimetype": "text/x-python",
   "name": "python",
   "nbconvert_exporter": "python",
   "pygments_lexer": "ipython3",
   "version": "3.8.10"
  },
  "orig_nbformat": 4
 },
 "nbformat": 4,
 "nbformat_minor": 2
}
