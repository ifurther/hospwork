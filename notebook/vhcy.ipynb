{
 "cells": [
  {
   "cell_type": "code",
   "execution_count": 1,
   "metadata": {},
   "outputs": [],
   "source": [
    "from bs4 import BeautifulSoup\n",
    "import requests\n",
    "import pandas as pd\n",
    "import re\n",
    "from urllib.parse import urlparse\n",
    "from pathlib import Path"
   ]
  },
  {
   "cell_type": "code",
   "execution_count": 2,
   "metadata": {},
   "outputs": [],
   "source": [
    "import sys\n",
    "sys.path.append(Path().cwd().parent.as_posix())\n",
    "\n",
    "from hospwork import get_work_page\n",
    "from hospwork import findjobtype"
   ]
  },
  {
   "cell_type": "code",
   "execution_count": 3,
   "metadata": {},
   "outputs": [
    {
     "data": {
      "text/plain": [
       "PosixPath('/home/dvdd/hospwork/cacert.pem')"
      ]
     },
     "execution_count": 3,
     "metadata": {},
     "output_type": "execute_result"
    }
   ],
   "source": [
    "g=Path('.')\n",
    "g.cwd().parent.joinpath('cacert.pem')"
   ]
  },
  {
   "cell_type": "code",
   "execution_count": 4,
   "metadata": {},
   "outputs": [],
   "source": [
    "url_base='https://www.vhcy.gov.tw'\n",
    "url_work_table='/UnitPage/RowView?WebMenuID=fb60be6b-ced8-485b-95dc-b470a3c4264f&UnitID=1f7b14c3-842f-4091-b3ca-4972e4c53524%20&UnitDefaultTemplate=1'\n",
    "url=url_base+url_work_table\n",
    "g=requests.get(url, verify=Path().cwd().parent.joinpath('cacert.pem'))\n",
    "soup=BeautifulSoup(g.content, 'html.parser')"
   ]
  },
  {
   "cell_type": "markdown",
   "metadata": {},
   "source": [
    "# Get page link\n",
    "In this website the work table has some page, so the function should find page link for next step."
   ]
  },
  {
   "cell_type": "code",
   "execution_count": 5,
   "metadata": {},
   "outputs": [
    {
     "name": "stdout",
     "output_type": "stream",
     "text": [
      "2 https://www.vhcy.gov.tw/UnitPage/RowView?UnitID=1f7b14c3-842f-4091-b3ca-4972e4c53524&UnitDefaultTemplate=1&WebMenuID=fb60be6b-ced8-485b-95dc-b470a3c4264f&page=2\n",
      "3 https://www.vhcy.gov.tw/UnitPage/RowView?UnitID=1f7b14c3-842f-4091-b3ca-4972e4c53524&UnitDefaultTemplate=1&WebMenuID=fb60be6b-ced8-485b-95dc-b470a3c4264f&page=3\n",
      "4 https://www.vhcy.gov.tw/UnitPage/RowView?UnitID=1f7b14c3-842f-4091-b3ca-4972e4c53524&UnitDefaultTemplate=1&WebMenuID=fb60be6b-ced8-485b-95dc-b470a3c4264f&page=4\n",
      "5 https://www.vhcy.gov.tw/UnitPage/RowView?UnitID=1f7b14c3-842f-4091-b3ca-4972e4c53524&UnitDefaultTemplate=1&WebMenuID=fb60be6b-ced8-485b-95dc-b470a3c4264f&page=5\n",
      "6 https://www.vhcy.gov.tw/UnitPage/RowView?UnitID=1f7b14c3-842f-4091-b3ca-4972e4c53524&UnitDefaultTemplate=1&WebMenuID=fb60be6b-ced8-485b-95dc-b470a3c4264f&page=6\n",
      "7 https://www.vhcy.gov.tw/UnitPage/RowView?UnitID=1f7b14c3-842f-4091-b3ca-4972e4c53524&UnitDefaultTemplate=1&WebMenuID=fb60be6b-ced8-485b-95dc-b470a3c4264f&page=7\n"
     ]
    }
   ],
   "source": [
    "pages_link=[]\n",
    "pages_link.append(url)\n",
    "for o in soup.find(\"div\",class_=\"pager\").find_all(\"a\"):\n",
    "    if o.text == \"下一頁\" or o.text == \"»\":\n",
    "        pass\n",
    "    else:\n",
    "        link = url_base+o.get('href')\n",
    "        pages_link.append(link)\n",
    "        print(o.text,link)"
   ]
  },
  {
   "cell_type": "markdown",
   "metadata": {},
   "source": [
    "# Get work table"
   ]
  },
  {
   "cell_type": "markdown",
   "metadata": {},
   "source": [
    "The `get_work_page` function is used for getting each work page"
   ]
  },
  {
   "cell_type": "code",
   "execution_count": 6,
   "metadata": {},
   "outputs": [],
   "source": [
    "work_page = soup.find(\"tbody\")"
   ]
  },
  {
   "cell_type": "code",
   "execution_count": 7,
   "metadata": {},
   "outputs": [],
   "source": [
    "def get_work_detail(link):\n",
    "    work_detail = get_work_page(link, verify=Path().cwd().parent.joinpath('cacert.pem')).find(\"div\",class_=\"newContent\").text\n",
    "    if work_detail.replace(\"\\n\",\"\") == \"\":\n",
    "        return None\n",
    "    else:\n",
    "        return get_work_page(link, verify=Path().cwd().parent.joinpath('cacert.pem')).find(\"div\",class_=\"newContent\").text.replace(\"\\r\",\"\").replace(\"\\t\",\"\").split(\"\\n\")"
   ]
  },
  {
   "cell_type": "code",
   "execution_count": 8,
   "metadata": {},
   "outputs": [],
   "source": [
    "def get_work_title(title):\n",
    "    try:\n",
    "        new_title = re.search(\"\\B[科,短,社,契,牙,秘,醫,部,室](.*)[員,理,工,師,生]\",title).group(0)\n",
    "    except AttributeError:\n",
    "        print(\"ERROR:\",title)\n",
    "    return new_title"
   ]
  },
  {
   "cell_type": "code",
   "execution_count": 9,
   "metadata": {},
   "outputs": [],
   "source": [
    "def get_work_originazation(title,link):\n",
    "    try:\n",
    "        origination = re.search(\"((.*)[組,部,科,室,心])\",title).group(1)\n",
    "    except AttributeError:\n",
    "        g = get_work_detail(link)\n",
    "        if g == None:\n",
    "            return \"check page\"\n",
    "        try:\n",
    "            origination = [gg for gg in g if \"職稱\" in gg][0].split(\"：\")[-1]\n",
    "        except AttributeError:\n",
    "            ggg = [gg for gg in g if gg != '']\n",
    "            origination = ggg[ggg.index(\"職稱\")+1]\n",
    "        except:\n",
    "            origination = \"check page\"\n",
    "    return origination"
   ]
  },
  {
   "cell_type": "code",
   "execution_count": 10,
   "metadata": {},
   "outputs": [],
   "source": [
    "def get_work_deadtime(link):\n",
    "    g = get_work_detail(link)\n",
    "    if g == None:\n",
    "        return \"check page\"\n",
    "    try:\n",
    "        ggg = [gg for gg in g if gg != '']\n",
    "        try:\n",
    "            dead = re.findall(\"\\d+年\\d+月\\d+日|\\d+.\\d+.\\d+\",ggg[ggg.index(\"上網期間\")+1])[-1]\n",
    "        except:\n",
    "            for gggg in ggg:\n",
    "                \n",
    "                if \"上網期間\" in gggg or \"報名方式\" in gggg or \"報名人員請於\" in gggg or \"日前\" in gggg or \"報名日期\" in gggg or \"（含）前\" in gggg:\n",
    "                    try:\n",
    "                        dead = re.findall(\"\\d+年\\d+月\\d+日|\\d+.\\d+.\\d+\",[gg for gg in g if \"上網期間\" in gg or \"報名方式\" in gg or \"報名日期\" in gg or \"（含）前\" in gg][0].split(\"：\")[-1])[-1]\n",
    "                    except:\n",
    "                        dead = \"check page\"\n",
    "    except:\n",
    "        dead = \"check page\"\n",
    "    \n",
    "    finally:\n",
    "        if 'dead' not in locals():\n",
    "            dead = \"check page\"\n",
    "        return dead"
   ]
  },
  {
   "cell_type": "code",
   "execution_count": 11,
   "metadata": {},
   "outputs": [],
   "source": [
    "def get_work_table(table_,work_table):\n",
    "    for p_i, p_item in enumerate(table_.find_all(\"tr\")):\n",
    "        if p_item.find('a'):\n",
    "            p_item_a = p_item.find('a')\n",
    "            title = p_item_a.text\n",
    "            if \"錄取公告\" in title or '考試公告' in title or \"甄試結果公告\" in title or \"核定\" in title:\n",
    "                break\n",
    "            new_title = findjobtype(title,'臺中榮民總醫院嘉義分院').replace(\"部契約\",\"契約\")\n",
    "            link_s = url_base+p_item_a.get('href')\n",
    "            if get_work_detail(link_s) == None:\n",
    "                break\n",
    "            origination = get_work_originazation(title,link_s)\n",
    "            try:\n",
    "                dead_line = get_work_deadtime(link_s)\n",
    "            except:\n",
    "                print(\"Error\",p_item)\n",
    "            print(p_i-1,new_title,link_s,dead_line, origination)\n",
    "            work_table.append([new_title, dead_line, origination, link_s ])\n",
    "    return work_table"
   ]
  },
  {
   "cell_type": "code",
   "execution_count": 12,
   "metadata": {
    "scrolled": true
   },
   "outputs": [
    {
     "name": "stdout",
     "output_type": "stream",
     "text": [
      "-1 契約居家護理 https://www.vhcy.gov.tw/UnitPage/RowViewDetail?WebRowsID=78f932dd-dce7-41e7-9145-e4fe2d4c65a7&UnitID=1f7b14c3-842f-4091-b3ca-4972e4c53524&CompanyID=e8e0488e-54a0-44bf-b10c-d029c423f6e7&UnitDefaultTemplate=1 113年7 精神部\n",
      "0 契約社工師( https://www.vhcy.gov.tw/UnitPage/RowViewDetail?WebRowsID=fd1324d8-0010-49b2-914a-8a0a967fd1b9&UnitID=1f7b14c3-842f-4091-b3ca-4972e4c53524&CompanyID=e8e0488e-54a0-44bf-b10c-d029c423f6e7&UnitDefaultTemplate=1 check page 社會工作室\n",
      "1 學部(健檢中心)契約辦事員1名徵才公告(職務代 https://www.vhcy.gov.tw/UnitPage/RowViewDetail?WebRowsID=6ecf9841-836b-4f70-be13-ceae70eb5464&UnitID=1f7b14c3-842f-4091-b3ca-4972e4c53524&CompanyID=e8e0488e-54a0-44bf-b10c-d029c423f6e7&UnitDefaultTemplate=1 check page 家庭醫學部(健檢中心\n",
      "2 (灣橋分院)社區整體照顧服務體系A級單位個管 https://www.vhcy.gov.tw/UnitPage/RowViewDetail?WebRowsID=489486de-c5a8-432b-9b7f-ea92cdb66677&UnitID=1f7b14c3-842f-4091-b3ca-4972e4c53524&CompanyID=e8e0488e-54a0-44bf-b10c-d029c423f6e7&UnitDefaultTemplate=1 113年08月30日 護理部\n",
      "3 契約物理治療 https://www.vhcy.gov.tw/UnitPage/RowViewDetail?WebRowsID=eee0fb7b-9597-4b1e-960c-c6f2c9b9b313&UnitID=1f7b14c3-842f-4091-b3ca-4972e4c53524&CompanyID=e8e0488e-54a0-44bf-b10c-d029c423f6e7&UnitDefaultTemplate=1 113年8月10日 復健科\n",
      "4 (醫療費用組)契約辦事 https://www.vhcy.gov.tw/UnitPage/RowViewDetail?WebRowsID=d7f59066-a417-40d3-8e48-c8bf1879ef4f&UnitID=1f7b14c3-842f-4091-b3ca-4972e4c53524&CompanyID=e8e0488e-54a0-44bf-b10c-d029c423f6e7&UnitDefaultTemplate=1 113年07月31日 醫務企管室(醫療費用組\n",
      "臺中榮民總醫院嘉義分院 Error find job type: 嘉義縣113年度輔具資源中心徵求維修人員1名徵才公告\n",
      "5 嘉義縣113年度輔具資源中心徵求維修人員1名徵才公告 https://www.vhcy.gov.tw/UnitPage/RowViewDetail?WebRowsID=efa91b3e-f73c-4cb2-b163-248a829707ad&UnitID=1f7b14c3-842f-4091-b3ca-4972e4c53524&CompanyID=e8e0488e-54a0-44bf-b10c-d029c423f6e7&UnitDefaultTemplate=1 113年8月31日 嘉義縣113年度輔具資源中心\n",
      "6 部(胃鏡室)契約護理 https://www.vhcy.gov.tw/UnitPage/RowViewDetail?WebRowsID=c045f248-1a32-4370-8f03-b361ba5b4f2e&UnitID=1f7b14c3-842f-4091-b3ca-4972e4c53524&CompanyID=e8e0488e-54a0-44bf-b10c-d029c423f6e7&UnitDefaultTemplate=1 113年7月22日 內科部(胃鏡室\n",
      "7 部(胃鏡室)契約部分工時護理 https://www.vhcy.gov.tw/UnitPage/RowViewDetail?WebRowsID=db1f4aef-a46d-4bee-84ec-be2472e14627&UnitID=1f7b14c3-842f-4091-b3ca-4972e4c53524&CompanyID=e8e0488e-54a0-44bf-b10c-d029c423f6e7&UnitDefaultTemplate=1 113年7 內科部(胃鏡室)契約部\n",
      "0 契約居家護理 https://www.vhcy.gov.tw/UnitPage/RowViewDetail?WebRowsID=78f932dd-dce7-41e7-9145-e4fe2d4c65a7&UnitID=1f7b14c3-842f-4091-b3ca-4972e4c53524&CompanyID=e8e0488e-54a0-44bf-b10c-d029c423f6e7&UnitDefaultTemplate=1 113年7 精神部\n",
      "1 契約社工師( https://www.vhcy.gov.tw/UnitPage/RowViewDetail?WebRowsID=fd1324d8-0010-49b2-914a-8a0a967fd1b9&UnitID=1f7b14c3-842f-4091-b3ca-4972e4c53524&CompanyID=e8e0488e-54a0-44bf-b10c-d029c423f6e7&UnitDefaultTemplate=1 check page 社會工作室\n",
      "2 學部(健檢中心)契約辦事員1名徵才公告(職務代 https://www.vhcy.gov.tw/UnitPage/RowViewDetail?WebRowsID=6ecf9841-836b-4f70-be13-ceae70eb5464&UnitID=1f7b14c3-842f-4091-b3ca-4972e4c53524&CompanyID=e8e0488e-54a0-44bf-b10c-d029c423f6e7&UnitDefaultTemplate=1 check page 家庭醫學部(健檢中心\n",
      "3 (灣橋分院)社區整體照顧服務體系A級單位個管 https://www.vhcy.gov.tw/UnitPage/RowViewDetail?WebRowsID=489486de-c5a8-432b-9b7f-ea92cdb66677&UnitID=1f7b14c3-842f-4091-b3ca-4972e4c53524&CompanyID=e8e0488e-54a0-44bf-b10c-d029c423f6e7&UnitDefaultTemplate=1 113年08月30日 護理部\n",
      "4 契約物理治療 https://www.vhcy.gov.tw/UnitPage/RowViewDetail?WebRowsID=eee0fb7b-9597-4b1e-960c-c6f2c9b9b313&UnitID=1f7b14c3-842f-4091-b3ca-4972e4c53524&CompanyID=e8e0488e-54a0-44bf-b10c-d029c423f6e7&UnitDefaultTemplate=1 113年8月10日 復健科\n",
      "5 (醫療費用組)契約辦事 https://www.vhcy.gov.tw/UnitPage/RowViewDetail?WebRowsID=d7f59066-a417-40d3-8e48-c8bf1879ef4f&UnitID=1f7b14c3-842f-4091-b3ca-4972e4c53524&CompanyID=e8e0488e-54a0-44bf-b10c-d029c423f6e7&UnitDefaultTemplate=1 113年07月31日 醫務企管室(醫療費用組\n",
      "臺中榮民總醫院嘉義分院 Error find job type: 嘉義縣113年度輔具資源中心徵求維修人員1名徵才公告\n",
      "6 嘉義縣113年度輔具資源中心徵求維修人員1名徵才公告 https://www.vhcy.gov.tw/UnitPage/RowViewDetail?WebRowsID=efa91b3e-f73c-4cb2-b163-248a829707ad&UnitID=1f7b14c3-842f-4091-b3ca-4972e4c53524&CompanyID=e8e0488e-54a0-44bf-b10c-d029c423f6e7&UnitDefaultTemplate=1 113年8月31日 嘉義縣113年度輔具資源中心\n",
      "7 部(胃鏡室)契約護理 https://www.vhcy.gov.tw/UnitPage/RowViewDetail?WebRowsID=c045f248-1a32-4370-8f03-b361ba5b4f2e&UnitID=1f7b14c3-842f-4091-b3ca-4972e4c53524&CompanyID=e8e0488e-54a0-44bf-b10c-d029c423f6e7&UnitDefaultTemplate=1 113年7月22日 內科部(胃鏡室\n",
      "8 部(胃鏡室)契約部分工時護理 https://www.vhcy.gov.tw/UnitPage/RowViewDetail?WebRowsID=db1f4aef-a46d-4bee-84ec-be2472e14627&UnitID=1f7b14c3-842f-4091-b3ca-4972e4c53524&CompanyID=e8e0488e-54a0-44bf-b10c-d029c423f6e7&UnitDefaultTemplate=1 113年7 內科部(胃鏡室)契約部\n",
      "0 契約副技 https://www.vhcy.gov.tw/UnitPage/RowViewDetail?WebRowsID=492961e6-10a8-4b2c-834f-45568a781afa&UnitID=1f7b14c3-842f-4091-b3ca-4972e4c53524&CompanyID=e8e0488e-54a0-44bf-b10c-d029c423f6e7&UnitDefaultTemplate=1 113年7月31日 秘書室\n",
      "1 契約副技師(能源管理員及氣體管 https://www.vhcy.gov.tw/UnitPage/RowViewDetail?WebRowsID=a2186076-b070-4a6e-8ab2-28d29f5c7775&UnitID=1f7b14c3-842f-4091-b3ca-4972e4c53524&CompanyID=e8e0488e-54a0-44bf-b10c-d029c423f6e7&UnitDefaultTemplate=1 113年7月31日 秘書室\n",
      "2  https://www.vhcy.gov.tw/UnitPage/RowViewDetail?WebRowsID=19fd69d6-14f5-449f-85b4-dcfe5fba6958&UnitID=1f7b14c3-842f-4091-b3ca-4972e4c53524&CompanyID=e8e0488e-54a0-44bf-b10c-d029c423f6e7&UnitDefaultTemplate=1 check page check page\n",
      "0 復健科契約物理治療 https://www.vhcy.gov.tw/UnitPage/RowViewDetail?WebRowsID=d01aba39-18ef-46e3-a891-fe80825e8c0f&UnitID=1f7b14c3-842f-4091-b3ca-4972e4c53524&CompanyID=e8e0488e-54a0-44bf-b10c-d029c423f6e7&UnitDefaultTemplate=1 113年6月21日 灣橋分院復健科\n",
      "臺中榮民總醫院嘉義分院 Error find job type: 技士職缺公告\n",
      "1 技士職缺公告 https://www.vhcy.gov.tw/UnitPage/RowViewDetail?WebRowsID=5eca68ec-c9f4-4ec0-a60b-2d4587f39c96&UnitID=1f7b14c3-842f-4091-b3ca-4972e4c53524&CompanyID=e8e0488e-54a0-44bf-b10c-d029c423f6e7&UnitDefaultTemplate=1 check page 職稱技士\n",
      "2 師(二)級醫事檢驗師3名、藥師2名、醫事放射師2名、呼吸治療 https://www.vhcy.gov.tw/UnitPage/RowViewDetail?WebRowsID=b407a948-c366-44c3-891e-781053bfebd5&UnitID=1f7b14c3-842f-4091-b3ca-4972e4c53524&CompanyID=e8e0488e-54a0-44bf-b10c-d029c423f6e7&UnitDefaultTemplate=1 check page 職稱 藥師\n",
      "3 師(二)級醫事檢驗師3名、藥師2名、醫事放射師2名、呼吸治療 https://www.vhcy.gov.tw/UnitPage/RowViewDetail?WebRowsID=01b83468-e933-4b0d-be06-8c02589fb91d&UnitID=1f7b14c3-842f-4091-b3ca-4972e4c53524&CompanyID=e8e0488e-54a0-44bf-b10c-d029c423f6e7&UnitDefaultTemplate=1 check page 職稱 醫事放射師\n",
      "4 師(二)級醫事檢驗師3名、藥師2名、醫事放射師2名、呼吸治療 https://www.vhcy.gov.tw/UnitPage/RowViewDetail?WebRowsID=6e5b4416-1245-483b-be26-30500cd17916&UnitID=1f7b14c3-842f-4091-b3ca-4972e4c53524&CompanyID=e8e0488e-54a0-44bf-b10c-d029c423f6e7&UnitDefaultTemplate=1 check page 職稱 醫事檢驗師\n",
      "5 師(二)級呼吸治療 https://www.vhcy.gov.tw/UnitPage/RowViewDetail?WebRowsID=544a2784-1aa4-424b-b648-279afa5d9d37&UnitID=1f7b14c3-842f-4091-b3ca-4972e4c53524&CompanyID=e8e0488e-54a0-44bf-b10c-d029c423f6e7&UnitDefaultTemplate=1 check page check page\n",
      "6 師(二)級醫事放射 https://www.vhcy.gov.tw/UnitPage/RowViewDetail?WebRowsID=2443ebc7-08ec-4348-9996-4203ccd74925&UnitID=1f7b14c3-842f-4091-b3ca-4972e4c53524&CompanyID=e8e0488e-54a0-44bf-b10c-d029c423f6e7&UnitDefaultTemplate=1 check page check page\n",
      "7 師(二)級醫事檢驗 https://www.vhcy.gov.tw/UnitPage/RowViewDetail?WebRowsID=57f16f2a-f8fa-4c71-b707-ab37efa8c845&UnitID=1f7b14c3-842f-4091-b3ca-4972e4c53524&CompanyID=e8e0488e-54a0-44bf-b10c-d029c423f6e7&UnitDefaultTemplate=1 check page check page\n",
      "8 師(二)級藥 https://www.vhcy.gov.tw/UnitPage/RowViewDetail?WebRowsID=4e7a56cd-025a-40b1-ad78-7b6b771c3c82&UnitID=1f7b14c3-842f-4091-b3ca-4972e4c53524&CompanyID=e8e0488e-54a0-44bf-b10c-d029c423f6e7&UnitDefaultTemplate=1 check page check page\n",
      "9 師(三)級藥 https://www.vhcy.gov.tw/UnitPage/RowViewDetail?WebRowsID=4b8ced60-bc01-4775-8377-89609d6af5e5&UnitID=1f7b14c3-842f-4091-b3ca-4972e4c53524&CompanyID=e8e0488e-54a0-44bf-b10c-d029c423f6e7&UnitDefaultTemplate=1 113年8月27日 職稱\n",
      "0 師(三)級藥 https://www.vhcy.gov.tw/UnitPage/RowViewDetail?WebRowsID=c5e8dfa2-36c8-4bbe-8d74-d7ba0a2573f5&UnitID=1f7b14c3-842f-4091-b3ca-4972e4c53524&CompanyID=e8e0488e-54a0-44bf-b10c-d029c423f6e7&UnitDefaultTemplate=1 113年8月27日 職稱\n",
      "臺中榮民總醫院嘉義分院 Error find job type: 113年5月安養機構一級單位主管出缺一覽表，有意願者請於113年5月23日12時報名\n",
      "0 契約藥 https://www.vhcy.gov.tw/UnitPage/RowViewDetail?WebRowsID=1513f4aa-bdb1-4dfb-a1fa-21d710f9f788&UnitID=1f7b14c3-842f-4091-b3ca-4972e4c53524&CompanyID=e8e0488e-54a0-44bf-b10c-d029c423f6e7&UnitDefaultTemplate=1 check page 藥劑科\n",
      "1 居家長照機構契約照顧服務 https://www.vhcy.gov.tw/UnitPage/RowViewDetail?WebRowsID=d5e5ec20-6dd4-4065-b9c3-d79b3a388249&UnitID=1f7b14c3-842f-4091-b3ca-4972e4c53524&CompanyID=e8e0488e-54a0-44bf-b10c-d029c423f6e7&UnitDefaultTemplate=1 113年05月31日 職稱\n",
      "2 契約職能治療 https://www.vhcy.gov.tw/UnitPage/RowViewDetail?WebRowsID=8a3af104-368e-47dc-ba80-dd12beb6ebaf&UnitID=1f7b14c3-842f-4091-b3ca-4972e4c53524&CompanyID=e8e0488e-54a0-44bf-b10c-d029c423f6e7&UnitDefaultTemplate=1 113年04月09日 復健科\n",
      "3 學契約醫事放射 https://www.vhcy.gov.tw/UnitPage/RowViewDetail?WebRowsID=4775f384-377c-4df3-aa0e-2f5c49bfd626&UnitID=1f7b14c3-842f-4091-b3ca-4972e4c53524&CompanyID=e8e0488e-54a0-44bf-b10c-d029c423f6e7&UnitDefaultTemplate=1 113年4月1日 影像醫學部\n",
      "4 契約臨床心理 https://www.vhcy.gov.tw/UnitPage/RowViewDetail?WebRowsID=7deffbbe-34b8-4b92-a68e-88e3691b1aa8&UnitID=1f7b14c3-842f-4091-b3ca-4972e4c53524&CompanyID=e8e0488e-54a0-44bf-b10c-d029c423f6e7&UnitDefaultTemplate=1 113年03月18日 精神部契約臨床心\n",
      "5 (病歷管理組)契約行政助 https://www.vhcy.gov.tw/UnitPage/RowViewDetail?WebRowsID=ff97336b-6ce3-4ff3-a805-e99f8c73712a&UnitID=1f7b14c3-842f-4091-b3ca-4972e4c53524&CompanyID=e8e0488e-54a0-44bf-b10c-d029c423f6e7&UnitDefaultTemplate=1 113年3 醫務企管室(病歷管理組\n",
      "6 部-社區健康營造中心契約護理 https://www.vhcy.gov.tw/UnitPage/RowViewDetail?WebRowsID=e5c5d845-67c8-45c3-b2d0-4e85ff5ee9aa&UnitID=1f7b14c3-842f-4091-b3ca-4972e4c53524&CompanyID=e8e0488e-54a0-44bf-b10c-d029c423f6e7&UnitDefaultTemplate=1 113年3月11日 家醫部-社區健康營造中心\n",
      "7 社區失智照護服務計畫據點個管 https://www.vhcy.gov.tw/UnitPage/RowViewDetail?WebRowsID=54b009ee-f823-468e-b304-835249eae5e5&UnitID=1f7b14c3-842f-4091-b3ca-4972e4c53524&CompanyID=e8e0488e-54a0-44bf-b10c-d029c423f6e7&UnitDefaultTemplate=1 113年3月4日 精神部\n",
      "8 契約職能治療 https://www.vhcy.gov.tw/UnitPage/RowViewDetail?WebRowsID=4b5fa65e-203a-4bfb-ba18-250dc37a86fb&UnitID=1f7b14c3-842f-4091-b3ca-4972e4c53524&CompanyID=e8e0488e-54a0-44bf-b10c-d029c423f6e7&UnitDefaultTemplate=1 113年3月12日 精神部\n",
      "9 契約醫務副管理 https://www.vhcy.gov.tw/UnitPage/RowViewDetail?WebRowsID=d5266d6d-f3a7-4422-b85e-51eeb17a0f89&UnitID=1f7b14c3-842f-4091-b3ca-4972e4c53524&CompanyID=e8e0488e-54a0-44bf-b10c-d029c423f6e7&UnitDefaultTemplate=1 check page 醫企室\n",
      "0 契約職業安全管理師(或契約職業衛生管理 https://www.vhcy.gov.tw/UnitPage/RowViewDetail?WebRowsID=12dca505-1b40-4b8f-8beb-5e54cbebc11f&UnitID=1f7b14c3-842f-4091-b3ca-4972e4c53524&CompanyID=e8e0488e-54a0-44bf-b10c-d029c423f6e7&UnitDefaultTemplate=1 113年3月15日 職安室\n",
      "1 契約護理 https://www.vhcy.gov.tw/UnitPage/RowViewDetail?WebRowsID=87bb5f37-71e7-4a86-b4e3-c5118f0477d2&UnitID=1f7b14c3-842f-4091-b3ca-4972e4c53524&CompanyID=e8e0488e-54a0-44bf-b10c-d029c423f6e7&UnitDefaultTemplate=1 113年02月29日 內科部契約護理師1名徵才公告(灣橋分院醫療部\n"
     ]
    },
    {
     "name": "stderr",
     "output_type": "stream",
     "text": [
      "Some characters could not be decoded, and were replaced with REPLACEMENT CHARACTER.\n"
     ]
    },
    {
     "ename": "AttributeError",
     "evalue": "'NoneType' object has no attribute 'text'",
     "output_type": "error",
     "traceback": [
      "\u001b[0;31m---------------------------------------------------------------------------\u001b[0m",
      "\u001b[0;31mAttributeError\u001b[0m                            Traceback (most recent call last)",
      "Cell \u001b[0;32mIn[12], line 6\u001b[0m\n\u001b[1;32m      3\u001b[0m \u001b[38;5;28;01mfor\u001b[39;00m p_i, p_item \u001b[38;5;129;01min\u001b[39;00m \u001b[38;5;28menumerate\u001b[39m(pages_link):\n\u001b[1;32m      4\u001b[0m     table_ \u001b[38;5;241m=\u001b[39m get_work_page(p_item, verify\u001b[38;5;241m=\u001b[39mPath()\u001b[38;5;241m.\u001b[39mcwd()\u001b[38;5;241m.\u001b[39mparent\u001b[38;5;241m.\u001b[39mjoinpath(\u001b[38;5;124m'\u001b[39m\u001b[38;5;124mcacert.pem\u001b[39m\u001b[38;5;124m'\u001b[39m))\n\u001b[0;32m----> 6\u001b[0m     work_table \u001b[38;5;241m=\u001b[39m \u001b[43mget_work_table\u001b[49m\u001b[43m(\u001b[49m\u001b[43mtable_\u001b[49m\u001b[43m,\u001b[49m\u001b[43mwork_table\u001b[49m\u001b[43m)\u001b[49m\n",
      "Cell \u001b[0;32mIn[11], line 10\u001b[0m, in \u001b[0;36mget_work_table\u001b[0;34m(table_, work_table)\u001b[0m\n\u001b[1;32m      8\u001b[0m new_title \u001b[38;5;241m=\u001b[39m findjobtype(title,\u001b[38;5;124m'\u001b[39m\u001b[38;5;124m臺中榮民總醫院嘉義分院\u001b[39m\u001b[38;5;124m'\u001b[39m)\u001b[38;5;241m.\u001b[39mreplace(\u001b[38;5;124m\"\u001b[39m\u001b[38;5;124m部契約\u001b[39m\u001b[38;5;124m\"\u001b[39m,\u001b[38;5;124m\"\u001b[39m\u001b[38;5;124m契約\u001b[39m\u001b[38;5;124m\"\u001b[39m)\n\u001b[1;32m      9\u001b[0m link_s \u001b[38;5;241m=\u001b[39m url_base\u001b[38;5;241m+\u001b[39mp_item_a\u001b[38;5;241m.\u001b[39mget(\u001b[38;5;124m'\u001b[39m\u001b[38;5;124mhref\u001b[39m\u001b[38;5;124m'\u001b[39m)\n\u001b[0;32m---> 10\u001b[0m \u001b[38;5;28;01mif\u001b[39;00m \u001b[43mget_work_detail\u001b[49m\u001b[43m(\u001b[49m\u001b[43mlink_s\u001b[49m\u001b[43m)\u001b[49m \u001b[38;5;241m==\u001b[39m \u001b[38;5;28;01mNone\u001b[39;00m:\n\u001b[1;32m     11\u001b[0m     \u001b[38;5;28;01mbreak\u001b[39;00m\n\u001b[1;32m     12\u001b[0m origination \u001b[38;5;241m=\u001b[39m get_work_originazation(title,link_s)\n",
      "Cell \u001b[0;32mIn[7], line 2\u001b[0m, in \u001b[0;36mget_work_detail\u001b[0;34m(link)\u001b[0m\n\u001b[1;32m      1\u001b[0m \u001b[38;5;28;01mdef\u001b[39;00m \u001b[38;5;21mget_work_detail\u001b[39m(link):\n\u001b[0;32m----> 2\u001b[0m     work_detail \u001b[38;5;241m=\u001b[39m \u001b[43mget_work_page\u001b[49m\u001b[43m(\u001b[49m\u001b[43mlink\u001b[49m\u001b[43m,\u001b[49m\u001b[43m \u001b[49m\u001b[43mverify\u001b[49m\u001b[38;5;241;43m=\u001b[39;49m\u001b[43mPath\u001b[49m\u001b[43m(\u001b[49m\u001b[43m)\u001b[49m\u001b[38;5;241;43m.\u001b[39;49m\u001b[43mcwd\u001b[49m\u001b[43m(\u001b[49m\u001b[43m)\u001b[49m\u001b[38;5;241;43m.\u001b[39;49m\u001b[43mparent\u001b[49m\u001b[38;5;241;43m.\u001b[39;49m\u001b[43mjoinpath\u001b[49m\u001b[43m(\u001b[49m\u001b[38;5;124;43m'\u001b[39;49m\u001b[38;5;124;43mcacert.pem\u001b[39;49m\u001b[38;5;124;43m'\u001b[39;49m\u001b[43m)\u001b[49m\u001b[43m)\u001b[49m\u001b[38;5;241;43m.\u001b[39;49m\u001b[43mfind\u001b[49m\u001b[43m(\u001b[49m\u001b[38;5;124;43m\"\u001b[39;49m\u001b[38;5;124;43mdiv\u001b[39;49m\u001b[38;5;124;43m\"\u001b[39;49m\u001b[43m,\u001b[49m\u001b[43mclass_\u001b[49m\u001b[38;5;241;43m=\u001b[39;49m\u001b[38;5;124;43m\"\u001b[39;49m\u001b[38;5;124;43mnewContent\u001b[39;49m\u001b[38;5;124;43m\"\u001b[39;49m\u001b[43m)\u001b[49m\u001b[38;5;241;43m.\u001b[39;49m\u001b[43mtext\u001b[49m\n\u001b[1;32m      3\u001b[0m     \u001b[38;5;28;01mif\u001b[39;00m work_detail\u001b[38;5;241m.\u001b[39mreplace(\u001b[38;5;124m\"\u001b[39m\u001b[38;5;130;01m\\n\u001b[39;00m\u001b[38;5;124m\"\u001b[39m,\u001b[38;5;124m\"\u001b[39m\u001b[38;5;124m\"\u001b[39m) \u001b[38;5;241m==\u001b[39m \u001b[38;5;124m\"\u001b[39m\u001b[38;5;124m\"\u001b[39m:\n\u001b[1;32m      4\u001b[0m         \u001b[38;5;28;01mreturn\u001b[39;00m \u001b[38;5;28;01mNone\u001b[39;00m\n",
      "\u001b[0;31mAttributeError\u001b[0m: 'NoneType' object has no attribute 'text'"
     ]
    }
   ],
   "source": [
    "work_table=[]\n",
    "work_table = get_work_table(work_page,work_table)\n",
    "for p_i, p_item in enumerate(pages_link):\n",
    "    table_ = get_work_page(p_item, verify=Path().cwd().parent.joinpath('cacert.pem'))\n",
    "\n",
    "    work_table = get_work_table(table_,work_table)"
   ]
  },
  {
   "cell_type": "code",
   "execution_count": 13,
   "metadata": {},
   "outputs": [
    {
     "name": "stdout",
     "output_type": "stream",
     "text": [
      "                              召聘職稱          期限                    職缺單位  \\\n",
      "0                           契約居家護理       113年7                     精神部   \n",
      "1                           契約社工師(  check page                   社會工作室   \n",
      "2          學部(健檢中心)契約辦事員1名徵才公告(職務代  check page              家庭醫學部(健檢中心   \n",
      "3           (灣橋分院)社區整體照顧服務體系A級單位個管  113年08月30日                     護理部   \n",
      "4                           契約物理治療   113年8月10日                     復健科   \n",
      "5                      (醫療費用組)契約辦事  113年07月31日             醫務企管室(醫療費用組   \n",
      "6       嘉義縣113年度輔具資源中心徵求維修人員1名徵才公告   113年8月31日          嘉義縣113年度輔具資源中心   \n",
      "7                       部(胃鏡室)契約護理   113年7月22日                 內科部(胃鏡室   \n",
      "8                   部(胃鏡室)契約部分工時護理       113年7             內科部(胃鏡室)契約部   \n",
      "9                           契約居家護理       113年7                     精神部   \n",
      "10                          契約社工師(  check page                   社會工作室   \n",
      "11         學部(健檢中心)契約辦事員1名徵才公告(職務代  check page              家庭醫學部(健檢中心   \n",
      "12          (灣橋分院)社區整體照顧服務體系A級單位個管  113年08月30日                     護理部   \n",
      "13                          契約物理治療   113年8月10日                     復健科   \n",
      "14                     (醫療費用組)契約辦事  113年07月31日             醫務企管室(醫療費用組   \n",
      "15      嘉義縣113年度輔具資源中心徵求維修人員1名徵才公告   113年8月31日          嘉義縣113年度輔具資源中心   \n",
      "16                      部(胃鏡室)契約護理   113年7月22日                 內科部(胃鏡室   \n",
      "17                  部(胃鏡室)契約部分工時護理       113年7             內科部(胃鏡室)契約部   \n",
      "18                            契約副技   113年7月31日                     秘書室   \n",
      "19                 契約副技師(能源管理員及氣體管   113年7月31日                     秘書室   \n",
      "20                                  check page              check page   \n",
      "21                       復健科契約物理治療   113年6月21日                 灣橋分院復健科   \n",
      "22                          技士職缺公告  check page                    職稱技士   \n",
      "23  師(二)級醫事檢驗師3名、藥師2名、醫事放射師2名、呼吸治療  check page                   職稱 藥師   \n",
      "24  師(二)級醫事檢驗師3名、藥師2名、醫事放射師2名、呼吸治療  check page                職稱 醫事放射師   \n",
      "25  師(二)級醫事檢驗師3名、藥師2名、醫事放射師2名、呼吸治療  check page                職稱 醫事檢驗師   \n",
      "26                       師(二)級呼吸治療  check page              check page   \n",
      "27                       師(二)級醫事放射  check page              check page   \n",
      "28                       師(二)級醫事檢驗  check page              check page   \n",
      "29                          師(二)級藥  check page              check page   \n",
      "30                          師(三)級藥   113年8月27日                      職稱   \n",
      "31                          師(三)級藥   113年8月27日                      職稱   \n",
      "32                             契約藥  check page                     藥劑科   \n",
      "33                    居家長照機構契約照顧服務  113年05月31日                      職稱   \n",
      "34                          契約職能治療  113年04月09日                     復健科   \n",
      "35                         學契約醫事放射    113年4月1日                   影像醫學部   \n",
      "36                          契約臨床心理  113年03月18日                精神部契約臨床心   \n",
      "37                    (病歷管理組)契約行政助       113年3             醫務企管室(病歷管理組   \n",
      "38                  部-社區健康營造中心契約護理   113年3月11日            家醫部-社區健康營造中心   \n",
      "39                  社區失智照護服務計畫據點個管    113年3月4日                     精神部   \n",
      "40                          契約職能治療   113年3月12日                     精神部   \n",
      "41                         契約醫務副管理  check page                     醫企室   \n",
      "42             契約職業安全管理師(或契約職業衛生管理   113年3月15日                     職安室   \n",
      "43                            契約護理  113年02月29日  內科部契約護理師1名徵才公告(灣橋分院醫療部   \n",
      "\n",
      "                                                   連結  \n",
      "0   https://www.vhcy.gov.tw/UnitPage/RowViewDetail...  \n",
      "1   https://www.vhcy.gov.tw/UnitPage/RowViewDetail...  \n",
      "2   https://www.vhcy.gov.tw/UnitPage/RowViewDetail...  \n",
      "3   https://www.vhcy.gov.tw/UnitPage/RowViewDetail...  \n",
      "4   https://www.vhcy.gov.tw/UnitPage/RowViewDetail...  \n",
      "5   https://www.vhcy.gov.tw/UnitPage/RowViewDetail...  \n",
      "6   https://www.vhcy.gov.tw/UnitPage/RowViewDetail...  \n",
      "7   https://www.vhcy.gov.tw/UnitPage/RowViewDetail...  \n",
      "8   https://www.vhcy.gov.tw/UnitPage/RowViewDetail...  \n",
      "9   https://www.vhcy.gov.tw/UnitPage/RowViewDetail...  \n",
      "10  https://www.vhcy.gov.tw/UnitPage/RowViewDetail...  \n",
      "11  https://www.vhcy.gov.tw/UnitPage/RowViewDetail...  \n",
      "12  https://www.vhcy.gov.tw/UnitPage/RowViewDetail...  \n",
      "13  https://www.vhcy.gov.tw/UnitPage/RowViewDetail...  \n",
      "14  https://www.vhcy.gov.tw/UnitPage/RowViewDetail...  \n",
      "15  https://www.vhcy.gov.tw/UnitPage/RowViewDetail...  \n",
      "16  https://www.vhcy.gov.tw/UnitPage/RowViewDetail...  \n",
      "17  https://www.vhcy.gov.tw/UnitPage/RowViewDetail...  \n",
      "18  https://www.vhcy.gov.tw/UnitPage/RowViewDetail...  \n",
      "19  https://www.vhcy.gov.tw/UnitPage/RowViewDetail...  \n",
      "20  https://www.vhcy.gov.tw/UnitPage/RowViewDetail...  \n",
      "21  https://www.vhcy.gov.tw/UnitPage/RowViewDetail...  \n",
      "22  https://www.vhcy.gov.tw/UnitPage/RowViewDetail...  \n",
      "23  https://www.vhcy.gov.tw/UnitPage/RowViewDetail...  \n",
      "24  https://www.vhcy.gov.tw/UnitPage/RowViewDetail...  \n",
      "25  https://www.vhcy.gov.tw/UnitPage/RowViewDetail...  \n",
      "26  https://www.vhcy.gov.tw/UnitPage/RowViewDetail...  \n",
      "27  https://www.vhcy.gov.tw/UnitPage/RowViewDetail...  \n",
      "28  https://www.vhcy.gov.tw/UnitPage/RowViewDetail...  \n",
      "29  https://www.vhcy.gov.tw/UnitPage/RowViewDetail...  \n",
      "30  https://www.vhcy.gov.tw/UnitPage/RowViewDetail...  \n",
      "31  https://www.vhcy.gov.tw/UnitPage/RowViewDetail...  \n",
      "32  https://www.vhcy.gov.tw/UnitPage/RowViewDetail...  \n",
      "33  https://www.vhcy.gov.tw/UnitPage/RowViewDetail...  \n",
      "34  https://www.vhcy.gov.tw/UnitPage/RowViewDetail...  \n",
      "35  https://www.vhcy.gov.tw/UnitPage/RowViewDetail...  \n",
      "36  https://www.vhcy.gov.tw/UnitPage/RowViewDetail...  \n",
      "37  https://www.vhcy.gov.tw/UnitPage/RowViewDetail...  \n",
      "38  https://www.vhcy.gov.tw/UnitPage/RowViewDetail...  \n",
      "39  https://www.vhcy.gov.tw/UnitPage/RowViewDetail...  \n",
      "40  https://www.vhcy.gov.tw/UnitPage/RowViewDetail...  \n",
      "41  https://www.vhcy.gov.tw/UnitPage/RowViewDetail...  \n",
      "42  https://www.vhcy.gov.tw/UnitPage/RowViewDetail...  \n",
      "43  https://www.vhcy.gov.tw/UnitPage/RowViewDetail...  \n"
     ]
    }
   ],
   "source": [
    "work_table=pd.DataFrame(work_table, columns=['召聘職稱','期限' ,\"職缺單位\" ,'連結'])\n",
    "\n",
    "print(work_table)"
   ]
  },
  {
   "cell_type": "code",
   "execution_count": 145,
   "metadata": {},
   "outputs": [
    {
     "data": {
      "text/plain": [
       "'\\n\\n'"
      ]
     },
     "execution_count": 145,
     "metadata": {},
     "output_type": "execute_result"
    }
   ],
   "source": [
    "get_work_page('https://www.vhcy.gov.tw//PageView/RowViewDetail?WebRowsID=2296c3cc-ea34-4273-beac-603a99803d97&amp;UnitID=fbb1c734-f7d0-41c4-93d8-261f32f1db04&amp;CompanyID=E8E0488E-54A0-44BF-B10C-D029C423F6E7').find(\"div\",class_=\"newContent\").text"
   ]
  },
  {
   "cell_type": "code",
   "execution_count": null,
   "metadata": {},
   "outputs": [],
   "source": []
  }
 ],
 "metadata": {
  "interpreter": {
   "hash": "52d4b57e0aa6b69fea3b66bac82c78882c702c21609c11e114ff38253261116e"
  },
  "kernelspec": {
   "display_name": "hospwork",
   "language": "python",
   "name": "hospwork"
  },
  "language_info": {
   "codemirror_mode": {
    "name": "ipython",
    "version": 3
   },
   "file_extension": ".py",
   "mimetype": "text/x-python",
   "name": "python",
   "nbconvert_exporter": "python",
   "pygments_lexer": "ipython3",
   "version": "3.10.4"
  }
 },
 "nbformat": 4,
 "nbformat_minor": 4
}
