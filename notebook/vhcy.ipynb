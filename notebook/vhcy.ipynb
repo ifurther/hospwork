{
 "cells": [
  {
   "cell_type": "code",
   "execution_count": 111,
   "metadata": {},
   "outputs": [],
   "source": [
    "from bs4 import BeautifulSoup\n",
    "import requests\n",
    "import pandas as pd\n",
    "import re\n",
    "from urllib.parse import urlparse"
   ]
  },
  {
   "cell_type": "code",
   "execution_count": 112,
   "metadata": {},
   "outputs": [],
   "source": [
    "url_base='https://www.vhcy.gov.tw'\n",
    "url_work_table='/PageView/RowView?WebMenuID=1c791b28-2968-49c9-8d5a-32dceca8ad1b'\n",
    "url=url_base+url_work_table\n",
    "g=requests.get(url)\n",
    "soup=BeautifulSoup(g.content, 'html.parser')"
   ]
  },
  {
   "cell_type": "markdown",
   "metadata": {},
   "source": [
    "# Get page link\n",
    "In this website the work table has some page, so the function should find page link for next step."
   ]
  },
  {
   "cell_type": "code",
   "execution_count": 113,
   "metadata": {},
   "outputs": [
    {
     "name": "stdout",
     "output_type": "stream",
     "text": [
      "2 https://www.vhcy.gov.tw/PageView/RowView?WebMenuID=1c791b28-2968-49c9-8d5a-32dceca8ad1b&page=2\n",
      "3 https://www.vhcy.gov.tw/PageView/RowView?WebMenuID=1c791b28-2968-49c9-8d5a-32dceca8ad1b&page=3\n",
      "4 https://www.vhcy.gov.tw/PageView/RowView?WebMenuID=1c791b28-2968-49c9-8d5a-32dceca8ad1b&page=4\n",
      "5 https://www.vhcy.gov.tw/PageView/RowView?WebMenuID=1c791b28-2968-49c9-8d5a-32dceca8ad1b&page=5\n",
      "6 https://www.vhcy.gov.tw/PageView/RowView?WebMenuID=1c791b28-2968-49c9-8d5a-32dceca8ad1b&page=6\n"
     ]
    }
   ],
   "source": [
    "pages_link=[]\n",
    "pages_link.append(url)\n",
    "for o in soup.find(\"div\",class_=\"pager\").find_all(\"a\"):\n",
    "    if o.text == \"下一頁\" or o.text == \"»\":\n",
    "        pass\n",
    "    else:\n",
    "        link = url_base+o.get('href')\n",
    "        pages_link.append(link)\n",
    "        print(o.text,link)"
   ]
  },
  {
   "cell_type": "markdown",
   "metadata": {},
   "source": [
    "# Get work table"
   ]
  },
  {
   "cell_type": "markdown",
   "metadata": {},
   "source": [
    "The `get_work_page` function is used for getting each work page"
   ]
  },
  {
   "cell_type": "code",
   "execution_count": 114,
   "metadata": {},
   "outputs": [],
   "source": [
    "work_page = soup.find(\"tbody\")"
   ]
  },
  {
   "cell_type": "code",
   "execution_count": 115,
   "metadata": {},
   "outputs": [],
   "source": [
    "def get_work_page(page_url,page=None,page_link_part='?page='):\n",
    "    global url\n",
    "    if page != None:\n",
    "        page_url = page_url+page_link_part+str(page)\n",
    "    if url == None:\n",
    "        page_url = url\n",
    "        print(page_url)\n",
    "    g=requests.get(page_url)\n",
    "    soup=BeautifulSoup(g.content, 'html.parser')\n",
    "    return soup"
   ]
  },
  {
   "cell_type": "code",
   "execution_count": 116,
   "metadata": {},
   "outputs": [],
   "source": [
    "def get_work_detail(link):\n",
    "    work_detail = get_work_page(link).find(\"div\",class_=\"newContent\").text\n",
    "    if work_detail.replace(\"\\n\",\"\") == \"\":\n",
    "        return None\n",
    "    else:\n",
    "        return get_work_page(link).find(\"div\",class_=\"newContent\").text.replace(\"\\r\",\"\").replace(\"\\t\",\"\").split(\"\\n\")"
   ]
  },
  {
   "cell_type": "code",
   "execution_count": 117,
   "metadata": {},
   "outputs": [],
   "source": [
    "def get_work_title(title):\n",
    "    try:\n",
    "        new_title = re.search(\"\\B[科,短,社,契,牙,秘,醫,部,室](.*)[員,理,工,師,生]\",title).group(0)\n",
    "    except AttributeError:\n",
    "        print(\"ERROR:\",title)\n",
    "    return new_title"
   ]
  },
  {
   "cell_type": "code",
   "execution_count": 118,
   "metadata": {},
   "outputs": [],
   "source": [
    "def get_work_originazation(title,link):\n",
    "    try:\n",
    "        origination = re.search(\"((.*)[組,部,科,室,心])\",title).group(1)\n",
    "    except AttributeError:\n",
    "        g = get_work_detail(link)\n",
    "        if g == None:\n",
    "            return \"check page\"\n",
    "        try:\n",
    "            origination = [gg for gg in g if \"職稱\" in gg][0].split(\"：\")[-1]\n",
    "        except AttributeError:\n",
    "            ggg = [gg for gg in g if gg != '']\n",
    "            origination = ggg[ggg.index(\"職稱\")+1]\n",
    "        except:\n",
    "            origination = \"check page\"\n",
    "    return origination"
   ]
  },
  {
   "cell_type": "code",
   "execution_count": 119,
   "metadata": {},
   "outputs": [],
   "source": [
    "def get_work_deadtime(link):\n",
    "    g = get_work_detail(link)\n",
    "    if g == None:\n",
    "        return \"check page\"\n",
    "    try:\n",
    "        ggg = [gg for gg in g if gg != '']\n",
    "        try:\n",
    "            dead = re.findall(\"\\d+年\\d+月\\d+日|\\d+.\\d+.\\d+\",ggg[ggg.index(\"上網期間\")+1])[-1]\n",
    "        except:\n",
    "            for gggg in ggg:\n",
    "                \n",
    "                if \"上網期間\" in gggg or \"報名方式\" in gggg or \"報名人員請於\" in gggg or \"日前\" in gggg or \"報名日期\" in gggg or \"（含）前\" in gggg:\n",
    "                    try:\n",
    "                        dead = re.findall(\"\\d+年\\d+月\\d+日|\\d+.\\d+.\\d+\",[gg for gg in g if \"上網期間\" in gg or \"報名方式\" in gg or \"報名日期\" in gg or \"（含）前\" in gg][0].split(\"：\")[-1])[-1]\n",
    "                    except:\n",
    "                        dead = \"check page\"\n",
    "    except:\n",
    "        dead = \"check page\"\n",
    "    \n",
    "    finally:\n",
    "        if 'dead' not in locals():\n",
    "            dead = \"check page\"\n",
    "        return dead"
   ]
  },
  {
   "cell_type": "code",
   "execution_count": 146,
   "metadata": {},
   "outputs": [],
   "source": [
    "def get_work_table(table_,work_table):\n",
    "    for p_i, p_item in enumerate(table_.find_all(\"tr\")):\n",
    "        if p_item.find('a'):\n",
    "            p_item_a = p_item.find('a')\n",
    "            title = p_item_a.text\n",
    "            if \"錄取公告\" in title or '考試公告' in title or \"甄試結果公告\" in title or \"核定\" in title:\n",
    "                break\n",
    "            new_title = get_work_title(title)\n",
    "            link_s = url_base+p_item_a.get('href')\n",
    "            if get_work_detail(link_s) == None:\n",
    "                break\n",
    "            origination = get_work_originazation(title,link_s)\n",
    "            try:\n",
    "                dead_line = get_work_deadtime(link_s)\n",
    "            except:\n",
    "                print(\"Error\",p_item)\n",
    "            print(p_i-1,new_title,link_s,dead_line, origination)\n",
    "            work_table.append([new_title, dead_line, origination, link_s ])\n",
    "    return work_table"
   ]
  },
  {
   "cell_type": "code",
   "execution_count": 147,
   "metadata": {},
   "outputs": [
    {
     "name": "stdout",
     "output_type": "stream",
     "text": [
      "0 科契約護理師 https://www.vhcy.gov.tw/PageView/RowViewDetail?WebRowsID=d3478712-4c3f-4238-bdd2-7953a4320b41&UnitID=fbb1c734-f7d0-41c4-93d8-261f32f1db04&CompanyID=E8E0488E-54A0-44BF-B10C-D029C423F6E7 111年04月15日 胃腸科\n",
      "1 醫院師(二)級醫師 https://www.vhcy.gov.tw/PageView/RowViewDetail?WebRowsID=4d84bfbb-a747-4ae1-8f4d-8a5b3ae6df72&UnitID=fbb1c734-f7d0-41c4-93d8-261f32f1db04&CompanyID=E8E0488E-54A0-44BF-B10C-D029C423F6E7 111年4月13 臺中榮民總醫院師(二)級醫師兼科主任(教學部臨床訓練科\n",
      "2 室契約醫務副管理師 https://www.vhcy.gov.tw/PageView/RowViewDetail?WebRowsID=1c9a736b-fa5b-4c23-bdf9-f9732ede0655&UnitID=fbb1c734-f7d0-41c4-93d8-261f32f1db04&CompanyID=E8E0488E-54A0-44BF-B10C-D029C423F6E7 check page 醫務企管室\n",
      "3 科甄選職務代理契約醫事檢驗師 https://www.vhcy.gov.tw/PageView/RowViewDetail?WebRowsID=7ea69317-bb1d-4009-a9a9-50d0804ffeb7&UnitID=fbb1c734-f7d0-41c4-93d8-261f32f1db04&CompanyID=E8E0488E-54A0-44BF-B10C-D029C423F6E7 check page 病理檢驗科\n",
      "4 科契約護理師 https://www.vhcy.gov.tw/PageView/RowViewDetail?WebRowsID=55940c2a-2cd7-4f25-b8a9-46c4aa0deadb&UnitID=fbb1c734-f7d0-41c4-93d8-261f32f1db04&CompanyID=E8E0488E-54A0-44BF-B10C-D029C423F6E7 111年04月05日 胃腸科\n",
      "0 醫學部(放射腫瘤科)契約醫事放射師 https://www.vhcy.gov.tw/PageView/RowViewDetail?WebRowsID=6bc3867e-1c0d-4a15-b890-4af0a84c00a6&UnitID=fbb1c734-f7d0-41c4-93d8-261f32f1db04&CompanyID=E8E0488E-54A0-44BF-B10C-D029C423F6E7 110年12月25日 影像醫學部(放射腫瘤科\n",
      "1 室契約醫務副管理師 https://www.vhcy.gov.tw/PageView/RowViewDetail?WebRowsID=0df104e2-6a10-4c7c-aa1d-d89d369e56da&UnitID=fbb1c734-f7d0-41c4-93d8-261f32f1db04&CompanyID=E8E0488E-54A0-44BF-B10C-D029C423F6E7 111年01月05日 醫務企管室\n",
      "2 部契約居家服務照顧服務員(工 https://www.vhcy.gov.tw/PageView/RowViewDetail?WebRowsID=365b5144-0c97-4aea-b27c-625eb04c544a&UnitID=fbb1c734-f7d0-41c4-93d8-261f32f1db04&CompanyID=E8E0488E-54A0-44BF-B10C-D029C423F6E7 check page 護理部\n",
      "3 部專案助理 https://www.vhcy.gov.tw/PageView/RowViewDetail?WebRowsID=7213b602-1cf4-44b8-a065-6519c14d0dcd&UnitID=fbb1c734-f7d0-41c4-93d8-261f32f1db04&CompanyID=E8E0488E-54A0-44BF-B10C-D029C423F6E7 check page 精神部\n",
      "4 科部(心導管室)契約護理師 https://www.vhcy.gov.tw/PageView/RowViewDetail?WebRowsID=a26159aa-a963-48d3-b588-57754f7d3639&UnitID=fbb1c734-f7d0-41c4-93d8-261f32f1db04&CompanyID=E8E0488E-54A0-44BF-B10C-D029C423F6E7 check page 內科部(心導管室\n",
      "5 醫院埔里分院師(二)級醫師 https://www.vhcy.gov.tw/PageView/RowViewDetail?WebRowsID=617586d7-ce4d-4089-ad29-f48515e897ae&UnitID=fbb1c734-f7d0-41c4-93d8-261f32f1db04&CompanyID=E8E0488E-54A0-44BF-B10C-D029C423F6E7 110年12月16日 臺中榮民總醫院埔里分院師(二)級醫師麻醉科2名、骨科\n",
      "6 室契約社工 https://www.vhcy.gov.tw/PageView/RowViewDetail?WebRowsID=7a196cff-850a-4996-987d-3f7bd39b7fb7&UnitID=fbb1c734-f7d0-41c4-93d8-261f32f1db04&CompanyID=E8E0488E-54A0-44BF-B10C-D029C423F6E7 check page 社會工作室\n",
      "0 醫院嘉義分院師 https://www.vhcy.gov.tw/PageView/RowViewDetail?WebRowsID=6bd69840-b9a7-4142-acd6-92010379e7cb&UnitID=fbb1c734-f7d0-41c4-93d8-261f32f1db04&CompanyID=E8E0488E-54A0-44BF-B10C-D029C423F6E7 110年9月28 職稱\n",
      "1 醫院嘉義分院師(二)級醫師 https://www.vhcy.gov.tw/PageView/RowViewDetail?WebRowsID=9a04edf7-5d43-49a4-b4e4-6748cbaac4f4&UnitID=fbb1c734-f7d0-41c4-93d8-261f32f1db04&CompanyID=E8E0488E-54A0-44BF-B10C-D029C423F6E7 110年9月16日 臺中榮民總醫院嘉義分院師(二)級醫師兼外科重症加護中心\n",
      "2 醫院嘉義分院護理部師(一)級護理師 https://www.vhcy.gov.tw/PageView/RowViewDetail?WebRowsID=2cbee853-dc42-48f2-9245-a05afc21f9c8&UnitID=fbb1c734-f7d0-41c4-93d8-261f32f1db04&CompanyID=E8E0488E-54A0-44BF-B10C-D029C423F6E7 110年9月29日 臺中榮民總醫院嘉義分院護理部師(一)級護理師兼部\n",
      "3 部(嘉義)契約職能治療師 https://www.vhcy.gov.tw/PageView/RowViewDetail?WebRowsID=e9e803ee-1248-4dd5-8538-246fb0d6fd9f&UnitID=fbb1c734-f7d0-41c4-93d8-261f32f1db04&CompanyID=E8E0488E-54A0-44BF-B10C-D029C423F6E7 check page 精神部\n",
      "4 醫院嘉義分院精神部師(二)級醫師 https://www.vhcy.gov.tw/PageView/RowViewDetail?WebRowsID=a43d3645-830e-4810-8557-c6fd2521c7d6&UnitID=fbb1c734-f7d0-41c4-93d8-261f32f1db04&CompanyID=E8E0488E-54A0-44BF-B10C-D029C423F6E7 110年9月8日 臺中榮民總醫院嘉義分院精神部師(二)級醫師兼藥癮治療科\n",
      "5 醫院嘉義分院精神部師(三)級醫師 https://www.vhcy.gov.tw/PageView/RowViewDetail?WebRowsID=2b2e8603-2a35-4bb0-89a3-60b2d2749589&UnitID=fbb1c734-f7d0-41c4-93d8-261f32f1db04&CompanyID=E8E0488E-54A0-44BF-B10C-D029C423F6E7 110年9月8日 臺中榮民總醫院嘉義分院精神部\n",
      "6 科半年短期契約照服佐理員 https://www.vhcy.gov.tw/PageView/RowViewDetail?WebRowsID=e71b5aca-0367-4911-93d1-0143b593d9ce&UnitID=fbb1c734-f7d0-41c4-93d8-261f32f1db04&CompanyID=E8E0488E-54A0-44BF-B10C-D029C423F6E7 check page 灣橋復健科\n",
      "7 醫院醫務企管部衛生行政職系薦任第8職等專員 https://www.vhcy.gov.tw/PageView/RowViewDetail?WebRowsID=0c406712-df2c-4880-a482-c5b16298ca5a&UnitID=fbb1c734-f7d0-41c4-93d8-261f32f1db04&CompanyID=E8E0488E-54A0-44BF-B10C-D029C423F6E7 110年9月3日 臺中榮民總醫院醫務企管部\n"
     ]
    }
   ],
   "source": [
    "work_table=[]\n",
    "work_table = get_work_table(work_page,work_table)\n",
    "for p_i, p_item in enumerate(pages_link):\n",
    "    table_ = get_work_page(p_item)\n",
    "\n",
    "    work_table = get_work_table(table_,work_table)"
   ]
  },
  {
   "cell_type": "code",
   "execution_count": 122,
   "metadata": {},
   "outputs": [
    {
     "name": "stdout",
     "output_type": "stream",
     "text": [
      "                     召聘職稱          期限                            職缺單位  \\\n",
      "0       醫院嘉義分院秘書室薦任第8職等專員  check page                  臺中榮民總醫院嘉義分院秘書室   \n",
      "1                 室專案短期助理  111年05月19日                             秘書室   \n",
      "2                     科助理   111年5月26日                              牙科   \n",
      "3                室契約健保申報員  111年05月27日                           醫務企管室   \n",
      "4                 室契約行政助理       111年5                           醫務企管室   \n",
      "5                   室專案社工  111年05月26日                             社工室   \n",
      "6               醫院師(二)級醫師    110年5月4日  臺中榮民總醫院師(二)級醫師兼科主任(重症醫學部重症加護內科   \n",
      "7                  契約行政助理    111年5月2日                        社區健康營造中心   \n",
      "8             社區日照中心照顧服務員   111.04.14                  灣橋分院附設義仁社區日照中心   \n",
      "9                  室契約辦事員  111年05月31日                           社會工作室   \n",
      "10      醫院嘉義分院秘書室薦任第8職等專員  check page                  臺中榮民總醫院嘉義分院秘書室   \n",
      "11                室專案短期助理  111年05月19日                             秘書室   \n",
      "12                    科助理   111年5月26日                              牙科   \n",
      "13               室契約健保申報員  111年05月27日                           醫務企管室   \n",
      "14                室契約行政助理       111年5                           醫務企管室   \n",
      "15                  室專案社工  111年05月26日                             社工室   \n",
      "16              醫院師(二)級醫師    110年5月4日  臺中榮民總醫院師(二)級醫師兼科主任(重症醫學部重症加護內科   \n",
      "17                 契約行政助理    111年5月2日                        社區健康營造中心   \n",
      "18            社區日照中心照顧服務員   111.04.14                  灣橋分院附設義仁社區日照中心   \n",
      "19                 室契約辦事員  111年05月31日                           社會工作室   \n",
      "20                 科契約護理師  111年04月15日                             胃腸科   \n",
      "21              醫院師(二)級醫師    111年4月13     臺中榮民總醫院師(二)級醫師兼科主任(教學部臨床訓練科   \n",
      "22              室契約醫務副管理師  check page                           醫務企管室   \n",
      "23         科甄選職務代理契約醫事檢驗師  check page                           病理檢驗科   \n",
      "24                 科契約護理師  111年04月05日                             胃腸科   \n",
      "25      醫學部(放射腫瘤科)契約醫事放射師  110年12月25日                     影像醫學部(放射腫瘤科   \n",
      "26              室契約醫務副管理師  111年01月05日                           醫務企管室   \n",
      "27         部契約居家服務照顧服務員(工  check page                             護理部   \n",
      "28                  部專案助理  check page                             精神部   \n",
      "29          科部(心導管室)契約護理師  check page                        內科部(心導管室   \n",
      "30          醫院埔里分院師(二)級醫師  110年12月16日      臺中榮民總醫院埔里分院師(二)級醫師麻醉科2名、骨科   \n",
      "31                  室契約社工  check page                           社會工作室   \n",
      "32                醫院嘉義分院師    110年9月28                              職稱   \n",
      "33          醫院嘉義分院師(二)級醫師   110年9月16日     臺中榮民總醫院嘉義分院師(二)級醫師兼外科重症加護中心   \n",
      "34      醫院嘉義分院護理部師(一)級護理師   110年9月29日        臺中榮民總醫院嘉義分院護理部師(一)級護理師兼部   \n",
      "35           部(嘉義)契約職能治療師  check page                             精神部   \n",
      "36       醫院嘉義分院精神部師(二)級醫師    110年9月8日     臺中榮民總醫院嘉義分院精神部師(二)級醫師兼藥癮治療科   \n",
      "37       醫院嘉義分院精神部師(三)級醫師    110年9月8日                  臺中榮民總醫院嘉義分院精神部   \n",
      "38           科半年短期契約照服佐理員  check page                           灣橋復健科   \n",
      "39  醫院醫務企管部衛生行政職系薦任第8職等專員    110年9月3日                    臺中榮民總醫院醫務企管部   \n",
      "\n",
      "                                                   連結  \n",
      "0   https://www.vhcy.gov.tw/PageView/RowViewDetail...  \n",
      "1   https://www.vhcy.gov.tw/PageView/RowViewDetail...  \n",
      "2   https://www.vhcy.gov.tw/PageView/RowViewDetail...  \n",
      "3   https://www.vhcy.gov.tw/PageView/RowViewDetail...  \n",
      "4   https://www.vhcy.gov.tw/PageView/RowViewDetail...  \n",
      "5   https://www.vhcy.gov.tw/PageView/RowViewDetail...  \n",
      "6   https://www.vhcy.gov.tw/PageView/RowViewDetail...  \n",
      "7   https://www.vhcy.gov.tw/PageView/RowViewDetail...  \n",
      "8   https://www.vhcy.gov.tw/PageView/RowViewDetail...  \n",
      "9   https://www.vhcy.gov.tw/PageView/RowViewDetail...  \n",
      "10  https://www.vhcy.gov.tw/PageView/RowViewDetail...  \n",
      "11  https://www.vhcy.gov.tw/PageView/RowViewDetail...  \n",
      "12  https://www.vhcy.gov.tw/PageView/RowViewDetail...  \n",
      "13  https://www.vhcy.gov.tw/PageView/RowViewDetail...  \n",
      "14  https://www.vhcy.gov.tw/PageView/RowViewDetail...  \n",
      "15  https://www.vhcy.gov.tw/PageView/RowViewDetail...  \n",
      "16  https://www.vhcy.gov.tw/PageView/RowViewDetail...  \n",
      "17  https://www.vhcy.gov.tw/PageView/RowViewDetail...  \n",
      "18  https://www.vhcy.gov.tw/PageView/RowViewDetail...  \n",
      "19  https://www.vhcy.gov.tw/PageView/RowViewDetail...  \n",
      "20  https://www.vhcy.gov.tw/PageView/RowViewDetail...  \n",
      "21  https://www.vhcy.gov.tw/PageView/RowViewDetail...  \n",
      "22  https://www.vhcy.gov.tw/PageView/RowViewDetail...  \n",
      "23  https://www.vhcy.gov.tw/PageView/RowViewDetail...  \n",
      "24  https://www.vhcy.gov.tw/PageView/RowViewDetail...  \n",
      "25  https://www.vhcy.gov.tw/PageView/RowViewDetail...  \n",
      "26  https://www.vhcy.gov.tw/PageView/RowViewDetail...  \n",
      "27  https://www.vhcy.gov.tw/PageView/RowViewDetail...  \n",
      "28  https://www.vhcy.gov.tw/PageView/RowViewDetail...  \n",
      "29  https://www.vhcy.gov.tw/PageView/RowViewDetail...  \n",
      "30  https://www.vhcy.gov.tw/PageView/RowViewDetail...  \n",
      "31  https://www.vhcy.gov.tw/PageView/RowViewDetail...  \n",
      "32  https://www.vhcy.gov.tw/PageView/RowViewDetail...  \n",
      "33  https://www.vhcy.gov.tw/PageView/RowViewDetail...  \n",
      "34  https://www.vhcy.gov.tw/PageView/RowViewDetail...  \n",
      "35  https://www.vhcy.gov.tw/PageView/RowViewDetail...  \n",
      "36  https://www.vhcy.gov.tw/PageView/RowViewDetail...  \n",
      "37  https://www.vhcy.gov.tw/PageView/RowViewDetail...  \n",
      "38  https://www.vhcy.gov.tw/PageView/RowViewDetail...  \n",
      "39  https://www.vhcy.gov.tw/PageView/RowViewDetail...  \n"
     ]
    }
   ],
   "source": [
    "work_table=pd.DataFrame(work_table, columns=['召聘職稱','期限' ,\"職缺單位\" ,'連結'])\n",
    "\n",
    "print(work_table)"
   ]
  },
  {
   "cell_type": "code",
   "execution_count": 145,
   "metadata": {},
   "outputs": [
    {
     "data": {
      "text/plain": [
       "'\\n\\n'"
      ]
     },
     "execution_count": 145,
     "metadata": {},
     "output_type": "execute_result"
    }
   ],
   "source": [
    "get_work_page('https://www.vhcy.gov.tw//PageView/RowViewDetail?WebRowsID=2296c3cc-ea34-4273-beac-603a99803d97&amp;UnitID=fbb1c734-f7d0-41c4-93d8-261f32f1db04&amp;CompanyID=E8E0488E-54A0-44BF-B10C-D029C423F6E7').find(\"div\",class_=\"newContent\").text"
   ]
  },
  {
   "cell_type": "code",
   "execution_count": 139,
   "metadata": {},
   "outputs": [
    {
     "data": {
      "text/plain": [
       "NoneType"
      ]
     },
     "execution_count": 139,
     "metadata": {},
     "output_type": "execute_result"
    }
   ],
   "source": [
    "type(s)"
   ]
  },
  {
   "cell_type": "code",
   "execution_count": 142,
   "metadata": {},
   "outputs": [
    {
     "ename": "TypeError",
     "evalue": "isinstance() arg 2 must be a type or tuple of types",
     "output_type": "error",
     "traceback": [
      "\u001b[0;31m---------------------------------------------------------------------------\u001b[0m",
      "\u001b[0;31mTypeError\u001b[0m                                 Traceback (most recent call last)",
      "Input \u001b[0;32mIn [142]\u001b[0m, in \u001b[0;36m<cell line: 1>\u001b[0;34m()\u001b[0m\n\u001b[0;32m----> 1\u001b[0m \u001b[38;5;28;43misinstance\u001b[39;49m\u001b[43m(\u001b[49m\u001b[43ms\u001b[49m\u001b[43m,\u001b[49m\u001b[38;5;124;43m'\u001b[39;49m\u001b[38;5;124;43mNoneType\u001b[39;49m\u001b[38;5;124;43m'\u001b[39;49m\u001b[43m)\u001b[49m\n",
      "\u001b[0;31mTypeError\u001b[0m: isinstance() arg 2 must be a type or tuple of types"
     ]
    }
   ],
   "source": [
    "isinstance(s,'NoneType')"
   ]
  },
  {
   "cell_type": "code",
   "execution_count": null,
   "metadata": {},
   "outputs": [],
   "source": []
  }
 ],
 "metadata": {
  "interpreter": {
   "hash": "52d4b57e0aa6b69fea3b66bac82c78882c702c21609c11e114ff38253261116e"
  },
  "kernelspec": {
   "display_name": "Python 3.8.10 ('hospwork-V9MxmjfS')",
   "language": "python",
   "name": "python3"
  },
  "language_info": {
   "codemirror_mode": {
    "name": "ipython",
    "version": 3
   },
   "file_extension": ".py",
   "mimetype": "text/x-python",
   "name": "python",
   "nbconvert_exporter": "python",
   "pygments_lexer": "ipython3",
   "version": "3.8.10"
  }
 },
 "nbformat": 4,
 "nbformat_minor": 4
}
