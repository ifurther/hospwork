{
 "cells": [
  {
   "cell_type": "code",
   "execution_count": 1,
   "metadata": {},
   "outputs": [],
   "source": [
    "from bs4 import BeautifulSoup\n",
    "import requests\n",
    "import pandas as pd\n",
    "import re\n",
    "from urllib.parse import urlparse"
   ]
  },
  {
   "cell_type": "code",
   "execution_count": 2,
   "metadata": {},
   "outputs": [],
   "source": [
    "url_base='https://www.vhcy.gov.tw'\n",
    "url_work_table='/PageView/RowView?WebMenuID=1c791b28-2968-49c9-8d5a-32dceca8ad1b'\n",
    "url=url_base+url_work_table\n",
    "g=requests.get(url)\n",
    "soup=BeautifulSoup(g.content, 'html.parser')"
   ]
  },
  {
   "cell_type": "markdown",
   "metadata": {},
   "source": [
    "# Get page link\n",
    "In this website the work table has some page, so the function should find page link for next step."
   ]
  },
  {
   "cell_type": "code",
   "execution_count": 3,
   "metadata": {},
   "outputs": [
    {
     "name": "stdout",
     "output_type": "stream",
     "text": [
      "2 https://www.vhcy.gov.tw/PageView/RowView?WebMenuID=1c791b28-2968-49c9-8d5a-32dceca8ad1b&page=2\n",
      "3 https://www.vhcy.gov.tw/PageView/RowView?WebMenuID=1c791b28-2968-49c9-8d5a-32dceca8ad1b&page=3\n",
      "4 https://www.vhcy.gov.tw/PageView/RowView?WebMenuID=1c791b28-2968-49c9-8d5a-32dceca8ad1b&page=4\n",
      "5 https://www.vhcy.gov.tw/PageView/RowView?WebMenuID=1c791b28-2968-49c9-8d5a-32dceca8ad1b&page=5\n",
      "6 https://www.vhcy.gov.tw/PageView/RowView?WebMenuID=1c791b28-2968-49c9-8d5a-32dceca8ad1b&page=6\n"
     ]
    }
   ],
   "source": [
    "pages_link=[]\n",
    "pages_link.append(url)\n",
    "for o in soup.find(\"div\",class_=\"pager\").find_all(\"a\"):\n",
    "    if o.text == \"下一頁\" or o.text == \"»\":\n",
    "        pass\n",
    "    else:\n",
    "        link = url_base+o.get('href')\n",
    "        pages_link.append(link)\n",
    "        print(o.text,link)"
   ]
  },
  {
   "cell_type": "markdown",
   "metadata": {},
   "source": [
    "# Get work table"
   ]
  },
  {
   "cell_type": "markdown",
   "metadata": {},
   "source": [
    "The `get_work_page` function is used for getting each work page"
   ]
  },
  {
   "cell_type": "code",
   "execution_count": 4,
   "metadata": {},
   "outputs": [],
   "source": [
    "work_page = soup.find(\"tbody\")"
   ]
  },
  {
   "cell_type": "code",
   "execution_count": 5,
   "metadata": {},
   "outputs": [],
   "source": [
    "def get_work_page(page_url,page=None,page_link_part='?page='):\n",
    "    global url\n",
    "    if page != None:\n",
    "        page_url = page_url+page_link_part+str(page)\n",
    "    if url == None:\n",
    "        page_url = url\n",
    "        print(page_url)\n",
    "    g=requests.get(page_url)\n",
    "    soup=BeautifulSoup(g.content, 'html.parser')\n",
    "    return soup"
   ]
  },
  {
   "cell_type": "code",
   "execution_count": 6,
   "metadata": {},
   "outputs": [],
   "source": [
    "def get_work_detail(link):\n",
    "    work_detail = get_work_page(link).find(\"div\",class_=\"newContent\").text\n",
    "    if work_detail.replace(\"\\n\",\"\") == \"\":\n",
    "        return None\n",
    "    else:\n",
    "        return get_work_page(link).find(\"div\",class_=\"newContent\").text.replace(\"\\r\",\"\").replace(\"\\t\",\"\").split(\"\\n\")"
   ]
  },
  {
   "cell_type": "code",
   "execution_count": 7,
   "metadata": {},
   "outputs": [],
   "source": [
    "def get_work_title(title):\n",
    "    try:\n",
    "        new_title = re.search(\"\\B[科,短,社,契,牙,秘,醫,部,室](.*)[員,理,工,師,生]\",title).group(0)\n",
    "    except AttributeError:\n",
    "        print(\"ERROR:\",title)\n",
    "    return new_title"
   ]
  },
  {
   "cell_type": "code",
   "execution_count": 8,
   "metadata": {},
   "outputs": [],
   "source": [
    "def get_work_originazation(title,link):\n",
    "    try:\n",
    "        origination = re.search(\"((.*)[組,部,科,室,心])\",title).group(1)\n",
    "    except AttributeError:\n",
    "        g = get_work_detail(link)\n",
    "        if g == None:\n",
    "            return \"check page\"\n",
    "        try:\n",
    "            origination = [gg for gg in g if \"職稱\" in gg][0].split(\"：\")[-1]\n",
    "        except AttributeError:\n",
    "            ggg = [gg for gg in g if gg != '']\n",
    "            origination = ggg[ggg.index(\"職稱\")+1]\n",
    "        except:\n",
    "            origination = \"check page\"\n",
    "    return origination"
   ]
  },
  {
   "cell_type": "code",
   "execution_count": 9,
   "metadata": {},
   "outputs": [],
   "source": [
    "def get_work_deadtime(link):\n",
    "    g = get_work_detail(link)\n",
    "    if g == None:\n",
    "        return \"check page\"\n",
    "    try:\n",
    "        ggg = [gg for gg in g if gg != '']\n",
    "        try:\n",
    "            dead = ggg[ggg.index(\"上網期間\")+1]\n",
    "        except:\n",
    "            for gggg in ggg:\n",
    "                if \"上網期間\" in gggg or \"報名方式\" in gggg or \"報名人員請於\" in gggg or \"日前\" in gggg or \"報名日期\" in gggg:\n",
    "                    try:\n",
    "                        dead = re.findall(\"\\d+年\\d+月\\d+日\",[gg for gg in g if \"上網期間\" in gg or \"報名方式\" in gg][0].split(\"：\")[-1])[-1]\n",
    "                    except:\n",
    "                        dead = \"check page\"\n",
    "    except:\n",
    "        dead = \"check page\"\n",
    "    finally:\n",
    "        return dead"
   ]
  },
  {
   "cell_type": "code",
   "execution_count": 10,
   "metadata": {},
   "outputs": [],
   "source": [
    "def get_work_table(table_,work_table):\n",
    "    for p_i, p_item in enumerate(table_.find_all(\"tr\")):\n",
    "        if p_item.find('a'):\n",
    "            p_item_a = p_item.find('a')\n",
    "            title = p_item_a.text\n",
    "            if \"錄取公告\" in title or '考試公告' in title or \"甄試結果公告\" in title:\n",
    "                break\n",
    "            new_title = get_work_title(title)\n",
    "            link_s = url_base+p_item_a.get('href')\n",
    "            origination = get_work_originazation(title,link_s)\n",
    "            try:\n",
    "                dead_line = get_work_deadtime(link_s)\n",
    "            except:\n",
    "                print(\"Error\",p_item)\n",
    "            print(p_i-1,new_title,link_s,dead_line, origination)\n",
    "            work_table.append([new_title, dead_line, origination, link_s ])\n",
    "    return work_table"
   ]
  },
  {
   "cell_type": "code",
   "execution_count": 11,
   "metadata": {},
   "outputs": [
    {
     "name": "stdout",
     "output_type": "stream",
     "text": [
      "-1 室專案短期助理 https://www.vhcy.gov.tw/PageView/RowViewDetail?WebRowsID=45afd34a-e70e-4988-be1c-898b62d4a15a&UnitID=fbb1c734-f7d0-41c4-93d8-261f32f1db04&CompanyID=E8E0488E-54A0-44BF-B10C-D029C423F6E7 民國111年05月19日 秘書室\n",
      "0 科助理 https://www.vhcy.gov.tw/PageView/RowViewDetail?WebRowsID=1f64c98e-7dc1-474e-818e-f886fdaff6cb&UnitID=fbb1c734-f7d0-41c4-93d8-261f32f1db04&CompanyID=E8E0488E-54A0-44BF-B10C-D029C423F6E7 111年5月26日 牙科\n",
      "1 室契約健保申報員 https://www.vhcy.gov.tw/PageView/RowViewDetail?WebRowsID=83476288-ad39-4918-90e6-5dfb43d77b42&UnitID=fbb1c734-f7d0-41c4-93d8-261f32f1db04&CompanyID=E8E0488E-54A0-44BF-B10C-D029C423F6E7 111年05月27日  醫務企管室\n",
      "2 室契約行政助理 https://www.vhcy.gov.tw/PageView/RowViewDetail?WebRowsID=a9ca6f7e-d6d6-4ecb-850f-0c14eb49dfc7&UnitID=fbb1c734-f7d0-41c4-93d8-261f32f1db04&CompanyID=E8E0488E-54A0-44BF-B10C-D029C423F6E7 民國 111年 05月09日至民國  111年5 月20日(不含公告當日及例假日) 醫務企管室\n",
      "3 室專案社工 https://www.vhcy.gov.tw/PageView/RowViewDetail?WebRowsID=6891bd3b-a04a-4a9f-b2df-3e6065e4b6d1&UnitID=fbb1c734-f7d0-41c4-93d8-261f32f1db04&CompanyID=E8E0488E-54A0-44BF-B10C-D029C423F6E7 111年05月05日111年05月26日 社工室\n",
      "4 醫院師(二)級醫師 https://www.vhcy.gov.tw/PageView/RowViewDetail?WebRowsID=95c25e9b-8614-4ba2-bdd1-81878d13a869&UnitID=fbb1c734-f7d0-41c4-93d8-261f32f1db04&CompanyID=E8E0488E-54A0-44BF-B10C-D029C423F6E7 111年5月2日至110年5月4日17:30 臺中榮民總醫院師(二)級醫師兼科主任(重症醫學部重症加護內科\n",
      "5 契約行政助理 https://www.vhcy.gov.tw/PageView/RowViewDetail?WebRowsID=e7d016ec-e6f0-4d00-9c6a-003bab15b0c6&UnitID=fbb1c734-f7d0-41c4-93d8-261f32f1db04&CompanyID=E8E0488E-54A0-44BF-B10C-D029C423F6E7 111年5月2日 社區健康營造中心\n",
      "6 社區日照中心照顧服務員 https://www.vhcy.gov.tw/PageView/RowViewDetail?WebRowsID=4e22c020-75dd-4152-8f05-1243efbcdcbd&UnitID=fbb1c734-f7d0-41c4-93d8-261f32f1db04&CompanyID=E8E0488E-54A0-44BF-B10C-D029C423F6E7 即日起至111.04.14止 灣橋分院附設義仁社區日照中心\n",
      "7 室契約辦事員 https://www.vhcy.gov.tw/PageView/RowViewDetail?WebRowsID=60c712e6-250b-4f6b-b18a-aedf27243f86&UnitID=fbb1c734-f7d0-41c4-93d8-261f32f1db04&CompanyID=E8E0488E-54A0-44BF-B10C-D029C423F6E7 111年01月25日111年05月31日 社會工作室\n",
      "8 科契約護理師 https://www.vhcy.gov.tw/PageView/RowViewDetail?WebRowsID=d3478712-4c3f-4238-bdd2-7953a4320b41&UnitID=fbb1c734-f7d0-41c4-93d8-261f32f1db04&CompanyID=E8E0488E-54A0-44BF-B10C-D029C423F6E7 即日至111年04月15日 胃腸科\n",
      "0 室專案短期助理 https://www.vhcy.gov.tw/PageView/RowViewDetail?WebRowsID=45afd34a-e70e-4988-be1c-898b62d4a15a&UnitID=fbb1c734-f7d0-41c4-93d8-261f32f1db04&CompanyID=E8E0488E-54A0-44BF-B10C-D029C423F6E7 民國111年05月19日 秘書室\n",
      "1 科助理 https://www.vhcy.gov.tw/PageView/RowViewDetail?WebRowsID=1f64c98e-7dc1-474e-818e-f886fdaff6cb&UnitID=fbb1c734-f7d0-41c4-93d8-261f32f1db04&CompanyID=E8E0488E-54A0-44BF-B10C-D029C423F6E7 111年5月26日 牙科\n",
      "2 室契約健保申報員 https://www.vhcy.gov.tw/PageView/RowViewDetail?WebRowsID=83476288-ad39-4918-90e6-5dfb43d77b42&UnitID=fbb1c734-f7d0-41c4-93d8-261f32f1db04&CompanyID=E8E0488E-54A0-44BF-B10C-D029C423F6E7 111年05月27日  醫務企管室\n",
      "3 室契約行政助理 https://www.vhcy.gov.tw/PageView/RowViewDetail?WebRowsID=a9ca6f7e-d6d6-4ecb-850f-0c14eb49dfc7&UnitID=fbb1c734-f7d0-41c4-93d8-261f32f1db04&CompanyID=E8E0488E-54A0-44BF-B10C-D029C423F6E7 民國 111年 05月09日至民國  111年5 月20日(不含公告當日及例假日) 醫務企管室\n",
      "4 室專案社工 https://www.vhcy.gov.tw/PageView/RowViewDetail?WebRowsID=6891bd3b-a04a-4a9f-b2df-3e6065e4b6d1&UnitID=fbb1c734-f7d0-41c4-93d8-261f32f1db04&CompanyID=E8E0488E-54A0-44BF-B10C-D029C423F6E7 111年05月05日111年05月26日 社工室\n",
      "5 醫院師(二)級醫師 https://www.vhcy.gov.tw/PageView/RowViewDetail?WebRowsID=95c25e9b-8614-4ba2-bdd1-81878d13a869&UnitID=fbb1c734-f7d0-41c4-93d8-261f32f1db04&CompanyID=E8E0488E-54A0-44BF-B10C-D029C423F6E7 111年5月2日至110年5月4日17:30 臺中榮民總醫院師(二)級醫師兼科主任(重症醫學部重症加護內科\n",
      "6 契約行政助理 https://www.vhcy.gov.tw/PageView/RowViewDetail?WebRowsID=e7d016ec-e6f0-4d00-9c6a-003bab15b0c6&UnitID=fbb1c734-f7d0-41c4-93d8-261f32f1db04&CompanyID=E8E0488E-54A0-44BF-B10C-D029C423F6E7 111年5月2日 社區健康營造中心\n",
      "7 社區日照中心照顧服務員 https://www.vhcy.gov.tw/PageView/RowViewDetail?WebRowsID=4e22c020-75dd-4152-8f05-1243efbcdcbd&UnitID=fbb1c734-f7d0-41c4-93d8-261f32f1db04&CompanyID=E8E0488E-54A0-44BF-B10C-D029C423F6E7 即日起至111.04.14止 灣橋分院附設義仁社區日照中心\n",
      "8 室契約辦事員 https://www.vhcy.gov.tw/PageView/RowViewDetail?WebRowsID=60c712e6-250b-4f6b-b18a-aedf27243f86&UnitID=fbb1c734-f7d0-41c4-93d8-261f32f1db04&CompanyID=E8E0488E-54A0-44BF-B10C-D029C423F6E7 111年01月25日111年05月31日 社會工作室\n",
      "9 科契約護理師 https://www.vhcy.gov.tw/PageView/RowViewDetail?WebRowsID=d3478712-4c3f-4238-bdd2-7953a4320b41&UnitID=fbb1c734-f7d0-41c4-93d8-261f32f1db04&CompanyID=E8E0488E-54A0-44BF-B10C-D029C423F6E7 即日至111年04月15日 胃腸科\n",
      "0 醫院師(二)級醫師 https://www.vhcy.gov.tw/PageView/RowViewDetail?WebRowsID=4d84bfbb-a747-4ae1-8f4d-8a5b3ae6df72&UnitID=fbb1c734-f7d0-41c4-93d8-261f32f1db04&CompanyID=E8E0488E-54A0-44BF-B10C-D029C423F6E7 111年4月11日至111年4月13 臺中榮民總醫院師(二)級醫師兼科主任(教學部臨床訓練科\n",
      "1 室契約醫務副管理師 https://www.vhcy.gov.tw/PageView/RowViewDetail?WebRowsID=1c9a736b-fa5b-4c23-bdf9-f9732ede0655&UnitID=fbb1c734-f7d0-41c4-93d8-261f32f1db04&CompanyID=E8E0488E-54A0-44BF-B10C-D029C423F6E7 民國 111年 03 月14日至民國  111年 4月13 日(不含公告當日及例假日) 醫務企管室\n",
      "2 科甄選職務代理契約醫事檢驗師 https://www.vhcy.gov.tw/PageView/RowViewDetail?WebRowsID=7ea69317-bb1d-4009-a9a9-50d0804ffeb7&UnitID=fbb1c734-f7d0-41c4-93d8-261f32f1db04&CompanyID=E8E0488E-54A0-44BF-B10C-D029C423F6E7 check page 病理檢驗科\n",
      "3 科契約護理師 https://www.vhcy.gov.tw/PageView/RowViewDetail?WebRowsID=55940c2a-2cd7-4f25-b8a9-46c4aa0deadb&UnitID=fbb1c734-f7d0-41c4-93d8-261f32f1db04&CompanyID=E8E0488E-54A0-44BF-B10C-D029C423F6E7 即日至111年04月05日 胃腸科\n",
      "0 室灣橋組機電副技師 https://www.vhcy.gov.tw/PageView/RowViewDetail?WebRowsID=469b9396-7b92-401f-bef2-072b5e0b3326&UnitID=fbb1c734-f7d0-41c4-93d8-261f32f1db04&CompanyID=E8E0488E-54A0-44BF-B10C-D029C423F6E7 即日至111年3月4日 秘書室灣橋組\n",
      "1 部「嘉義縣女性藥癮者中途之家「蛻變驛園」委託管理採購案」生活輔導員 https://www.vhcy.gov.tw/PageView/RowViewDetail?WebRowsID=01d1b307-86fd-4ebe-8a07-d6528f2a81e3&UnitID=fbb1c734-f7d0-41c4-93d8-261f32f1db04&CompanyID=E8E0488E-54A0-44BF-B10C-D029C423F6E7 check page 精神部\n",
      "2 部契約護理師(社區失智照護服務計畫據點個管師 https://www.vhcy.gov.tw/PageView/RowViewDetail?WebRowsID=3b08ba19-905e-4d12-a616-320b4172b8fa&UnitID=fbb1c734-f7d0-41c4-93d8-261f32f1db04&CompanyID=E8E0488E-54A0-44BF-B10C-D029C423F6E7 check page 精神部\n",
      "3 室契約資訊副工程師 https://www.vhcy.gov.tw/PageView/RowViewDetail?WebRowsID=73012029-0649-4d93-aa0a-908db05beec3&UnitID=fbb1c734-f7d0-41c4-93d8-261f32f1db04&CompanyID=E8E0488E-54A0-44BF-B10C-D029C423F6E7 check page 資訊室\n",
      "4 室契約辦事員 https://www.vhcy.gov.tw/PageView/RowViewDetail?WebRowsID=df9c2eed-2379-4f56-b913-b37441e661de&UnitID=fbb1c734-f7d0-41c4-93d8-261f32f1db04&CompanyID=E8E0488E-54A0-44BF-B10C-D029C423F6E7 check page 人事室\n",
      "5 科部胃腸科契約護理師 https://www.vhcy.gov.tw/PageView/RowViewDetail?WebRowsID=3d469f31-5d5d-4638-8e7c-6199bdaad297&UnitID=fbb1c734-f7d0-41c4-93d8-261f32f1db04&CompanyID=E8E0488E-54A0-44BF-B10C-D029C423F6E7 即日至111年02月21日 內科部胃腸科\n",
      "6 醫院埔里分院師(二)級醫師 https://www.vhcy.gov.tw/PageView/RowViewDetail?WebRowsID=6a2c98d9-2206-41bd-9a77-68b24157ba41&UnitID=fbb1c734-f7d0-41c4-93d8-261f32f1db04&CompanyID=E8E0488E-54A0-44BF-B10C-D029C423F6E7 111年1月28日至111年2月9日 職稱\n",
      "7 部專案個案管理師 https://www.vhcy.gov.tw/PageView/RowViewDetail?WebRowsID=a7dbb07b-1551-4760-8d19-f70c334526e9&UnitID=fbb1c734-f7d0-41c4-93d8-261f32f1db04&CompanyID=E8E0488E-54A0-44BF-B10C-D029C423F6E7 check page 灣橋精神部\n",
      "8 醫務企管室衛生行政職系薦任第8職等專員 https://www.vhcy.gov.tw/PageView/RowViewDetail?WebRowsID=9a64f785-685a-4de2-a877-f4ca3d2ac17a&UnitID=fbb1c734-f7d0-41c4-93d8-261f32f1db04&CompanyID=E8E0488E-54A0-44BF-B10C-D029C423F6E7 check page 本院醫務企管室\n",
      "9 醫學部(放射腫瘤科)契約醫事放射師 https://www.vhcy.gov.tw/PageView/RowViewDetail?WebRowsID=6bc3867e-1c0d-4a15-b890-4af0a84c00a6&UnitID=fbb1c734-f7d0-41c4-93d8-261f32f1db04&CompanyID=E8E0488E-54A0-44BF-B10C-D029C423F6E7 check page 影像醫學部(放射腫瘤科\n",
      "0 室契約醫務副管理師 https://www.vhcy.gov.tw/PageView/RowViewDetail?WebRowsID=0df104e2-6a10-4c7c-aa1d-d89d369e56da&UnitID=fbb1c734-f7d0-41c4-93d8-261f32f1db04&CompanyID=E8E0488E-54A0-44BF-B10C-D029C423F6E7 111年01月05日 醫務企管室\n",
      "1 部契約居家服務照顧服務員(工 https://www.vhcy.gov.tw/PageView/RowViewDetail?WebRowsID=365b5144-0c97-4aea-b27c-625eb04c544a&UnitID=fbb1c734-f7d0-41c4-93d8-261f32f1db04&CompanyID=E8E0488E-54A0-44BF-B10C-D029C423F6E7 即日至110 年12月 31日 護理部\n",
      "2 部專案助理 https://www.vhcy.gov.tw/PageView/RowViewDetail?WebRowsID=7213b602-1cf4-44b8-a065-6519c14d0dcd&UnitID=fbb1c734-f7d0-41c4-93d8-261f32f1db04&CompanyID=E8E0488E-54A0-44BF-B10C-D029C423F6E7 check page 精神部\n",
      "Error <tr>\n",
      "<td data-th=\"標題\" style=\"text-align:left;\">\n",
      "<span style=\"width:100%;white-space:normal;word-wrap:break-word;word-break:break-all;\">\n",
      "<a href=\"/PageView/RowViewDetail?WebRowsID=a26159aa-a963-48d3-b588-57754f7d3639&amp;UnitID=fbb1c734-f7d0-41c4-93d8-261f32f1db04&amp;CompanyID=E8E0488E-54A0-44BF-B10C-D029C423F6E7\" title=\"內科部(心導管室)契約護理師1名徵才公告\">內科部(心導管室)契約護理師1名徵才公告</a>\n",
      "</span>\n",
      "</td>\n",
      "<td data-th=\"更新日期\">2021/11/24</td>\n",
      "</tr>\n",
      "3 科部(心導管室)契約護理師 https://www.vhcy.gov.tw/PageView/RowViewDetail?WebRowsID=a26159aa-a963-48d3-b588-57754f7d3639&UnitID=fbb1c734-f7d0-41c4-93d8-261f32f1db04&CompanyID=E8E0488E-54A0-44BF-B10C-D029C423F6E7 check page 內科部(心導管室\n",
      "4 醫院埔里分院師(二)級醫師 https://www.vhcy.gov.tw/PageView/RowViewDetail?WebRowsID=617586d7-ce4d-4089-ad29-f48515e897ae&UnitID=fbb1c734-f7d0-41c4-93d8-261f32f1db04&CompanyID=E8E0488E-54A0-44BF-B10C-D029C423F6E7 110年11月17日至110年12月16日 臺中榮民總醫院埔里分院師(二)級醫師麻醉科2名、骨科\n",
      "Error <tr>\n",
      "<td data-th=\"標題\" style=\"text-align:left;\">\n",
      "<span style=\"width:100%;white-space:normal;word-wrap:break-word;word-break:break-all;\">\n",
      "<a href=\"/PageView/RowViewDetail?WebRowsID=7a196cff-850a-4996-987d-3f7bd39b7fb7&amp;UnitID=fbb1c734-f7d0-41c4-93d8-261f32f1db04&amp;CompanyID=E8E0488E-54A0-44BF-B10C-D029C423F6E7\" title=\"社會工作室契約社工1名徵才公告\">社會工作室契約社工1名徵才公告</a>\n",
      "</span>\n",
      "</td>\n",
      "<td data-th=\"更新日期\">2021/10/15</td>\n",
      "</tr>\n",
      "5 室契約社工 https://www.vhcy.gov.tw/PageView/RowViewDetail?WebRowsID=7a196cff-850a-4996-987d-3f7bd39b7fb7&UnitID=fbb1c734-f7d0-41c4-93d8-261f32f1db04&CompanyID=E8E0488E-54A0-44BF-B10C-D029C423F6E7 110年11月17日至110年12月16日 社會工作室\n",
      "0 醫院嘉義分院師(二)級醫師 https://www.vhcy.gov.tw/PageView/RowViewDetail?WebRowsID=9a04edf7-5d43-49a4-b4e4-6748cbaac4f4&UnitID=fbb1c734-f7d0-41c4-93d8-261f32f1db04&CompanyID=E8E0488E-54A0-44BF-B10C-D029C423F6E7 110年9月13日至110年9月16日 臺中榮民總醫院嘉義分院師(二)級醫師兼外科重症加護中心\n",
      "1 醫院嘉義分院護理部師(一)級護理師 https://www.vhcy.gov.tw/PageView/RowViewDetail?WebRowsID=2cbee853-dc42-48f2-9245-a05afc21f9c8&UnitID=fbb1c734-f7d0-41c4-93d8-261f32f1db04&CompanyID=E8E0488E-54A0-44BF-B10C-D029C423F6E7 110年9月14日至110年9月29日 臺中榮民總醫院嘉義分院護理部師(一)級護理師兼部\n",
      "2 部(嘉義)契約職能治療師 https://www.vhcy.gov.tw/PageView/RowViewDetail?WebRowsID=e9e803ee-1248-4dd5-8538-246fb0d6fd9f&UnitID=fbb1c734-f7d0-41c4-93d8-261f32f1db04&CompanyID=E8E0488E-54A0-44BF-B10C-D029C423F6E7 check page 精神部\n",
      "3 醫院嘉義分院精神部師(二)級醫師 https://www.vhcy.gov.tw/PageView/RowViewDetail?WebRowsID=a43d3645-830e-4810-8557-c6fd2521c7d6&UnitID=fbb1c734-f7d0-41c4-93d8-261f32f1db04&CompanyID=E8E0488E-54A0-44BF-B10C-D029C423F6E7 110年9月3日至110年9月8日 臺中榮民總醫院嘉義分院精神部師(二)級醫師兼藥癮治療科\n",
      "4 醫院嘉義分院精神部師(三)級醫師 https://www.vhcy.gov.tw/PageView/RowViewDetail?WebRowsID=2b2e8603-2a35-4bb0-89a3-60b2d2749589&UnitID=fbb1c734-f7d0-41c4-93d8-261f32f1db04&CompanyID=E8E0488E-54A0-44BF-B10C-D029C423F6E7 110年9月3日至110年9月8日 臺中榮民總醫院嘉義分院精神部\n",
      "Error <tr>\n",
      "<td data-th=\"標題\" style=\"text-align:left;\">\n",
      "<span style=\"width:100%;white-space:normal;word-wrap:break-word;word-break:break-all;\">\n",
      "<a href=\"/PageView/RowViewDetail?WebRowsID=e71b5aca-0367-4911-93d1-0143b593d9ce&amp;UnitID=fbb1c734-f7d0-41c4-93d8-261f32f1db04&amp;CompanyID=E8E0488E-54A0-44BF-B10C-D029C423F6E7\" title=\"灣橋復健科半年短期契約照服佐理員1名徵才公告\">灣橋復健科半年短期契約照服佐理員1名徵才公告</a>\n",
      "</span>\n",
      "</td>\n",
      "<td data-th=\"更新日期\">2021/9/2</td>\n",
      "</tr>\n",
      "5 科半年短期契約照服佐理員 https://www.vhcy.gov.tw/PageView/RowViewDetail?WebRowsID=e71b5aca-0367-4911-93d1-0143b593d9ce&UnitID=fbb1c734-f7d0-41c4-93d8-261f32f1db04&CompanyID=E8E0488E-54A0-44BF-B10C-D029C423F6E7 110年9月3日至110年9月8日 灣橋復健科\n",
      "6 醫院醫務企管部衛生行政職系薦任第8職等專員 https://www.vhcy.gov.tw/PageView/RowViewDetail?WebRowsID=0c406712-df2c-4880-a482-c5b16298ca5a&UnitID=fbb1c734-f7d0-41c4-93d8-261f32f1db04&CompanyID=E8E0488E-54A0-44BF-B10C-D029C423F6E7 110年8月31日至110年9月3日 臺中榮民總醫院醫務企管部\n",
      "0 醫院嘉義分院暨灣橋分院師(三)級醫師 https://www.vhcy.gov.tw/PageView/RowViewDetail?WebRowsID=72e5d473-86fe-4a57-9235-0b3217328c6c&UnitID=fbb1c734-f7d0-41c4-93d8-261f32f1db04&CompanyID=E8E0488E-54A0-44BF-B10C-D029C423F6E7 110年7月15日至111年1月15日 職稱\n",
      "Error <tr>\n",
      "<td data-th=\"標題\" style=\"text-align:left;\">\n",
      "<span style=\"width:100%;white-space:normal;word-wrap:break-word;word-break:break-all;\">\n",
      "<a href=\"/PageView/RowViewDetail?WebRowsID=314a40f7-2484-4ac4-b32b-1a513b739cc8&amp;UnitID=fbb1c734-f7d0-41c4-93d8-261f32f1db04&amp;CompanyID=E8E0488E-54A0-44BF-B10C-D029C423F6E7\" title=\"藥劑科契約藥師徵才公告\">藥劑科契約藥師徵才公告</a>\n",
      "</span>\n",
      "</td>\n",
      "<td data-th=\"更新日期\">2021/8/4</td>\n",
      "</tr>\n",
      "1 科契約藥師 https://www.vhcy.gov.tw/PageView/RowViewDetail?WebRowsID=314a40f7-2484-4ac4-b32b-1a513b739cc8&UnitID=fbb1c734-f7d0-41c4-93d8-261f32f1db04&CompanyID=E8E0488E-54A0-44BF-B10C-D029C423F6E7 110年7月15日至111年1月15日 藥劑科\n",
      "2 部契約臨床心師 https://www.vhcy.gov.tw/PageView/RowViewDetail?WebRowsID=6625f043-19d5-4c95-bf7c-55bce5dc512b&UnitID=fbb1c734-f7d0-41c4-93d8-261f32f1db04&CompanyID=E8E0488E-54A0-44BF-B10C-D029C423F6E7 check page 精神部契約臨床心\n",
      "3 醫院師(二)級護理 https://www.vhcy.gov.tw/PageView/RowViewDetail?WebRowsID=63d1f331-6747-4838-938e-9a0b48db43a4&UnitID=fbb1c734-f7d0-41c4-93d8-261f32f1db04&CompanyID=E8E0488E-54A0-44BF-B10C-D029C423F6E7 110年7月28日至110年8月2日 職稱\n"
     ]
    }
   ],
   "source": [
    "work_table=[]\n",
    "work_table = get_work_table(work_page,work_table)\n",
    "for p_i, p_item in enumerate(pages_link):\n",
    "    table_ = get_work_page(p_item)\n",
    "\n",
    "    work_table = get_work_table(table_,work_table)"
   ]
  },
  {
   "cell_type": "code",
   "execution_count": null,
   "metadata": {},
   "outputs": [],
   "source": [
    "work_table=pd.DataFrame(work_table, columns=['召聘職稱','期限' ,\"職缺單位\" ,'連結'])\n",
    "\n",
    "print(work_table)"
   ]
  },
  {
   "cell_type": "code",
   "execution_count": null,
   "metadata": {},
   "outputs": [],
   "source": []
  }
 ],
 "metadata": {
  "interpreter": {
   "hash": "52d4b57e0aa6b69fea3b66bac82c78882c702c21609c11e114ff38253261116e"
  },
  "kernelspec": {
   "display_name": "hospwork",
   "language": "python",
   "name": "hospwork"
  },
  "language_info": {
   "codemirror_mode": {
    "name": "ipython",
    "version": 3
   },
   "file_extension": ".py",
   "mimetype": "text/x-python",
   "name": "python",
   "nbconvert_exporter": "python",
   "pygments_lexer": "ipython3",
   "version": "3.8.10"
  }
 },
 "nbformat": 4,
 "nbformat_minor": 4
}
