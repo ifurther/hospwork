{
 "cells": [
  {
   "cell_type": "code",
   "execution_count": 28,
   "metadata": {},
   "outputs": [],
   "source": [
    "from bs4 import BeautifulSoup\n",
    "import json\n",
    "import re\n",
    "import requests\n",
    "import pandas as pd\n",
    "from urllib.parse import urlparse"
   ]
  },
  {
   "cell_type": "code",
   "execution_count": 29,
   "metadata": {},
   "outputs": [],
   "source": [
    "url_base='https://www.ntucc.gov.tw'\n",
    "url_work='/ntucc/Recruit.action'\n",
    "url_full=url_base+url_work\n",
    "g=requests.get(url_full)\n",
    "soup=BeautifulSoup(g.content, 'html.parser')"
   ]
  },
  {
   "cell_type": "code",
   "execution_count": 30,
   "metadata": {},
   "outputs": [
    {
     "name": "stdout",
     "output_type": "stream",
     "text": [
      "817BDA5CA13382FCC6E16CA684AE3EC6\n"
     ]
    }
   ],
   "source": [
    "print(g.cookies['JSESSIONID'])"
   ]
  },
  {
   "cell_type": "code",
   "execution_count": 31,
   "metadata": {},
   "outputs": [],
   "source": [
    "my_params = {'jobtype': '-1', 'q_seekValue': '','pagenum':'1'}"
   ]
  },
  {
   "cell_type": "code",
   "execution_count": 32,
   "metadata": {},
   "outputs": [],
   "source": [
    "ntucc_work_data = json.loads(requests.get('https://www.ntucc.gov.tw/ntucc/RecruitAjax.action',params=my_params, cookies = g.cookies).content)"
   ]
  },
  {
   "cell_type": "code",
   "execution_count": 24,
   "metadata": {},
   "outputs": [
    {
     "data": {
      "text/plain": [
       "dict_keys(['id', 'jobtype', 'msg', 'pk', 'q_seekValue', 'queryList', 'totalPages', 'visiblePages'])"
      ]
     },
     "execution_count": 24,
     "metadata": {},
     "output_type": "execute_result"
    }
   ],
   "source": [
    "data.keys()"
   ]
  },
  {
   "cell_type": "markdown",
   "metadata": {},
   "source": [
    "# Get Pages link"
   ]
  },
  {
   "cell_type": "code",
   "execution_count": 26,
   "metadata": {},
   "outputs": [],
   "source": [
    "totalcount = ntucc_work_data['totalPages']\n",
    "totalPages = ntucc_work_data['totalPages']"
   ]
  },
  {
   "cell_type": "markdown",
   "metadata": {},
   "source": [
    "# Get work table"
   ]
  },
  {
   "cell_type": "code",
   "execution_count": 40,
   "metadata": {},
   "outputs": [
    {
     "name": "stdout",
     "output_type": "stream",
     "text": [
      "#1召聘職稱: 人事室 副管理師或管理師(職務代理人)（預估缺） 召聘單位: 人事室\n",
      " 期限: 2022/07/13\n",
      " 連結：[['癌醫中心醫院(副)管理師(人事室職務代理人1名)1110706', 'https://www.ntucc.gov.tw/ntucc/RecruitAjax!download.action?id=2c9a7cf97fde99380181a412800f0200'], ['台大癌醫中心分院各類人員甄選登記表-(修正版、職前經歷查驗)', 'https://www.ntucc.gov.tw/ntucc/RecruitAjax!download.action?id=2c9a7cf97fde99380181a41a0fa40201'], ['台大癌醫中心分院各類人員甄選登記表-(修正版、職前經歷查驗)', 'https://www.ntucc.gov.tw/ntucc/RecruitAjax!download.action?id=2c9a7cf97fde99380181a41a46e00202'], ['台大癌醫中心分院各類人員甄選登記表-(修正版、職前經歷查驗)', 'https://www.ntucc.gov.tw/ntucc/RecruitAjax!download.action?id=2c9a7cf97fde99380181a41a7bca0203'], ['信封封面(直式-各類人員甄選-癌醫)1100820', 'https://www.ntucc.gov.tw/ntucc/RecruitAjax!download.action?id=2c9a7cf97fde99380181a41ac1820204']]\n",
      "#2召聘職稱: 藥劑部 服務員 召聘單位: 藥劑部\n",
      " 期限: 2022/07/28\n",
      " 連結：[['癌醫中心醫院服務員(1名)(藥劑部)1110802', 'https://www.ntucc.gov.tw/ntucc/RecruitAjax!download.action?id=2c9a7cf97fde99380181ad51ff52020d'], ['台大癌醫中心分院各類人員甄選登記表-(修正版、職前經歷查驗)', 'https://www.ntucc.gov.tw/ntucc/RecruitAjax!download.action?id=2c9a7cf97fde99380181ad52582d020e'], ['台大癌醫中心分院各類人員甄選登記表-(修正版、職前經歷查驗)', 'https://www.ntucc.gov.tw/ntucc/RecruitAjax!download.action?id=2c9a7cf97fde99380181ad5291ba020f'], ['台大癌醫中心分院各類人員甄選登記表-(修正版、職前經歷查驗)', 'https://www.ntucc.gov.tw/ntucc/RecruitAjax!download.action?id=2c9a7cf97fde99380181ad52b1040210'], ['信封封面(直式-各類人員甄選-癌醫)1110616', 'https://www.ntucc.gov.tw/ntucc/RecruitAjax!download.action?id=2c9a7cf97fde99380181ad52e9090211']]\n",
      "#3召聘職稱: 藥劑部 (副)技術師 召聘單位: 藥劑部\n",
      " 期限: 2022/07/28\n",
      " 連結：[['癌醫中心醫院(副)技術師(1名)(藥劑部)1110802', 'https://www.ntucc.gov.tw/ntucc/RecruitAjax!download.action?id=2c9a7cf97fde99380181ad5516710217'], ['台大癌醫中心分院各類人員甄選登記表-(修正版、職前經歷查驗)', 'https://www.ntucc.gov.tw/ntucc/RecruitAjax!download.action?id=2c9a7cf97fde99380181ad542dcd0213'], ['台大癌醫中心分院各類人員甄選登記表-(修正版、職前經歷查驗)', 'https://www.ntucc.gov.tw/ntucc/RecruitAjax!download.action?id=2c9a7cf97fde99380181ad54531d0214'], ['台大癌醫中心分院各類人員甄選登記表-(修正版、職前經歷查驗)', 'https://www.ntucc.gov.tw/ntucc/RecruitAjax!download.action?id=2c9a7cf97fde99380181ad5472b90215'], ['信封封面(直式-各類人員甄選-癌醫)1110616', 'https://www.ntucc.gov.tw/ntucc/RecruitAjax!download.action?id=2c9a7cf97fde99380181ad54a2810216']]\n",
      "#4召聘職稱: 護理部 師(三)級護理師(個管) 召聘單位: 護理部\n",
      " 期限: 2022/07/19\n",
      " 連結：[['111年護理部師(三)級護理師簡則-個管0725', 'https://www.ntucc.gov.tw/ntucc/RecruitAjax!download.action?id=2c9a7cfa7fde98350181ae26d056025b'], ['台大癌醫中心分院各類人員甄選登記表-(修正版、職前經歷查驗)', 'https://www.ntucc.gov.tw/ntucc/RecruitAjax!download.action?id=2c9a7cfa7fde98350181ae2a5598025c'], ['台大癌醫中心分院各類人員甄選登記表-(修正版、職前經歷查驗)', 'https://www.ntucc.gov.tw/ntucc/RecruitAjax!download.action?id=2c9a7cfa7fde98350181ae2a8f01025d'], ['台大癌醫中心分院各類人員甄選登記表-(修正版、職前經歷查驗)', 'https://www.ntucc.gov.tw/ntucc/RecruitAjax!download.action?id=2c9a7cfa7fde98350181ae2ad5a2025e'], ['信封封面(直式-各類人員甄選-癌醫)1110616', 'https://www.ntucc.gov.tw/ntucc/RecruitAjax!download.action?id=2c9a7cfa7fde98350181ae2b165f025f']]\n",
      "#5召聘職稱: 助理員(身心障礙人員) 7/6面試 召聘單位: None\n",
      " 期限: 2022/07/01\n",
      " 連結：[['癌醫中心簡則(助理員6名-綜合)-1110622', 'https://www.ntucc.gov.tw/ntucc/RecruitAjax!download.action?id=2c9a7cf97fde993801803b24d1aa0045'], ['台大癌醫中心分院各類人員甄選登記表-(修正版、職前經歷查驗)', 'https://www.ntucc.gov.tw/ntucc/RecruitAjax!download.action?id=2c9a7cf97fde993801803b25554d0046'], ['台大癌醫中心分院各類人員甄選登記表-(修正版、職前經歷查驗)', 'https://www.ntucc.gov.tw/ntucc/RecruitAjax!download.action?id=2c9a7cf97fde993801803b25973a0047'], ['台大癌醫中心分院各類人員甄選登記表-(修正版、職前經歷查驗)', 'https://www.ntucc.gov.tw/ntucc/RecruitAjax!download.action?id=2c9a7cf97fde993801803b25d7bd0048'], ['信封封面(直式-各類人員甄選-癌醫)1100820', 'https://www.ntucc.gov.tw/ntucc/RecruitAjax!download.action?id=2c9a7cf97fde993801803b2617060049'], ['初選名單_助理員 1110704', 'https://www.ntucc.gov.tw/ntucc/RecruitAjax!download.action?id=2c9a7cfa7fde98350181c8aeabaa0276']]\n"
     ]
    }
   ],
   "source": [
    "for i, item in enumerate(ntucc_work_data['queryList']):\n",
    "    title = item['title']\n",
    "    origantion = item['jobDepnm']\n",
    "    begin_date = item['adate_sh']\n",
    "    dead_line = item['edate_sh']\n",
    "\n",
    "    file_list = []\n",
    "    for _file in item['recruitFile']:\n",
    "        file_list.append([_file['fileName'],'https://www.ntucc.gov.tw/ntucc/RecruitAjax!download.action?id='+_file['id']])\n",
    "    #if item['recruitNo']:\n",
    "    #    link = 'https://reg.ntuh.gov.tw/WebApplication/Administration/NtuhGeneralSelect/Entry.aspx?selectno='+item['recruitNo']\n",
    "    #else:\n",
    "    #    link = url_base+item['ctx'].lstrip('<p><a href=\"../').split('\"><span ')[0]\n",
    "    print('#{}召聘職稱: {} 召聘單位: {}\\n 期限: {}\\n 連結：{}'.format(i+1, title, origantion, dead_line, file_list))\n",
    "    #work_table.append([title, origantion, dead_line, link])\n"
   ]
  },
  {
   "cell_type": "code",
   "execution_count": 5,
   "metadata": {},
   "outputs": [],
   "source": [
    "def get_each_page_wrok_table(soup,work_table):\n",
    "    for work in soup.find_all('table',class_=\"table table-striped table-hover news_table\")[0].find(\"tbody\").find_all(\"tr\"):\n",
    "        all_td = work.find_all(\"td\")\n",
    "        title = all_td[0].text\n",
    "        place = '察看連結的簡章'\n",
    "        deadline = all_td[2].text\n",
    "        \n",
    "        link=url_base+all_td[3].find('a').get('href')\n",
    "        if \"錄取名單\" in title:\n",
    "            print('skip: ',title)\n",
    "        elif \"甄試名單\" in title:\n",
    "            print('skip: ',title)\n",
    "        elif \"複試名單\" in title:\n",
    "            print('skip: ',title)\n",
    "        elif \"志願服務工作\" in title:\n",
    "            print('skip: ',title)\n",
    "        elif \"甄審會\" in title:\n",
    "            print('skip: ',title)\n",
    "        elif \"時薪人員\" in title:\n",
    "            print('skip: ',title)\n",
    "        else:\n",
    "            originization = re.search(\"\\B院((.*)[室,部,中心])\",title).group(1)\n",
    "            new_title = re.search(\"\\B聘((.*)[員,師,廚])\",title).group(1)\n",
    "            print(\"召聘職稱\",new_title,'院區',place,\"截止日期\",deadline,\"職缺單位\",originization,\"links\",link)\n",
    "            work_table.append([new_title, deadline, originization, place, link ])\n",
    "    return work_table"
   ]
  },
  {
   "cell_type": "code",
   "execution_count": 6,
   "metadata": {},
   "outputs": [],
   "source": [
    "def get_base_web_data(url_base,url_work_table=None):\n",
    "    if url_work_table != None:\n",
    "        url = url_base + url_work_table\n",
    "    else:\n",
    "        url = url_base\n",
    "    g=requests.get(url)\n",
    "    soup=BeautifulSoup(g.content, 'html.parser')\n",
    "    return soup"
   ]
  },
  {
   "cell_type": "code",
   "execution_count": 8,
   "metadata": {},
   "outputs": [
    {
     "name": "stdout",
     "output_type": "stream",
     "text": [
      "skip:  公告本院護理部111年5月6日公開甄選院聘護理師/實習護士儲備30名錄取名單\n",
      "skip:  公告本院護理部111年5月4日公開甄選院聘護理師/實習護士儲備30名錄取名單\n",
      "召聘職稱 助廚 院區 察看連結的簡章 截止日期 2022-12-31 職缺單位 營養室 links https://www.ylh.gov.tw/public/jobnews/300f01ae03a2571529b5b1f21e968326.pdf\n",
      "召聘職稱 照顧服務員 院區 察看連結的簡章 截止日期 2022-12-31 職缺單位 護理部 links https://www.ylh.gov.tw/public/jobnews/2a78c957732fe3c5a6dc5791a081da3c.pdf\n",
      "召聘職稱 助理管理師 院區 察看連結的簡章 截止日期 2022-06-23 職缺單位 安全衛生室111年5月4日公開甄選院聘助理管理師(身心 links https://www.ylh.gov.tw/public/jobnews/075d3c7f9f84898c8f932d7340d6ca11.pdf\n",
      "召聘職稱 管理師 院區 察看連結的簡章 截止日期 2022-06-10 職缺單位 企劃管理室 links https://www.ylh.gov.tw/public/jobnews/753fdd4238b4b67158f1d5c504a2db4e.pdf\n",
      "skip:  公告本院111/5/4甄審會公開甄選複試結果(公職醫事人員類)\n",
      "skip:  公告本院護理部(病房)111年4月26日公開甄選院聘助理管理師1名「錄取名單」\n",
      "skip:  公告本院檢驗醫學部111年5月5日公開甄選院聘助理管理師職務代理人1名「錄取名單」\n",
      "skip:  公告本院護理部(護理之家)111年4月28日公開甄選院聘照顧服務員1名「錄取名單」\n",
      "skip:  公告本院護理部(門診)111年4月22日甄選院聘護理師2名錄取名單\n",
      "skip:  公告本院護理部111年5月3日公開甄選院聘護理師/實習護士儲備30名錄取名單\n",
      "skip:  公告本院護理部111年4月26日公開甄選院聘護理師/實習護士儲備30名錄取名單\n",
      "skip:  公告本院護理部111年4月22日公開甄選院聘護理師/實習護士儲備30名錄取名單\n",
      "skip:  公告本院護理部111年4月20日公開甄選院聘護理師/實習護士儲備30名錄取名單\n",
      "skip:  公告本院護理部111年4月13日公開甄選院聘護理師/實習護士(校園徵才)儲備30名錄取名單\n",
      "skip:  公告本院護理部111年3月30日公開甄選院聘護理師/實習護士(校園徵才)(二)儲備30名錄取名單\n",
      "skip:  公告本院外科部(傷造口中心)111年4月19日公開甄選院聘(傷造口)資深/專科護理師1名《錄取名單》\n",
      "skip:  公告本院護理部111年4月13日公開甄選院聘護理師/實習護士儲備30名錄取名單\n",
      "skip:  公告本院護理部111年4月12日公開甄選院聘護理師/實習護士儲備30名錄取名單\n",
      "skip:  公告本院護理部111年3月30日公開甄選院聘護理師/實習護士(校園徵才)儲備30名錄取名單\n",
      "skip:  公告本院護理部111年4月8日公開甄選院聘護理師/實習護士儲備30名錄取名單\n",
      "skip:  公告本院護理部111年4月7日公開甄選院聘護理師/實習護士儲備30名錄取名單\n",
      "skip:  公告本院護理部111年4月6日公開甄選院聘護理師/實習護士儲備30名錄取名單\n",
      "skip:  公告本院護理部111年4月1日公開甄選院聘護理師(安寧居家護理師)1名錄取名單\n",
      "skip:  公告本院護理部111年3月28日公開甄選院聘護理師/實習護士儲備30名錄取名單\n",
      "skip:  公告本院護理部111年3月31日公開甄選院聘護理師/實習護士儲備30名錄取名單\n",
      "skip:  公告本院護理部111年3月30日公開甄選院聘護理師/實習護士儲備30名錄取名單\n",
      "skip:  公告本院護理部111年3月29日公開甄選院聘護理師/實習護士儲備30名錄取名單\n",
      "skip:  公告本院111年度志願服務工作人員招募簡章與報名表\n",
      "skip:  公告本院護理部111年3月14日公開甄選內科系院聘資深/專科護理師1名《錄取名單》\n",
      "skip:  公告本院護理部111年3月23日公開甄選院聘護理師/實習護士儲備30名錄取名單\n",
      "skip:  公告本院護理部111年3月21日公開甄選院聘護理師/實習護士儲備30名錄取名單\n",
      "skip:  公告本院護理部(門診)111年3月10日甄選院聘護理師職務代理人1名錄取名單\n",
      "skip:  公告本院護理部111年3月15日公開甄選院聘護理師儲備30名錄取名單\n",
      "skip:  公告本院護理部111年3月11日公開甄選院聘護理師儲備30名錄取名單\n",
      "skip:  公告本院護理部111年3月9日公開甄選院聘護理師儲備30名錄取名單\n",
      "skip:  公告本院護理部111年3月8日公開甄選院聘護理師儲備30名錄取名單\n",
      "skip:  公告本院護理部111年2月18日公開甄選院聘護理師儲備30名錄取名單\n",
      "skip:  公告本院護理部111年2月16日公開甄選院聘護理師儲備30名錄取名單\n",
      "skip:  公告本院外科部(傷造口中心)111年2月15日公開甄選院聘(傷造口)資深/專科護理師2名《錄取名單》\n",
      "skip:  公告本院護理部111年2月9日公開甄選院聘護理師儲備30名錄取名單\n",
      "skip:  公告本院護理部111年1月28日公開甄選院聘護理師儲備30名錄取名單\n",
      "skip:  公告本院護理部111年2月11日公開甄選院聘護理師儲備30名錄取名單\n",
      "skip:  公告本院護理部111年1月24日公開甄選內科系院聘資深/專科護理師2名《錄取名單》\n",
      "skip:  公告本院營養室公開甄選時薪人員2名(隨到隨招，請於上班時間先行電話預約)\n",
      "skip:  公告本院護理部111年1月14日公開甄選院聘護理師儲備30名錄取名單\n",
      "skip:  公告本院神經部110年12月29日公開甄選院聘醫事檢驗師1名「錄取名單」\n",
      "skip:  公告本院護理部110年12月30日公開甄選院聘護理師儲備30名錄取名單\n",
      "skip:  公告本院內科部110年12月23日公開甄選院聘護理師(糖尿病衛教師)1名「錄取名單」\n",
      "skip:  公告本院1101221甄審會公開甄選複試結果(醫師類)\n",
      "skip:  公告本院麻醉部110年12月21日及22日公開甄選院聘護理師1名「錄取名單」\n",
      "skip:  公告本院護理部110年12月20日公開甄選院聘護理師儲備30名錄取名單\n",
      "skip:  公告本院護理部110年12月17日公開甄選院聘護理師儲備30名錄取名單\n",
      "召聘職稱 資深/專科護理師 院區 察看連結的簡章 截止日期 2022-06-15 職缺單位 醫療部/護理部 links https://www.ylh.gov.tw/public/jobnews/dd0a839f5a67ede8f0c7f91c2f861788.pdf\n"
     ]
    }
   ],
   "source": [
    "work_table = []\n",
    "for page in pages_link:\n",
    "    soup = get_base_web_data(page)\n",
    "    work_table = get_each_page_wrok_table(soup,work_table)"
   ]
  },
  {
   "cell_type": "code",
   "execution_count": 34,
   "metadata": {},
   "outputs": [
    {
     "data": {
      "text/plain": [
       "{'FILEEXT1': None,\n",
       " 'FILENAME1': None,\n",
       " 'FILEPATH1': None,\n",
       " 'FILEREMARK1': None,\n",
       " 'FILESIZE1': None,\n",
       " 'SEQ1': None,\n",
       " 'TITLE1': None,\n",
       " 'TYPENO1': None,\n",
       " 'adate': '2022-07-06T00:00:00',\n",
       " 'adate_ch': '111/07/06',\n",
       " 'adate_sh': '2022/07/06',\n",
       " 'attachNum1': 0,\n",
       " 'attachNum2': 0,\n",
       " 'attachNum3': 0,\n",
       " 'attachNum4': 0,\n",
       " 'attachNum5': 0,\n",
       " 'attachNum6': 0,\n",
       " 'createDate': '2022-06-27T15:09:01',\n",
       " 'createUser': 'HR',\n",
       " 'depno': 'ntucc',\n",
       " 'edate': '2022-07-13T00:00:00',\n",
       " 'edate_ch': '111/07/13',\n",
       " 'edate_sh': '2022/07/13',\n",
       " 'id': '2c9a7cf97fde99380181a3fe00f501ff',\n",
       " 'isuse': '1',\n",
       " 'item1list': None,\n",
       " 'jobDepnm': '人事室',\n",
       " 'jobDepno': '19',\n",
       " 'jobtype': '3',\n",
       " 'lang': '1',\n",
       " 'mid': 4,\n",
       " 'modifyDate': '2022-07-06T13:25:09',\n",
       " 'modifyUser': 'HR',\n",
       " 'odate': '2022-10-31T00:00:00',\n",
       " 'recruitFile': [{'FILEID_A': None,\n",
       "   'FILE_A': None,\n",
       "   'FILE_AContentType': None,\n",
       "   'FILE_AFileName': None,\n",
       "   'ID_A': None,\n",
       "   'REMARK_A': None,\n",
       "   'SEQ_A': None,\n",
       "   'TYPE_A': None,\n",
       "   'createDate': '2022-06-27T15:31:24',\n",
       "   'createUser': 'HR',\n",
       "   'fileExt': '.pdf',\n",
       "   'fileName': '癌醫中心醫院(副)管理師(人事室職務代理人1名)1110706',\n",
       "   'filePath': '2022/94f9aefc-e147-4da8-9e81-d9f159f123a9.pdf',\n",
       "   'fileRemark': None,\n",
       "   'fileSize': '124443',\n",
       "   'id': '2c9a7cf97fde99380181a412800f0200',\n",
       "   'modifyDate': '2022-07-06T13:25:33',\n",
       "   'modifyUser': 'HR',\n",
       "   'recruitHead': None,\n",
       "   'rowNum': 0,\n",
       "   'seq': None,\n",
       "   'size': None,\n",
       "   'title': '甄選簡則(PDF檔)',\n",
       "   'typeNo': '1'},\n",
       "  {'FILEID_A': None,\n",
       "   'FILE_A': None,\n",
       "   'FILE_AContentType': None,\n",
       "   'FILE_AFileName': None,\n",
       "   'ID_A': None,\n",
       "   'REMARK_A': None,\n",
       "   'SEQ_A': None,\n",
       "   'TYPE_A': None,\n",
       "   'createDate': '2022-06-27T15:39:40',\n",
       "   'createUser': 'HR',\n",
       "   'fileExt': '.doc',\n",
       "   'fileName': '台大癌醫中心分院各類人員甄選登記表-(修正版、職前經歷查驗)',\n",
       "   'filePath': '2022/94201212-29e5-4f77-971b-f48fe9913a2f.doc',\n",
       "   'fileRemark': None,\n",
       "   'fileSize': '85504',\n",
       "   'id': '2c9a7cf97fde99380181a41a0fa40201',\n",
       "   'modifyDate': '2022-06-27T15:39:40',\n",
       "   'modifyUser': 'HR',\n",
       "   'recruitHead': None,\n",
       "   'rowNum': 0,\n",
       "   'seq': None,\n",
       "   'size': None,\n",
       "   'title': '本院報名甄選登記表(WORD檔)',\n",
       "   'typeNo': '2'},\n",
       "  {'FILEID_A': None,\n",
       "   'FILE_A': None,\n",
       "   'FILE_AContentType': None,\n",
       "   'FILE_AFileName': None,\n",
       "   'ID_A': None,\n",
       "   'REMARK_A': None,\n",
       "   'SEQ_A': None,\n",
       "   'TYPE_A': None,\n",
       "   'createDate': '2022-06-27T15:39:54',\n",
       "   'createUser': 'HR',\n",
       "   'fileExt': '.odt',\n",
       "   'fileName': '台大癌醫中心分院各類人員甄選登記表-(修正版、職前經歷查驗)',\n",
       "   'filePath': '2022/3b6e9b69-989b-4bf8-9943-87090ae8d763.odt',\n",
       "   'fileRemark': None,\n",
       "   'fileSize': '28008',\n",
       "   'id': '2c9a7cf97fde99380181a41a46e00202',\n",
       "   'modifyDate': '2022-06-27T15:39:54',\n",
       "   'modifyUser': 'HR',\n",
       "   'recruitHead': None,\n",
       "   'rowNum': 0,\n",
       "   'seq': None,\n",
       "   'size': None,\n",
       "   'title': '(ODT檔) ',\n",
       "   'typeNo': '2'},\n",
       "  {'FILEID_A': None,\n",
       "   'FILE_A': None,\n",
       "   'FILE_AContentType': None,\n",
       "   'FILE_AFileName': None,\n",
       "   'ID_A': None,\n",
       "   'REMARK_A': None,\n",
       "   'SEQ_A': None,\n",
       "   'TYPE_A': None,\n",
       "   'createDate': '2022-06-27T15:40:08',\n",
       "   'createUser': 'HR',\n",
       "   'fileExt': '.pdf',\n",
       "   'fileName': '台大癌醫中心分院各類人員甄選登記表-(修正版、職前經歷查驗)',\n",
       "   'filePath': '2022/f14870ce-8483-449e-a34f-502bfb7e7b10.pdf',\n",
       "   'fileRemark': None,\n",
       "   'fileSize': '142587',\n",
       "   'id': '2c9a7cf97fde99380181a41a7bca0203',\n",
       "   'modifyDate': '2022-06-27T15:40:08',\n",
       "   'modifyUser': 'HR',\n",
       "   'recruitHead': None,\n",
       "   'rowNum': 0,\n",
       "   'seq': None,\n",
       "   'size': None,\n",
       "   'title': '(PDF檔)',\n",
       "   'typeNo': '2'},\n",
       "  {'FILEID_A': None,\n",
       "   'FILE_A': None,\n",
       "   'FILE_AContentType': None,\n",
       "   'FILE_AFileName': None,\n",
       "   'ID_A': None,\n",
       "   'REMARK_A': None,\n",
       "   'SEQ_A': None,\n",
       "   'TYPE_A': None,\n",
       "   'createDate': '2022-06-27T15:40:25',\n",
       "   'createUser': 'HR',\n",
       "   'fileExt': '.pdf',\n",
       "   'fileName': '信封封面(直式-各類人員甄選-癌醫)1100820',\n",
       "   'filePath': '2022/f0528ea7-4363-47df-9f5b-38b8dd34b1f8.pdf',\n",
       "   'fileRemark': None,\n",
       "   'fileSize': '65845',\n",
       "   'id': '2c9a7cf97fde99380181a41ac1820204',\n",
       "   'modifyDate': '2022-06-27T15:40:25',\n",
       "   'modifyUser': 'HR',\n",
       "   'recruitHead': None,\n",
       "   'rowNum': 0,\n",
       "   'seq': None,\n",
       "   'size': None,\n",
       "   'title': '信封封面(PDF檔)',\n",
       "   'typeNo': '3'}],\n",
       " 'rowNum': 0,\n",
       " 'size': None,\n",
       " 'title': '人事室 副管理師或管理師(職務代理人)（預估缺）',\n",
       " 'topseq': 9,\n",
       " 'upddate': '2022-07-06T13:25:09',\n",
       " 'upddate_ch': '111/07/06'}"
      ]
     },
     "execution_count": 34,
     "metadata": {},
     "output_type": "execute_result"
    }
   ],
   "source": [
    "ntucc_work_data['queryList'][0]"
   ]
  },
  {
   "cell_type": "code",
   "execution_count": 110,
   "metadata": {},
   "outputs": [
    {
     "data": {
      "text/plain": [
       "'護理師'"
      ]
     },
     "execution_count": 110,
     "metadata": {},
     "output_type": "execute_result"
    }
   ],
   "source": [
    "re.search(\"\\B聘((.*)師)\",\"公告本院護理部公開甄選院聘護理師(手術室)儲備\").group(1)"
   ]
  },
  {
   "cell_type": "code",
   "execution_count": 112,
   "metadata": {},
   "outputs": [
    {
     "name": "stdout",
     "output_type": "stream",
     "text": [
      "        召聘職稱          期限               職缺單位       院區  \\\n",
      "0        護理師  2022-07-31   護理部公開甄選院聘護理師(手術室  察看連結的簡章   \n",
      "1        護理師  2022-07-31                護理部  察看連結的簡章   \n",
      "2     契約主治醫師  2022-05-20           環境及職業醫學部  察看連結的簡章   \n",
      "3      助理管理師  2022-05-09  主計室公開甄選院聘助理管理師(身心  察看連結的簡章   \n",
      "4       副管理師  2022-05-10                護理部  察看連結的簡章   \n",
      "5      醫事檢驗師  2022-05-20                病理部  察看連結的簡章   \n",
      "6        佐理員  2022-05-09            護理部(供應室  察看連結的簡章   \n",
      "7         助廚  2022-12-31                營養室  察看連結的簡章   \n",
      "8        護理師  2022-07-31   護理部公開甄選院聘護理師(手術室  察看連結的簡章   \n",
      "9        護理師  2022-07-31                護理部  察看連結的簡章   \n",
      "10    契約主治醫師  2022-05-20           環境及職業醫學部  察看連結的簡章   \n",
      "11     助理管理師  2022-05-09  主計室公開甄選院聘助理管理師(身心  察看連結的簡章   \n",
      "12      副管理師  2022-05-10                護理部  察看連結的簡章   \n",
      "13     醫事檢驗師  2022-05-20                病理部  察看連結的簡章   \n",
      "14       佐理員  2022-05-09            護理部(供應室  察看連結的簡章   \n",
      "15  資深/專科護理師  2022-06-15            醫療部/護理部  察看連結的簡章   \n",
      "\n",
      "                                                   連結  \n",
      "0   https://www.ylh.gov.tw/public/jobnews/4eb1cf3e...  \n",
      "1   https://www.ylh.gov.tw/public/jobnews/ba6bb249...  \n",
      "2   https://www.ylh.gov.tw/public/jobnews/21d8787d...  \n",
      "3   https://www.ylh.gov.tw/public/jobnews/e994b188...  \n",
      "4   https://www.ylh.gov.tw/public/jobnews/335f84d1...  \n",
      "5   https://www.ylh.gov.tw/public/jobnews/94446d39...  \n",
      "6   https://www.ylh.gov.tw/public/jobnews/45ef9004...  \n",
      "7   https://www.ylh.gov.tw/public/jobnews/5a713b43...  \n",
      "8   https://www.ylh.gov.tw/public/jobnews/4eb1cf3e...  \n",
      "9   https://www.ylh.gov.tw/public/jobnews/ba6bb249...  \n",
      "10  https://www.ylh.gov.tw/public/jobnews/21d8787d...  \n",
      "11  https://www.ylh.gov.tw/public/jobnews/e994b188...  \n",
      "12  https://www.ylh.gov.tw/public/jobnews/335f84d1...  \n",
      "13  https://www.ylh.gov.tw/public/jobnews/94446d39...  \n",
      "14  https://www.ylh.gov.tw/public/jobnews/45ef9004...  \n",
      "15  https://www.ylh.gov.tw/public/jobnews/dd0a839f...  \n"
     ]
    }
   ],
   "source": [
    "work_table=pd.DataFrame(work_table, columns=['召聘職稱','期限' ,\"職缺單位\" , '院區','連結'])\n",
    "\n",
    "print(work_table)"
   ]
  },
  {
   "cell_type": "code",
   "execution_count": null,
   "metadata": {},
   "outputs": [],
   "source": [
    "https://www.ntucc.gov.tw/ntucc/RecruitAjax!download.action?id=2c9a7cfa7fde98350181c6e991d60268"
   ]
  }
 ],
 "metadata": {
  "kernelspec": {
   "display_name": "hospwork",
   "language": "python",
   "name": "hospwork"
  },
  "language_info": {
   "codemirror_mode": {
    "name": "ipython",
    "version": 3
   },
   "file_extension": ".py",
   "mimetype": "text/x-python",
   "name": "python",
   "nbconvert_exporter": "python",
   "pygments_lexer": "ipython3",
   "version": "3.8.10"
  }
 },
 "nbformat": 4,
 "nbformat_minor": 4
}
