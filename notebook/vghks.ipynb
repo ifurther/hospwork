{
 "cells": [
  {
   "cell_type": "code",
   "execution_count": 1,
   "metadata": {},
   "outputs": [],
   "source": [
    "from bs4 import BeautifulSoup\n",
    "import requests\n",
    "import pandas as pd\n",
    "from urllib.parse import urlparse"
   ]
  },
  {
   "cell_type": "code",
   "execution_count": 2,
   "metadata": {},
   "outputs": [],
   "source": [
    "url_base='https://www.vghks.gov.tw'\n",
    "url_work_table='/News.aspx?n=C03011BF96C680C4&sms=5EF61FB0D0F5B657'\n",
    "url=url_base+url_work_table\n",
    "g=requests.get(url)\n",
    "soup=BeautifulSoup(g.content, 'html.parser')"
   ]
  },
  {
   "cell_type": "code",
   "execution_count": 3,
   "metadata": {},
   "outputs": [],
   "source": [
    "def get_tables_part(soup):\n",
    "    tables = soup.find_all('tbody')\n",
    "    if len(tables) == 1:\n",
    "        return None,tables\n",
    "    else:\n",
    "        return tables[1],tables[0]\n",
    "pages_table,work_tables = get_tables_part(soup)"
   ]
  },
  {
   "cell_type": "code",
   "execution_count": 4,
   "metadata": {},
   "outputs": [
    {
     "name": "stdout",
     "output_type": "stream",
     "text": [
      "page list: <tbody>\n",
      "<tr align=\"center\">\n",
      "<td valign=\"middle\">\n",
      "<noscript><style type=\"text/css\">.noscript{display:none}</style>[您目前未啟用JavaScript]</noscript>\n",
      "<span class=\"noscript\">\n",
      "<label for=\"PageNumber\">第</label>\n",
      "<select id=\"PageNumber\" style=\"width:50px;\">\n",
      "<option selected=\"\" value=\"1\">1</option><option value=\"2\">2</option>\n",
      "</select>\n",
      "<label for=\"amount\">頁，每頁顯示</label>\n",
      "<input id=\"amount\" maxlength=\"3\" onchange=\"javascript:window.location='/News.aspx?n=C03011BF96C680C4&amp;sms=5EF61FB0D0F5B657&amp;&amp;page=1&amp;PageSize='+$(this).val() +'';\" onkeypress=\"\" style=\"width:25px;\" type=\"text\" value=\"20\"/>\n",
      "<span>筆</span>\n",
      "</span>\n",
      "<span>，共33筆</span>\n",
      "<a href=\"/News.aspx?n=C03011BF96C680C4&amp;sms=5EF61FB0D0F5B657&amp;page=2&amp;PageSize=20\">下一頁</a>|<a href=\"/News.aspx?n=C03011BF96C680C4&amp;sms=5EF61FB0D0F5B657&amp;page=2&amp;PageSize=20\">最末頁</a>\n",
      "</td>\n",
      "</tr>\n",
      "</tbody> work list: <tbody>\n",
      "<tr>\n",
      "<td><span class=\"cell-td\">公告日期</span> <p>113-07-15</p>\n",
      "</td>\n",
      "<td><span class=\"cell-td\">徵人單位</span> <p>內科部</p>\n",
      "</td>\n",
      "<td><span class=\"cell-td\">職務名稱</span> <p class=\"\"><a href=\"News_Content.aspx?n=C03011BF96C680C4&amp;sms=5EF61FB0D0F5B657&amp;s=4E4802BC8D4893F2\" title=\"內科部專任研究助理(個案管理師)\">內科部專任研究助理(個案管理師)</a></p>\n",
      "</td>\n",
      "<td><span class=\"cell-td\">截止日期</span> <p>113-07-26</p>\n",
      "</td>\n",
      "</tr>\n",
      "<tr>\n",
      "<td><span class=\"cell-td\">公告日期</span> <p>113-07-12</p>\n",
      "</td>\n",
      "<td><span class=\"cell-td\">徵人單位</span> <p>口腔醫學部</p>\n",
      "</td>\n",
      "<td><span class=\"cell-td\">職務名稱</span> <p class=\"\"><a href=\"News_Content.aspx?n=C03011BF96C680C4&amp;sms=5EF61FB0D0F5B657&amp;s=5AF917C06D34777E\" title=\"口腔醫學部契約行政助理甄選公告\">口腔醫學部契約行政助理甄選公告</a></p>\n",
      "</td>\n",
      "<td><span class=\"cell-td\">截止日期</span> <p>113-07-17</p>\n",
      "</td>\n",
      "</tr>\n",
      "<tr>\n",
      "<td><span class=\"cell-td\">公告日期</span> <p>113-07-12</p>\n",
      "</td>\n",
      "<td><span class=\"cell-td\">徵人單位</span> <p>護理部</p>\n",
      "</td>\n",
      "<td><span class=\"cell-td\">職務名稱</span> <p class=\"\"><a href=\"News_Content.aspx?n=C03011BF96C680C4&amp;sms=5EF61FB0D0F5B657&amp;s=E093892482A666B3\" title=\"護理部-住宿型長照機構契約社會工作師\">護理部-住宿型長照機構契約社會工作師</a></p>\n",
      "</td>\n",
      "<td><span class=\"cell-td\">截止日期</span> <p>113-07-18</p>\n",
      "</td>\n",
      "</tr>\n",
      "<tr>\n",
      "<td><span class=\"cell-td\">公告日期</span> <p>113-07-12</p>\n",
      "</td>\n",
      "<td><span class=\"cell-td\">徵人單位</span> <p>護理部</p>\n",
      "</td>\n",
      "<td><span class=\"cell-td\">職務名稱</span> <p class=\"\"><a href=\"News_Content.aspx?n=C03011BF96C680C4&amp;sms=5EF61FB0D0F5B657&amp;s=8F510FC024145F1C\" title=\"護理部儲備契約行政助理(病房文書)\">護理部儲備契約行政助理(病房文書)</a></p>\n",
      "</td>\n",
      "<td><span class=\"cell-td\">截止日期</span> <p>113-08-30</p>\n",
      "</td>\n",
      "</tr>\n",
      "<tr>\n",
      "<td><span class=\"cell-td\">公告日期</span> <p>113-07-12</p>\n",
      "</td>\n",
      "<td><span class=\"cell-td\">徵人單位</span> <p>職業安全衛生室</p>\n",
      "</td>\n",
      "<td><span class=\"cell-td\">職務名稱</span> <p class=\"\"><a href=\"News_Content.aspx?n=C03011BF96C680C4&amp;sms=5EF61FB0D0F5B657&amp;s=C7307EA7ADDC32F3\" title=\"職業安全衛生室契約醫務副技師(職業安全衛生管理員)\">職業安全衛生室契約醫務副技師(職業安全衛生管理員)</a></p>\n",
      "</td>\n",
      "<td><span class=\"cell-td\">截止日期</span> <p>113-07-19</p>\n",
      "</td>\n",
      "</tr>\n",
      "<tr>\n",
      "<td><span class=\"cell-td\">公告日期</span> <p>113-07-12</p>\n",
      "</td>\n",
      "<td><span class=\"cell-td\">徵人單位</span> <p>口腔醫學部</p>\n",
      "</td>\n",
      "<td><span class=\"cell-td\">職務名稱</span> <p class=\"\"><a href=\"News_Content.aspx?n=C03011BF96C680C4&amp;sms=5EF61FB0D0F5B657&amp;s=E5225626EE1A1F4C\" title=\"口醫部招訓113年度第3年牙髓病科住院醫師甄選公告\">口醫部招訓113年度第3年牙髓病科住院醫師甄選公告</a></p>\n",
      "</td>\n",
      "<td><span class=\"cell-td\">截止日期</span> <p>113-07-16</p>\n",
      "</td>\n",
      "</tr>\n",
      "<tr>\n",
      "<td><span class=\"cell-td\">公告日期</span> <p>113-07-11</p>\n",
      "</td>\n",
      "<td><span class=\"cell-td\">徵人單位</span> <p>口腔醫學部</p>\n",
      "</td>\n",
      "<td><span class=\"cell-td\">職務名稱</span> <p class=\"\"><a href=\"News_Content.aspx?n=C03011BF96C680C4&amp;sms=5EF61FB0D0F5B657&amp;s=BEA88F19EA17F64E\" title=\"口醫部招訓 113 年度第 3 年牙周病科住院醫師甄選公告\">口醫部招訓 113 年度第 3 年牙周病科住院醫師甄選公告</a></p>\n",
      "</td>\n",
      "<td><span class=\"cell-td\">截止日期</span> <p>113-07-16</p>\n",
      "</td>\n",
      "</tr>\n",
      "<tr>\n",
      "<td><span class=\"cell-td\">公告日期</span> <p>113-07-11</p>\n",
      "</td>\n",
      "<td><span class=\"cell-td\">徵人單位</span> <p>資訊處理設備</p>\n",
      "</td>\n",
      "<td><span class=\"cell-td\">職務名稱</span> <p class=\"\"><a href=\"News_Content.aspx?n=C03011BF96C680C4&amp;sms=5EF61FB0D0F5B657&amp;s=6E2CD30C540C5750\" title=\"兒童醫學部度第三年住院醫師\">兒童醫學部度第三年住院醫師</a></p>\n",
      "</td>\n",
      "<td><span class=\"cell-td\">截止日期</span> <p>113-09-30</p>\n",
      "</td>\n",
      "</tr>\n",
      "<tr>\n",
      "<td><span class=\"cell-td\">公告日期</span> <p>113-07-10</p>\n",
      "</td>\n",
      "<td><span class=\"cell-td\">徵人單位</span> <p>病理檢驗部</p>\n",
      "</td>\n",
      "<td><span class=\"cell-td\">職務名稱</span> <p class=\"\"><a href=\"News_Content.aspx?n=C03011BF96C680C4&amp;sms=5EF61FB0D0F5B657&amp;s=72AFC5B177681850\" title=\"病理檢驗部 契約醫事檢驗師(職務代理人)\">病理檢驗部 契約醫事檢驗師(職務代理人)</a></p>\n",
      "</td>\n",
      "<td><span class=\"cell-td\">截止日期</span> <p>113-07-18</p>\n",
      "</td>\n",
      "</tr>\n",
      "<tr>\n",
      "<td><span class=\"cell-td\">公告日期</span> <p>113-07-10</p>\n",
      "</td>\n",
      "<td><span class=\"cell-td\">徵人單位</span> <p>病理檢驗部</p>\n",
      "</td>\n",
      "<td><span class=\"cell-td\">職務名稱</span> <p class=\"\"><a href=\"News_Content.aspx?n=C03011BF96C680C4&amp;sms=5EF61FB0D0F5B657&amp;s=3A5E893A772F7BD6\" title=\"病理檢驗部契約醫事檢驗師\">病理檢驗部契約醫事檢驗師</a></p>\n",
      "</td>\n",
      "<td><span class=\"cell-td\">截止日期</span> <p>113-07-18</p>\n",
      "</td>\n",
      "</tr>\n",
      "<tr>\n",
      "<td><span class=\"cell-td\">公告日期</span> <p>113-07-09</p>\n",
      "</td>\n",
      "<td><span class=\"cell-td\">徵人單位</span> <p>資訊處理設備</p>\n",
      "</td>\n",
      "<td><span class=\"cell-td\">職務名稱</span> <p class=\"\"><a href=\"News_Content.aspx?n=C03011BF96C680C4&amp;sms=5EF61FB0D0F5B657&amp;s=13E342A58D0AB992\" title=\"一年期專任研究助理\">一年期專任研究助理</a></p>\n",
      "</td>\n",
      "<td><span class=\"cell-td\">截止日期</span> <p>113-07-19</p>\n",
      "</td>\n",
      "</tr>\n",
      "<tr>\n",
      "<td><span class=\"cell-td\">公告日期</span> <p>113-07-08</p>\n",
      "</td>\n",
      "<td><span class=\"cell-td\">徵人單位</span> <p>麻醉部</p>\n",
      "</td>\n",
      "<td><span class=\"cell-td\">職務名稱</span> <p class=\"\"><a href=\"News_Content.aspx?n=C03011BF96C680C4&amp;sms=5EF61FB0D0F5B657&amp;s=542865D611228C92\" title=\"師(三)級護理師\">師(三)級護理師</a></p>\n",
      "</td>\n",
      "<td><span class=\"cell-td\">截止日期</span> <p>113-07-15</p>\n",
      "</td>\n",
      "</tr>\n",
      "<tr>\n",
      "<td><span class=\"cell-td\">公告日期</span> <p>113-07-08</p>\n",
      "</td>\n",
      "<td><span class=\"cell-td\">徵人單位</span> <p>家庭醫學部</p>\n",
      "</td>\n",
      "<td><span class=\"cell-td\">職務名稱</span> <p class=\"\"><a href=\"News_Content.aspx?n=C03011BF96C680C4&amp;sms=5EF61FB0D0F5B657&amp;s=B5E8516E4C1AF969\" title=\"契約主治醫師(高雄市立聯合醫院)\">契約主治醫師(高雄市立聯合醫院)</a></p>\n",
      "</td>\n",
      "<td><span class=\"cell-td\">截止日期</span> <p>113-07-31</p>\n",
      "</td>\n",
      "</tr>\n",
      "<tr>\n",
      "<td><span class=\"cell-td\">公告日期</span> <p>113-07-05</p>\n",
      "</td>\n",
      "<td><span class=\"cell-td\">徵人單位</span> <p>醫療費用組</p>\n",
      "</td>\n",
      "<td><span class=\"cell-td\">職務名稱</span> <p class=\"\"><a href=\"News_Content.aspx?n=C03011BF96C680C4&amp;sms=5EF61FB0D0F5B657&amp;s=22323E62FD641BAC\" title=\"醫務企管部(醫療費用組)契約醫務管理專員\">醫務企管部(醫療費用組)契約醫務管理專員</a></p>\n",
      "</td>\n",
      "<td><span class=\"cell-td\">截止日期</span> <p>113-07-19</p>\n",
      "</td>\n",
      "</tr>\n",
      "<tr>\n",
      "<td><span class=\"cell-td\">公告日期</span> <p>113-07-05</p>\n",
      "</td>\n",
      "<td><span class=\"cell-td\">徵人單位</span> <p>移植外科</p>\n",
      "</td>\n",
      "<td><span class=\"cell-td\">職務名稱</span> <p class=\"\"><a href=\"News_Content.aspx?n=C03011BF96C680C4&amp;sms=5EF61FB0D0F5B657&amp;s=D6CADA55CDD9B9B4\" title=\"移植外科-專案研究助理\">移植外科-專案研究助理</a></p>\n",
      "</td>\n",
      "<td><span class=\"cell-td\">截止日期</span> <p>113-12-31</p>\n",
      "</td>\n",
      "</tr>\n",
      "<tr>\n",
      "<td><span class=\"cell-td\">公告日期</span> <p>113-07-05</p>\n",
      "</td>\n",
      "<td><span class=\"cell-td\">徵人單位</span> <p>總務室</p>\n",
      "</td>\n",
      "<td><span class=\"cell-td\">職務名稱</span> <p class=\"\"><a href=\"News_Content.aspx?n=C03011BF96C680C4&amp;sms=5EF61FB0D0F5B657&amp;s=A315B1107DA9F37E\" title=\"總務室文書組-契約行政助理\">總務室文書組-契約行政助理</a></p>\n",
      "</td>\n",
      "<td><span class=\"cell-td\">截止日期</span> <p>113-07-16</p>\n",
      "</td>\n",
      "</tr>\n",
      "<tr>\n",
      "<td><span class=\"cell-td\">公告日期</span> <p>113-07-05</p>\n",
      "</td>\n",
      "<td><span class=\"cell-td\">徵人單位</span> <p>骨科部</p>\n",
      "</td>\n",
      "<td><span class=\"cell-td\">職務名稱</span> <p class=\"\"><a href=\"News_Content.aspx?n=C03011BF96C680C4&amp;sms=5EF61FB0D0F5B657&amp;s=83130F1397803E53\" title=\"骨科部-契約物理治療師\">骨科部-契約物理治療師</a></p>\n",
      "</td>\n",
      "<td><span class=\"cell-td\">截止日期</span> <p>113-07-31</p>\n",
      "</td>\n",
      "</tr>\n",
      "<tr>\n",
      "<td><span class=\"cell-td\">公告日期</span> <p>113-07-01</p>\n",
      "</td>\n",
      "<td><span class=\"cell-td\">徵人單位</span> <p>醫務企管部</p>\n",
      "</td>\n",
      "<td><span class=\"cell-td\">職務名稱</span> <p class=\"\"><a href=\"News_Content.aspx?n=C03011BF96C680C4&amp;sms=5EF61FB0D0F5B657&amp;s=C77D8BC4B858D327\" title=\"醫療事務組徵契約醫務管理組員(護理背景尤佳)\">醫療事務組徵契約醫務管理組員(護理背景尤佳)</a></p>\n",
      "</td>\n",
      "<td><span class=\"cell-td\">截止日期</span> <p>113-07-15</p>\n",
      "</td>\n",
      "</tr>\n",
      "<tr>\n",
      "<td><span class=\"cell-td\">公告日期</span> <p>113-07-01</p>\n",
      "</td>\n",
      "<td><span class=\"cell-td\">徵人單位</span> <p>護理部</p>\n",
      "</td>\n",
      "<td><span class=\"cell-td\">職務名稱</span> <p class=\"\"><a href=\"News_Content.aspx?n=C03011BF96C680C4&amp;sms=5EF61FB0D0F5B657&amp;s=567A25BDA7DEDB3F\" title=\"護理部-住宿型長照機構儲備契約護理\">護理部-住宿型長照機構儲備契約護理</a></p>\n",
      "</td>\n",
      "<td><span class=\"cell-td\">截止日期</span> <p>113-12-31</p>\n",
      "</td>\n",
      "</tr>\n",
      "<tr>\n",
      "<td><span class=\"cell-td\">公告日期</span> <p>113-06-27</p>\n",
      "</td>\n",
      "<td><span class=\"cell-td\">徵人單位</span> <p>護理部</p>\n",
      "</td>\n",
      "<td><span class=\"cell-td\">職務名稱</span> <p class=\"\"><a href=\"News_Content.aspx?n=C03011BF96C680C4&amp;sms=5EF61FB0D0F5B657&amp;s=425714BB882CD5B3\" title=\"護理部-契約行政助理(病房佐理員)\">護理部-契約行政助理(病房佐理員)</a></p>\n",
      "</td>\n",
      "<td><span class=\"cell-td\">截止日期</span> <p>113-12-31</p>\n",
      "</td>\n",
      "</tr>\n",
      "</tbody>\n"
     ]
    }
   ],
   "source": [
    "print(\"page list:\",pages_table,\"work list:\",work_tables)"
   ]
  },
  {
   "cell_type": "markdown",
   "metadata": {},
   "source": [
    "# Get page link\n",
    "In this website the work table has some page, so the function should find page link for next step."
   ]
  },
  {
   "cell_type": "code",
   "execution_count": 23,
   "metadata": {},
   "outputs": [
    {
     "name": "stdout",
     "output_type": "stream",
     "text": [
      "#0 /News.aspx?n=C03011BF96C680C4&sms=5EF61FB0D0F5B657&page=2&PageSize=20\n",
      "#1 /News.aspx?n=C03011BF96C680C4&sms=5EF61FB0D0F5B657&page=2&PageSize=20\n"
     ]
    },
    {
     "data": {
      "text/plain": [
       "['https://www.vghks.gov.tw/News.aspx?n=C03011BF96C680C4&sms=5EF61FB0D0F5B657',\n",
       " 'https://www.vghks.gov.tw/News.aspx?n=C03011BF96C680C4&sms=5EF61FB0D0F5B657&page=2&PageSize=20']"
      ]
     },
     "execution_count": 23,
     "metadata": {},
     "output_type": "execute_result"
    }
   ],
   "source": [
    "if pages_table == None:\n",
    "    print(\"only one page\")\n",
    "    pages_link=None\n",
    "else:\n",
    "    #print(pages_table.find_all('a'))\n",
    "    pages_link=[]\n",
    "    pages_link.append(url)\n",
    "    for i, item in enumerate(pages_table.find_all('a')):\n",
    "        s=item.get('href')\n",
    "        link_s = urlparse(url)._replace(path=s,query=[]).geturl()\n",
    "        if link_s not in pages_link:\n",
    "            pages_link.append(link_s)\n",
    "        print('#{} {}'.format(i , s, link_s))\n",
    "\n",
    "pages_link"
   ]
  },
  {
   "cell_type": "markdown",
   "metadata": {},
   "source": [
    "# Get work table"
   ]
  },
  {
   "cell_type": "markdown",
   "metadata": {},
   "source": [
    "The `get_work_page` function is used for getting each work page"
   ]
  },
  {
   "cell_type": "code",
   "execution_count": 6,
   "metadata": {},
   "outputs": [],
   "source": [
    "def get_work_page(page_url,page=None):\n",
    "    global url\n",
    "    if page != None:\n",
    "        page_url = page_url+'?page='+str(page)\n",
    "    if url == None:\n",
    "        page_url = url\n",
    "        print(page_url)\n",
    "    g=requests.get(page_url)\n",
    "    soup=BeautifulSoup(g.content, 'html.parser')\n",
    "    return soup"
   ]
  },
  {
   "cell_type": "markdown",
   "metadata": {},
   "source": [
    "Using `get_work_page` to read each page and using `get_tables_part` read work table"
   ]
  },
  {
   "cell_type": "code",
   "execution_count": 24,
   "metadata": {},
   "outputs": [],
   "source": [
    "def get_work_table(table_,work_table):\n",
    "    for i, item in enumerate(table_):\n",
    "        if item.find('a'):\n",
    "            s=item.find('a')\n",
    "            if s == -1:\n",
    "                s = item\n",
    "                print(i, s)\n",
    "            else:\n",
    "                title = s.get('title')\n",
    "                link = s.get('href')\n",
    "                link_s = urlparse(url)._replace(path=link,query=[]).geturl()\n",
    "                all_td = item.find_all('td')\n",
    "                origination = all_td[1].find('p').text\n",
    "                dead_line = all_td[-1].find('p').text\n",
    "                print(i,title,link_s,origination,dead_line)\n",
    "                work_table.append([i-2, title, dead_line, link_s ])\n",
    "    return work_table"
   ]
  },
  {
   "cell_type": "code",
   "execution_count": 27,
   "metadata": {},
   "outputs": [
    {
     "name": "stdout",
     "output_type": "stream",
     "text": [
      "0 \n",
      "\n",
      "1 病理檢驗部師(三)級主治醫師甄選公告 https://www.vghks.gov.tw/News_Content.aspx?n=C03011BF96C680C4&sms=5EF61FB0D0F5B657&s=32F4D1DF3EE6E498 病理檢驗部 111-05-19\n",
      "2 \n",
      "\n",
      "3 藥學部徵契約藥師 https://www.vghks.gov.tw/News_Content.aspx?n=C03011BF96C680C4&sms=5EF61FB0D0F5B657&s=04305D8A8F81F8A2 藥學部 111-05-13\n",
      "4 \n",
      "\n",
      "5 高齡醫學中心徴專任助理（個案管理師） https://www.vghks.gov.tw/News_Content.aspx?n=C03011BF96C680C4&sms=5EF61FB0D0F5B657&s=D7EA23BCD9B6C0EF 高齡醫學中心 111-05-16\n",
      "6 \n",
      "\n",
      "7 高齡醫學中心徴契約醫務管理組員(社區整合型服務中心(A級單位)個案管理員) https://www.vghks.gov.tw/News_Content.aspx?n=C03011BF96C680C4&sms=5EF61FB0D0F5B657&s=C22C988D6DE43BD6 高齡醫學中心 111-05-13\n",
      "8 \n",
      "\n",
      "9 精神部徵高雄榮總屏東分院大武院區招募臨床心理師 https://www.vghks.gov.tw/News_Content.aspx?n=C03011BF96C680C4&sms=5EF61FB0D0F5B657&s=49D477F4AAAF57F8 精神部 111-05-10\n",
      "10 \n",
      "\n",
      "11 屏東大武籌備處-契約行政助理(身心障礙) https://www.vghks.gov.tw/News_Content.aspx?n=C03011BF96C680C4&sms=5EF61FB0D0F5B657&s=D9E277B4223A35C2 人事室 111-05-09\n",
      "12 \n",
      "\n",
      "13 胸腔內科-短期研究助理 https://www.vghks.gov.tw/News_Content.aspx?n=C03011BF96C680C4&sms=5EF61FB0D0F5B657&s=2D505D272C86C66D 胸腔內科 111-05-22\n",
      "14 \n",
      "\n",
      "15 急診醫學科-111年度第一年住院醫師 https://www.vghks.gov.tw/News_Content.aspx?n=C03011BF96C680C4&sms=5EF61FB0D0F5B657&s=C55C05D5C058022F 急診部 111-05-31\n",
      "16 \n",
      "\n",
      "17 心臟內科研究助理(非院內計畫) https://www.vghks.gov.tw/News_Content.aspx?n=C03011BF96C680C4&sms=5EF61FB0D0F5B657&s=BCB892019AD38420 心臟內科 111-06-30\n",
      "18 \n",
      "\n",
      "19 放射線部-契約醫事放射師 https://www.vghks.gov.tw/News_Content.aspx?n=C03011BF96C680C4&sms=5EF61FB0D0F5B657&s=3969344A94963529 放射線部 111-05-05\n",
      "20 \n",
      "\n",
      "21 麻醉部招訓第七期麻醉護理人員訓練班公告 https://www.vghks.gov.tw/News_Content.aspx?n=C03011BF96C680C4&sms=5EF61FB0D0F5B657&s=6F4C0C1D6937F6EF 麻醉部 111-05-13\n",
      "22 \n",
      "\n",
      "23 病理檢驗部(屏東大武院區)契約醫事檢驗師(儲備) 甄選公告 https://www.vghks.gov.tw/News_Content.aspx?n=C03011BF96C680C4&sms=5EF61FB0D0F5B657&s=580885D0D9D8D477 病理檢驗部 111-05-06\n",
      "24 \n",
      "\n",
      "25 耳鼻喉頭頸部契約語言治療師甄選公告 https://www.vghks.gov.tw/News_Content.aspx?n=C03011BF96C680C4&sms=5EF61FB0D0F5B657&s=BACF5C6311EBBEF7 耳鼻喉頭頸部 111-05-08\n",
      "26 \n",
      "\n",
      "27 護理部 大武院區儲備契約護理(手術專責護理師) https://www.vghks.gov.tw/News_Content.aspx?n=C03011BF96C680C4&sms=5EF61FB0D0F5B657&s=B6350476B4880770 護理部 111-05-26\n",
      "28 \n",
      "\n",
      "29 心臟血管外科(屏東大武院區)-契約醫事技術師(體外循環師）甄選公告 https://www.vghks.gov.tw/News_Content.aspx?n=C03011BF96C680C4&sms=5EF61FB0D0F5B657&s=03F185E3BF2B580A 心臟血管外科 111-06-30\n",
      "30 \n",
      "\n",
      "31 大武院區儲備契約護理(專科護理師) https://www.vghks.gov.tw/News_Content.aspx?n=C03011BF96C680C4&sms=5EF61FB0D0F5B657&s=716D16364B82C010 護理部 111-05-26\n",
      "32 \n",
      "\n",
      "33 重症醫學部聘用住院醫師 https://www.vghks.gov.tw/News_Content.aspx?n=C03011BF96C680C4&sms=5EF61FB0D0F5B657&s=EA43E9E6CD570F34 重症醫學部 111-05-15\n",
      "34 \n",
      "\n",
      "35 重建整形外科(屏東大武院區)契約主治醫師 https://www.vghks.gov.tw/News_Content.aspx?n=C03011BF96C680C4&sms=5EF61FB0D0F5B657&s=647AB0D328C00840 重建整形外科 111-05-31\n",
      "36 \n",
      "\n",
      "37 護理部大武院區及本院血液透析室儲備契約護理 https://www.vghks.gov.tw/News_Content.aspx?n=C03011BF96C680C4&sms=5EF61FB0D0F5B657&s=C9A3F8D519B2E0D4 護理部 111-05-06\n",
      "38 \n",
      "\n",
      "39 大武院區及本院儲備契約護理。 https://www.vghks.gov.tw/News_Content.aspx?n=C03011BF96C680C4&sms=5EF61FB0D0F5B657&s=4DDFEC516ACCCB56 護理部 111-06-21\n",
      "40 \n",
      "\n",
      "0 \n",
      "\n",
      "1 護理部-儲備契約護理 https://www.vghks.gov.tw/News_Content.aspx?n=C03011BF96C680C4&sms=5EF61FB0D0F5B657&s=0A69B89207CFBD35 護理部 111-11-21\n",
      "2 \n",
      "\n"
     ]
    }
   ],
   "source": [
    "work_table=[]\n",
    "if type(pages_link) != list:\n",
    "    table_ = work_tables\n",
    "    work_table = get_work_table(table_,work_table)\n",
    "else:\n",
    "    for p_i, p_item in enumerate(pages_link):\n",
    "        soup_ = get_work_page(p_item)\n",
    "        a, table_ = get_tables_part(soup_)\n",
    "        get_work_table(table_,work_table)\n"
   ]
  },
  {
   "cell_type": "code",
   "execution_count": 28,
   "metadata": {},
   "outputs": [
    {
     "name": "stdout",
     "output_type": "stream",
     "text": [
      "    no                                   召聘職稱         期限  \\\n",
      "0   -1                     病理檢驗部師(三)級主治醫師甄選公告  111-05-19   \n",
      "1    1                               藥學部徵契約藥師  111-05-13   \n",
      "2    3                     高齡醫學中心徴專任助理（個案管理師）  111-05-16   \n",
      "3    5  高齡醫學中心徴契約醫務管理組員(社區整合型服務中心(A級單位)個案管理員)  111-05-13   \n",
      "4    7                精神部徵高雄榮總屏東分院大武院區招募臨床心理師  111-05-10   \n",
      "5    9                   屏東大武籌備處-契約行政助理(身心障礙)  111-05-09   \n",
      "6   11                            胸腔內科-短期研究助理  111-05-22   \n",
      "7   13                     急診醫學科-111年度第一年住院醫師  111-05-31   \n",
      "8   15                        心臟內科研究助理(非院內計畫)  111-06-30   \n",
      "9   17                           放射線部-契約醫事放射師  111-05-05   \n",
      "10  19                    麻醉部招訓第七期麻醉護理人員訓練班公告  111-05-13   \n",
      "11  21          病理檢驗部(屏東大武院區)契約醫事檢驗師(儲備) 甄選公告  111-05-06   \n",
      "12  23                      耳鼻喉頭頸部契約語言治療師甄選公告  111-05-08   \n",
      "13  25                護理部 大武院區儲備契約護理(手術專責護理師)  111-05-26   \n",
      "14  27      心臟血管外科(屏東大武院區)-契約醫事技術師(體外循環師）甄選公告  111-06-30   \n",
      "15  29                      大武院區儲備契約護理(專科護理師)  111-05-26   \n",
      "16  31                            重症醫學部聘用住院醫師  111-05-15   \n",
      "17  33                   重建整形外科(屏東大武院區)契約主治醫師  111-05-31   \n",
      "18  35                  護理部大武院區及本院血液透析室儲備契約護理  111-05-06   \n",
      "19  37                         大武院區及本院儲備契約護理。  111-06-21   \n",
      "20  -1                             護理部-儲備契約護理  111-11-21   \n",
      "\n",
      "                                                   連結  \n",
      "0   https://www.vghks.gov.tw/News_Content.aspx?n=C...  \n",
      "1   https://www.vghks.gov.tw/News_Content.aspx?n=C...  \n",
      "2   https://www.vghks.gov.tw/News_Content.aspx?n=C...  \n",
      "3   https://www.vghks.gov.tw/News_Content.aspx?n=C...  \n",
      "4   https://www.vghks.gov.tw/News_Content.aspx?n=C...  \n",
      "5   https://www.vghks.gov.tw/News_Content.aspx?n=C...  \n",
      "6   https://www.vghks.gov.tw/News_Content.aspx?n=C...  \n",
      "7   https://www.vghks.gov.tw/News_Content.aspx?n=C...  \n",
      "8   https://www.vghks.gov.tw/News_Content.aspx?n=C...  \n",
      "9   https://www.vghks.gov.tw/News_Content.aspx?n=C...  \n",
      "10  https://www.vghks.gov.tw/News_Content.aspx?n=C...  \n",
      "11  https://www.vghks.gov.tw/News_Content.aspx?n=C...  \n",
      "12  https://www.vghks.gov.tw/News_Content.aspx?n=C...  \n",
      "13  https://www.vghks.gov.tw/News_Content.aspx?n=C...  \n",
      "14  https://www.vghks.gov.tw/News_Content.aspx?n=C...  \n",
      "15  https://www.vghks.gov.tw/News_Content.aspx?n=C...  \n",
      "16  https://www.vghks.gov.tw/News_Content.aspx?n=C...  \n",
      "17  https://www.vghks.gov.tw/News_Content.aspx?n=C...  \n",
      "18  https://www.vghks.gov.tw/News_Content.aspx?n=C...  \n",
      "19  https://www.vghks.gov.tw/News_Content.aspx?n=C...  \n",
      "20  https://www.vghks.gov.tw/News_Content.aspx?n=C...  \n"
     ]
    }
   ],
   "source": [
    "work_table=pd.DataFrame(work_table, columns=['no','召聘職稱','期限' ,'連結'])\n",
    "\n",
    "print(work_table)"
   ]
  },
  {
   "cell_type": "code",
   "execution_count": 2,
   "metadata": {},
   "outputs": [],
   "source": [
    "import datetime"
   ]
  },
  {
   "cell_type": "code",
   "execution_count": 9,
   "metadata": {},
   "outputs": [
    {
     "data": {
      "text/plain": [
       "datetime.date(2024, 7, 21)"
      ]
     },
     "execution_count": 9,
     "metadata": {},
     "output_type": "execute_result"
    }
   ],
   "source": [
    "time = str.split('113-07-21','-')\n",
    "datetime.date(int(time[0])+1911,int(time[1]),int(time[2]))"
   ]
  },
  {
   "cell_type": "code",
   "execution_count": 11,
   "metadata": {},
   "outputs": [
    {
     "data": {
      "text/plain": [
       "['t', '=s']"
      ]
     },
     "execution_count": 11,
     "metadata": {},
     "output_type": "execute_result"
    }
   ],
   "source": [
    "'t-=s'.split('-')"
   ]
  },
  {
   "cell_type": "code",
   "execution_count": null,
   "metadata": {},
   "outputs": [],
   "source": []
  }
 ],
 "metadata": {
  "kernelspec": {
   "display_name": "hospwork",
   "language": "python",
   "name": "hospwork"
  },
  "language_info": {
   "codemirror_mode": {
    "name": "ipython",
    "version": 3
   },
   "file_extension": ".py",
   "mimetype": "text/x-python",
   "name": "python",
   "nbconvert_exporter": "python",
   "pygments_lexer": "ipython3",
   "version": "3.10.14"
  }
 },
 "nbformat": 4,
 "nbformat_minor": 4
}
