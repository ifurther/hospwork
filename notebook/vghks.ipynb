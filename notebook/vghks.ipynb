{
 "cells": [
  {
   "cell_type": "code",
   "execution_count": null,
   "metadata": {},
   "outputs": [],
   "source": [
    "from bs4 import BeautifulSoup\n",
    "import requests\n",
    "import pandas as pd\n",
    "from urllib.parse import urlparse"
   ]
  },
  {
   "cell_type": "code",
   "execution_count": null,
   "metadata": {},
   "outputs": [],
   "source": [
    "url_base='https://www.vghks.gov.tw/News.aspx?n=C03011BF96C680C4&sms=5EF61FB0D0F5B657'\n",
    "url_work_table='RecruitInfo/3'\n",
    "url=url_base+url_work_table\n",
    "g=requests.get(url)\n",
    "soup=BeautifulSoup(g.content, 'html.parser')"
   ]
  }
 ],
 "metadata": {
  "kernelspec": {
   "display_name": "hospwork",
   "language": "python",
   "name": "hospwork"
  },
  "language_info": {
   "name": "python",
   "version": "3.8.10"
  },
  "orig_nbformat": 4
 },
 "nbformat": 4,
 "nbformat_minor": 2
}
