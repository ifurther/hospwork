{
 "cells": [
  {
   "cell_type": "code",
   "execution_count": 1,
   "metadata": {},
   "outputs": [],
   "source": [
    "from bs4 import BeautifulSoup\n",
    "import requests\n",
    "import pandas as pd\n",
    "from urllib.parse import urlparse"
   ]
  },
  {
   "cell_type": "code",
   "execution_count": 36,
   "metadata": {},
   "outputs": [],
   "source": [
    "url_base='https://www.vghks.gov.tw'\n",
    "url_work_table='/News.aspx?n=C03011BF96C680C4&sms=5EF61FB0D0F5B657'\n",
    "url=url_base+url_work_table\n",
    "g=requests.get(url)\n",
    "soup=BeautifulSoup(g.content, 'html.parser')"
   ]
  },
  {
   "cell_type": "code",
   "execution_count": 6,
   "metadata": {},
   "outputs": [],
   "source": [
    "tables = soup.find_all('tbody')"
   ]
  },
  {
   "cell_type": "markdown",
   "metadata": {},
   "source": [
    "# Get page link\n",
    "In this website the work table has some page, so the function should find page link for next step."
   ]
  },
  {
   "cell_type": "code",
   "execution_count": 33,
   "metadata": {},
   "outputs": [
    {
     "data": {
      "text/plain": [
       "[<a href=\"/News.aspx?n=C03011BF96C680C4&amp;sms=5EF61FB0D0F5B657&amp;page=2&amp;PageSize=20\">下一頁</a>,\n",
       " <a href=\"/News.aspx?n=C03011BF96C680C4&amp;sms=5EF61FB0D0F5B657&amp;page=2&amp;PageSize=20\">最末頁</a>]"
      ]
     },
     "execution_count": 33,
     "metadata": {},
     "output_type": "execute_result"
    }
   ],
   "source": [
    "tables[1].find_all('a')"
   ]
  },
  {
   "cell_type": "code",
   "execution_count": 51,
   "metadata": {},
   "outputs": [
    {
     "name": "stdout",
     "output_type": "stream",
     "text": [
      "#0 /News.aspx?n=C03011BF96C680C4&sms=5EF61FB0D0F5B657&page=2&PageSize=20\n",
      "#1 /News.aspx?n=C03011BF96C680C4&sms=5EF61FB0D0F5B657&page=2&PageSize=20\n"
     ]
    }
   ],
   "source": [
    "pages_link=[]\n",
    "pages_link.append(url)\n",
    "for i, item in enumerate(tables[1].find_all('a')):\n",
    "    s=item.get('href')\n",
    "    link_s = urlparse(url)._replace(path=s,query=[]).geturl()\n",
    "    if link_s not in pages_link:\n",
    "        pages_link.append(link_s)\n",
    "    print('#{} {}'.format(i , s))\n"
   ]
  },
  {
   "cell_type": "code",
   "execution_count": 52,
   "metadata": {},
   "outputs": [
    {
     "data": {
      "text/plain": [
       "['https://www.vghks.gov.tw/News.aspx?n=C03011BF96C680C4&sms=5EF61FB0D0F5B657',\n",
       " 'https://www.vghks.gov.tw/News.aspx?n=C03011BF96C680C4&sms=5EF61FB0D0F5B657&page=2&PageSize=20']"
      ]
     },
     "execution_count": 52,
     "metadata": {},
     "output_type": "execute_result"
    }
   ],
   "source": [
    "pages_link"
   ]
  },
  {
   "cell_type": "markdown",
   "metadata": {},
   "source": [
    "# Get work table"
   ]
  },
  {
   "cell_type": "code",
   "execution_count": 39,
   "metadata": {},
   "outputs": [],
   "source": [
    "def get_work_page(page):\n",
    "    g=requests.get(url+'?page='+str(page))\n",
    "    soup=BeautifulSoup(g.content, 'html.parser')\n",
    "    return soup"
   ]
  },
  {
   "cell_type": "code",
   "execution_count": null,
   "metadata": {},
   "outputs": [],
   "source": []
  }
 ],
 "metadata": {
  "kernelspec": {
   "display_name": "hospwork",
   "language": "python",
   "name": "hospwork"
  },
  "language_info": {
   "codemirror_mode": {
    "name": "ipython",
    "version": 3
   },
   "file_extension": ".py",
   "mimetype": "text/x-python",
   "name": "python",
   "nbconvert_exporter": "python",
   "pygments_lexer": "ipython3",
   "version": "3.8.10"
  },
  "orig_nbformat": 4
 },
 "nbformat": 4,
 "nbformat_minor": 2
}
