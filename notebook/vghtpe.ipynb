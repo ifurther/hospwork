{
 "cells": [
  {
   "cell_type": "code",
   "execution_count": 1,
   "id": "bce9ed46-7e85-47b3-979d-6d26767ddfde",
   "metadata": {},
   "outputs": [],
   "source": [
    "from bs4 import BeautifulSoup\n",
    "import requests\n",
    "import pandas as pd\n",
    "import re\n",
    "from urllib.parse import urlparsetmuh"
   ]
  },
  {
   "cell_type": "code",
   "execution_count": 2,
   "id": "96523345-3576-4f35-a699-46c24abf1e20",
   "metadata": {},
   "outputs": [],
   "source": [
    "import sys\n",
    "from pathlib import Path\n",
    "sys.path.append(Path().cwd().parent.as_posix())\n",
    "\n",
    "from hospwork import get_work_page\n",
    "from hospwork import findjobtype\n",
    "from hospwork.tool.httpadapter import TLSAdapter\n",
    "from hospwork.tool.time import clean_date"
   ]
  },
  {
   "cell_type": "code",
   "execution_count": 3,
   "id": "d152533e-84a4-4618-9eb7-258b87159058",
   "metadata": {},
   "outputs": [],
   "source": [
    "User_Agent = {\n",
    "    'User-Agent': 'Mozilla/5.0 (Windows NT 10.0; Win64; x64) AppleWebKit/537.36 (KHTML, like Gecko) Chrome/92.0.4515.159 Safari/537.36 Edg/92.0.902.78',\n",
    "    'Accept': 'text/html,application/xhtml+xml,application/xml;q=0.9,image/avif,image/webp,*/*;q=0.8',\n",
    "    'Connection': 'keep-alive',\n",
    "    \"Cache-Control\": \"no-cache\",\n",
    "    \"Priority\": \"u=4\",\n",
    "    \"Referer\": \"https://www.vghtpe.gov.tw/\",\n",
    "    \"Upgrade-Insecure-Requests\": \"1\",\n",
    "}"
   ]
  },
  {
   "cell_type": "code",
   "execution_count": 4,
   "id": "32ee17c4-fe02-4c41-954d-e5b25035b1c8",
   "metadata": {
    "scrolled": true
   },
   "outputs": [
    {
     "data": {
      "text/plain": [
       "'/home/ddvd/.local/share/virtualenvs/hospwork-V9MxmjfS/lib/python3.10/site-packages/certifi/cacert.pem'"
      ]
     },
     "execution_count": 4,
     "metadata": {},
     "output_type": "execute_result"
    }
   ],
   "source": [
    "import certifi\n",
    "certifi.where()"
   ]
  },
  {
   "cell_type": "code",
   "execution_count": 5,
   "id": "bd11c073-fb70-4a9b-a6d6-a01efcc7c416",
   "metadata": {},
   "outputs": [],
   "source": [
    "from pathlib import Path\n",
    "g=Path('.')\n",
    "\n",
    "cafile = g.absolute().parent.joinpath(\"cacert.pem\")"
   ]
  },
  {
   "cell_type": "code",
   "execution_count": 6,
   "id": "f258d6f5-6d87-4d0f-9145-d222ebb91c15",
   "metadata": {},
   "outputs": [],
   "source": [
    "url_base='https://www1.vghtpe.gov.tw'\n",
    "url_work_table='/conscribe/indexb.htm'\n",
    "url=url_base+url_work_table\n",
    "session = requests.Session()\n",
    "adapter = TLSAdapter()\n",
    "session.mount('https://',adapter)\n",
    "g=session.get('https://www1.vghtpe.gov.tw/conscribe/indexb.htm',headers=User_Agent ,verify=cafile)\n",
    "soup=BeautifulSoup(g.content, 'html.parser')"
   ]
  },
  {
   "cell_type": "code",
   "execution_count": 15,
   "id": "f76ebf84-fc3a-4cc3-b9c3-608f37445a7b",
   "metadata": {},
   "outputs": [
    {
     "name": "stdout",
     "output_type": "stream",
     "text": [
      "#2召聘職稱: 住院醫師 召聘單位: 職業醫學及臨床毒物部\n",
      " 期限: 2024-09-30\n",
      " 連結：https://www1.vghtpe.gov.twpdf/職業醫學及臨床毒物部住院醫師招考公告1130816.pdf\n",
      "#3召聘職稱: 契約醫事技術師 召聘單位: 婦女醫學部\n",
      " 期限: 2024-08-30\n",
      " 連結：https://www1.vghtpe.gov.twpdf/婦女醫學部契約醫事技術師招考公告1130816.pdf\n",
      "#4召聘職稱: 辦事員 召聘單位: 教學部(醫學圖書組)\n",
      " 期限: 2024-09-30\n",
      " 連結：https://www1.vghtpe.gov.twpdf/教學部醫學圖書組辦事員招考公告1130816.pdf\n",
      "#5召聘職稱: 契約物理治療師 召聘單位: 復健醫學部\n",
      " 期限: 2024-08-30\n",
      " 連結：https://www1.vghtpe.gov.twpdf/復健醫學部契約物理治療師招考公告1130815.pdf\n",
      "#6召聘職稱: 定期契約物理治療師(職代) 召聘單位: 復健醫學部\n",
      " 期限: 2024-09-06\n",
      " 連結：https://www1.vghtpe.gov.twpdf/復健醫學部定期契約物理治療師(職代)招考公告1130815.pdf\n",
      "#7召聘職稱: (內陞)科主任 召聘單位: 病理檢驗部(細胞病理科)\n",
      " 期限: 2024-08-19\n",
      " 連結：https://www1.vghtpe.gov.twpdf/病理檢驗部細胞病理科科主任內陞招考公告1130814.pdf\n",
      "#8召聘職稱: 契約醫務管理組員 召聘單位: 醫務企管部(醫療事務組)\n",
      " 期限: 2024-08-16\n",
      " 連結：https://www1.vghtpe.gov.twpdf/醫務企管部醫療事務組契約醫務管理組員招考公告1130813.pdf\n",
      "#9召聘職稱: 定期契約醫務技術師 召聘單位: 工務室\n",
      " 期限: 2024-09-15\n",
      " 連結：https://www1.vghtpe.gov.twpdf/工務室定期契約醫務技術師招考公告1130813.pdf\n",
      "#10召聘職稱: 契約醫務副技術師 召聘單位: 工務室\n",
      " 期限: 2024-09-01\n",
      " 連結：https://www1.vghtpe.gov.twpdf/工務室契約醫務副技術師招考公告1130813.pdf\n",
      "#11召聘職稱: 契約醫務管理組員 召聘單位: 工務室(修護保養組)\n",
      " 期限: 2024-08-14\n",
      " 連結：https://www1.vghtpe.gov.twpdf/工務室修護保養組契約醫務管理組員招考公告1130813.pdf\n",
      "#12召聘職稱: 契約醫事放射師 召聘單位: 內科部(心臟內科)\n",
      " 期限: 2024-09-06\n",
      " 連結：https://www1.vghtpe.gov.twpdf/內科部心臟內科契約醫事放射師招考公告1130813.pdf\n",
      "#13召聘職稱: 契約醫事技術師 召聘單位: 外科部\n",
      " 期限: 2024-09-06\n",
      " 連結：https://www1.vghtpe.gov.twpdf/外科部契約醫事技術師招考公告1130813.pdf\n",
      "#14召聘職稱: 契約醫事技術師 召聘單位: 內科部(心臟內科)\n",
      " 期限: 2024-08-23\n",
      " 連結：https://www1.vghtpe.gov.twpdf/內科部心臟內科契約醫事技術師招考公告1130812.pdf\n",
      "#15召聘職稱: 臨床契約護理(執行手術專責護理師業務) 召聘單位: 護理部\n",
      " 期限: 2024-08-30\n",
      " 連結：https://www1.vghtpe.gov.twpdf/護理部臨床契約護理(執行手術專責護理師業務)招考公告1130812.pdf\n",
      "#16召聘職稱: (內陞)科主任 召聘單位: 急診部(外傷醫學科)\n",
      " 期限: 2024-08-13\n",
      " 連結：https://www1.vghtpe.gov.twpdf/急診部外傷醫學科科主任內陞招考公告1130812.pdf\n",
      "#17召聘職稱: 契約行政助理 召聘單位: 工務室(修護保養組)\n",
      " 期限: 2024-08-12\n",
      " 連結：https://www1.vghtpe.gov.twpdf/工務室修護保養組契約行政助理招考公告1130812.pdf\n",
      "#18召聘職稱: 契約醫務副管理師 召聘單位: 醫務企管部(病歷管理組)\n",
      " 期限: 2024-08-12\n",
      " 連結：https://www1.vghtpe.gov.twpdf/醫務企管部病歷管理組契約醫務副管理師招考公告1130809.pdf\n",
      "#19召聘職稱: 契約藥師 召聘單位: 藥學部\n",
      " 期限: 2024-09-09\n",
      " 連結：https://www1.vghtpe.gov.twpdf/藥學部契約藥師招考公告1130808.pdf\n",
      "#20召聘職稱: 契約醫事檢驗師 召聘單位: 內科部(感染科)\n",
      " 期限: 2024-09-16\n",
      " 連結：https://www1.vghtpe.gov.twpdf/內科部感染科契約醫事檢驗師招考公告1130808.pdf\n",
      "#21召聘職稱: 契約行政助理(電子病歷) 召聘單位: 醫務企管部(病歷管理組)\n",
      " 期限: 2024-08-21\n",
      " 連結：https://www1.vghtpe.gov.twpdf/醫務企管部病歷管理組契約行政助理招考公告(電子病歷)1130807.pdf\n",
      "#22召聘職稱: 契約行政助理(櫃檯人員) 召聘單位: 醫務企管部(病歷管理組)\n",
      " 期限: 2024-08-21\n",
      " 連結：https://www1.vghtpe.gov.twpdf/醫務企管部病歷管理組契約行政助理招考公告(櫃檯人員)1130807.pdf\n",
      "#23召聘職稱: 住院醫師 召聘單位: 眼科部\n",
      " 期限: 2024-10-07\n",
      " 連結：https://www1.vghtpe.gov.twpdf/眼科部住院醫師招考公告1130807.pdf\n",
      "#24召聘職稱: 定期契約行政助理(照顧服務員) 召聘單位: 高齡醫學中心\n",
      " 期限: 2024-08-16\n",
      " 連結：https://www1.vghtpe.gov.twpdf/高齡醫學中心定期契約行政助理(照顧服務員)招考公告1130805.pdf\n",
      "#25召聘職稱: 副技師 召聘單位: 醫務企管部(病歷管理組)\n",
      " 期限: 2024-08-02\n",
      " 連結：https://www1.vghtpe.gov.twpdf/醫務企管部病歷管理組副技師招考公告1130802.pdf\n",
      "#26召聘職稱: 契約醫事檢驗師 召聘單位: 病理檢驗部\n",
      " 期限: 2024-08-21\n",
      " 連結：https://www1.vghtpe.gov.twpdf/病理檢驗部契約醫事檢驗師招考公告1130731.pdf\n",
      "#27召聘職稱: 契約行政助理 召聘單位: 藥學部\n",
      " 期限: 2024-08-23\n",
      " 連結：https://www1.vghtpe.gov.twpdf/藥學部契約行政助理招考公告1130730.pdf\n",
      "#28召聘職稱: 契約醫事放射師 召聘單位: 放射線部\n",
      " 期限: 2024-08-31\n",
      " 連結：https://www1.vghtpe.gov.twpdf/放射線部契約醫事放射師招考公告1130730.pdf\n",
      "#29召聘職稱: 清潔暨廚工代理人員 召聘單位: 榮光幼兒園\n",
      " 期限: 2024-12-31\n",
      " 連結：https://www1.vghtpe.gov.twpdf/榮光幼兒園113年度清潔暨廚工代理人員招考公告1130730.pdf\n",
      "#30召聘職稱: 契約醫事技術師 召聘單位: 胸腔部\n",
      " 期限: 2024-08-16\n",
      " 連結：https://www1.vghtpe.gov.twpdf/胸腔部契約醫事技術師招考公告1130729.pdf\n",
      "#31召聘職稱: 契約醫事放射師 召聘單位: 外科部\n",
      " 期限: 2024-08-16\n",
      " 連結：https://www1.vghtpe.gov.twpdf/外科部契約醫事放射師招考公告1130722.pdf\n",
      "#32召聘職稱: 住院醫師 召聘單位: 核醫部\n",
      " 期限: 2024-08-16\n",
      " 連結：https://www1.vghtpe.gov.twpdf/核醫部住院醫師招考公告1130719.pdf\n",
      "#33召聘職稱: 113年教保服務人員 召聘單位: 榮光幼兒園\n",
      " 期限: 2024-12-31\n",
      " 連結：https://www1.vghtpe.gov.twpdf/榮光幼兒園113年教保服務人員招考公告1130717.pdf\n",
      "#34召聘職稱: 定期契約藥師 召聘單位: 核醫部\n",
      " 期限: 2024-09-30\n",
      " 連結：https://www1.vghtpe.gov.twpdf/核醫部定期契約藥師招考公告1130716.pdf\n",
      "#35召聘職稱: 定期契約醫事檢驗師(職代) 召聘單位: 病理檢驗部\n",
      " 期限: 2024-08-30\n",
      " 連結：https://www1.vghtpe.gov.twpdf/病理檢驗部定期契約醫事檢驗師(職代)招考公告1130711.pdf\n",
      "#36召聘職稱: 手術室契約護理 召聘單位: 護理部\n",
      " 期限: 2024-09-16\n",
      " 連結：https://www1.vghtpe.gov.twpdf/護理部手術室契約護理招考公告1130621.pdf\n",
      "#37召聘職稱: 臨床契約護理 召聘單位: 護理部\n",
      " 期限: 2024-09-18\n",
      " 連結：https://www1.vghtpe.gov.twpdf/護理部臨床契約護理招考公告1130621.pdf\n",
      "#38召聘職稱: 契約醫事放射師 召聘單位: 神經醫學中心\n",
      " 期限: 2024-08-31\n",
      " 連結：https://www1.vghtpe.gov.twpdf/神經醫學中心契約醫事放射師招考公告1130620.pdf\n",
      "#39召聘職稱: 契約醫事放射師 召聘單位: 重粒子及放射腫瘤部\n",
      " 期限: 2024-08-17\n",
      " 連結：https://www1.vghtpe.gov.twpdf/重粒子及放射腫瘤部契約醫事放射師招考公告1130618.pdf\n",
      "#40召聘職稱: 契約物理治療師 召聘單位: 神經醫學中心\n",
      " 期限: 2024-08-17\n",
      " 連結：https://www1.vghtpe.gov.twpdf/神經醫學中心契約物理治療師招考公告1130614.pdf\n",
      "#41召聘職稱: 契約門診護理(全日及半日) 召聘單位: 護理部\n",
      " 期限: 2024-11-27\n",
      " 連結：https://www1.vghtpe.gov.twpdf/護理部契約門診護理(全日及半日)招考公告1130516.pdf\n"
     ]
    }
   ],
   "source": [
    "ww = soup.find_all('tr')\n",
    "work_table=[]\n",
    "for i, item in enumerate(ww):\n",
    "    if item.find('a'): #過濾掉被刪除的文章\n",
    "        s = item.find('a')\n",
    "        first_td = item.find('td')\n",
    "        title = first_td.string\n",
    "        origantion = first_td.find_next_siblings('td')[0].string\n",
    "        dead_line = clean_date(first_td.find_next_siblings('td')[2].string.replace('即日起至',''),'')\n",
    "        print('#{}召聘職稱: {} 召聘單位: {}\\n 期限: {}\\n 連結：{}{}'.format(i+1, title, origantion, dead_line, url_base, s.get('href')))"
   ]
  },
  {
   "cell_type": "code",
   "execution_count": null,
   "id": "76e95008-973f-4c95-a3b6-a69daffd893b",
   "metadata": {},
   "outputs": [],
   "source": []
  }
 ],
 "metadata": {
  "kernelspec": {
   "display_name": "hospwork",
   "language": "python",
   "name": "hospwork"
  },
  "language_info": {
   "codemirror_mode": {
    "name": "ipython",
    "version": 3
   },
   "file_extension": ".py",
   "mimetype": "text/x-python",
   "name": "python",
   "nbconvert_exporter": "python",
   "pygments_lexer": "ipython3",
   "version": "3.10.4"
  }
 },
 "nbformat": 4,
 "nbformat_minor": 5
}
