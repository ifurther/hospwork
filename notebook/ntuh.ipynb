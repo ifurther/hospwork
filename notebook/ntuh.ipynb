{
 "cells": [
  {
   "cell_type": "code",
   "execution_count": 1,
   "metadata": {},
   "outputs": [],
   "source": [
    "from bs4 import BeautifulSoup\n",
    "import json\n",
    "import re\n",
    "import requests\n",
    "import datetime\n",
    "import pandas as pd\n",
    "from urllib.parse import urlparse"
   ]
  },
  {
   "cell_type": "code",
   "execution_count": 23,
   "metadata": {},
   "outputs": [],
   "source": [
    "import sys\n",
    "from pathlib import Path\n",
    "sys.path.append(Path().cwd().parent.as_posix())\n",
    "\n",
    "from hospwork import get_work_page\n",
    "from hospwork import findjobtype\n",
    "from hospwork.tool.job import clean_unused_str\n",
    "from hospwork.tool.time import clean_date"
   ]
  },
  {
   "cell_type": "code",
   "execution_count": 25,
   "metadata": {},
   "outputs": [],
   "source": [
    "name = '國立臺灣大學醫學院附設醫院'\n",
    "url_base='https://www.ntuh.gov.tw/ntuh'\n",
    "url_work='/Recruit.action'\n",
    "url_ajax = '/RecruitAjax.action'\n",
    "url_full=url_base+url_work\n",
    "headers = { 'user-agent': 'Mozilla/5.0 (Macintosh; Intel Mac OS X 10_12_3) AppleWebKit/537.36 (KHTML, like Gecko) Chrome/56.0.2924.87 Safari/537.36'}\n",
    "ntuh_req = requests.get(url_full, headers=headers)\n",
    "my_params = {'jobtype': '-1', 'q_seekValue': '','pagenum':'1'}"
   ]
  },
  {
   "cell_type": "code",
   "execution_count": 7,
   "metadata": {},
   "outputs": [],
   "source": [
    "ntuh_work_pages=requests.get(url_base+url_ajax, params=my_params, cookies = ntuh_req.cookies)"
   ]
  },
  {
   "cell_type": "code",
   "execution_count": 4,
   "metadata": {},
   "outputs": [],
   "source": [
    "my_params = {'jobtype': '-1', 'q_seekValue': '','pagenum':'1'}"
   ]
  },
  {
   "cell_type": "code",
   "execution_count": 9,
   "metadata": {},
   "outputs": [],
   "source": [
    "ntu_work_data=json.loads(ntuh_work_pages.content)"
   ]
  },
  {
   "cell_type": "markdown",
   "metadata": {},
   "source": [
    "# Get Pages link"
   ]
  },
  {
   "cell_type": "code",
   "execution_count": 15,
   "metadata": {},
   "outputs": [],
   "source": [
    "totalcount = ntu_work_data['totalPages']\n",
    "totalPages_work = ntu_work_data['totalPages']"
   ]
  },
  {
   "cell_type": "markdown",
   "metadata": {},
   "source": [
    "# Get work table"
   ]
  },
  {
   "cell_type": "code",
   "execution_count": 36,
   "metadata": {},
   "outputs": [],
   "source": [
    "def _get_ntuh_work_table_one_page(url_base, ntu_work_data, work_table):\n",
    "    for i, item in enumerate(ntu_work_data['queryList']):\n",
    "        title = clean_unused_str(item['title'],name)\n",
    "        origantion = item['jobDepno']\n",
    "        begin_date = item['adate_sh']\n",
    "        if item['edatestr'] != '':\n",
    "            #dead_line = clean_date(item['edatestr'], name)\n",
    "            dead_line = datetime.datetime.strptime(item[\"odate\"],\"%Y-%m-%dT%H:%M:%S\").date()\n",
    "        else:\n",
    "            dead_line = 'please check page'\n",
    "\n",
    "        if item['recruitNo'] and \"分院\" not in origantion:\n",
    "            #link = 'https://reg.ntuh.gov.tw/WebApplication/Administration/NtuhGeneralSelect/Entry.aspx?selectno='+item['recruitNo']\n",
    "            detail_link = 'https://reg.ntuh.gov.tw/NtuhGeneralSelect/Openpdf.aspx?SelectNo='+item['recruitNo']+'&FileName='+item['recruitNo']+'.pdf'\n",
    "            resume_link = 'https://reg.ntuh.gov.tw/NtuhGeneralSelect/Entry.aspx?selectno='+item['recruitNo']\n",
    "        elif \"分院\" in origantion:\n",
    "            break\n",
    "        else:\n",
    "            detail_link = url_base+item['ctx'].lstrip('<p><a href=\"../').split('\"><span ')[0]\n",
    "            resume_link = ''\n",
    "        print('#{}召聘職稱: {} 召聘單位: {}\\n 期限: {}\\n 連結：{}'.format(i+1, title, origantion, dead_line, detail_link))\n",
    "        #work_table.append([title, origantion, dead_line, detail_link, resume_link])"
   ]
  },
  {
   "cell_type": "code",
   "execution_count": 37,
   "metadata": {},
   "outputs": [
    {
     "name": "stdout",
     "output_type": "stream",
     "text": [
      "#1召聘職稱: 服務員 召聘單位: 護理部\n",
      " 期限: 2024-08-29\n",
      " 連結：https://reg.ntuh.gov.tw/NtuhGeneralSelect/Openpdf.aspx?SelectNo=202400276&FileName=202400276.pdf\n",
      "#2召聘職稱: 助理員 召聘單位: 護理部\n",
      " 期限: 2024-08-29\n",
      " 連結：https://reg.ntuh.gov.tw/NtuhGeneralSelect/Openpdf.aspx?SelectNo=202400275&FileName=202400275.pdf\n",
      "#3召聘職稱: 師(三)級護理師(C) 召聘單位: 護理部、麻醉部以外\n",
      " 期限: 2024-08-29\n",
      " 連結：https://www.ntuh.gov.tw/ntuhspan style=\"font-family:微軟正黑體\n",
      "#4召聘職稱: 師(三)級護理師(B) 召聘單位: 麻醉部\n",
      " 期限: 2024-08-29\n",
      " 連結：https://www.ntuh.gov.tw/ntuhspan style=\"font-family:微軟正黑體\n",
      "#5召聘職稱: 師(三)級護理師(A) 召聘單位: 護理部\n",
      " 期限: 2024-08-29\n",
      " 連結：https://www.ntuh.gov.tw/ntuhspan style=\"font-family:微軟正黑體\n",
      "#6召聘職稱: 師(三)級聽力師 召聘單位: 耳鼻喉部\n",
      " 期限: 2024-08-29\n",
      " 連結：https://www.ntuh.gov.tw/ntuhspan style=\"font-family:微軟正黑體\n",
      "#7召聘職稱: 師(三)級臨床心理師 召聘單位: 臨床心理中心\n",
      " 期限: 2024-08-29\n",
      " 連結：https://www.ntuh.gov.tw/ntuhspan style=\"font-family:微軟正黑體\n",
      "#8召聘職稱: 師(三)級醫事放射師(B) 召聘單位: 影像醫學部以外\n",
      " 期限: 2024-08-29\n",
      " 連結：https://www.ntuh.gov.tw/ntuhspan style=\"font-family:微軟正黑體\n",
      "#9召聘職稱: 師(三)級醫事放射師(A) 召聘單位: 影像醫學部\n",
      " 期限: 2024-08-29\n",
      " 連結：https://www.ntuh.gov.tw/ntuhspan style=\"font-family:微軟正黑體\n",
      "#10召聘職稱: 師(三)級醫事檢驗師(B) 召聘單位: 檢驗醫學部以外\n",
      " 期限: 2024-08-29\n",
      " 連結：https://www.ntuh.gov.tw/ntuhspan style=\"font-family:微軟正黑體\n",
      "#11召聘職稱: 師(三)級醫事檢驗師(A) 召聘單位: 檢驗醫學部\n",
      " 期限: 2024-08-29\n",
      " 連結：https://www.ntuh.gov.tw/ntuhspan style=\"font-size:0.9375em\n",
      "#12召聘職稱: 助理員 召聘單位: 病理部\n",
      " 期限: 2024-09-09\n",
      " 連結：https://reg.ntuh.gov.tw/NtuhGeneralSelect/Openpdf.aspx?SelectNo=202400274&FileName=202400274.pdf\n",
      "#13召聘職稱: 助理管理師 召聘單位: 影像醫學部\n",
      " 期限: 2024-10-06\n",
      " 連結：https://reg.ntuh.gov.tw/NtuhGeneralSelect/Openpdf.aspx?SelectNo=202400273&FileName=202400273.pdf\n",
      "#14召聘職稱: 服務員 召聘單位: 影像醫學部\n",
      " 期限: 2024-10-06\n",
      " 連結：https://reg.ntuh.gov.tw/NtuhGeneralSelect/Openpdf.aspx?SelectNo=202400272&FileName=202400272.pdf\n",
      "#15召聘職稱: 博士後研究員 召聘單位: 內科部(林彥宏醫師)\n",
      " 期限: please check page\n",
      " 連結：https://www.ntuh.gov.tw/ntuhckfinder_file/ntuh/files/20240820%E5%85%A7%E7%A7%91%E9%83%A8_%E5%8D%9A%E5%A3%AB%E5%BE%8C%E7%A0%94%E7%A9%B6%E4%BA%BA%E5%93%A1.pdf\n",
      "#16召聘職稱: 院聘醫事檢驗師(職務代理人) 召聘單位: 基因醫學部\n",
      " 期限: 2024-09-15\n",
      " 連結：https://reg.ntuh.gov.tw/NtuhGeneralSelect/Openpdf.aspx?SelectNo=202400256&FileName=202400256.pdf\n",
      "#17召聘職稱: 助理管理師(A) 召聘單位: 門診部\n",
      " 期限: 2024-09-02\n",
      " 連結：https://reg.ntuh.gov.tw/NtuhGeneralSelect/Openpdf.aspx?SelectNo=202400214&FileName=202400214.pdf\n",
      "#18召聘職稱: 院聘醫事檢驗師(職務代理人) 召聘單位: 檢驗醫學部\n",
      " 期限: 2024-09-15\n",
      " 連結：https://reg.ntuh.gov.tw/NtuhGeneralSelect/Openpdf.aspx?SelectNo=202400194&FileName=202400194.pdf\n",
      "#19召聘職稱: 技士 召聘單位: 安全衛生室\n",
      " 期限: 2024-09-18\n",
      " 連結：https://reg.ntuh.gov.tw/NtuhGeneralSelect/Openpdf.aspx?SelectNo=202400160&FileName=202400160.pdf\n",
      "#20召聘職稱: 服務員 召聘單位: 總務室\n",
      " 期限: 2024-09-01\n",
      " 連結：https://reg.ntuh.gov.tw/NtuhGeneralSelect/Openpdf.aspx?SelectNo=202400270&FileName=202400270.pdf\n"
     ]
    }
   ],
   "source": [
    "work_table = []\n",
    "for _page in range(1,totalPages_work):\n",
    "    my_params = {'jobtype': '-1', 'q_seekValue': '','pagenum':'{}'.format(str(_page))}\n",
    "    g=requests.get(url_base+url_ajax, params=my_params, cookies = ntuh_req.cookies, headers = headers)\n",
    "    ntu_work_data=json.loads(g.content)\n",
    "    _get_ntuh_work_table_one_page(url_base,ntu_work_data,work_table)"
   ]
  },
  {
   "cell_type": "code",
   "execution_count": 8,
   "metadata": {},
   "outputs": [],
   "source": [
    "def get_each_page_wrok_table(soup,work_table):\n",
    "    for work in soup.find_all('table',class_=\"table table-striped table-hover news_table\")[0].find(\"tbody\").find_all(\"tr\"):\n",
    "        all_td = work.find_all(\"td\")\n",
    "        title = all_td[0].text\n",
    "        place = '察看連結的簡章'\n",
    "        deadline = all_td[2].text\n",
    "        \n",
    "        link=url_base+all_td[3].find('a').get('href')\n",
    "        if \"錄取名單\" in title:\n",
    "            print('skip: ',title)\n",
    "        elif \"甄試名單\" in title:\n",
    "            print('skip: ',title)\n",
    "        elif \"複試名單\" in title:\n",
    "            print('skip: ',title)\n",
    "        elif \"志願服務工作\" in title:\n",
    "            print('skip: ',title)\n",
    "        elif \"甄審會\" in title:\n",
    "            print('skip: ',title)\n",
    "        elif \"時薪人員\" in title:\n",
    "            print('skip: ',title)\n",
    "        else:\n",
    "            originization = re.search(\"\\B院((.*)[室,部,中心])\",title).group(1)\n",
    "            new_title = re.search(\"\\B聘((.*)[員,師,廚])\",title).group(1)\n",
    "            print(\"召聘職稱\",new_title,'院區',place,\"截止日期\",deadline,\"職缺單位\",originization,\"links\",link)\n",
    "            work_table.append([new_title, deadline, originization, place, link ])\n",
    "    return work_table"
   ]
  },
  {
   "cell_type": "code",
   "execution_count": 9,
   "metadata": {},
   "outputs": [],
   "source": [
    "def get_base_web_data(url_base,url_work_table=None):\n",
    "    if url_work_table != None:\n",
    "        url = url_base + url_work_table\n",
    "    else:\n",
    "        url = url_base\n",
    "    g=requests.get(url)\n",
    "    soup=BeautifulSoup(g.content, 'html.parser')\n",
    "    return soup"
   ]
  },
  {
   "cell_type": "code",
   "execution_count": 10,
   "metadata": {},
   "outputs": [
    {
     "ename": "NameError",
     "evalue": "name 'pages_link' is not defined",
     "output_type": "error",
     "traceback": [
      "\u001b[0;31m---------------------------------------------------------------------------\u001b[0m",
      "\u001b[0;31mNameError\u001b[0m                                 Traceback (most recent call last)",
      "Cell \u001b[0;32mIn[10], line 2\u001b[0m\n\u001b[1;32m      1\u001b[0m work_table \u001b[38;5;241m=\u001b[39m []\n\u001b[0;32m----> 2\u001b[0m \u001b[38;5;28;01mfor\u001b[39;00m page \u001b[38;5;129;01min\u001b[39;00m \u001b[43mpages_link\u001b[49m:\n\u001b[1;32m      3\u001b[0m     soup \u001b[38;5;241m=\u001b[39m get_base_web_data(page)\n\u001b[1;32m      4\u001b[0m     work_table \u001b[38;5;241m=\u001b[39m get_each_page_wrok_table(soup,work_table)\n",
      "\u001b[0;31mNameError\u001b[0m: name 'pages_link' is not defined"
     ]
    }
   ],
   "source": [
    "work_table = []\n",
    "for page in pages_link:\n",
    "    soup = get_base_web_data(page)\n",
    "    work_table = get_each_page_wrok_table(soup,work_table)"
   ]
  },
  {
   "cell_type": "code",
   "execution_count": 34,
   "metadata": {},
   "outputs": [
    {
     "data": {
      "text/plain": [
       "{'FILEEXT1': None,\n",
       " 'FILENAME1': None,\n",
       " 'FILEPATH1': None,\n",
       " 'FILEREMARK1': None,\n",
       " 'FILESIZE1': None,\n",
       " 'SEQ1': None,\n",
       " 'TITLE1': None,\n",
       " 'TYPENO1': None,\n",
       " 'adate': '2022-07-06T00:00:00',\n",
       " 'adate_ch': '111/07/06',\n",
       " 'adate_sh': '2022/07/06',\n",
       " 'attachNum1': 0,\n",
       " 'attachNum2': 0,\n",
       " 'attachNum3': 0,\n",
       " 'attachNum4': 0,\n",
       " 'attachNum5': 0,\n",
       " 'attachNum6': 0,\n",
       " 'createDate': '2022-06-27T15:09:01',\n",
       " 'createUser': 'HR',\n",
       " 'depno': 'ntucc',\n",
       " 'edate': '2022-07-13T00:00:00',\n",
       " 'edate_ch': '111/07/13',\n",
       " 'edate_sh': '2022/07/13',\n",
       " 'id': '2c9a7cf97fde99380181a3fe00f501ff',\n",
       " 'isuse': '1',\n",
       " 'item1list': None,\n",
       " 'jobDepnm': '人事室',\n",
       " 'jobDepno': '19',\n",
       " 'jobtype': '3',\n",
       " 'lang': '1',\n",
       " 'mid': 4,\n",
       " 'modifyDate': '2022-07-06T13:25:09',\n",
       " 'modifyUser': 'HR',\n",
       " 'odate': '2022-10-31T00:00:00',\n",
       " 'recruitFile': [{'FILEID_A': None,\n",
       "   'FILE_A': None,\n",
       "   'FILE_AContentType': None,\n",
       "   'FILE_AFileName': None,\n",
       "   'ID_A': None,\n",
       "   'REMARK_A': None,\n",
       "   'SEQ_A': None,\n",
       "   'TYPE_A': None,\n",
       "   'createDate': '2022-06-27T15:31:24',\n",
       "   'createUser': 'HR',\n",
       "   'fileExt': '.pdf',\n",
       "   'fileName': '癌醫中心醫院(副)管理師(人事室職務代理人1名)1110706',\n",
       "   'filePath': '2022/94f9aefc-e147-4da8-9e81-d9f159f123a9.pdf',\n",
       "   'fileRemark': None,\n",
       "   'fileSize': '124443',\n",
       "   'id': '2c9a7cf97fde99380181a412800f0200',\n",
       "   'modifyDate': '2022-07-06T13:25:33',\n",
       "   'modifyUser': 'HR',\n",
       "   'recruitHead': None,\n",
       "   'rowNum': 0,\n",
       "   'seq': None,\n",
       "   'size': None,\n",
       "   'title': '甄選簡則(PDF檔)',\n",
       "   'typeNo': '1'},\n",
       "  {'FILEID_A': None,\n",
       "   'FILE_A': None,\n",
       "   'FILE_AContentType': None,\n",
       "   'FILE_AFileName': None,\n",
       "   'ID_A': None,\n",
       "   'REMARK_A': None,\n",
       "   'SEQ_A': None,\n",
       "   'TYPE_A': None,\n",
       "   'createDate': '2022-06-27T15:39:40',\n",
       "   'createUser': 'HR',\n",
       "   'fileExt': '.doc',\n",
       "   'fileName': '台大癌醫中心分院各類人員甄選登記表-(修正版、職前經歷查驗)',\n",
       "   'filePath': '2022/94201212-29e5-4f77-971b-f48fe9913a2f.doc',\n",
       "   'fileRemark': None,\n",
       "   'fileSize': '85504',\n",
       "   'id': '2c9a7cf97fde99380181a41a0fa40201',\n",
       "   'modifyDate': '2022-06-27T15:39:40',\n",
       "   'modifyUser': 'HR',\n",
       "   'recruitHead': None,\n",
       "   'rowNum': 0,\n",
       "   'seq': None,\n",
       "   'size': None,\n",
       "   'title': '本院報名甄選登記表(WORD檔)',\n",
       "   'typeNo': '2'},\n",
       "  {'FILEID_A': None,\n",
       "   'FILE_A': None,\n",
       "   'FILE_AContentType': None,\n",
       "   'FILE_AFileName': None,\n",
       "   'ID_A': None,\n",
       "   'REMARK_A': None,\n",
       "   'SEQ_A': None,\n",
       "   'TYPE_A': None,\n",
       "   'createDate': '2022-06-27T15:39:54',\n",
       "   'createUser': 'HR',\n",
       "   'fileExt': '.odt',\n",
       "   'fileName': '台大癌醫中心分院各類人員甄選登記表-(修正版、職前經歷查驗)',\n",
       "   'filePath': '2022/3b6e9b69-989b-4bf8-9943-87090ae8d763.odt',\n",
       "   'fileRemark': None,\n",
       "   'fileSize': '28008',\n",
       "   'id': '2c9a7cf97fde99380181a41a46e00202',\n",
       "   'modifyDate': '2022-06-27T15:39:54',\n",
       "   'modifyUser': 'HR',\n",
       "   'recruitHead': None,\n",
       "   'rowNum': 0,\n",
       "   'seq': None,\n",
       "   'size': None,\n",
       "   'title': '(ODT檔) ',\n",
       "   'typeNo': '2'},\n",
       "  {'FILEID_A': None,\n",
       "   'FILE_A': None,\n",
       "   'FILE_AContentType': None,\n",
       "   'FILE_AFileName': None,\n",
       "   'ID_A': None,\n",
       "   'REMARK_A': None,\n",
       "   'SEQ_A': None,\n",
       "   'TYPE_A': None,\n",
       "   'createDate': '2022-06-27T15:40:08',\n",
       "   'createUser': 'HR',\n",
       "   'fileExt': '.pdf',\n",
       "   'fileName': '台大癌醫中心分院各類人員甄選登記表-(修正版、職前經歷查驗)',\n",
       "   'filePath': '2022/f14870ce-8483-449e-a34f-502bfb7e7b10.pdf',\n",
       "   'fileRemark': None,\n",
       "   'fileSize': '142587',\n",
       "   'id': '2c9a7cf97fde99380181a41a7bca0203',\n",
       "   'modifyDate': '2022-06-27T15:40:08',\n",
       "   'modifyUser': 'HR',\n",
       "   'recruitHead': None,\n",
       "   'rowNum': 0,\n",
       "   'seq': None,\n",
       "   'size': None,\n",
       "   'title': '(PDF檔)',\n",
       "   'typeNo': '2'},\n",
       "  {'FILEID_A': None,\n",
       "   'FILE_A': None,\n",
       "   'FILE_AContentType': None,\n",
       "   'FILE_AFileName': None,\n",
       "   'ID_A': None,\n",
       "   'REMARK_A': None,\n",
       "   'SEQ_A': None,\n",
       "   'TYPE_A': None,\n",
       "   'createDate': '2022-06-27T15:40:25',\n",
       "   'createUser': 'HR',\n",
       "   'fileExt': '.pdf',\n",
       "   'fileName': '信封封面(直式-各類人員甄選-癌醫)1100820',\n",
       "   'filePath': '2022/f0528ea7-4363-47df-9f5b-38b8dd34b1f8.pdf',\n",
       "   'fileRemark': None,\n",
       "   'fileSize': '65845',\n",
       "   'id': '2c9a7cf97fde99380181a41ac1820204',\n",
       "   'modifyDate': '2022-06-27T15:40:25',\n",
       "   'modifyUser': 'HR',\n",
       "   'recruitHead': None,\n",
       "   'rowNum': 0,\n",
       "   'seq': None,\n",
       "   'size': None,\n",
       "   'title': '信封封面(PDF檔)',\n",
       "   'typeNo': '3'}],\n",
       " 'rowNum': 0,\n",
       " 'size': None,\n",
       " 'title': '人事室 副管理師或管理師(職務代理人)（預估缺）',\n",
       " 'topseq': 9,\n",
       " 'upddate': '2022-07-06T13:25:09',\n",
       " 'upddate_ch': '111/07/06'}"
      ]
     },
     "execution_count": 34,
     "metadata": {},
     "output_type": "execute_result"
    }
   ],
   "source": [
    "ntucc_work_data['queryList'][0]"
   ]
  },
  {
   "cell_type": "code",
   "execution_count": 110,
   "metadata": {},
   "outputs": [
    {
     "data": {
      "text/plain": [
       "'護理師'"
      ]
     },
     "execution_count": 110,
     "metadata": {},
     "output_type": "execute_result"
    }
   ],
   "source": [
    "re.search(\"\\B聘((.*)師)\",\"公告本院護理部公開甄選院聘護理師(手術室)儲備\").group(1)"
   ]
  },
  {
   "cell_type": "code",
   "execution_count": 11,
   "metadata": {},
   "outputs": [
    {
     "name": "stdout",
     "output_type": "stream",
     "text": [
      "Empty DataFrame\n",
      "Columns: [召聘職稱, 期限, 職缺單位, 院區, 連結]\n",
      "Index: []\n"
     ]
    }
   ],
   "source": [
    "work_table=pd.DataFrame(work_table, columns=['召聘職稱','期限' ,\"職缺單位\" , '院區','連結'])\n",
    "\n",
    "print(work_table)"
   ]
  },
  {
   "cell_type": "code",
   "execution_count": null,
   "metadata": {},
   "outputs": [],
   "source": [
    "https://www.ntucc.gov.tw/ntucc/RecruitAjax!download.action?id=2c9a7cfa7fde98350181c6e991d60268"
   ]
  },
  {
   "cell_type": "code",
   "execution_count": 5,
   "metadata": {},
   "outputs": [
    {
     "ename": "ValueError",
     "evalue": "time data '202024-08-30' does not match format '%Y-%m-%d'",
     "output_type": "error",
     "traceback": [
      "\u001b[0;31m---------------------------------------------------------------------------\u001b[0m",
      "\u001b[0;31mValueError\u001b[0m                                Traceback (most recent call last)",
      "Cell \u001b[0;32mIn[5], line 1\u001b[0m\n\u001b[0;32m----> 1\u001b[0m \u001b[43mclean_date\u001b[49m\u001b[43m(\u001b[49m\u001b[38;5;124;43m\"\u001b[39;49m\u001b[38;5;124;43m202024/08/30\u001b[39;49m\u001b[38;5;124;43m\"\u001b[39;49m\u001b[43m,\u001b[49m\u001b[38;5;124;43m\"\u001b[39;49m\u001b[38;5;124;43m\"\u001b[39;49m\u001b[43m)\u001b[49m\n",
      "File \u001b[0;32m~/hospwork/hospwork/tool/time.py:26\u001b[0m, in \u001b[0;36mclean_date\u001b[0;34m(time_raw, hosp_name, dtype)\u001b[0m\n\u001b[1;32m     24\u001b[0m     \u001b[38;5;28;01mreturn\u001b[39;00m datetime\u001b[38;5;241m.\u001b[39mdatetime\u001b[38;5;241m.\u001b[39mstrptime(time_raw_checked\u001b[38;5;241m.\u001b[39mgroup(\u001b[38;5;241m0\u001b[39m),\u001b[38;5;124m\"\u001b[39m\u001b[38;5;124m%\u001b[39m\u001b[38;5;124mY-\u001b[39m\u001b[38;5;124m%\u001b[39m\u001b[38;5;124mm-\u001b[39m\u001b[38;5;132;01m%d\u001b[39;00m\u001b[38;5;124m\"\u001b[39m)\u001b[38;5;241m.\u001b[39mdate()\n\u001b[1;32m     25\u001b[0m \u001b[38;5;28;01melif\u001b[39;00m (time_raw_checked \u001b[38;5;241m:=\u001b[39m re\u001b[38;5;241m.\u001b[39msearch(\u001b[38;5;124m'\u001b[39m\u001b[38;5;124m\\\u001b[39m\u001b[38;5;124md+[-,/,年]\u001b[39m\u001b[38;5;124m\\\u001b[39m\u001b[38;5;124md\u001b[39m\u001b[38;5;124m{\u001b[39m\u001b[38;5;124m1,2}[-,/,月]\u001b[39m\u001b[38;5;124m\\\u001b[39m\u001b[38;5;124md\u001b[39m\u001b[38;5;124m{\u001b[39m\u001b[38;5;124m1,2}\u001b[39m\u001b[38;5;124m'\u001b[39m,time_new) )  \u001b[38;5;129;01mand\u001b[39;00m dtype \u001b[38;5;241m==\u001b[39m \u001b[38;5;124m'\u001b[39m\u001b[38;5;124mstr\u001b[39m\u001b[38;5;124m'\u001b[39m:\n\u001b[0;32m---> 26\u001b[0m     \u001b[38;5;28;01mreturn\u001b[39;00m \u001b[38;5;28mstr\u001b[39m(\u001b[43mdatetime\u001b[49m\u001b[38;5;241;43m.\u001b[39;49m\u001b[43mdatetime\u001b[49m\u001b[38;5;241;43m.\u001b[39;49m\u001b[43mstrptime\u001b[49m\u001b[43m(\u001b[49m\u001b[43mtime_raw_checked\u001b[49m\u001b[38;5;241;43m.\u001b[39;49m\u001b[43mgroup\u001b[49m\u001b[43m(\u001b[49m\u001b[38;5;241;43m0\u001b[39;49m\u001b[43m)\u001b[49m\u001b[43m,\u001b[49m\u001b[38;5;124;43m\"\u001b[39;49m\u001b[38;5;124;43m%\u001b[39;49m\u001b[38;5;124;43mY-\u001b[39;49m\u001b[38;5;124;43m%\u001b[39;49m\u001b[38;5;124;43mm-\u001b[39;49m\u001b[38;5;132;43;01m%d\u001b[39;49;00m\u001b[38;5;124;43m\"\u001b[39;49m\u001b[43m)\u001b[49m\u001b[38;5;241m.\u001b[39mdate())\n\u001b[1;32m     27\u001b[0m \u001b[38;5;28;01melse\u001b[39;00m:\n\u001b[1;32m     28\u001b[0m     \u001b[38;5;28mprint\u001b[39m(hosp_name,\u001b[38;5;124m'\u001b[39m\u001b[38;5;124mError clear time data and time raw data is :\u001b[39m\u001b[38;5;124m'\u001b[39m,time_raw)\n",
      "File \u001b[0;32m~/.pyenv/versions/3.10.4/lib/python3.10/_strptime.py:568\u001b[0m, in \u001b[0;36m_strptime_datetime\u001b[0;34m(cls, data_string, format)\u001b[0m\n\u001b[1;32m    565\u001b[0m \u001b[38;5;28;01mdef\u001b[39;00m \u001b[38;5;21m_strptime_datetime\u001b[39m(\u001b[38;5;28mcls\u001b[39m, data_string, \u001b[38;5;28mformat\u001b[39m\u001b[38;5;241m=\u001b[39m\u001b[38;5;124m\"\u001b[39m\u001b[38;5;132;01m%a\u001b[39;00m\u001b[38;5;124m \u001b[39m\u001b[38;5;124m%\u001b[39m\u001b[38;5;124mb \u001b[39m\u001b[38;5;132;01m%d\u001b[39;00m\u001b[38;5;124m \u001b[39m\u001b[38;5;124m%\u001b[39m\u001b[38;5;124mH:\u001b[39m\u001b[38;5;124m%\u001b[39m\u001b[38;5;124mM:\u001b[39m\u001b[38;5;124m%\u001b[39m\u001b[38;5;124mS \u001b[39m\u001b[38;5;124m%\u001b[39m\u001b[38;5;124mY\u001b[39m\u001b[38;5;124m\"\u001b[39m):\n\u001b[1;32m    566\u001b[0m \u001b[38;5;250m    \u001b[39m\u001b[38;5;124;03m\"\"\"Return a class cls instance based on the input string and the\u001b[39;00m\n\u001b[1;32m    567\u001b[0m \u001b[38;5;124;03m    format string.\"\"\"\u001b[39;00m\n\u001b[0;32m--> 568\u001b[0m     tt, fraction, gmtoff_fraction \u001b[38;5;241m=\u001b[39m \u001b[43m_strptime\u001b[49m\u001b[43m(\u001b[49m\u001b[43mdata_string\u001b[49m\u001b[43m,\u001b[49m\u001b[43m \u001b[49m\u001b[38;5;28;43mformat\u001b[39;49m\u001b[43m)\u001b[49m\n\u001b[1;32m    569\u001b[0m     tzname, gmtoff \u001b[38;5;241m=\u001b[39m tt[\u001b[38;5;241m-\u001b[39m\u001b[38;5;241m2\u001b[39m:]\n\u001b[1;32m    570\u001b[0m     args \u001b[38;5;241m=\u001b[39m tt[:\u001b[38;5;241m6\u001b[39m] \u001b[38;5;241m+\u001b[39m (fraction,)\n",
      "File \u001b[0;32m~/.pyenv/versions/3.10.4/lib/python3.10/_strptime.py:349\u001b[0m, in \u001b[0;36m_strptime\u001b[0;34m(data_string, format)\u001b[0m\n\u001b[1;32m    347\u001b[0m found \u001b[38;5;241m=\u001b[39m format_regex\u001b[38;5;241m.\u001b[39mmatch(data_string)\n\u001b[1;32m    348\u001b[0m \u001b[38;5;28;01mif\u001b[39;00m \u001b[38;5;129;01mnot\u001b[39;00m found:\n\u001b[0;32m--> 349\u001b[0m     \u001b[38;5;28;01mraise\u001b[39;00m \u001b[38;5;167;01mValueError\u001b[39;00m(\u001b[38;5;124m\"\u001b[39m\u001b[38;5;124mtime data \u001b[39m\u001b[38;5;132;01m%r\u001b[39;00m\u001b[38;5;124m does not match format \u001b[39m\u001b[38;5;132;01m%r\u001b[39;00m\u001b[38;5;124m\"\u001b[39m \u001b[38;5;241m%\u001b[39m\n\u001b[1;32m    350\u001b[0m                      (data_string, \u001b[38;5;28mformat\u001b[39m))\n\u001b[1;32m    351\u001b[0m \u001b[38;5;28;01mif\u001b[39;00m \u001b[38;5;28mlen\u001b[39m(data_string) \u001b[38;5;241m!=\u001b[39m found\u001b[38;5;241m.\u001b[39mend():\n\u001b[1;32m    352\u001b[0m     \u001b[38;5;28;01mraise\u001b[39;00m \u001b[38;5;167;01mValueError\u001b[39;00m(\u001b[38;5;124m\"\u001b[39m\u001b[38;5;124munconverted data remains: \u001b[39m\u001b[38;5;132;01m%s\u001b[39;00m\u001b[38;5;124m\"\u001b[39m \u001b[38;5;241m%\u001b[39m\n\u001b[1;32m    353\u001b[0m                       data_string[found\u001b[38;5;241m.\u001b[39mend():])\n",
      "\u001b[0;31mValueError\u001b[0m: time data '202024-08-30' does not match format '%Y-%m-%d'"
     ]
    }
   ],
   "source": [
    "clean_date(\"202024/08/30\",\"\")"
   ]
  },
  {
   "cell_type": "code",
   "execution_count": 35,
   "metadata": {},
   "outputs": [
    {
     "data": {
      "text/plain": [
       "datetime.datetime(2024, 8, 29, 0, 0)"
      ]
     },
     "execution_count": 35,
     "metadata": {},
     "output_type": "execute_result"
    }
   ],
   "source": [
    "import datetime\n",
    "datetime.datetime.strptime(\"2024-08-29T00:00:00\",\"%Y-%m-%dT%H:%M:%S\")"
   ]
  },
  {
   "cell_type": "code",
   "execution_count": null,
   "metadata": {},
   "outputs": [],
   "source": []
  }
 ],
 "metadata": {
  "kernelspec": {
   "display_name": "hospwork",
   "language": "python",
   "name": "hospwork"
  },
  "language_info": {
   "codemirror_mode": {
    "name": "ipython",
    "version": 3
   },
   "file_extension": ".py",
   "mimetype": "text/x-python",
   "name": "python",
   "nbconvert_exporter": "python",
   "pygments_lexer": "ipython3",
   "version": "3.10.4"
  }
 },
 "nbformat": 4,
 "nbformat_minor": 4
}
